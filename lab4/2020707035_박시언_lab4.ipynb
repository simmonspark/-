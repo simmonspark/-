{
 "cells": [
  {
   "metadata": {},
   "cell_type": "markdown",
   "source": [
    "## 2020707035 박시언 lab3\n",
    "1. 데이터를 분석합니다.\n",
    "2. 데이터를 9개의 구간으로 나눠서 \"로그1p변환\"의 값으로 평균, 분산, 표준편자 등등 통계 데이터를 활용하여 feature를 만들어냅니다.\n",
    "3. 8번은 pass에 대해서는 데이터 증강을 진행하지 않습니다. 나머지 케이스는 데이터를 증강합니다.\n",
    "4. ADASYN으로 2차 증강을 진행합니다.\n",
    "5. 증강 안하고 fitering만 한 데이터와, augmentation을 진행한 데이터, augmentation & adasyn 까지 적용한 데이터 각각 성능 평가를 진행합니다.\n",
    "6. 베이지안 최적화 모듈을 통해서 최적의 파라미터를 구하고 해당 모델을 다시 평가합니다.\n",
    "7. 최종 벨런스스코어는 0.72가 나옵니다."
   ],
   "id": "4ed57b0f09873241"
  },
  {
   "cell_type": "code",
   "id": "22ea0b1b02caf0e7",
   "metadata": {
    "collapsed": true,
    "ExecuteTime": {
     "end_time": "2024-11-06T11:21:09.396583Z",
     "start_time": "2024-11-06T11:21:09.294607Z"
    }
   },
   "source": [
    "import numpy as np\n",
    "import pandas as pd\n",
    "import matplotlib.pyplot as plt\n",
    "from scipy.ndimage import median_filter, rotate, shift\n",
    "from sklearn.model_selection import train_test_split\n",
    "from sklearn.ensemble import RandomForestClassifier\n",
    "from sklearn.metrics import accuracy_score, precision_score, recall_score\n"
   ],
   "outputs": [],
   "execution_count": 1
  },
  {
   "metadata": {
    "ExecuteTime": {
     "end_time": "2024-11-06T11:21:29.738733Z",
     "start_time": "2024-11-06T11:21:09.399425Z"
    }
   },
   "cell_type": "code",
   "source": "df = pd.read_pickle(\"/home/unsi/다운로드/LSWMD.pkl\")  #우분투 -> /home/unsi/다운로드/LSWMD.pkl || 맥 -> /Users/unsi/Downloads/LSWMD.pkl",
   "id": "3454bfaf00470b55",
   "outputs": [],
   "execution_count": 2
  },
  {
   "metadata": {
    "ExecuteTime": {
     "end_time": "2024-11-06T11:21:29.795514Z",
     "start_time": "2024-11-06T11:21:29.792141Z"
    }
   },
   "cell_type": "code",
   "source": "df.iloc[35]['failureType']",
   "id": "452ddfea0ff071e7",
   "outputs": [
    {
     "data": {
      "text/plain": [
       "array([], shape=(0, 0), dtype=float64)"
      ]
     },
     "execution_count": 3,
     "metadata": {},
     "output_type": "execute_result"
    }
   ],
   "execution_count": 3
  },
  {
   "metadata": {
    "ExecuteTime": {
     "end_time": "2024-11-06T11:21:29.998451Z",
     "start_time": "2024-11-06T11:21:29.840622Z"
    }
   },
   "cell_type": "code",
   "source": [
    "# 빈 리스트를 포함하는 행만 필터링하기\n",
    "passed = df[df['failureType'].apply(lambda x: x.shape == (0, 0) or x[0][0] == 'none')]\n",
    "passed['failureType'] = 8\n",
    "eda_pass = passed\n",
    "passed = passed.sample(n=100000, random_state=42)"
   ],
   "id": "b5652aa21deaafcd",
   "outputs": [
    {
     "name": "stderr",
     "output_type": "stream",
     "text": [
      "/tmp/ipykernel_12356/2072027894.py:3: SettingWithCopyWarning: \n",
      "A value is trying to be set on a copy of a slice from a DataFrame.\n",
      "Try using .loc[row_indexer,col_indexer] = value instead\n",
      "\n",
      "See the caveats in the documentation: https://pandas.pydata.org/pandas-docs/stable/user_guide/indexing.html#returning-a-view-versus-a-copy\n",
      "  passed['failureType'] = 8\n"
     ]
    }
   ],
   "execution_count": 4
  },
  {
   "metadata": {
    "ExecuteTime": {
     "end_time": "2024-11-06T11:21:30.267446Z",
     "start_time": "2024-11-06T11:21:30.094153Z"
    }
   },
   "cell_type": "code",
   "source": [
    "# Filtering rows based on a nested condition in the 'failureType' column\n",
    "faild = df[df['failureType'].apply(lambda x: len(x) > 0 and len(x[0]) > 0 and x[0][0] != 'none')]\n",
    "faild"
   ],
   "id": "eaa695b3c8dc0b8b",
   "outputs": [
    {
     "data": {
      "text/plain": [
       "                                                 waferMap  dieSize   lotName  \\\n",
       "19      [[0, 0, 0, 0, 0, 0, 0, 0, 0, 0, 0, 0, 0, 0, 0,...   1683.0      lot1   \n",
       "36      [[0, 0, 0, 0, 0, 0, 0, 0, 0, 0, 0, 0, 0, 0, 0,...   2460.0      lot2   \n",
       "37      [[0, 0, 0, 0, 0, 0, 0, 0, 0, 0, 0, 0, 0, 0, 0,...   2460.0      lot2   \n",
       "38      [[0, 0, 0, 0, 0, 0, 0, 0, 0, 0, 0, 0, 0, 0, 0,...   2460.0      lot2   \n",
       "39      [[0, 0, 0, 0, 0, 0, 0, 0, 0, 0, 0, 0, 0, 0, 0,...   2460.0      lot2   \n",
       "...                                                   ...      ...       ...   \n",
       "811450  [[0, 0, 0, 0, 0, 0, 0, 0, 0, 0, 0, 1, 2, 1, 2,...    600.0  lot47542   \n",
       "811451  [[0, 0, 0, 0, 0, 0, 0, 0, 0, 0, 0, 1, 1, 1, 1,...    600.0  lot47542   \n",
       "811452  [[0, 0, 0, 0, 0, 0, 0, 0, 0, 0, 0, 1, 2, 1, 1,...    600.0  lot47542   \n",
       "811453  [[0, 0, 0, 0, 0, 0, 0, 0, 0, 0, 0, 2, 2, 1, 1,...    600.0  lot47542   \n",
       "811454  [[0, 0, 0, 0, 0, 0, 0, 0, 0, 0, 0, 1, 2, 1, 1,...    600.0  lot47542   \n",
       "\n",
       "        waferIndex trianTestLabel    failureType  \n",
       "19            20.0   [[Training]]        [[Loc]]  \n",
       "36            12.0   [[Training]]   [[Edge-Loc]]  \n",
       "37            13.0   [[Training]]   [[Edge-Loc]]  \n",
       "38            14.0   [[Training]]   [[Edge-Loc]]  \n",
       "39            15.0   [[Training]]   [[Edge-Loc]]  \n",
       "...            ...            ...            ...  \n",
       "811450        21.0       [[Test]]   [[Edge-Loc]]  \n",
       "811451        22.0       [[Test]]   [[Edge-Loc]]  \n",
       "811452        23.0       [[Test]]  [[Edge-Ring]]  \n",
       "811453        24.0       [[Test]]   [[Edge-Loc]]  \n",
       "811454        25.0       [[Test]]  [[Edge-Ring]]  \n",
       "\n",
       "[25519 rows x 6 columns]"
      ],
      "text/html": [
       "<div>\n",
       "<style scoped>\n",
       "    .dataframe tbody tr th:only-of-type {\n",
       "        vertical-align: middle;\n",
       "    }\n",
       "\n",
       "    .dataframe tbody tr th {\n",
       "        vertical-align: top;\n",
       "    }\n",
       "\n",
       "    .dataframe thead th {\n",
       "        text-align: right;\n",
       "    }\n",
       "</style>\n",
       "<table border=\"1\" class=\"dataframe\">\n",
       "  <thead>\n",
       "    <tr style=\"text-align: right;\">\n",
       "      <th></th>\n",
       "      <th>waferMap</th>\n",
       "      <th>dieSize</th>\n",
       "      <th>lotName</th>\n",
       "      <th>waferIndex</th>\n",
       "      <th>trianTestLabel</th>\n",
       "      <th>failureType</th>\n",
       "    </tr>\n",
       "  </thead>\n",
       "  <tbody>\n",
       "    <tr>\n",
       "      <th>19</th>\n",
       "      <td>[[0, 0, 0, 0, 0, 0, 0, 0, 0, 0, 0, 0, 0, 0, 0,...</td>\n",
       "      <td>1683.0</td>\n",
       "      <td>lot1</td>\n",
       "      <td>20.0</td>\n",
       "      <td>[[Training]]</td>\n",
       "      <td>[[Loc]]</td>\n",
       "    </tr>\n",
       "    <tr>\n",
       "      <th>36</th>\n",
       "      <td>[[0, 0, 0, 0, 0, 0, 0, 0, 0, 0, 0, 0, 0, 0, 0,...</td>\n",
       "      <td>2460.0</td>\n",
       "      <td>lot2</td>\n",
       "      <td>12.0</td>\n",
       "      <td>[[Training]]</td>\n",
       "      <td>[[Edge-Loc]]</td>\n",
       "    </tr>\n",
       "    <tr>\n",
       "      <th>37</th>\n",
       "      <td>[[0, 0, 0, 0, 0, 0, 0, 0, 0, 0, 0, 0, 0, 0, 0,...</td>\n",
       "      <td>2460.0</td>\n",
       "      <td>lot2</td>\n",
       "      <td>13.0</td>\n",
       "      <td>[[Training]]</td>\n",
       "      <td>[[Edge-Loc]]</td>\n",
       "    </tr>\n",
       "    <tr>\n",
       "      <th>38</th>\n",
       "      <td>[[0, 0, 0, 0, 0, 0, 0, 0, 0, 0, 0, 0, 0, 0, 0,...</td>\n",
       "      <td>2460.0</td>\n",
       "      <td>lot2</td>\n",
       "      <td>14.0</td>\n",
       "      <td>[[Training]]</td>\n",
       "      <td>[[Edge-Loc]]</td>\n",
       "    </tr>\n",
       "    <tr>\n",
       "      <th>39</th>\n",
       "      <td>[[0, 0, 0, 0, 0, 0, 0, 0, 0, 0, 0, 0, 0, 0, 0,...</td>\n",
       "      <td>2460.0</td>\n",
       "      <td>lot2</td>\n",
       "      <td>15.0</td>\n",
       "      <td>[[Training]]</td>\n",
       "      <td>[[Edge-Loc]]</td>\n",
       "    </tr>\n",
       "    <tr>\n",
       "      <th>...</th>\n",
       "      <td>...</td>\n",
       "      <td>...</td>\n",
       "      <td>...</td>\n",
       "      <td>...</td>\n",
       "      <td>...</td>\n",
       "      <td>...</td>\n",
       "    </tr>\n",
       "    <tr>\n",
       "      <th>811450</th>\n",
       "      <td>[[0, 0, 0, 0, 0, 0, 0, 0, 0, 0, 0, 1, 2, 1, 2,...</td>\n",
       "      <td>600.0</td>\n",
       "      <td>lot47542</td>\n",
       "      <td>21.0</td>\n",
       "      <td>[[Test]]</td>\n",
       "      <td>[[Edge-Loc]]</td>\n",
       "    </tr>\n",
       "    <tr>\n",
       "      <th>811451</th>\n",
       "      <td>[[0, 0, 0, 0, 0, 0, 0, 0, 0, 0, 0, 1, 1, 1, 1,...</td>\n",
       "      <td>600.0</td>\n",
       "      <td>lot47542</td>\n",
       "      <td>22.0</td>\n",
       "      <td>[[Test]]</td>\n",
       "      <td>[[Edge-Loc]]</td>\n",
       "    </tr>\n",
       "    <tr>\n",
       "      <th>811452</th>\n",
       "      <td>[[0, 0, 0, 0, 0, 0, 0, 0, 0, 0, 0, 1, 2, 1, 1,...</td>\n",
       "      <td>600.0</td>\n",
       "      <td>lot47542</td>\n",
       "      <td>23.0</td>\n",
       "      <td>[[Test]]</td>\n",
       "      <td>[[Edge-Ring]]</td>\n",
       "    </tr>\n",
       "    <tr>\n",
       "      <th>811453</th>\n",
       "      <td>[[0, 0, 0, 0, 0, 0, 0, 0, 0, 0, 0, 2, 2, 1, 1,...</td>\n",
       "      <td>600.0</td>\n",
       "      <td>lot47542</td>\n",
       "      <td>24.0</td>\n",
       "      <td>[[Test]]</td>\n",
       "      <td>[[Edge-Loc]]</td>\n",
       "    </tr>\n",
       "    <tr>\n",
       "      <th>811454</th>\n",
       "      <td>[[0, 0, 0, 0, 0, 0, 0, 0, 0, 0, 0, 1, 2, 1, 1,...</td>\n",
       "      <td>600.0</td>\n",
       "      <td>lot47542</td>\n",
       "      <td>25.0</td>\n",
       "      <td>[[Test]]</td>\n",
       "      <td>[[Edge-Ring]]</td>\n",
       "    </tr>\n",
       "  </tbody>\n",
       "</table>\n",
       "<p>25519 rows × 6 columns</p>\n",
       "</div>"
      ]
     },
     "execution_count": 5,
     "metadata": {},
     "output_type": "execute_result"
    }
   ],
   "execution_count": 5
  },
  {
   "metadata": {
    "ExecuteTime": {
     "end_time": "2024-11-06T11:21:30.436656Z",
     "start_time": "2024-11-06T11:21:30.434591Z"
    }
   },
   "cell_type": "code",
   "source": "faild.columns",
   "id": "d2fd1a4dc1c12d79",
   "outputs": [
    {
     "data": {
      "text/plain": [
       "Index(['waferMap', 'dieSize', 'lotName', 'waferIndex', 'trianTestLabel',\n",
       "       'failureType'],\n",
       "      dtype='object')"
      ]
     },
     "execution_count": 6,
     "metadata": {},
     "output_type": "execute_result"
    }
   ],
   "execution_count": 6
  },
  {
   "metadata": {
    "ExecuteTime": {
     "end_time": "2024-11-06T11:21:30.552158Z",
     "start_time": "2024-11-06T11:21:30.466745Z"
    }
   },
   "cell_type": "code",
   "source": [
    "class2idx = {\n",
    "    'Loc': 0,\n",
    "    'Edge-Loc': 1,\n",
    "    'Center': 2,\n",
    "    'Edge-Ring': 3,\n",
    "    'Scratch': 4,\n",
    "    'Random': 5,\n",
    "    'Near-full': 6,\n",
    "    'Donut': 7,\n",
    "    'pass': 8\n",
    "}\n",
    "\n",
    "#failureType 인코딩 \n",
    "faild['failureType'] = faild['failureType'].apply(lambda x: class2idx.get(x[0][0], -1))\n",
    "\n",
    "# 결과 확인\n",
    "faild\n"
   ],
   "id": "78f97dd567bad7bd",
   "outputs": [
    {
     "name": "stderr",
     "output_type": "stream",
     "text": [
      "/tmp/ipykernel_12356/1474913133.py:14: SettingWithCopyWarning: \n",
      "A value is trying to be set on a copy of a slice from a DataFrame.\n",
      "Try using .loc[row_indexer,col_indexer] = value instead\n",
      "\n",
      "See the caveats in the documentation: https://pandas.pydata.org/pandas-docs/stable/user_guide/indexing.html#returning-a-view-versus-a-copy\n",
      "  faild['failureType'] = faild['failureType'].apply(lambda x: class2idx.get(x[0][0], -1))\n"
     ]
    },
    {
     "data": {
      "text/plain": [
       "                                                 waferMap  dieSize   lotName  \\\n",
       "19      [[0, 0, 0, 0, 0, 0, 0, 0, 0, 0, 0, 0, 0, 0, 0,...   1683.0      lot1   \n",
       "36      [[0, 0, 0, 0, 0, 0, 0, 0, 0, 0, 0, 0, 0, 0, 0,...   2460.0      lot2   \n",
       "37      [[0, 0, 0, 0, 0, 0, 0, 0, 0, 0, 0, 0, 0, 0, 0,...   2460.0      lot2   \n",
       "38      [[0, 0, 0, 0, 0, 0, 0, 0, 0, 0, 0, 0, 0, 0, 0,...   2460.0      lot2   \n",
       "39      [[0, 0, 0, 0, 0, 0, 0, 0, 0, 0, 0, 0, 0, 0, 0,...   2460.0      lot2   \n",
       "...                                                   ...      ...       ...   \n",
       "811450  [[0, 0, 0, 0, 0, 0, 0, 0, 0, 0, 0, 1, 2, 1, 2,...    600.0  lot47542   \n",
       "811451  [[0, 0, 0, 0, 0, 0, 0, 0, 0, 0, 0, 1, 1, 1, 1,...    600.0  lot47542   \n",
       "811452  [[0, 0, 0, 0, 0, 0, 0, 0, 0, 0, 0, 1, 2, 1, 1,...    600.0  lot47542   \n",
       "811453  [[0, 0, 0, 0, 0, 0, 0, 0, 0, 0, 0, 2, 2, 1, 1,...    600.0  lot47542   \n",
       "811454  [[0, 0, 0, 0, 0, 0, 0, 0, 0, 0, 0, 1, 2, 1, 1,...    600.0  lot47542   \n",
       "\n",
       "        waferIndex trianTestLabel  failureType  \n",
       "19            20.0   [[Training]]            0  \n",
       "36            12.0   [[Training]]            1  \n",
       "37            13.0   [[Training]]            1  \n",
       "38            14.0   [[Training]]            1  \n",
       "39            15.0   [[Training]]            1  \n",
       "...            ...            ...          ...  \n",
       "811450        21.0       [[Test]]            1  \n",
       "811451        22.0       [[Test]]            1  \n",
       "811452        23.0       [[Test]]            3  \n",
       "811453        24.0       [[Test]]            1  \n",
       "811454        25.0       [[Test]]            3  \n",
       "\n",
       "[25519 rows x 6 columns]"
      ],
      "text/html": [
       "<div>\n",
       "<style scoped>\n",
       "    .dataframe tbody tr th:only-of-type {\n",
       "        vertical-align: middle;\n",
       "    }\n",
       "\n",
       "    .dataframe tbody tr th {\n",
       "        vertical-align: top;\n",
       "    }\n",
       "\n",
       "    .dataframe thead th {\n",
       "        text-align: right;\n",
       "    }\n",
       "</style>\n",
       "<table border=\"1\" class=\"dataframe\">\n",
       "  <thead>\n",
       "    <tr style=\"text-align: right;\">\n",
       "      <th></th>\n",
       "      <th>waferMap</th>\n",
       "      <th>dieSize</th>\n",
       "      <th>lotName</th>\n",
       "      <th>waferIndex</th>\n",
       "      <th>trianTestLabel</th>\n",
       "      <th>failureType</th>\n",
       "    </tr>\n",
       "  </thead>\n",
       "  <tbody>\n",
       "    <tr>\n",
       "      <th>19</th>\n",
       "      <td>[[0, 0, 0, 0, 0, 0, 0, 0, 0, 0, 0, 0, 0, 0, 0,...</td>\n",
       "      <td>1683.0</td>\n",
       "      <td>lot1</td>\n",
       "      <td>20.0</td>\n",
       "      <td>[[Training]]</td>\n",
       "      <td>0</td>\n",
       "    </tr>\n",
       "    <tr>\n",
       "      <th>36</th>\n",
       "      <td>[[0, 0, 0, 0, 0, 0, 0, 0, 0, 0, 0, 0, 0, 0, 0,...</td>\n",
       "      <td>2460.0</td>\n",
       "      <td>lot2</td>\n",
       "      <td>12.0</td>\n",
       "      <td>[[Training]]</td>\n",
       "      <td>1</td>\n",
       "    </tr>\n",
       "    <tr>\n",
       "      <th>37</th>\n",
       "      <td>[[0, 0, 0, 0, 0, 0, 0, 0, 0, 0, 0, 0, 0, 0, 0,...</td>\n",
       "      <td>2460.0</td>\n",
       "      <td>lot2</td>\n",
       "      <td>13.0</td>\n",
       "      <td>[[Training]]</td>\n",
       "      <td>1</td>\n",
       "    </tr>\n",
       "    <tr>\n",
       "      <th>38</th>\n",
       "      <td>[[0, 0, 0, 0, 0, 0, 0, 0, 0, 0, 0, 0, 0, 0, 0,...</td>\n",
       "      <td>2460.0</td>\n",
       "      <td>lot2</td>\n",
       "      <td>14.0</td>\n",
       "      <td>[[Training]]</td>\n",
       "      <td>1</td>\n",
       "    </tr>\n",
       "    <tr>\n",
       "      <th>39</th>\n",
       "      <td>[[0, 0, 0, 0, 0, 0, 0, 0, 0, 0, 0, 0, 0, 0, 0,...</td>\n",
       "      <td>2460.0</td>\n",
       "      <td>lot2</td>\n",
       "      <td>15.0</td>\n",
       "      <td>[[Training]]</td>\n",
       "      <td>1</td>\n",
       "    </tr>\n",
       "    <tr>\n",
       "      <th>...</th>\n",
       "      <td>...</td>\n",
       "      <td>...</td>\n",
       "      <td>...</td>\n",
       "      <td>...</td>\n",
       "      <td>...</td>\n",
       "      <td>...</td>\n",
       "    </tr>\n",
       "    <tr>\n",
       "      <th>811450</th>\n",
       "      <td>[[0, 0, 0, 0, 0, 0, 0, 0, 0, 0, 0, 1, 2, 1, 2,...</td>\n",
       "      <td>600.0</td>\n",
       "      <td>lot47542</td>\n",
       "      <td>21.0</td>\n",
       "      <td>[[Test]]</td>\n",
       "      <td>1</td>\n",
       "    </tr>\n",
       "    <tr>\n",
       "      <th>811451</th>\n",
       "      <td>[[0, 0, 0, 0, 0, 0, 0, 0, 0, 0, 0, 1, 1, 1, 1,...</td>\n",
       "      <td>600.0</td>\n",
       "      <td>lot47542</td>\n",
       "      <td>22.0</td>\n",
       "      <td>[[Test]]</td>\n",
       "      <td>1</td>\n",
       "    </tr>\n",
       "    <tr>\n",
       "      <th>811452</th>\n",
       "      <td>[[0, 0, 0, 0, 0, 0, 0, 0, 0, 0, 0, 1, 2, 1, 1,...</td>\n",
       "      <td>600.0</td>\n",
       "      <td>lot47542</td>\n",
       "      <td>23.0</td>\n",
       "      <td>[[Test]]</td>\n",
       "      <td>3</td>\n",
       "    </tr>\n",
       "    <tr>\n",
       "      <th>811453</th>\n",
       "      <td>[[0, 0, 0, 0, 0, 0, 0, 0, 0, 0, 0, 2, 2, 1, 1,...</td>\n",
       "      <td>600.0</td>\n",
       "      <td>lot47542</td>\n",
       "      <td>24.0</td>\n",
       "      <td>[[Test]]</td>\n",
       "      <td>1</td>\n",
       "    </tr>\n",
       "    <tr>\n",
       "      <th>811454</th>\n",
       "      <td>[[0, 0, 0, 0, 0, 0, 0, 0, 0, 0, 0, 1, 2, 1, 1,...</td>\n",
       "      <td>600.0</td>\n",
       "      <td>lot47542</td>\n",
       "      <td>25.0</td>\n",
       "      <td>[[Test]]</td>\n",
       "      <td>3</td>\n",
       "    </tr>\n",
       "  </tbody>\n",
       "</table>\n",
       "<p>25519 rows × 6 columns</p>\n",
       "</div>"
      ]
     },
     "execution_count": 7,
     "metadata": {},
     "output_type": "execute_result"
    }
   ],
   "execution_count": 7
  },
  {
   "metadata": {
    "ExecuteTime": {
     "end_time": "2024-11-06T11:21:30.784814Z",
     "start_time": "2024-11-06T11:21:30.670472Z"
    }
   },
   "cell_type": "code",
   "source": [
    "df = pd.concat([faild, passed])\n",
    "df\n"
   ],
   "id": "575ab3c154188ee7",
   "outputs": [
    {
     "data": {
      "text/plain": [
       "                                                 waferMap  dieSize   lotName  \\\n",
       "19      [[0, 0, 0, 0, 0, 0, 0, 0, 0, 0, 0, 0, 0, 0, 0,...   1683.0      lot1   \n",
       "36      [[0, 0, 0, 0, 0, 0, 0, 0, 0, 0, 0, 0, 0, 0, 0,...   2460.0      lot2   \n",
       "37      [[0, 0, 0, 0, 0, 0, 0, 0, 0, 0, 0, 0, 0, 0, 0,...   2460.0      lot2   \n",
       "38      [[0, 0, 0, 0, 0, 0, 0, 0, 0, 0, 0, 0, 0, 0, 0,...   2460.0      lot2   \n",
       "39      [[0, 0, 0, 0, 0, 0, 0, 0, 0, 0, 0, 0, 0, 0, 0,...   2460.0      lot2   \n",
       "...                                                   ...      ...       ...   \n",
       "334843  [[0, 0, 0, 0, 0, 0, 0, 0, 0, 0, 0, 0, 0, 0, 0,...   5532.0  lot20174   \n",
       "609203  [[0, 0, 0, 0, 0, 0, 0, 0, 0, 0, 0, 0, 2, 2, 1,...    710.0  lot38319   \n",
       "244074  [[0, 0, 0, 0, 0, 0, 0, 0, 0, 0, 0, 0, 2, 1, 2,...    648.0  lot15275   \n",
       "379250  [[0, 0, 0, 0, 0, 0, 0, 0, 0, 0, 0, 0, 0, 0, 0,...   2393.0  lot22590   \n",
       "57821   [[0, 0, 0, 0, 0, 0, 0, 0, 0, 0, 0, 0, 0, 0, 0,...   1253.0   lot4621   \n",
       "\n",
       "        waferIndex trianTestLabel  failureType  \n",
       "19            20.0   [[Training]]            0  \n",
       "36            12.0   [[Training]]            1  \n",
       "37            13.0   [[Training]]            1  \n",
       "38            14.0   [[Training]]            1  \n",
       "39            15.0   [[Training]]            1  \n",
       "...            ...            ...          ...  \n",
       "334843         4.0             []            8  \n",
       "609203        13.0             []            8  \n",
       "244074        11.0             []            8  \n",
       "379250        20.0             []            8  \n",
       "57821         25.0             []            8  \n",
       "\n",
       "[125519 rows x 6 columns]"
      ],
      "text/html": [
       "<div>\n",
       "<style scoped>\n",
       "    .dataframe tbody tr th:only-of-type {\n",
       "        vertical-align: middle;\n",
       "    }\n",
       "\n",
       "    .dataframe tbody tr th {\n",
       "        vertical-align: top;\n",
       "    }\n",
       "\n",
       "    .dataframe thead th {\n",
       "        text-align: right;\n",
       "    }\n",
       "</style>\n",
       "<table border=\"1\" class=\"dataframe\">\n",
       "  <thead>\n",
       "    <tr style=\"text-align: right;\">\n",
       "      <th></th>\n",
       "      <th>waferMap</th>\n",
       "      <th>dieSize</th>\n",
       "      <th>lotName</th>\n",
       "      <th>waferIndex</th>\n",
       "      <th>trianTestLabel</th>\n",
       "      <th>failureType</th>\n",
       "    </tr>\n",
       "  </thead>\n",
       "  <tbody>\n",
       "    <tr>\n",
       "      <th>19</th>\n",
       "      <td>[[0, 0, 0, 0, 0, 0, 0, 0, 0, 0, 0, 0, 0, 0, 0,...</td>\n",
       "      <td>1683.0</td>\n",
       "      <td>lot1</td>\n",
       "      <td>20.0</td>\n",
       "      <td>[[Training]]</td>\n",
       "      <td>0</td>\n",
       "    </tr>\n",
       "    <tr>\n",
       "      <th>36</th>\n",
       "      <td>[[0, 0, 0, 0, 0, 0, 0, 0, 0, 0, 0, 0, 0, 0, 0,...</td>\n",
       "      <td>2460.0</td>\n",
       "      <td>lot2</td>\n",
       "      <td>12.0</td>\n",
       "      <td>[[Training]]</td>\n",
       "      <td>1</td>\n",
       "    </tr>\n",
       "    <tr>\n",
       "      <th>37</th>\n",
       "      <td>[[0, 0, 0, 0, 0, 0, 0, 0, 0, 0, 0, 0, 0, 0, 0,...</td>\n",
       "      <td>2460.0</td>\n",
       "      <td>lot2</td>\n",
       "      <td>13.0</td>\n",
       "      <td>[[Training]]</td>\n",
       "      <td>1</td>\n",
       "    </tr>\n",
       "    <tr>\n",
       "      <th>38</th>\n",
       "      <td>[[0, 0, 0, 0, 0, 0, 0, 0, 0, 0, 0, 0, 0, 0, 0,...</td>\n",
       "      <td>2460.0</td>\n",
       "      <td>lot2</td>\n",
       "      <td>14.0</td>\n",
       "      <td>[[Training]]</td>\n",
       "      <td>1</td>\n",
       "    </tr>\n",
       "    <tr>\n",
       "      <th>39</th>\n",
       "      <td>[[0, 0, 0, 0, 0, 0, 0, 0, 0, 0, 0, 0, 0, 0, 0,...</td>\n",
       "      <td>2460.0</td>\n",
       "      <td>lot2</td>\n",
       "      <td>15.0</td>\n",
       "      <td>[[Training]]</td>\n",
       "      <td>1</td>\n",
       "    </tr>\n",
       "    <tr>\n",
       "      <th>...</th>\n",
       "      <td>...</td>\n",
       "      <td>...</td>\n",
       "      <td>...</td>\n",
       "      <td>...</td>\n",
       "      <td>...</td>\n",
       "      <td>...</td>\n",
       "    </tr>\n",
       "    <tr>\n",
       "      <th>334843</th>\n",
       "      <td>[[0, 0, 0, 0, 0, 0, 0, 0, 0, 0, 0, 0, 0, 0, 0,...</td>\n",
       "      <td>5532.0</td>\n",
       "      <td>lot20174</td>\n",
       "      <td>4.0</td>\n",
       "      <td>[]</td>\n",
       "      <td>8</td>\n",
       "    </tr>\n",
       "    <tr>\n",
       "      <th>609203</th>\n",
       "      <td>[[0, 0, 0, 0, 0, 0, 0, 0, 0, 0, 0, 0, 2, 2, 1,...</td>\n",
       "      <td>710.0</td>\n",
       "      <td>lot38319</td>\n",
       "      <td>13.0</td>\n",
       "      <td>[]</td>\n",
       "      <td>8</td>\n",
       "    </tr>\n",
       "    <tr>\n",
       "      <th>244074</th>\n",
       "      <td>[[0, 0, 0, 0, 0, 0, 0, 0, 0, 0, 0, 0, 2, 1, 2,...</td>\n",
       "      <td>648.0</td>\n",
       "      <td>lot15275</td>\n",
       "      <td>11.0</td>\n",
       "      <td>[]</td>\n",
       "      <td>8</td>\n",
       "    </tr>\n",
       "    <tr>\n",
       "      <th>379250</th>\n",
       "      <td>[[0, 0, 0, 0, 0, 0, 0, 0, 0, 0, 0, 0, 0, 0, 0,...</td>\n",
       "      <td>2393.0</td>\n",
       "      <td>lot22590</td>\n",
       "      <td>20.0</td>\n",
       "      <td>[]</td>\n",
       "      <td>8</td>\n",
       "    </tr>\n",
       "    <tr>\n",
       "      <th>57821</th>\n",
       "      <td>[[0, 0, 0, 0, 0, 0, 0, 0, 0, 0, 0, 0, 0, 0, 0,...</td>\n",
       "      <td>1253.0</td>\n",
       "      <td>lot4621</td>\n",
       "      <td>25.0</td>\n",
       "      <td>[]</td>\n",
       "      <td>8</td>\n",
       "    </tr>\n",
       "  </tbody>\n",
       "</table>\n",
       "<p>125519 rows × 6 columns</p>\n",
       "</div>"
      ]
     },
     "execution_count": 8,
     "metadata": {},
     "output_type": "execute_result"
    }
   ],
   "execution_count": 8
  },
  {
   "metadata": {
    "ExecuteTime": {
     "end_time": "2024-11-06T11:21:30.920215Z",
     "start_time": "2024-11-06T11:21:30.898085Z"
    }
   },
   "cell_type": "code",
   "source": "eda_df = pd.concat([faild, eda_pass])",
   "id": "f1f755a1d2fd3670",
   "outputs": [],
   "execution_count": 9
  },
  {
   "metadata": {},
   "cell_type": "markdown",
   "source": [
    "# EDA\n",
    "1. pass fail 분포를 확인합니다. 각각의 클래스 또한 확인합니다.\n",
    "2. 웨이퍼 맵에 어느 부분에 불량 다이가 분포했는지 확인합니다. (웨이퍼맵을 9개로 등분하여 각각 0,1,2,3,4,5,6,7,8,9 의 구간으로 나눕니다.)"
   ],
   "id": "f1ac96dd20105da4"
  },
  {
   "metadata": {
    "ExecuteTime": {
     "end_time": "2024-11-06T11:21:31.714088Z",
     "start_time": "2024-11-06T11:21:31.031576Z"
    }
   },
   "cell_type": "code",
   "source": [
    "import pandas as pd\n",
    "import matplotlib.pyplot as plt\n",
    "import seaborn as sns\n",
    "\n",
    "# 데이터 로드 및 pass/fail 분포 확인\n",
    "eda_df['pass_fail'] = eda_df['failureType'].apply(lambda x: 'pass' if x == 'None' else 'fail')\n",
    "\n",
    "\n",
    "# 클래스별 분포 확인 (None은 제외하고 나머지 분포)\n",
    "plt.figure(figsize=(10, 6))\n",
    "sns.countplot(x='failureType', data=eda_df[eda_df['failureType'] != 'None'], order=eda_df['failureType'].value_counts().index)\n",
    "plt.title('Failure Type Distribution')\n",
    "plt.xticks(rotation=45)\n",
    "plt.show()\n"
   ],
   "id": "f6df8a96394980b4",
   "outputs": [
    {
     "data": {
      "text/plain": [
       "<Figure size 1000x600 with 1 Axes>"
      ],
      "image/png": "[encoded data removed]"
     },
     "metadata": {},
     "output_type": "display_data"
    }
   ],
   "execution_count": 10
  },
  {
   "metadata": {
    "ExecuteTime": {
     "end_time": "2024-11-06T11:21:50.561737Z",
     "start_time": "2024-11-06T11:21:31.823655Z"
    }
   },
   "cell_type": "code",
   "source": [
    "import numpy as np\n",
    "import matplotlib.pyplot as plt\n",
    "\n",
    "# 웨이퍼 맵을 9개의 구간으로 나누는 함수\n",
    "def divide_wafer_map(wafer_map, grid_size=(3, 3)):\n",
    "    rows, cols = wafer_map.shape\n",
    "    row_step, col_step = rows // grid_size[0], cols // grid_size[1]\n",
    "    \n",
    "    divided_map = []\n",
    "    for i in range(0, rows, row_step):\n",
    "        for j in range(0, cols, col_step):\n",
    "            section = wafer_map[i:i + row_step, j:j + col_step]\n",
    "            divided_map.append(section)\n",
    "    \n",
    "    if len(divided_map) == 9:\n",
    "        return divided_map\n",
    "    else:\n",
    "        return None\n",
    "\n",
    "# 각 웨이퍼 맵의 구간에서 값 2가 나타난 빈도를 계산하는 함수\n",
    "def calculate_occurrences_of_value(wafer_map, target_value=2):\n",
    "    sections = divide_wafer_map(wafer_map)\n",
    "    if sections is None:\n",
    "        return None\n",
    "    \n",
    "    occurrence_counts = []\n",
    "    for section in sections:\n",
    "        count_value = np.sum(section == target_value)  # 해당 값(2)이 나타난 빈도 계산\n",
    "        occurrence_counts.append(count_value)\n",
    "    \n",
    "    return occurrence_counts\n",
    "\n",
    "# 모든 웨이퍼 맵에 대해 구간별로 2가 나타난 빈도의 평균을 계산\n",
    "total_occurrences = np.zeros(9)  # 각 구간에서 2가 나타난 빈도 합계 저장\n",
    "num_wafer_maps = 0  # 분석된 웨이퍼 맵 개수\n",
    "\n",
    "for i, row in eda_df.iterrows():\n",
    "    if isinstance(row['waferMap'], np.ndarray):\n",
    "        occurrences = calculate_occurrences_of_value(row['waferMap'], target_value=2)\n",
    "        if occurrences is not None:  # 유효한 구간 나누기가 된 경우만 처리\n",
    "            total_occurrences += occurrences  # 각 구간에서 2가 나타난 빈도 합산\n",
    "            num_wafer_maps += 1\n",
    "\n",
    "# 전체 웨이퍼에 대한 각 구간에서 2가 나타난 평균 빈도 계산\n",
    "if num_wafer_maps > 0:\n",
    "    average_occurrences = total_occurrences / num_wafer_maps\n",
    "    print(f'Average occurrences of value 2 for each section: {average_occurrences}')\n",
    "else:\n",
    "    print(\"No valid wafer maps were found.\")\n",
    "\n",
    "# 구간별 평균 2의 빈도 시각화\n",
    "plt.figure(figsize=(10, 6))\n",
    "plt.bar(range(9), average_occurrences, color='skyblue')\n",
    "plt.title('Average Occurrences of Value 2 Across All Wafers by Section')\n",
    "plt.xlabel('Wafer Map Sections')\n",
    "plt.ylabel('Average Occurrence of Value 2')\n",
    "plt.xticks(range(9), labels=[f'Section {i}' for i in range(9)])\n",
    "plt.show()\n"
   ],
   "id": "50d1b6613777f226",
   "outputs": [
    {
     "name": "stdout",
     "output_type": "stream",
     "text": [
      "Average occurrences of value 2 for each section: [ 8.59986427 12.33676421  8.48929535 12.65850151 10.73069528 13.18520254\n",
      "  9.35990241 12.5659164   8.8014833 ]\n"
     ]
    },
    {
     "data": {
      "text/plain": [
       "<Figure size 1000x600 with 1 Axes>"
      ],
      "image/png": "[encoded data removed]"
     },
     "metadata": {},
     "output_type": "display_data"
    }
   ],
   "execution_count": 11
  },
  {
   "metadata": {
    "ExecuteTime": {
     "end_time": "2024-11-06T11:21:50.636361Z",
     "start_time": "2024-11-06T11:21:50.606669Z"
    }
   },
   "cell_type": "code",
   "source": [
    "from sklearn.preprocessing import OneHotEncoder\n",
    "import pandas as pd\n",
    "\n",
    "\n",
    "encoder = OneHotEncoder(sparse_output=False)\n",
    "encoded_failure_type = encoder.fit_transform(df[['failureType']])\n",
    "encoded_df = pd.DataFrame(encoded_failure_type, columns=encoder.get_feature_names_out(['failureType']))\n",
    "df = pd.concat([df.reset_index(drop=True), encoded_df], axis=1)\n"
   ],
   "id": "96fe20fba6ef4e2",
   "outputs": [],
   "execution_count": 12
  },
  {
   "metadata": {
    "ExecuteTime": {
     "end_time": "2024-11-06T11:21:50.911540Z",
     "start_time": "2024-11-06T11:21:50.819645Z"
    }
   },
   "cell_type": "code",
   "source": "df",
   "id": "ad21328d51974caa",
   "outputs": [
    {
     "data": {
      "text/plain": [
       "                                                 waferMap  dieSize   lotName  \\\n",
       "0       [[0, 0, 0, 0, 0, 0, 0, 0, 0, 0, 0, 0, 0, 0, 0,...   1683.0      lot1   \n",
       "1       [[0, 0, 0, 0, 0, 0, 0, 0, 0, 0, 0, 0, 0, 0, 0,...   2460.0      lot2   \n",
       "2       [[0, 0, 0, 0, 0, 0, 0, 0, 0, 0, 0, 0, 0, 0, 0,...   2460.0      lot2   \n",
       "3       [[0, 0, 0, 0, 0, 0, 0, 0, 0, 0, 0, 0, 0, 0, 0,...   2460.0      lot2   \n",
       "4       [[0, 0, 0, 0, 0, 0, 0, 0, 0, 0, 0, 0, 0, 0, 0,...   2460.0      lot2   \n",
       "...                                                   ...      ...       ...   \n",
       "125514  [[0, 0, 0, 0, 0, 0, 0, 0, 0, 0, 0, 0, 0, 0, 0,...   5532.0  lot20174   \n",
       "125515  [[0, 0, 0, 0, 0, 0, 0, 0, 0, 0, 0, 0, 2, 2, 1,...    710.0  lot38319   \n",
       "125516  [[0, 0, 0, 0, 0, 0, 0, 0, 0, 0, 0, 0, 2, 1, 2,...    648.0  lot15275   \n",
       "125517  [[0, 0, 0, 0, 0, 0, 0, 0, 0, 0, 0, 0, 0, 0, 0,...   2393.0  lot22590   \n",
       "125518  [[0, 0, 0, 0, 0, 0, 0, 0, 0, 0, 0, 0, 0, 0, 0,...   1253.0   lot4621   \n",
       "\n",
       "        waferIndex trianTestLabel  failureType  failureType_0  failureType_1  \\\n",
       "0             20.0   [[Training]]            0            1.0            0.0   \n",
       "1             12.0   [[Training]]            1            0.0            1.0   \n",
       "2             13.0   [[Training]]            1            0.0            1.0   \n",
       "3             14.0   [[Training]]            1            0.0            1.0   \n",
       "4             15.0   [[Training]]            1            0.0            1.0   \n",
       "...            ...            ...          ...            ...            ...   \n",
       "125514         4.0             []            8            0.0            0.0   \n",
       "125515        13.0             []            8            0.0            0.0   \n",
       "125516        11.0             []            8            0.0            0.0   \n",
       "125517        20.0             []            8            0.0            0.0   \n",
       "125518        25.0             []            8            0.0            0.0   \n",
       "\n",
       "        failureType_2  failureType_3  failureType_4  failureType_5  \\\n",
       "0                 0.0            0.0            0.0            0.0   \n",
       "1                 0.0            0.0            0.0            0.0   \n",
       "2                 0.0            0.0            0.0            0.0   \n",
       "3                 0.0            0.0            0.0            0.0   \n",
       "4                 0.0            0.0            0.0            0.0   \n",
       "...               ...            ...            ...            ...   \n",
       "125514            0.0            0.0            0.0            0.0   \n",
       "125515            0.0            0.0            0.0            0.0   \n",
       "125516            0.0            0.0            0.0            0.0   \n",
       "125517            0.0            0.0            0.0            0.0   \n",
       "125518            0.0            0.0            0.0            0.0   \n",
       "\n",
       "        failureType_6  failureType_7  failureType_8  \n",
       "0                 0.0            0.0            0.0  \n",
       "1                 0.0            0.0            0.0  \n",
       "2                 0.0            0.0            0.0  \n",
       "3                 0.0            0.0            0.0  \n",
       "4                 0.0            0.0            0.0  \n",
       "...               ...            ...            ...  \n",
       "125514            0.0            0.0            1.0  \n",
       "125515            0.0            0.0            1.0  \n",
       "125516            0.0            0.0            1.0  \n",
       "125517            0.0            0.0            1.0  \n",
       "125518            0.0            0.0            1.0  \n",
       "\n",
       "[125519 rows x 15 columns]"
      ],
      "text/html": [
       "<div>\n",
       "<style scoped>\n",
       "    .dataframe tbody tr th:only-of-type {\n",
       "        vertical-align: middle;\n",
       "    }\n",
       "\n",
       "    .dataframe tbody tr th {\n",
       "        vertical-align: top;\n",
       "    }\n",
       "\n",
       "    .dataframe thead th {\n",
       "        text-align: right;\n",
       "    }\n",
       "</style>\n",
       "<table border=\"1\" class=\"dataframe\">\n",
       "  <thead>\n",
       "    <tr style=\"text-align: right;\">\n",
       "      <th></th>\n",
       "      <th>waferMap</th>\n",
       "      <th>dieSize</th>\n",
       "      <th>lotName</th>\n",
       "      <th>waferIndex</th>\n",
       "      <th>trianTestLabel</th>\n",
       "      <th>failureType</th>\n",
       "      <th>failureType_0</th>\n",
       "      <th>failureType_1</th>\n",
       "      <th>failureType_2</th>\n",
       "      <th>failureType_3</th>\n",
       "      <th>failureType_4</th>\n",
       "      <th>failureType_5</th>\n",
       "      <th>failureType_6</th>\n",
       "      <th>failureType_7</th>\n",
       "      <th>failureType_8</th>\n",
       "    </tr>\n",
       "  </thead>\n",
       "  <tbody>\n",
       "    <tr>\n",
       "      <th>0</th>\n",
       "      <td>[[0, 0, 0, 0, 0, 0, 0, 0, 0, 0, 0, 0, 0, 0, 0,...</td>\n",
       "      <td>1683.0</td>\n",
       "      <td>lot1</td>\n",
       "      <td>20.0</td>\n",
       "      <td>[[Training]]</td>\n",
       "      <td>0</td>\n",
       "      <td>1.0</td>\n",
       "      <td>0.0</td>\n",
       "      <td>0.0</td>\n",
       "      <td>0.0</td>\n",
       "      <td>0.0</td>\n",
       "      <td>0.0</td>\n",
       "      <td>0.0</td>\n",
       "      <td>0.0</td>\n",
       "      <td>0.0</td>\n",
       "    </tr>\n",
       "    <tr>\n",
       "      <th>1</th>\n",
       "      <td>[[0, 0, 0, 0, 0, 0, 0, 0, 0, 0, 0, 0, 0, 0, 0,...</td>\n",
       "      <td>2460.0</td>\n",
       "      <td>lot2</td>\n",
       "      <td>12.0</td>\n",
       "      <td>[[Training]]</td>\n",
       "      <td>1</td>\n",
       "      <td>0.0</td>\n",
       "      <td>1.0</td>\n",
       "      <td>0.0</td>\n",
       "      <td>0.0</td>\n",
       "      <td>0.0</td>\n",
       "      <td>0.0</td>\n",
       "      <td>0.0</td>\n",
       "      <td>0.0</td>\n",
       "      <td>0.0</td>\n",
       "    </tr>\n",
       "    <tr>\n",
       "      <th>2</th>\n",
       "      <td>[[0, 0, 0, 0, 0, 0, 0, 0, 0, 0, 0, 0, 0, 0, 0,...</td>\n",
       "      <td>2460.0</td>\n",
       "      <td>lot2</td>\n",
       "      <td>13.0</td>\n",
       "      <td>[[Training]]</td>\n",
       "      <td>1</td>\n",
       "      <td>0.0</td>\n",
       "      <td>1.0</td>\n",
       "      <td>0.0</td>\n",
       "      <td>0.0</td>\n",
       "      <td>0.0</td>\n",
       "      <td>0.0</td>\n",
       "      <td>0.0</td>\n",
       "      <td>0.0</td>\n",
       "      <td>0.0</td>\n",
       "    </tr>\n",
       "    <tr>\n",
       "      <th>3</th>\n",
       "      <td>[[0, 0, 0, 0, 0, 0, 0, 0, 0, 0, 0, 0, 0, 0, 0,...</td>\n",
       "      <td>2460.0</td>\n",
       "      <td>lot2</td>\n",
       "      <td>14.0</td>\n",
       "      <td>[[Training]]</td>\n",
       "      <td>1</td>\n",
       "      <td>0.0</td>\n",
       "      <td>1.0</td>\n",
       "      <td>0.0</td>\n",
       "      <td>0.0</td>\n",
       "      <td>0.0</td>\n",
       "      <td>0.0</td>\n",
       "      <td>0.0</td>\n",
       "      <td>0.0</td>\n",
       "      <td>0.0</td>\n",
       "    </tr>\n",
       "    <tr>\n",
       "      <th>4</th>\n",
       "      <td>[[0, 0, 0, 0, 0, 0, 0, 0, 0, 0, 0, 0, 0, 0, 0,...</td>\n",
       "      <td>2460.0</td>\n",
       "      <td>lot2</td>\n",
       "      <td>15.0</td>\n",
       "      <td>[[Training]]</td>\n",
       "      <td>1</td>\n",
       "      <td>0.0</td>\n",
       "      <td>1.0</td>\n",
       "      <td>0.0</td>\n",
       "      <td>0.0</td>\n",
       "      <td>0.0</td>\n",
       "      <td>0.0</td>\n",
       "      <td>0.0</td>\n",
       "      <td>0.0</td>\n",
       "      <td>0.0</td>\n",
       "    </tr>\n",
       "    <tr>\n",
       "      <th>...</th>\n",
       "      <td>...</td>\n",
       "      <td>...</td>\n",
       "      <td>...</td>\n",
       "      <td>...</td>\n",
       "      <td>...</td>\n",
       "      <td>...</td>\n",
       "      <td>...</td>\n",
       "      <td>...</td>\n",
       "      <td>...</td>\n",
       "      <td>...</td>\n",
       "      <td>...</td>\n",
       "      <td>...</td>\n",
       "      <td>...</td>\n",
       "      <td>...</td>\n",
       "      <td>...</td>\n",
       "    </tr>\n",
       "    <tr>\n",
       "      <th>125514</th>\n",
       "      <td>[[0, 0, 0, 0, 0, 0, 0, 0, 0, 0, 0, 0, 0, 0, 0,...</td>\n",
       "      <td>5532.0</td>\n",
       "      <td>lot20174</td>\n",
       "      <td>4.0</td>\n",
       "      <td>[]</td>\n",
       "      <td>8</td>\n",
       "      <td>0.0</td>\n",
       "      <td>0.0</td>\n",
       "      <td>0.0</td>\n",
       "      <td>0.0</td>\n",
       "      <td>0.0</td>\n",
       "      <td>0.0</td>\n",
       "      <td>0.0</td>\n",
       "      <td>0.0</td>\n",
       "      <td>1.0</td>\n",
       "    </tr>\n",
       "    <tr>\n",
       "      <th>125515</th>\n",
       "      <td>[[0, 0, 0, 0, 0, 0, 0, 0, 0, 0, 0, 0, 2, 2, 1,...</td>\n",
       "      <td>710.0</td>\n",
       "      <td>lot38319</td>\n",
       "      <td>13.0</td>\n",
       "      <td>[]</td>\n",
       "      <td>8</td>\n",
       "      <td>0.0</td>\n",
       "      <td>0.0</td>\n",
       "      <td>0.0</td>\n",
       "      <td>0.0</td>\n",
       "      <td>0.0</td>\n",
       "      <td>0.0</td>\n",
       "      <td>0.0</td>\n",
       "      <td>0.0</td>\n",
       "      <td>1.0</td>\n",
       "    </tr>\n",
       "    <tr>\n",
       "      <th>125516</th>\n",
       "      <td>[[0, 0, 0, 0, 0, 0, 0, 0, 0, 0, 0, 0, 2, 1, 2,...</td>\n",
       "      <td>648.0</td>\n",
       "      <td>lot15275</td>\n",
       "      <td>11.0</td>\n",
       "      <td>[]</td>\n",
       "      <td>8</td>\n",
       "      <td>0.0</td>\n",
       "      <td>0.0</td>\n",
       "      <td>0.0</td>\n",
       "      <td>0.0</td>\n",
       "      <td>0.0</td>\n",
       "      <td>0.0</td>\n",
       "      <td>0.0</td>\n",
       "      <td>0.0</td>\n",
       "      <td>1.0</td>\n",
       "    </tr>\n",
       "    <tr>\n",
       "      <th>125517</th>\n",
       "      <td>[[0, 0, 0, 0, 0, 0, 0, 0, 0, 0, 0, 0, 0, 0, 0,...</td>\n",
       "      <td>2393.0</td>\n",
       "      <td>lot22590</td>\n",
       "      <td>20.0</td>\n",
       "      <td>[]</td>\n",
       "      <td>8</td>\n",
       "      <td>0.0</td>\n",
       "      <td>0.0</td>\n",
       "      <td>0.0</td>\n",
       "      <td>0.0</td>\n",
       "      <td>0.0</td>\n",
       "      <td>0.0</td>\n",
       "      <td>0.0</td>\n",
       "      <td>0.0</td>\n",
       "      <td>1.0</td>\n",
       "    </tr>\n",
       "    <tr>\n",
       "      <th>125518</th>\n",
       "      <td>[[0, 0, 0, 0, 0, 0, 0, 0, 0, 0, 0, 0, 0, 0, 0,...</td>\n",
       "      <td>1253.0</td>\n",
       "      <td>lot4621</td>\n",
       "      <td>25.0</td>\n",
       "      <td>[]</td>\n",
       "      <td>8</td>\n",
       "      <td>0.0</td>\n",
       "      <td>0.0</td>\n",
       "      <td>0.0</td>\n",
       "      <td>0.0</td>\n",
       "      <td>0.0</td>\n",
       "      <td>0.0</td>\n",
       "      <td>0.0</td>\n",
       "      <td>0.0</td>\n",
       "      <td>1.0</td>\n",
       "    </tr>\n",
       "  </tbody>\n",
       "</table>\n",
       "<p>125519 rows × 15 columns</p>\n",
       "</div>"
      ]
     },
     "execution_count": 13,
     "metadata": {},
     "output_type": "execute_result"
    }
   ],
   "execution_count": 13
  },
  {
   "metadata": {
    "ExecuteTime": {
     "end_time": "2024-11-06T11:21:51.181069Z",
     "start_time": "2024-11-06T11:21:51.138800Z"
    }
   },
   "cell_type": "code",
   "source": [
    "from sklearn.model_selection import train_test_split\n",
    "train_df,test_df,_,__ = train_test_split(df,np.random.randn(len(df)), test_size=0.2, random_state=42,stratify=df['failureType'])"
   ],
   "id": "c7d64e5ad3a35f51",
   "outputs": [],
   "execution_count": 14
  },
  {
   "metadata": {
    "ExecuteTime": {
     "end_time": "2024-11-06T11:21:51.380593Z",
     "start_time": "2024-11-06T11:21:51.296791Z"
    }
   },
   "cell_type": "code",
   "source": "train_df",
   "id": "5b0b34d3b7a289d4",
   "outputs": [
    {
     "data": {
      "text/plain": [
       "                                                 waferMap  dieSize   lotName  \\\n",
       "68385   [[0, 0, 0, 0, 0, 0, 0, 0, 0, 0, 0, 0, 0, 0, 2,...   1109.0  lot11503   \n",
       "67315   [[0, 0, 0, 0, 0, 0, 0, 0, 0, 0, 0, 0, 0, 0, 0,...   3701.0  lot25468   \n",
       "17181   [[0, 0, 0, 0, 0, 0, 0, 0, 0, 0, 2, 2, 2, 2, 2,...    533.0  lot40415   \n",
       "83408   [[0, 0, 0, 0, 0, 0, 0, 0, 0, 0, 0, 1, 2, 2, 2,...    515.0  lot32340   \n",
       "43432   [[0, 0, 0, 0, 0, 0, 0, 0, 0, 0, 0, 0, 0, 0, 0,...   2570.0  lot19274   \n",
       "...                                                   ...      ...       ...   \n",
       "84247   [[0, 0, 0, 0, 0, 0, 0, 0, 0, 0, 0, 0, 0, 0, 0,...    924.0   lot2118   \n",
       "118506  [[0, 0, 0, 0, 0, 0, 0, 0, 0, 0, 0, 0, 0, 0, 2,...    733.0  lot27778   \n",
       "87937   [[0, 0, 0, 0, 0, 0, 0, 0, 0, 0, 0, 0, 1, 1, 1,...    846.0  lot36104   \n",
       "84895   [[0, 0, 0, 0, 0, 0, 0, 0, 0, 0, 0, 0, 0, 0, 0,...   5085.0  lot11486   \n",
       "7829    [[0, 0, 0, 0, 0, 0, 0, 0, 0, 0, 0, 0, 0, 0, 0,...   1999.0  lot15000   \n",
       "\n",
       "        waferIndex trianTestLabel  failureType  failureType_0  failureType_1  \\\n",
       "68385         14.0             []            8            0.0            0.0   \n",
       "67315          3.0             []            8            0.0            0.0   \n",
       "17181          6.0       [[Test]]            2            0.0            0.0   \n",
       "83408         12.0             []            8            0.0            0.0   \n",
       "43432         15.0             []            8            0.0            0.0   \n",
       "...            ...            ...          ...            ...            ...   \n",
       "84247          1.0             []            8            0.0            0.0   \n",
       "118506         8.0             []            8            0.0            0.0   \n",
       "87937          3.0             []            8            0.0            0.0   \n",
       "84895          2.0             []            8            0.0            0.0   \n",
       "7829          20.0   [[Training]]            3            0.0            0.0   \n",
       "\n",
       "        failureType_2  failureType_3  failureType_4  failureType_5  \\\n",
       "68385             0.0            0.0            0.0            0.0   \n",
       "67315             0.0            0.0            0.0            0.0   \n",
       "17181             1.0            0.0            0.0            0.0   \n",
       "83408             0.0            0.0            0.0            0.0   \n",
       "43432             0.0            0.0            0.0            0.0   \n",
       "...               ...            ...            ...            ...   \n",
       "84247             0.0            0.0            0.0            0.0   \n",
       "118506            0.0            0.0            0.0            0.0   \n",
       "87937             0.0            0.0            0.0            0.0   \n",
       "84895             0.0            0.0            0.0            0.0   \n",
       "7829              0.0            1.0            0.0            0.0   \n",
       "\n",
       "        failureType_6  failureType_7  failureType_8  \n",
       "68385             0.0            0.0            1.0  \n",
       "67315             0.0            0.0            1.0  \n",
       "17181             0.0            0.0            0.0  \n",
       "83408             0.0            0.0            1.0  \n",
       "43432             0.0            0.0            1.0  \n",
       "...               ...            ...            ...  \n",
       "84247             0.0            0.0            1.0  \n",
       "118506            0.0            0.0            1.0  \n",
       "87937             0.0            0.0            1.0  \n",
       "84895             0.0            0.0            1.0  \n",
       "7829              0.0            0.0            0.0  \n",
       "\n",
       "[100415 rows x 15 columns]"
      ],
      "text/html": [
       "<div>\n",
       "<style scoped>\n",
       "    .dataframe tbody tr th:only-of-type {\n",
       "        vertical-align: middle;\n",
       "    }\n",
       "\n",
       "    .dataframe tbody tr th {\n",
       "        vertical-align: top;\n",
       "    }\n",
       "\n",
       "    .dataframe thead th {\n",
       "        text-align: right;\n",
       "    }\n",
       "</style>\n",
       "<table border=\"1\" class=\"dataframe\">\n",
       "  <thead>\n",
       "    <tr style=\"text-align: right;\">\n",
       "      <th></th>\n",
       "      <th>waferMap</th>\n",
       "      <th>dieSize</th>\n",
       "      <th>lotName</th>\n",
       "      <th>waferIndex</th>\n",
       "      <th>trianTestLabel</th>\n",
       "      <th>failureType</th>\n",
       "      <th>failureType_0</th>\n",
       "      <th>failureType_1</th>\n",
       "      <th>failureType_2</th>\n",
       "      <th>failureType_3</th>\n",
       "      <th>failureType_4</th>\n",
       "      <th>failureType_5</th>\n",
       "      <th>failureType_6</th>\n",
       "      <th>failureType_7</th>\n",
       "      <th>failureType_8</th>\n",
       "    </tr>\n",
       "  </thead>\n",
       "  <tbody>\n",
       "    <tr>\n",
       "      <th>68385</th>\n",
       "      <td>[[0, 0, 0, 0, 0, 0, 0, 0, 0, 0, 0, 0, 0, 0, 2,...</td>\n",
       "      <td>1109.0</td>\n",
       "      <td>lot11503</td>\n",
       "      <td>14.0</td>\n",
       "      <td>[]</td>\n",
       "      <td>8</td>\n",
       "      <td>0.0</td>\n",
       "      <td>0.0</td>\n",
       "      <td>0.0</td>\n",
       "      <td>0.0</td>\n",
       "      <td>0.0</td>\n",
       "      <td>0.0</td>\n",
       "      <td>0.0</td>\n",
       "      <td>0.0</td>\n",
       "      <td>1.0</td>\n",
       "    </tr>\n",
       "    <tr>\n",
       "      <th>67315</th>\n",
       "      <td>[[0, 0, 0, 0, 0, 0, 0, 0, 0, 0, 0, 0, 0, 0, 0,...</td>\n",
       "      <td>3701.0</td>\n",
       "      <td>lot25468</td>\n",
       "      <td>3.0</td>\n",
       "      <td>[]</td>\n",
       "      <td>8</td>\n",
       "      <td>0.0</td>\n",
       "      <td>0.0</td>\n",
       "      <td>0.0</td>\n",
       "      <td>0.0</td>\n",
       "      <td>0.0</td>\n",
       "      <td>0.0</td>\n",
       "      <td>0.0</td>\n",
       "      <td>0.0</td>\n",
       "      <td>1.0</td>\n",
       "    </tr>\n",
       "    <tr>\n",
       "      <th>17181</th>\n",
       "      <td>[[0, 0, 0, 0, 0, 0, 0, 0, 0, 0, 2, 2, 2, 2, 2,...</td>\n",
       "      <td>533.0</td>\n",
       "      <td>lot40415</td>\n",
       "      <td>6.0</td>\n",
       "      <td>[[Test]]</td>\n",
       "      <td>2</td>\n",
       "      <td>0.0</td>\n",
       "      <td>0.0</td>\n",
       "      <td>1.0</td>\n",
       "      <td>0.0</td>\n",
       "      <td>0.0</td>\n",
       "      <td>0.0</td>\n",
       "      <td>0.0</td>\n",
       "      <td>0.0</td>\n",
       "      <td>0.0</td>\n",
       "    </tr>\n",
       "    <tr>\n",
       "      <th>83408</th>\n",
       "      <td>[[0, 0, 0, 0, 0, 0, 0, 0, 0, 0, 0, 1, 2, 2, 2,...</td>\n",
       "      <td>515.0</td>\n",
       "      <td>lot32340</td>\n",
       "      <td>12.0</td>\n",
       "      <td>[]</td>\n",
       "      <td>8</td>\n",
       "      <td>0.0</td>\n",
       "      <td>0.0</td>\n",
       "      <td>0.0</td>\n",
       "      <td>0.0</td>\n",
       "      <td>0.0</td>\n",
       "      <td>0.0</td>\n",
       "      <td>0.0</td>\n",
       "      <td>0.0</td>\n",
       "      <td>1.0</td>\n",
       "    </tr>\n",
       "    <tr>\n",
       "      <th>43432</th>\n",
       "      <td>[[0, 0, 0, 0, 0, 0, 0, 0, 0, 0, 0, 0, 0, 0, 0,...</td>\n",
       "      <td>2570.0</td>\n",
       "      <td>lot19274</td>\n",
       "      <td>15.0</td>\n",
       "      <td>[]</td>\n",
       "      <td>8</td>\n",
       "      <td>0.0</td>\n",
       "      <td>0.0</td>\n",
       "      <td>0.0</td>\n",
       "      <td>0.0</td>\n",
       "      <td>0.0</td>\n",
       "      <td>0.0</td>\n",
       "      <td>0.0</td>\n",
       "      <td>0.0</td>\n",
       "      <td>1.0</td>\n",
       "    </tr>\n",
       "    <tr>\n",
       "      <th>...</th>\n",
       "      <td>...</td>\n",
       "      <td>...</td>\n",
       "      <td>...</td>\n",
       "      <td>...</td>\n",
       "      <td>...</td>\n",
       "      <td>...</td>\n",
       "      <td>...</td>\n",
       "      <td>...</td>\n",
       "      <td>...</td>\n",
       "      <td>...</td>\n",
       "      <td>...</td>\n",
       "      <td>...</td>\n",
       "      <td>...</td>\n",
       "      <td>...</td>\n",
       "      <td>...</td>\n",
       "    </tr>\n",
       "    <tr>\n",
       "      <th>84247</th>\n",
       "      <td>[[0, 0, 0, 0, 0, 0, 0, 0, 0, 0, 0, 0, 0, 0, 0,...</td>\n",
       "      <td>924.0</td>\n",
       "      <td>lot2118</td>\n",
       "      <td>1.0</td>\n",
       "      <td>[]</td>\n",
       "      <td>8</td>\n",
       "      <td>0.0</td>\n",
       "      <td>0.0</td>\n",
       "      <td>0.0</td>\n",
       "      <td>0.0</td>\n",
       "      <td>0.0</td>\n",
       "      <td>0.0</td>\n",
       "      <td>0.0</td>\n",
       "      <td>0.0</td>\n",
       "      <td>1.0</td>\n",
       "    </tr>\n",
       "    <tr>\n",
       "      <th>118506</th>\n",
       "      <td>[[0, 0, 0, 0, 0, 0, 0, 0, 0, 0, 0, 0, 0, 0, 2,...</td>\n",
       "      <td>733.0</td>\n",
       "      <td>lot27778</td>\n",
       "      <td>8.0</td>\n",
       "      <td>[]</td>\n",
       "      <td>8</td>\n",
       "      <td>0.0</td>\n",
       "      <td>0.0</td>\n",
       "      <td>0.0</td>\n",
       "      <td>0.0</td>\n",
       "      <td>0.0</td>\n",
       "      <td>0.0</td>\n",
       "      <td>0.0</td>\n",
       "      <td>0.0</td>\n",
       "      <td>1.0</td>\n",
       "    </tr>\n",
       "    <tr>\n",
       "      <th>87937</th>\n",
       "      <td>[[0, 0, 0, 0, 0, 0, 0, 0, 0, 0, 0, 0, 1, 1, 1,...</td>\n",
       "      <td>846.0</td>\n",
       "      <td>lot36104</td>\n",
       "      <td>3.0</td>\n",
       "      <td>[]</td>\n",
       "      <td>8</td>\n",
       "      <td>0.0</td>\n",
       "      <td>0.0</td>\n",
       "      <td>0.0</td>\n",
       "      <td>0.0</td>\n",
       "      <td>0.0</td>\n",
       "      <td>0.0</td>\n",
       "      <td>0.0</td>\n",
       "      <td>0.0</td>\n",
       "      <td>1.0</td>\n",
       "    </tr>\n",
       "    <tr>\n",
       "      <th>84895</th>\n",
       "      <td>[[0, 0, 0, 0, 0, 0, 0, 0, 0, 0, 0, 0, 0, 0, 0,...</td>\n",
       "      <td>5085.0</td>\n",
       "      <td>lot11486</td>\n",
       "      <td>2.0</td>\n",
       "      <td>[]</td>\n",
       "      <td>8</td>\n",
       "      <td>0.0</td>\n",
       "      <td>0.0</td>\n",
       "      <td>0.0</td>\n",
       "      <td>0.0</td>\n",
       "      <td>0.0</td>\n",
       "      <td>0.0</td>\n",
       "      <td>0.0</td>\n",
       "      <td>0.0</td>\n",
       "      <td>1.0</td>\n",
       "    </tr>\n",
       "    <tr>\n",
       "      <th>7829</th>\n",
       "      <td>[[0, 0, 0, 0, 0, 0, 0, 0, 0, 0, 0, 0, 0, 0, 0,...</td>\n",
       "      <td>1999.0</td>\n",
       "      <td>lot15000</td>\n",
       "      <td>20.0</td>\n",
       "      <td>[[Training]]</td>\n",
       "      <td>3</td>\n",
       "      <td>0.0</td>\n",
       "      <td>0.0</td>\n",
       "      <td>0.0</td>\n",
       "      <td>1.0</td>\n",
       "      <td>0.0</td>\n",
       "      <td>0.0</td>\n",
       "      <td>0.0</td>\n",
       "      <td>0.0</td>\n",
       "      <td>0.0</td>\n",
       "    </tr>\n",
       "  </tbody>\n",
       "</table>\n",
       "<p>100415 rows × 15 columns</p>\n",
       "</div>"
      ]
     },
     "execution_count": 15,
     "metadata": {},
     "output_type": "execute_result"
    }
   ],
   "execution_count": 15
  },
  {
   "metadata": {
    "ExecuteTime": {
     "end_time": "2024-11-06T11:21:51.502155Z",
     "start_time": "2024-11-06T11:21:51.422936Z"
    }
   },
   "cell_type": "code",
   "source": "test_df",
   "id": "82f7fd6f875ff063",
   "outputs": [
    {
     "data": {
      "text/plain": [
       "                                                waferMap  dieSize   lotName  \\\n",
       "58093  [[0, 0, 0, 0, 0, 0, 0, 0, 0, 0, 0, 0, 0, 0, 0,...   4169.0  lot13597   \n",
       "91583  [[0, 0, 0, 0, 0, 0, 0, 0, 0, 0, 0, 0, 1, 1, 1,...    846.0  lot27293   \n",
       "21365  [[0, 0, 0, 0, 0, 0, 0, 0, 0, 0, 0, 0, 0, 0, 0,...   1421.0  lot44797   \n",
       "77362  [[0, 0, 0, 0, 0, 0, 0, 0, 0, 0, 0, 0, 0, 0, 0,...   5532.0  lot20175   \n",
       "31218  [[0, 0, 0, 0, 0, 0, 0, 0, 0, 0, 0, 0, 0, 0, 0,...    776.0   lot4914   \n",
       "...                                                  ...      ...       ...   \n",
       "54191  [[0, 0, 0, 0, 0, 0, 0, 0, 0, 0, 0, 2, 1, 2, 1,...    515.0  lot31830   \n",
       "32245  [[0, 0, 0, 0, 0, 0, 0, 0, 0, 0, 0, 0, 2, 1, 1,...    592.0  lot42083   \n",
       "92460  [[0, 0, 0, 0, 0, 0, 0, 0, 0, 0, 0, 0, 1, 1, 1,...    712.0  lot28593   \n",
       "13330  [[0, 0, 0, 0, 0, 0, 0, 0, 0, 0, 0, 0, 0, 0, 0,...   1226.0  lot23648   \n",
       "71443  [[0, 0, 0, 0, 0, 0, 0, 0, 0, 0, 0, 0, 2, 2, 2,...    710.0  lot28769   \n",
       "\n",
       "       waferIndex trianTestLabel  failureType  failureType_0  failureType_1  \\\n",
       "58093         8.0             []            8            0.0            0.0   \n",
       "91583         3.0             []            8            0.0            0.0   \n",
       "21365         4.0       [[Test]]            3            0.0            0.0   \n",
       "77362         7.0             []            8            0.0            0.0   \n",
       "31218         4.0             []            8            0.0            0.0   \n",
       "...           ...            ...          ...            ...            ...   \n",
       "54191        14.0             []            8            0.0            0.0   \n",
       "32245        15.0             []            8            0.0            0.0   \n",
       "92460        23.0             []            8            0.0            0.0   \n",
       "13330        10.0   [[Training]]            0            1.0            0.0   \n",
       "71443        25.0             []            8            0.0            0.0   \n",
       "\n",
       "       failureType_2  failureType_3  failureType_4  failureType_5  \\\n",
       "58093            0.0            0.0            0.0            0.0   \n",
       "91583            0.0            0.0            0.0            0.0   \n",
       "21365            0.0            1.0            0.0            0.0   \n",
       "77362            0.0            0.0            0.0            0.0   \n",
       "31218            0.0            0.0            0.0            0.0   \n",
       "...              ...            ...            ...            ...   \n",
       "54191            0.0            0.0            0.0            0.0   \n",
       "32245            0.0            0.0            0.0            0.0   \n",
       "92460            0.0            0.0            0.0            0.0   \n",
       "13330            0.0            0.0            0.0            0.0   \n",
       "71443            0.0            0.0            0.0            0.0   \n",
       "\n",
       "       failureType_6  failureType_7  failureType_8  \n",
       "58093            0.0            0.0            1.0  \n",
       "91583            0.0            0.0            1.0  \n",
       "21365            0.0            0.0            0.0  \n",
       "77362            0.0            0.0            1.0  \n",
       "31218            0.0            0.0            1.0  \n",
       "...              ...            ...            ...  \n",
       "54191            0.0            0.0            1.0  \n",
       "32245            0.0            0.0            1.0  \n",
       "92460            0.0            0.0            1.0  \n",
       "13330            0.0            0.0            0.0  \n",
       "71443            0.0            0.0            1.0  \n",
       "\n",
       "[25104 rows x 15 columns]"
      ],
      "text/html": [
       "<div>\n",
       "<style scoped>\n",
       "    .dataframe tbody tr th:only-of-type {\n",
       "        vertical-align: middle;\n",
       "    }\n",
       "\n",
       "    .dataframe tbody tr th {\n",
       "        vertical-align: top;\n",
       "    }\n",
       "\n",
       "    .dataframe thead th {\n",
       "        text-align: right;\n",
       "    }\n",
       "</style>\n",
       "<table border=\"1\" class=\"dataframe\">\n",
       "  <thead>\n",
       "    <tr style=\"text-align: right;\">\n",
       "      <th></th>\n",
       "      <th>waferMap</th>\n",
       "      <th>dieSize</th>\n",
       "      <th>lotName</th>\n",
       "      <th>waferIndex</th>\n",
       "      <th>trianTestLabel</th>\n",
       "      <th>failureType</th>\n",
       "      <th>failureType_0</th>\n",
       "      <th>failureType_1</th>\n",
       "      <th>failureType_2</th>\n",
       "      <th>failureType_3</th>\n",
       "      <th>failureType_4</th>\n",
       "      <th>failureType_5</th>\n",
       "      <th>failureType_6</th>\n",
       "      <th>failureType_7</th>\n",
       "      <th>failureType_8</th>\n",
       "    </tr>\n",
       "  </thead>\n",
       "  <tbody>\n",
       "    <tr>\n",
       "      <th>58093</th>\n",
       "      <td>[[0, 0, 0, 0, 0, 0, 0, 0, 0, 0, 0, 0, 0, 0, 0,...</td>\n",
       "      <td>4169.0</td>\n",
       "      <td>lot13597</td>\n",
       "      <td>8.0</td>\n",
       "      <td>[]</td>\n",
       "      <td>8</td>\n",
       "      <td>0.0</td>\n",
       "      <td>0.0</td>\n",
       "      <td>0.0</td>\n",
       "      <td>0.0</td>\n",
       "      <td>0.0</td>\n",
       "      <td>0.0</td>\n",
       "      <td>0.0</td>\n",
       "      <td>0.0</td>\n",
       "      <td>1.0</td>\n",
       "    </tr>\n",
       "    <tr>\n",
       "      <th>91583</th>\n",
       "      <td>[[0, 0, 0, 0, 0, 0, 0, 0, 0, 0, 0, 0, 1, 1, 1,...</td>\n",
       "      <td>846.0</td>\n",
       "      <td>lot27293</td>\n",
       "      <td>3.0</td>\n",
       "      <td>[]</td>\n",
       "      <td>8</td>\n",
       "      <td>0.0</td>\n",
       "      <td>0.0</td>\n",
       "      <td>0.0</td>\n",
       "      <td>0.0</td>\n",
       "      <td>0.0</td>\n",
       "      <td>0.0</td>\n",
       "      <td>0.0</td>\n",
       "      <td>0.0</td>\n",
       "      <td>1.0</td>\n",
       "    </tr>\n",
       "    <tr>\n",
       "      <th>21365</th>\n",
       "      <td>[[0, 0, 0, 0, 0, 0, 0, 0, 0, 0, 0, 0, 0, 0, 0,...</td>\n",
       "      <td>1421.0</td>\n",
       "      <td>lot44797</td>\n",
       "      <td>4.0</td>\n",
       "      <td>[[Test]]</td>\n",
       "      <td>3</td>\n",
       "      <td>0.0</td>\n",
       "      <td>0.0</td>\n",
       "      <td>0.0</td>\n",
       "      <td>1.0</td>\n",
       "      <td>0.0</td>\n",
       "      <td>0.0</td>\n",
       "      <td>0.0</td>\n",
       "      <td>0.0</td>\n",
       "      <td>0.0</td>\n",
       "    </tr>\n",
       "    <tr>\n",
       "      <th>77362</th>\n",
       "      <td>[[0, 0, 0, 0, 0, 0, 0, 0, 0, 0, 0, 0, 0, 0, 0,...</td>\n",
       "      <td>5532.0</td>\n",
       "      <td>lot20175</td>\n",
       "      <td>7.0</td>\n",
       "      <td>[]</td>\n",
       "      <td>8</td>\n",
       "      <td>0.0</td>\n",
       "      <td>0.0</td>\n",
       "      <td>0.0</td>\n",
       "      <td>0.0</td>\n",
       "      <td>0.0</td>\n",
       "      <td>0.0</td>\n",
       "      <td>0.0</td>\n",
       "      <td>0.0</td>\n",
       "      <td>1.0</td>\n",
       "    </tr>\n",
       "    <tr>\n",
       "      <th>31218</th>\n",
       "      <td>[[0, 0, 0, 0, 0, 0, 0, 0, 0, 0, 0, 0, 0, 0, 0,...</td>\n",
       "      <td>776.0</td>\n",
       "      <td>lot4914</td>\n",
       "      <td>4.0</td>\n",
       "      <td>[]</td>\n",
       "      <td>8</td>\n",
       "      <td>0.0</td>\n",
       "      <td>0.0</td>\n",
       "      <td>0.0</td>\n",
       "      <td>0.0</td>\n",
       "      <td>0.0</td>\n",
       "      <td>0.0</td>\n",
       "      <td>0.0</td>\n",
       "      <td>0.0</td>\n",
       "      <td>1.0</td>\n",
       "    </tr>\n",
       "    <tr>\n",
       "      <th>...</th>\n",
       "      <td>...</td>\n",
       "      <td>...</td>\n",
       "      <td>...</td>\n",
       "      <td>...</td>\n",
       "      <td>...</td>\n",
       "      <td>...</td>\n",
       "      <td>...</td>\n",
       "      <td>...</td>\n",
       "      <td>...</td>\n",
       "      <td>...</td>\n",
       "      <td>...</td>\n",
       "      <td>...</td>\n",
       "      <td>...</td>\n",
       "      <td>...</td>\n",
       "      <td>...</td>\n",
       "    </tr>\n",
       "    <tr>\n",
       "      <th>54191</th>\n",
       "      <td>[[0, 0, 0, 0, 0, 0, 0, 0, 0, 0, 0, 2, 1, 2, 1,...</td>\n",
       "      <td>515.0</td>\n",
       "      <td>lot31830</td>\n",
       "      <td>14.0</td>\n",
       "      <td>[]</td>\n",
       "      <td>8</td>\n",
       "      <td>0.0</td>\n",
       "      <td>0.0</td>\n",
       "      <td>0.0</td>\n",
       "      <td>0.0</td>\n",
       "      <td>0.0</td>\n",
       "      <td>0.0</td>\n",
       "      <td>0.0</td>\n",
       "      <td>0.0</td>\n",
       "      <td>1.0</td>\n",
       "    </tr>\n",
       "    <tr>\n",
       "      <th>32245</th>\n",
       "      <td>[[0, 0, 0, 0, 0, 0, 0, 0, 0, 0, 0, 0, 2, 1, 1,...</td>\n",
       "      <td>592.0</td>\n",
       "      <td>lot42083</td>\n",
       "      <td>15.0</td>\n",
       "      <td>[]</td>\n",
       "      <td>8</td>\n",
       "      <td>0.0</td>\n",
       "      <td>0.0</td>\n",
       "      <td>0.0</td>\n",
       "      <td>0.0</td>\n",
       "      <td>0.0</td>\n",
       "      <td>0.0</td>\n",
       "      <td>0.0</td>\n",
       "      <td>0.0</td>\n",
       "      <td>1.0</td>\n",
       "    </tr>\n",
       "    <tr>\n",
       "      <th>92460</th>\n",
       "      <td>[[0, 0, 0, 0, 0, 0, 0, 0, 0, 0, 0, 0, 1, 1, 1,...</td>\n",
       "      <td>712.0</td>\n",
       "      <td>lot28593</td>\n",
       "      <td>23.0</td>\n",
       "      <td>[]</td>\n",
       "      <td>8</td>\n",
       "      <td>0.0</td>\n",
       "      <td>0.0</td>\n",
       "      <td>0.0</td>\n",
       "      <td>0.0</td>\n",
       "      <td>0.0</td>\n",
       "      <td>0.0</td>\n",
       "      <td>0.0</td>\n",
       "      <td>0.0</td>\n",
       "      <td>1.0</td>\n",
       "    </tr>\n",
       "    <tr>\n",
       "      <th>13330</th>\n",
       "      <td>[[0, 0, 0, 0, 0, 0, 0, 0, 0, 0, 0, 0, 0, 0, 0,...</td>\n",
       "      <td>1226.0</td>\n",
       "      <td>lot23648</td>\n",
       "      <td>10.0</td>\n",
       "      <td>[[Training]]</td>\n",
       "      <td>0</td>\n",
       "      <td>1.0</td>\n",
       "      <td>0.0</td>\n",
       "      <td>0.0</td>\n",
       "      <td>0.0</td>\n",
       "      <td>0.0</td>\n",
       "      <td>0.0</td>\n",
       "      <td>0.0</td>\n",
       "      <td>0.0</td>\n",
       "      <td>0.0</td>\n",
       "    </tr>\n",
       "    <tr>\n",
       "      <th>71443</th>\n",
       "      <td>[[0, 0, 0, 0, 0, 0, 0, 0, 0, 0, 0, 0, 2, 2, 2,...</td>\n",
       "      <td>710.0</td>\n",
       "      <td>lot28769</td>\n",
       "      <td>25.0</td>\n",
       "      <td>[]</td>\n",
       "      <td>8</td>\n",
       "      <td>0.0</td>\n",
       "      <td>0.0</td>\n",
       "      <td>0.0</td>\n",
       "      <td>0.0</td>\n",
       "      <td>0.0</td>\n",
       "      <td>0.0</td>\n",
       "      <td>0.0</td>\n",
       "      <td>0.0</td>\n",
       "      <td>1.0</td>\n",
       "    </tr>\n",
       "  </tbody>\n",
       "</table>\n",
       "<p>25104 rows × 15 columns</p>\n",
       "</div>"
      ]
     },
     "execution_count": 16,
     "metadata": {},
     "output_type": "execute_result"
    }
   ],
   "execution_count": 16
  },
  {
   "metadata": {
    "ExecuteTime": {
     "end_time": "2024-11-06T11:21:55.530980Z",
     "start_time": "2024-11-06T11:21:51.671724Z"
    }
   },
   "cell_type": "code",
   "source": [
    "import numpy as np\n",
    "import pandas as pd\n",
    "\n",
    "\n",
    "def augment_wafer_map(wafer_map):\n",
    "    # 좌우 뒤집기\n",
    "    flipped_lr = np.fliplr(wafer_map)\n",
    "\n",
    "    # 상하 뒤집기\n",
    "    flipped_ud = np.flipud(wafer_map)\n",
    "\n",
    "    # 90도 회전 (시계 방향)\n",
    "    rotated_90 = np.rot90(wafer_map, k=-1)\n",
    "\n",
    "    # 180도 회전\n",
    "    rotated_180 = np.rot90(wafer_map, k=2)\n",
    "\n",
    "    # 270도 회전 (반시계 방향)\n",
    "    rotated_270 = np.rot90(wafer_map, k=1)\n",
    "\n",
    "    return [wafer_map, flipped_lr, flipped_ud, rotated_90, rotated_180, rotated_270]\n",
    "\n",
    "\n",
    "def augment_dataframe(df):\n",
    "    augmented_data = []\n",
    "\n",
    "    for _, row in df.iterrows():\n",
    "        wafer_map = row['waferMap']\n",
    "        die_size = row['dieSize']\n",
    "        lot_name = row['lotName']\n",
    "        wafer_index = row['waferIndex']\n",
    "        train_test_label = row['trianTestLabel']\n",
    "        failure_type = row['failureType']\n",
    "        \n",
    "        # failure_type이 8이 아닐 경우에만 증강\n",
    "        if failure_type != 8:\n",
    "            augmented_wafer_maps = augment_wafer_map(wafer_map)\n",
    "            for augmented_map in augmented_wafer_maps:\n",
    "                augmented_data.append({\n",
    "                    'waferMap': augmented_map,\n",
    "                    'dieSize': die_size,\n",
    "                    'lotName': lot_name,\n",
    "                    'waferIndex': wafer_index,\n",
    "                    'trianTestLabel': train_test_label,\n",
    "                    'failureType': failure_type\n",
    "                })\n",
    "        # failure_type이 8인 경우 원본 행을 추가\n",
    "        augmented_data.append(row.to_dict())\n",
    "\n",
    "    # 증강된 데이터로 새로운 DataFrame 생성\n",
    "    augmented_df = pd.DataFrame(augmented_data)\n",
    "    return augmented_df\n",
    "\n",
    "print(\"Original DataFrame shape:\", train_df.shape)\n",
    "train_df_aug = augment_dataframe(train_df)\n",
    "print(\"Augmented DataFrame shape:\", train_df_aug.shape)\n"
   ],
   "id": "86d743f7353051dc",
   "outputs": [
    {
     "name": "stdout",
     "output_type": "stream",
     "text": [
      "Original DataFrame shape: (100415, 15)\n",
      "Augmented DataFrame shape: (222905, 15)\n"
     ]
    }
   ],
   "execution_count": 17
  },
  {
   "metadata": {
    "ExecuteTime": {
     "end_time": "2024-11-06T11:21:55.578003Z",
     "start_time": "2024-11-06T11:21:55.574632Z"
    }
   },
   "cell_type": "code",
   "source": "train_df_aug['failureType'].value_counts()",
   "id": "2856288b88d0a066",
   "outputs": [
    {
     "data": {
      "text/plain": [
       "failureType\n",
       "8    80000\n",
       "3    54208\n",
       "1    29057\n",
       "2    24045\n",
       "0    20118\n",
       "4     6685\n",
       "5     4851\n",
       "7     3108\n",
       "6      833\n",
       "Name: count, dtype: int64"
      ]
     },
     "execution_count": 18,
     "metadata": {},
     "output_type": "execute_result"
    }
   ],
   "execution_count": 18
  },
  {
   "metadata": {
    "ExecuteTime": {
     "end_time": "2024-11-06T11:21:55.603523Z",
     "start_time": "2024-11-06T11:21:55.600163Z"
    }
   },
   "cell_type": "code",
   "source": "train_df['failureType'].value_counts()",
   "id": "d9d3e1ef487b2927",
   "outputs": [
    {
     "data": {
      "text/plain": [
       "failureType\n",
       "8    80000\n",
       "3     7744\n",
       "1     4151\n",
       "2     3435\n",
       "0     2874\n",
       "4      955\n",
       "5      693\n",
       "7      444\n",
       "6      119\n",
       "Name: count, dtype: int64"
      ]
     },
     "execution_count": 19,
     "metadata": {},
     "output_type": "execute_result"
    }
   ],
   "execution_count": 19
  },
  {
   "metadata": {
    "ExecuteTime": {
     "end_time": "2024-11-06T11:22:16.404552Z",
     "start_time": "2024-11-06T11:21:55.717912Z"
    }
   },
   "cell_type": "code",
   "source": [
    "def apply_median_filter(wafer_map, size=3):\n",
    "    return median_filter(wafer_map, size=size)\n",
    "\n",
    "# DataFrame에 있는 모든 WaferMap에 미디언 필터 적용\n",
    "train_df['waferMap'] = train_df['waferMap'].apply(lambda x: apply_median_filter(x, size=3))\n",
    "train_df_aug['waferMap']= train_df_aug['waferMap'].apply(lambda x: apply_median_filter(x, size=3))\n",
    "test_df['waferMap'] = test_df['waferMap'].apply(lambda x: apply_median_filter(x, size=3))"
   ],
   "id": "8718757ac2fa90d2",
   "outputs": [],
   "execution_count": 20
  },
  {
   "metadata": {
    "ExecuteTime": {
     "end_time": "2024-11-06T11:22:20.791322Z",
     "start_time": "2024-11-06T11:22:16.422897Z"
    }
   },
   "cell_type": "code",
   "source": [
    "import pandas as pd\n",
    "import numpy as np\n",
    "from multiprocessing import Pool, cpu_count\n",
    "\n",
    "# 최대 패딩 크기를 정의\n",
    "target_height, target_width = 60, 60\n",
    "\n",
    "# 각 웨이퍼 맵에 패딩을 추가하고 로그 변환을 적용하는 함수\n",
    "def pad_and_log_transform(wafer_map):\n",
    "    current_height, current_width = wafer_map.shape\n",
    "    \n",
    "    # 필요한 패딩 계산\n",
    "    pad_height = max(0, target_height - current_height)\n",
    "    pad_width = max(0, target_width - current_width)\n",
    "    \n",
    "    # 패딩을 추가하여 60x60 크기의 배열 생성\n",
    "    padded_wafer_map = np.pad(\n",
    "        wafer_map,\n",
    "        ((0, pad_height), (0, pad_width)),\n",
    "        mode='constant',\n",
    "        constant_values=0\n",
    "    )\n",
    "    \n",
    "    # 로그 변환 적용\n",
    "    #log_transformed_wafer_map = np.log1p(padded_wafer_map)\n",
    "    \n",
    "    return padded_wafer_map\n",
    "\n",
    "# 병렬 처리를 위한 함수\n",
    "def parallel_apply(df, column):\n",
    "    # 60x60 이하인 웨이퍼 맵만 필터링\n",
    "    df_filtered = df[df[column].apply(lambda x: x.shape[0] <= target_height and x.shape[1] <= target_width)].copy()\n",
    "    \n",
    "    # 병렬 처리 수행\n",
    "    with Pool(cpu_count()) as pool:\n",
    "        transformed_maps = pool.map(pad_and_log_transform, df_filtered[column])\n",
    "    \n",
    "    # 필터링된 데이터프레임에 변환된 웨이퍼 맵 추가\n",
    "    df_filtered['paddedWaferMap'] = transformed_maps\n",
    "    return df_filtered\n",
    "\n",
    "# 각 데이터프레임에 병렬 처리 적용하여 결과 저장\n",
    "train_df_filtered = parallel_apply(train_df, 'waferMap')\n",
    "train_df_aug_filtered = parallel_apply(train_df_aug, 'waferMap')\n",
    "test_df_filtered = parallel_apply(test_df, 'waferMap')\n"
   ],
   "id": "7c8bf6839f69852a",
   "outputs": [],
   "execution_count": 21
  },
  {
   "metadata": {
    "ExecuteTime": {
     "end_time": "2024-11-06T11:22:20.829694Z",
     "start_time": "2024-11-06T11:22:20.826839Z"
    }
   },
   "cell_type": "code",
   "source": "train_df_filtered['paddedWaferMap'][0]",
   "id": "d4018367849792fa",
   "outputs": [
    {
     "data": {
      "text/plain": [
       "array([[0, 0, 0, ..., 0, 0, 0],\n",
       "       [0, 0, 0, ..., 0, 0, 0],\n",
       "       [0, 0, 0, ..., 0, 0, 0],\n",
       "       ...,\n",
       "       [0, 0, 0, ..., 0, 0, 0],\n",
       "       [0, 0, 0, ..., 0, 0, 0],\n",
       "       [0, 0, 0, ..., 0, 0, 0]], dtype=uint8)"
      ]
     },
     "execution_count": 22,
     "metadata": {},
     "output_type": "execute_result"
    }
   ],
   "execution_count": 22
  },
  {
   "metadata": {
    "ExecuteTime": {
     "end_time": "2024-11-06T11:22:20.853411Z",
     "start_time": "2024-11-06T11:22:20.843541Z"
    }
   },
   "cell_type": "code",
   "source": "train_df_filtered.iloc[:, -10:-1]",
   "id": "55398688c6ef10e0",
   "outputs": [
    {
     "data": {
      "text/plain": [
       "        failureType_0  failureType_1  failureType_2  failureType_3  \\\n",
       "68385             0.0            0.0            0.0            0.0   \n",
       "17181             0.0            0.0            1.0            0.0   \n",
       "83408             0.0            0.0            0.0            0.0   \n",
       "43432             0.0            0.0            0.0            0.0   \n",
       "50500             0.0            0.0            0.0            0.0   \n",
       "...               ...            ...            ...            ...   \n",
       "81636             0.0            0.0            0.0            0.0   \n",
       "84247             0.0            0.0            0.0            0.0   \n",
       "118506            0.0            0.0            0.0            0.0   \n",
       "87937             0.0            0.0            0.0            0.0   \n",
       "7829              0.0            0.0            0.0            1.0   \n",
       "\n",
       "        failureType_4  failureType_5  failureType_6  failureType_7  \\\n",
       "68385             0.0            0.0            0.0            0.0   \n",
       "17181             0.0            0.0            0.0            0.0   \n",
       "83408             0.0            0.0            0.0            0.0   \n",
       "43432             0.0            0.0            0.0            0.0   \n",
       "50500             0.0            0.0            0.0            0.0   \n",
       "...               ...            ...            ...            ...   \n",
       "81636             0.0            0.0            0.0            0.0   \n",
       "84247             0.0            0.0            0.0            0.0   \n",
       "118506            0.0            0.0            0.0            0.0   \n",
       "87937             0.0            0.0            0.0            0.0   \n",
       "7829              0.0            0.0            0.0            0.0   \n",
       "\n",
       "        failureType_8  \n",
       "68385             1.0  \n",
       "17181             0.0  \n",
       "83408             1.0  \n",
       "43432             1.0  \n",
       "50500             1.0  \n",
       "...               ...  \n",
       "81636             1.0  \n",
       "84247             1.0  \n",
       "118506            1.0  \n",
       "87937             1.0  \n",
       "7829              0.0  \n",
       "\n",
       "[82325 rows x 9 columns]"
      ],
      "text/html": [
       "<div>\n",
       "<style scoped>\n",
       "    .dataframe tbody tr th:only-of-type {\n",
       "        vertical-align: middle;\n",
       "    }\n",
       "\n",
       "    .dataframe tbody tr th {\n",
       "        vertical-align: top;\n",
       "    }\n",
       "\n",
       "    .dataframe thead th {\n",
       "        text-align: right;\n",
       "    }\n",
       "</style>\n",
       "<table border=\"1\" class=\"dataframe\">\n",
       "  <thead>\n",
       "    <tr style=\"text-align: right;\">\n",
       "      <th></th>\n",
       "      <th>failureType_0</th>\n",
       "      <th>failureType_1</th>\n",
       "      <th>failureType_2</th>\n",
       "      <th>failureType_3</th>\n",
       "      <th>failureType_4</th>\n",
       "      <th>failureType_5</th>\n",
       "      <th>failureType_6</th>\n",
       "      <th>failureType_7</th>\n",
       "      <th>failureType_8</th>\n",
       "    </tr>\n",
       "  </thead>\n",
       "  <tbody>\n",
       "    <tr>\n",
       "      <th>68385</th>\n",
       "      <td>0.0</td>\n",
       "      <td>0.0</td>\n",
       "      <td>0.0</td>\n",
       "      <td>0.0</td>\n",
       "      <td>0.0</td>\n",
       "      <td>0.0</td>\n",
       "      <td>0.0</td>\n",
       "      <td>0.0</td>\n",
       "      <td>1.0</td>\n",
       "    </tr>\n",
       "    <tr>\n",
       "      <th>17181</th>\n",
       "      <td>0.0</td>\n",
       "      <td>0.0</td>\n",
       "      <td>1.0</td>\n",
       "      <td>0.0</td>\n",
       "      <td>0.0</td>\n",
       "      <td>0.0</td>\n",
       "      <td>0.0</td>\n",
       "      <td>0.0</td>\n",
       "      <td>0.0</td>\n",
       "    </tr>\n",
       "    <tr>\n",
       "      <th>83408</th>\n",
       "      <td>0.0</td>\n",
       "      <td>0.0</td>\n",
       "      <td>0.0</td>\n",
       "      <td>0.0</td>\n",
       "      <td>0.0</td>\n",
       "      <td>0.0</td>\n",
       "      <td>0.0</td>\n",
       "      <td>0.0</td>\n",
       "      <td>1.0</td>\n",
       "    </tr>\n",
       "    <tr>\n",
       "      <th>43432</th>\n",
       "      <td>0.0</td>\n",
       "      <td>0.0</td>\n",
       "      <td>0.0</td>\n",
       "      <td>0.0</td>\n",
       "      <td>0.0</td>\n",
       "      <td>0.0</td>\n",
       "      <td>0.0</td>\n",
       "      <td>0.0</td>\n",
       "      <td>1.0</td>\n",
       "    </tr>\n",
       "    <tr>\n",
       "      <th>50500</th>\n",
       "      <td>0.0</td>\n",
       "      <td>0.0</td>\n",
       "      <td>0.0</td>\n",
       "      <td>0.0</td>\n",
       "      <td>0.0</td>\n",
       "      <td>0.0</td>\n",
       "      <td>0.0</td>\n",
       "      <td>0.0</td>\n",
       "      <td>1.0</td>\n",
       "    </tr>\n",
       "    <tr>\n",
       "      <th>...</th>\n",
       "      <td>...</td>\n",
       "      <td>...</td>\n",
       "      <td>...</td>\n",
       "      <td>...</td>\n",
       "      <td>...</td>\n",
       "      <td>...</td>\n",
       "      <td>...</td>\n",
       "      <td>...</td>\n",
       "      <td>...</td>\n",
       "    </tr>\n",
       "    <tr>\n",
       "      <th>81636</th>\n",
       "      <td>0.0</td>\n",
       "      <td>0.0</td>\n",
       "      <td>0.0</td>\n",
       "      <td>0.0</td>\n",
       "      <td>0.0</td>\n",
       "      <td>0.0</td>\n",
       "      <td>0.0</td>\n",
       "      <td>0.0</td>\n",
       "      <td>1.0</td>\n",
       "    </tr>\n",
       "    <tr>\n",
       "      <th>84247</th>\n",
       "      <td>0.0</td>\n",
       "      <td>0.0</td>\n",
       "      <td>0.0</td>\n",
       "      <td>0.0</td>\n",
       "      <td>0.0</td>\n",
       "      <td>0.0</td>\n",
       "      <td>0.0</td>\n",
       "      <td>0.0</td>\n",
       "      <td>1.0</td>\n",
       "    </tr>\n",
       "    <tr>\n",
       "      <th>118506</th>\n",
       "      <td>0.0</td>\n",
       "      <td>0.0</td>\n",
       "      <td>0.0</td>\n",
       "      <td>0.0</td>\n",
       "      <td>0.0</td>\n",
       "      <td>0.0</td>\n",
       "      <td>0.0</td>\n",
       "      <td>0.0</td>\n",
       "      <td>1.0</td>\n",
       "    </tr>\n",
       "    <tr>\n",
       "      <th>87937</th>\n",
       "      <td>0.0</td>\n",
       "      <td>0.0</td>\n",
       "      <td>0.0</td>\n",
       "      <td>0.0</td>\n",
       "      <td>0.0</td>\n",
       "      <td>0.0</td>\n",
       "      <td>0.0</td>\n",
       "      <td>0.0</td>\n",
       "      <td>1.0</td>\n",
       "    </tr>\n",
       "    <tr>\n",
       "      <th>7829</th>\n",
       "      <td>0.0</td>\n",
       "      <td>0.0</td>\n",
       "      <td>0.0</td>\n",
       "      <td>1.0</td>\n",
       "      <td>0.0</td>\n",
       "      <td>0.0</td>\n",
       "      <td>0.0</td>\n",
       "      <td>0.0</td>\n",
       "      <td>0.0</td>\n",
       "    </tr>\n",
       "  </tbody>\n",
       "</table>\n",
       "<p>82325 rows × 9 columns</p>\n",
       "</div>"
      ]
     },
     "execution_count": 23,
     "metadata": {},
     "output_type": "execute_result"
    }
   ],
   "execution_count": 23
  },
  {
   "metadata": {
    "ExecuteTime": {
     "end_time": "2024-11-06T11:22:21.677303Z",
     "start_time": "2024-11-06T11:22:20.910041Z"
    }
   },
   "cell_type": "code",
   "source": [
    "import torch\n",
    "from torch.utils.data import Dataset, DataLoader\n",
    "\n",
    "class WaferDataset(Dataset):\n",
    "    def __init__(self, wafer_maps, labels):\n",
    "        # 데이터셋 초기화 (wafer_maps: 웨이퍼 맵 열, labels: 원핫 인코딩된 레이블 열)\n",
    "        self.wafer_maps = wafer_maps.reset_index(drop=True)\n",
    "        self.labels = labels.reset_index(drop=True) # 레이블을 float32로 변환\n",
    "\n",
    "    def __len__(self):\n",
    "        # 데이터셋 크기 반환\n",
    "        return len(self.wafer_maps)\n",
    "\n",
    "    def __getitem__(self, idx):\n",
    "        # 웨이퍼 맵을 float32로 변환하여 텐서로 변환\n",
    "        wafer_map = self.wafer_maps[idx]\n",
    "        wafer_map_tensor = torch.tensor(wafer_map, dtype=torch.float32).unsqueeze(0).to(torch.float32)\n",
    "        \n",
    "        # 레이블을 텐서로 변환\n",
    "        label = torch.tensor(self.labels.iloc[idx].values, dtype=torch.float32)\n",
    "        return wafer_map_tensor.to('cuda'), label.to('cuda')\n",
    "\n",
    "\n",
    "\n",
    "\n",
    "wafer_maps_noaug = train_df_filtered['paddedWaferMap']\n",
    "labels_noaug = train_df_filtered.iloc[:, -10:-1]\n",
    "train_ds_nopaug = WaferDataset(wafer_maps_noaug, labels_noaug)\n",
    "train_loader_noaug = DataLoader(train_ds_nopaug, batch_size=32, shuffle=True)\n",
    "\n",
    "\n",
    "wafer_maps_aug = train_df_aug_filtered['paddedWaferMap']\n",
    "labels_aug = train_df_aug_filtered.iloc[:, -10:-1]\n",
    "train_ds_aug = WaferDataset(wafer_maps_aug, labels_aug)\n",
    "train_loader_aug = DataLoader(train_ds_aug, batch_size=32, shuffle=True)\n",
    "\n",
    "\n",
    "wafer_maps_test = test_df_filtered['paddedWaferMap']\n",
    "labels_test = test_df_filtered.iloc[:, -10:-1]\n",
    "test_ds = WaferDataset(wafer_maps_test, labels_test)\n",
    "test_loader = DataLoader(test_ds, batch_size=32, shuffle=False)\n",
    "\n"
   ],
   "id": "cb876cb0ab1bc1f3",
   "outputs": [],
   "execution_count": 24
  },
  {
   "metadata": {
    "ExecuteTime": {
     "end_time": "2024-11-06T11:22:21.803414Z",
     "start_time": "2024-11-06T11:22:21.710195Z"
    }
   },
   "cell_type": "code",
   "source": [
    "x,y = next(iter(train_loader_noaug))\n",
    "print(x.shape)\n",
    "print(y.shape)"
   ],
   "id": "9ced47915a88e832",
   "outputs": [
    {
     "name": "stdout",
     "output_type": "stream",
     "text": [
      "torch.Size([32, 1, 60, 60])\n",
      "torch.Size([32, 9])\n"
     ]
    }
   ],
   "execution_count": 25
  },
  {
   "metadata": {
    "ExecuteTime": {
     "end_time": "2024-11-06T11:44:14.924387Z",
     "start_time": "2024-11-06T11:44:14.916986Z"
    }
   },
   "cell_type": "code",
   "source": [
    "import torch\n",
    "import torch.nn as nn\n",
    "\n",
    "class MyModel(nn.Module):\n",
    "    def __init__(self, inch = 1):\n",
    "        super(MyModel, self).__init__()\n",
    "        self.FeatureExtractor = nn.Sequential(\n",
    "            nn.Conv2d(inch, 16, kernel_size=3, stride=2),\n",
    "            nn.BatchNorm2d(16),\n",
    "            nn.ReLU(inplace=True),\n",
    "            nn.Conv2d(16, 32, kernel_size=3, stride=2),\n",
    "            nn.BatchNorm2d(32),\n",
    "            nn.ReLU(inplace=True),\n",
    "            nn.Conv2d(32, 64, kernel_size=3, stride=2),\n",
    "            nn.BatchNorm2d(64),\n",
    "        )\n",
    "        self.flatten = nn.Flatten()\n",
    "        self.head = nn.Sequential(\n",
    "            nn.Linear(64 * 6 * 6, 64*6),\n",
    "            nn.ReLU(inplace=True),\n",
    "            nn.Linear(64*6, 10),\n",
    "        )\n",
    "        \n",
    "    def forward(self, x):\n",
    "        x = self.FeatureExtractor(x)\n",
    "        x = self.flatten(x)\n",
    "        x = self.head(x)\n",
    "        return x\n",
    "    \n",
    "model = MyModel()\n",
    "tmp = torch.randn(4, 1, 60, 60)\n",
    "(model(tmp))"
   ],
   "id": "eb844d4706695a8d",
   "outputs": [
    {
     "data": {
      "text/plain": [
       "tensor([[ 0.6425, -0.3924,  0.1418,  0.4034,  0.6241, -0.6443,  0.9232, -0.1999,\n",
       "         -0.8983,  0.1123],\n",
       "        [ 0.3280, -0.8511, -0.2899, -0.5247, -0.9134, -0.4210, -0.4381,  0.4081,\n",
       "         -0.1001, -0.8064],\n",
       "        [-0.1674,  0.0496, -0.6621, -0.4187, -0.5161, -0.3168,  0.3144, -0.1008,\n",
       "          0.4282,  0.1302],\n",
       "        [ 0.6388, -0.2945, -0.4116,  0.1061,  0.4482,  0.8685,  0.7498,  0.5323,\n",
       "         -0.0900, -0.2916]], grad_fn=<AddmmBackward0>)"
      ]
     },
     "execution_count": 42,
     "metadata": {},
     "output_type": "execute_result"
    }
   ],
   "execution_count": 42
  },
  {
   "metadata": {
    "ExecuteTime": {
     "end_time": "2024-11-06T11:44:16.041441Z",
     "start_time": "2024-11-06T11:44:16.038896Z"
    }
   },
   "cell_type": "code",
   "source": [
    "DEVICE = torch.device(\"cuda\" if torch.cuda.is_available() else \"cpu\")\n",
    "from tqdm import tqdm\n",
    "import torch.optim as optim\n",
    "epoch = 100\n"
   ],
   "id": "6f802e9d0d58a894",
   "outputs": [],
   "execution_count": 43
  },
  {
   "metadata": {
    "ExecuteTime": {
     "end_time": "2024-11-06T11:47:02.414231Z",
     "start_time": "2024-11-06T11:44:16.651169Z"
    }
   },
   "cell_type": "code",
   "source": [
    "import torch\n",
    "import torch.nn as nn\n",
    "import torch.optim as optim\n",
    "from torch.utils.data import random_split\n",
    "import numpy as np\n",
    "\n",
    "class EarlyStopping:\n",
    "    def __init__(self, patience=5, delta=0):\n",
    "        self.patience = patience\n",
    "        self.counter = 0\n",
    "        self.best_loss = None\n",
    "        self.early_stop = False\n",
    "        self.delta = delta\n",
    "\n",
    "    def __call__(self, val_loss):\n",
    "        if self.best_loss is None:\n",
    "            self.best_loss = val_loss\n",
    "        elif val_loss > self.best_loss - self.delta:\n",
    "            self.counter += 1\n",
    "            if self.counter >= self.patience:\n",
    "                self.early_stop = True\n",
    "        else:\n",
    "            self.best_loss = val_loss\n",
    "            self.counter = 0\n",
    "\n",
    "\n",
    "train_size = int(0.8 * len(train_ds_aug))\n",
    "val_size = len(train_ds_aug) - train_size\n",
    "train_ds, val_ds = random_split(train_ds_aug, [train_size, val_size])\n",
    "\n",
    "train_loader = DataLoader(train_ds, batch_size=32, shuffle=True)\n",
    "val_loader = DataLoader(val_ds, batch_size=32, shuffle=False)\n",
    "\n",
    "\n",
    "model_no_aug = MyModel().cuda()\n",
    "criterion = nn.CrossEntropyLoss()  \n",
    "optimizer = optim.Adam(model_no_aug.parameters(), lr=0.001)\n",
    "early_stopping = EarlyStopping(patience=5, delta=0.001)\n",
    "\n",
    "\n",
    "n_epochs = 50\n",
    "for epoch in tqdm(range(n_epochs)):\n",
    "    model_no_aug.train()\n",
    "    train_loss = 0.0\n",
    "    for batch in train_loader:\n",
    "        inputs, labels = batch\n",
    "        inputs, labels = inputs.cuda(), labels.argmax(dim=1).cuda()\n",
    "        optimizer.zero_grad()\n",
    "        outputs = model_no_aug(inputs)\n",
    "        loss = criterion(outputs, labels)\n",
    "        loss.backward()\n",
    "        optimizer.step()\n",
    "        train_loss += loss.item() * inputs.size(0)\n",
    "\n",
    " \n",
    "    train_loss /= len(train_loader.dataset)\n",
    "\n",
    "\n",
    "    model_no_aug.eval()\n",
    "    val_loss = 0.0\n",
    "    with torch.no_grad():\n",
    "        for batch in val_loader:\n",
    "            inputs, labels = batch\n",
    "            inputs, labels = inputs.cuda(), labels.argmax(dim=1).cuda()  \n",
    "            outputs = model_no_aug(inputs)\n",
    "            loss = criterion(outputs, labels)\n",
    "            val_loss += loss.item() * inputs.size(0)\n",
    "\n",
    "    val_loss /= len(val_loader.dataset)\n",
    "\n",
    "   \n",
    "    print(f'Epoch {epoch+1}, Train Loss: {train_loss:.4f}, Validation Loss: {val_loss:.4f}')\n",
    "    early_stopping(val_loss)\n",
    "    if early_stopping.early_stop:\n",
    "        print(\"Early stopping\")\n",
    "        break\n",
    "        \n",
    "        \n"
   ],
   "id": "aedaf32009fa2964",
   "outputs": [
    {
     "name": "stderr",
     "output_type": "stream",
     "text": [
      "  2%|▏         | 1/50 [00:15<12:32, 15.36s/it]"
     ]
    },
    {
     "name": "stdout",
     "output_type": "stream",
     "text": [
      "Epoch 1, Train Loss: 0.5188, Validation Loss: 0.4480\n"
     ]
    },
    {
     "name": "stderr",
     "output_type": "stream",
     "text": [
      "  4%|▍         | 2/50 [00:27<10:53, 13.61s/it]"
     ]
    },
    {
     "name": "stdout",
     "output_type": "stream",
     "text": [
      "Epoch 2, Train Loss: 0.4173, Validation Loss: 0.4367\n"
     ]
    },
    {
     "name": "stderr",
     "output_type": "stream",
     "text": [
      "  6%|▌         | 3/50 [00:40<10:21, 13.23s/it]"
     ]
    },
    {
     "name": "stdout",
     "output_type": "stream",
     "text": [
      "Epoch 3, Train Loss: 0.3886, Validation Loss: 0.4023\n"
     ]
    },
    {
     "name": "stderr",
     "output_type": "stream",
     "text": [
      "  8%|▊         | 4/50 [00:52<09:54, 12.92s/it]"
     ]
    },
    {
     "name": "stdout",
     "output_type": "stream",
     "text": [
      "Epoch 4, Train Loss: 0.3705, Validation Loss: 0.3855\n"
     ]
    },
    {
     "name": "stderr",
     "output_type": "stream",
     "text": [
      " 10%|█         | 5/50 [01:05<09:30, 12.68s/it]"
     ]
    },
    {
     "name": "stdout",
     "output_type": "stream",
     "text": [
      "Epoch 5, Train Loss: 0.3583, Validation Loss: 0.3928\n"
     ]
    },
    {
     "name": "stderr",
     "output_type": "stream",
     "text": [
      " 12%|█▏        | 6/50 [01:18<09:25, 12.86s/it]"
     ]
    },
    {
     "name": "stdout",
     "output_type": "stream",
     "text": [
      "Epoch 6, Train Loss: 0.3487, Validation Loss: 0.3795\n"
     ]
    },
    {
     "name": "stderr",
     "output_type": "stream",
     "text": [
      " 14%|█▍        | 7/50 [01:30<09:05, 12.68s/it]"
     ]
    },
    {
     "name": "stdout",
     "output_type": "stream",
     "text": [
      "Epoch 7, Train Loss: 0.3406, Validation Loss: 0.3815\n"
     ]
    },
    {
     "name": "stderr",
     "output_type": "stream",
     "text": [
      " 16%|█▌        | 8/50 [01:42<08:46, 12.53s/it]"
     ]
    },
    {
     "name": "stdout",
     "output_type": "stream",
     "text": [
      "Epoch 8, Train Loss: 0.3350, Validation Loss: 0.3705\n"
     ]
    },
    {
     "name": "stderr",
     "output_type": "stream",
     "text": [
      " 18%|█▊        | 9/50 [01:55<08:29, 12.42s/it]"
     ]
    },
    {
     "name": "stdout",
     "output_type": "stream",
     "text": [
      "Epoch 9, Train Loss: 0.3294, Validation Loss: 0.3867\n"
     ]
    },
    {
     "name": "stderr",
     "output_type": "stream",
     "text": [
      " 20%|██        | 10/50 [02:07<08:16, 12.41s/it]"
     ]
    },
    {
     "name": "stdout",
     "output_type": "stream",
     "text": [
      "Epoch 10, Train Loss: 0.3245, Validation Loss: 0.3713\n"
     ]
    },
    {
     "name": "stderr",
     "output_type": "stream",
     "text": [
      " 22%|██▏       | 11/50 [02:20<08:06, 12.48s/it]"
     ]
    },
    {
     "name": "stdout",
     "output_type": "stream",
     "text": [
      "Epoch 11, Train Loss: 0.3210, Validation Loss: 0.3724\n"
     ]
    },
    {
     "name": "stderr",
     "output_type": "stream",
     "text": [
      " 24%|██▍       | 12/50 [02:32<07:56, 12.54s/it]"
     ]
    },
    {
     "name": "stdout",
     "output_type": "stream",
     "text": [
      "Epoch 12, Train Loss: 0.3170, Validation Loss: 0.3730\n"
     ]
    },
    {
     "name": "stderr",
     "output_type": "stream",
     "text": [
      " 24%|██▍       | 12/50 [02:45<08:44, 13.81s/it]"
     ]
    },
    {
     "name": "stdout",
     "output_type": "stream",
     "text": [
      "Epoch 13, Train Loss: 0.3131, Validation Loss: 0.3736\n",
      "Early stopping\n"
     ]
    },
    {
     "name": "stderr",
     "output_type": "stream",
     "text": [
      "\n"
     ]
    }
   ],
   "execution_count": 44
  },
  {
   "metadata": {
    "ExecuteTime": {
     "end_time": "2024-11-06T11:50:21.224536Z",
     "start_time": "2024-11-06T11:47:02.664302Z"
    }
   },
   "cell_type": "code",
   "source": [
    "train_size = int(0.8 * len(train_ds_aug))\n",
    "val_size = len(train_ds_aug) - train_size\n",
    "train_ds, val_ds = random_split(train_ds_aug, [train_size, val_size])\n",
    "\n",
    "train_loader = DataLoader(train_ds, batch_size=32, shuffle=True)\n",
    "val_loader = DataLoader(val_ds, batch_size=32, shuffle=False)\n",
    "\n",
    "model_aug = MyModel().cuda()\n",
    "criterion = nn.CrossEntropyLoss() \n",
    "optimizer = optim.Adam(model_aug.parameters(), lr=0.001)\n",
    "early_stopping = EarlyStopping(patience=5, delta=0.001)\n",
    "\n",
    "n_epochs = 50\n",
    "for epoch in tqdm(range(n_epochs)):\n",
    "    model_aug.train()\n",
    "    train_loss = 0.0\n",
    "    for batch in train_loader:\n",
    "        inputs, labels = batch\n",
    "        inputs, labels = inputs.cuda(), labels.argmax(dim=1).cuda()  \n",
    "        optimizer.zero_grad()\n",
    "        outputs = model_aug(inputs)\n",
    "        loss = criterion(outputs, labels)\n",
    "        loss.backward()\n",
    "        optimizer.step()\n",
    "        train_loss += loss.item() * inputs.size(0)\n",
    "\n",
    "    train_loss /= len(train_loader.dataset)\n",
    "\n",
    "\n",
    "    model_aug.eval()\n",
    "    val_loss = 0.0\n",
    "    with torch.no_grad():\n",
    "        for batch in val_loader:\n",
    "            inputs, labels = batch\n",
    "            inputs, labels = inputs.cuda(), labels.argmax(dim=1).cuda()  \n",
    "            outputs = model_aug(inputs)\n",
    "            loss = criterion(outputs, labels)\n",
    "            val_loss += loss.item() * inputs.size(0)\n",
    "\n",
    "    val_loss /= len(val_loader.dataset)\n",
    "\n",
    "    print(f'Epoch {epoch+1}, Train Loss: {train_loss:.4f}, Validation Loss: {val_loss:.4f}')\n",
    "    early_stopping(val_loss)\n",
    "    if early_stopping.early_stop:\n",
    "        print(\"Early stopping\")\n",
    "        break"
   ],
   "id": "64ea533e58b511c5",
   "outputs": [
    {
     "name": "stderr",
     "output_type": "stream",
     "text": [
      "  2%|▏         | 1/50 [00:12<10:17, 12.60s/it]"
     ]
    },
    {
     "name": "stdout",
     "output_type": "stream",
     "text": [
      "Epoch 1, Train Loss: 0.5218, Validation Loss: 0.4597\n"
     ]
    },
    {
     "name": "stderr",
     "output_type": "stream",
     "text": [
      "  4%|▍         | 2/50 [00:25<10:25, 13.03s/it]"
     ]
    },
    {
     "name": "stdout",
     "output_type": "stream",
     "text": [
      "Epoch 2, Train Loss: 0.4152, Validation Loss: 0.4163\n"
     ]
    },
    {
     "name": "stderr",
     "output_type": "stream",
     "text": [
      "  6%|▌         | 3/50 [00:38<10:07, 12.93s/it]"
     ]
    },
    {
     "name": "stdout",
     "output_type": "stream",
     "text": [
      "Epoch 3, Train Loss: 0.3873, Validation Loss: 0.3875\n"
     ]
    },
    {
     "name": "stderr",
     "output_type": "stream",
     "text": [
      "  8%|▊         | 4/50 [00:51<09:45, 12.73s/it]"
     ]
    },
    {
     "name": "stdout",
     "output_type": "stream",
     "text": [
      "Epoch 4, Train Loss: 0.3710, Validation Loss: 0.3969\n"
     ]
    },
    {
     "name": "stderr",
     "output_type": "stream",
     "text": [
      " 10%|█         | 5/50 [01:03<09:25, 12.57s/it]"
     ]
    },
    {
     "name": "stdout",
     "output_type": "stream",
     "text": [
      "Epoch 5, Train Loss: 0.3582, Validation Loss: 0.3829\n"
     ]
    },
    {
     "name": "stderr",
     "output_type": "stream",
     "text": [
      " 12%|█▏        | 6/50 [01:15<09:07, 12.43s/it]"
     ]
    },
    {
     "name": "stdout",
     "output_type": "stream",
     "text": [
      "Epoch 6, Train Loss: 0.3486, Validation Loss: 0.3699\n"
     ]
    },
    {
     "name": "stderr",
     "output_type": "stream",
     "text": [
      " 14%|█▍        | 7/50 [01:27<08:50, 12.34s/it]"
     ]
    },
    {
     "name": "stdout",
     "output_type": "stream",
     "text": [
      "Epoch 7, Train Loss: 0.3417, Validation Loss: 0.3673\n"
     ]
    },
    {
     "name": "stderr",
     "output_type": "stream",
     "text": [
      " 16%|█▌        | 8/50 [01:39<08:35, 12.28s/it]"
     ]
    },
    {
     "name": "stdout",
     "output_type": "stream",
     "text": [
      "Epoch 8, Train Loss: 0.3354, Validation Loss: 0.3748\n"
     ]
    },
    {
     "name": "stderr",
     "output_type": "stream",
     "text": [
      " 18%|█▊        | 9/50 [01:52<08:21, 12.24s/it]"
     ]
    },
    {
     "name": "stdout",
     "output_type": "stream",
     "text": [
      "Epoch 9, Train Loss: 0.3304, Validation Loss: 0.3700\n"
     ]
    },
    {
     "name": "stderr",
     "output_type": "stream",
     "text": [
      " 20%|██        | 10/50 [02:04<08:08, 12.21s/it]"
     ]
    },
    {
     "name": "stdout",
     "output_type": "stream",
     "text": [
      "Epoch 10, Train Loss: 0.3261, Validation Loss: 0.3651\n"
     ]
    },
    {
     "name": "stderr",
     "output_type": "stream",
     "text": [
      " 22%|██▏       | 11/50 [02:16<07:55, 12.19s/it]"
     ]
    },
    {
     "name": "stdout",
     "output_type": "stream",
     "text": [
      "Epoch 11, Train Loss: 0.3219, Validation Loss: 0.3607\n"
     ]
    },
    {
     "name": "stderr",
     "output_type": "stream",
     "text": [
      " 24%|██▍       | 12/50 [02:28<07:42, 12.17s/it]"
     ]
    },
    {
     "name": "stdout",
     "output_type": "stream",
     "text": [
      "Epoch 12, Train Loss: 0.3170, Validation Loss: 0.3672\n"
     ]
    },
    {
     "name": "stderr",
     "output_type": "stream",
     "text": [
      " 26%|██▌       | 13/50 [02:41<07:37, 12.38s/it]"
     ]
    },
    {
     "name": "stdout",
     "output_type": "stream",
     "text": [
      "Epoch 13, Train Loss: 0.3143, Validation Loss: 0.3673\n"
     ]
    },
    {
     "name": "stderr",
     "output_type": "stream",
     "text": [
      " 28%|██▊       | 14/50 [02:53<07:22, 12.30s/it]"
     ]
    },
    {
     "name": "stdout",
     "output_type": "stream",
     "text": [
      "Epoch 14, Train Loss: 0.3112, Validation Loss: 0.3684\n"
     ]
    },
    {
     "name": "stderr",
     "output_type": "stream",
     "text": [
      " 30%|███       | 15/50 [03:06<07:13, 12.38s/it]"
     ]
    },
    {
     "name": "stdout",
     "output_type": "stream",
     "text": [
      "Epoch 15, Train Loss: 0.3086, Validation Loss: 0.3661\n"
     ]
    },
    {
     "name": "stderr",
     "output_type": "stream",
     "text": [
      " 30%|███       | 15/50 [03:18<07:43, 13.24s/it]"
     ]
    },
    {
     "name": "stdout",
     "output_type": "stream",
     "text": [
      "Epoch 16, Train Loss: 0.3056, Validation Loss: 0.3665\n",
      "Early stopping\n"
     ]
    },
    {
     "name": "stderr",
     "output_type": "stream",
     "text": [
      "\n"
     ]
    }
   ],
   "execution_count": 45
  },
  {
   "metadata": {
    "ExecuteTime": {
     "end_time": "2024-11-06T11:50:21.771616Z",
     "start_time": "2024-11-06T11:50:21.768765Z"
    }
   },
   "cell_type": "code",
   "source": [
    "from sklearn.metrics import balanced_accuracy_score\n",
    "import torch\n",
    "\n",
    "# 테스트에서 balanced accuracy score를 계산하는 함수\n",
    "def evaluate_model(model, data_loader):\n",
    "    model.eval()\n",
    "    all_preds = []\n",
    "    all_labels = []\n",
    "\n",
    "    with torch.no_grad():\n",
    "        for batch in data_loader:\n",
    "            inputs, labels = batch\n",
    "            inputs, labels = inputs.cuda(), labels.argmax(dim=1).cuda()  # CUDA로 이동\n",
    "\n",
    "            # 모델 예측\n",
    "            outputs = model(inputs)\n",
    "            _, preds = torch.max(outputs, 1)  # 각 샘플의 예측 클래스\n",
    "\n",
    "            # 예측값과 실제 레이블을 CPU로 이동하여 저장\n",
    "            all_preds.extend(preds.cpu().numpy())\n",
    "            all_labels.extend(labels.cpu().numpy())\n",
    "\n",
    "    # balanced accuracy score 계산\n",
    "    balanced_acc = balanced_accuracy_score(all_labels, all_preds)\n",
    "    print(f'Balanced Accuracy Score: {balanced_acc:.4f}')\n",
    "    return balanced_acc\n",
    "\n",
    "\n"
   ],
   "id": "242eefc4cbc84341",
   "outputs": [],
   "execution_count": 46
  },
  {
   "metadata": {
    "ExecuteTime": {
     "end_time": "2024-11-06T11:50:24.250442Z",
     "start_time": "2024-11-06T11:50:22.310274Z"
    }
   },
   "cell_type": "code",
   "source": [
    "balanced_accuracy1 = evaluate_model(model_no_aug, test_loader)\n",
    "balanced_accuracy2 = evaluate_model(model_aug, test_loader)"
   ],
   "id": "d8210258aa572ec2",
   "outputs": [
    {
     "name": "stdout",
     "output_type": "stream",
     "text": [
      "Balanced Accuracy Score: 0.3776\n",
      "Balanced Accuracy Score: 0.3601\n"
     ]
    }
   ],
   "execution_count": 47
  },
  {
   "metadata": {
    "ExecuteTime": {
     "end_time": "2024-11-06T11:27:29.101226Z",
     "start_time": "2024-11-06T11:27:29.099741Z"
    }
   },
   "cell_type": "code",
   "source": "",
   "id": "8232343930adac7e",
   "outputs": [],
   "execution_count": null
  }
 ],
 "metadata": {
  "kernelspec": {
   "display_name": "Python 3",
   "language": "python",
   "name": "python3"
  },
  "language_info": {
   "codemirror_mode": {
    "name": "ipython",
    "version": 2
   },
   "file_extension": ".py",
   "mimetype": "text/x-python",
   "name": "python",
   "nbconvert_exporter": "python",
   "pygments_lexer": "ipython2",
   "version": "2.7.6"
  }
 },
 "nbformat": 4,
 "nbformat_minor": 5
}
