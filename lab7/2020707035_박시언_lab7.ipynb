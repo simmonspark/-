{
 "cells": [
  {
   "metadata": {},
   "cell_type": "code",
   "outputs": [],
   "execution_count": null,
   "source": [
    "from torch.utils.data import DataLoader\n",
    "from torchvision import transforms, datasets\n",
    "from AutoEncoder import Autoencoder\n",
    "from tester import test_model\n",
    "from VAE import VAE\n",
    "from Gan import Discriminator,Generator\n",
    "from train_pipe_line import train_autoencoder_or_vae\n"
   ],
   "id": "264fa1fb41965d23"
  },
  {
   "metadata": {},
   "cell_type": "code",
   "outputs": [],
   "execution_count": null,
   "source": [
    "autoencoder = Autoencoder()\n",
    "\n",
    "# Autoencoder 학습 실행\n",
    "train_autoencoder_or_vae(\n",
    "    model=autoencoder,\n",
    "    dataloader=dataloader,\n",
    "    model_type=\"autoencoder\",\n",
    "    epochs=10,\n",
    "    lr=1e-3,\n",
    "    device='cuda'\n",
    ")"
   ],
   "id": "f43b3d24076dd5ee"
  },
  {
   "metadata": {},
   "cell_type": "code",
   "outputs": [],
   "execution_count": null,
   "source": [
    "vae = VAE(latent_dim=128)\n",
    "dataloader = prepare_dataloader(batch_size=32)\n",
    "# VAE 학습 실행\n",
    "train_autoencoder_or_vae(\n",
    "    model=vae,\n",
    "    dataloader=dataloader,\n",
    "    model_type=\"vae\",\n",
    "    epochs=10,\n",
    "    lr=1e-3,\n",
    "    beta=1.0,\n",
    "    device='cuda'\n",
    ")"
   ],
   "id": "6efe0382e56f9055"
  },
  {
   "metadata": {},
   "cell_type": "code",
   "outputs": [],
   "execution_count": null,
   "source": [
    "from gan_trainer import train_gan\n",
    "generator = Generator(latent_dim=100)\n",
    "discriminator = Discriminator()\n",
    "dataloader = prepare_dataloader(batch_size=32)\n",
    "# GAN 학습 실행\n",
    "train_gan(\n",
    "    generator=generator,\n",
    "    discriminator=discriminator,\n",
    "    dataloader=dataloader,\n",
    "    latent_dim=100,\n",
    "    epochs=10,\n",
    "    lr=1e-4,\n",
    "    device='cuda'\n",
    ")"
   ],
   "id": "ecea0477eb2c5934"
  },
  {
   "cell_type": "code",
   "execution_count": null,
   "id": "initial_id",
   "metadata": {
    "collapsed": true
   },
   "outputs": [],
   "source": [
    "from torch.utils.data import DataLoader\n",
    "from torchvision import transforms, datasets\n",
    "from AutoEncoder import Autoencoder\n",
    "from tester import test_model\n",
    "from VAE import VAE\n",
    "from Gan import Generator\n",
    "# Autoencoder 모델 및 데이터 로더 준비\n",
    "autoencoder = Autoencoder()\n",
    "dataloader = DataLoader(datasets.FakeData(transform=transforms.ToTensor()), batch_size=8)\n",
    "\n",
    "# 테스트 실행\n",
    "test_model(autoencoder, dataloader, model_type='autoencoder', device='cuda')\n"
   ]
  },
  {
   "metadata": {},
   "cell_type": "code",
   "outputs": [],
   "execution_count": null,
   "source": [
    "vae = VAE(latent_dim=128)\n",
    "dataloader = DataLoader(datasets.FakeData(transform=transforms.ToTensor()), batch_size=8)\n",
    "\n",
    "# 테스트 실행\n",
    "test_model(vae, dataloader, model_type='vae', device='cuda')\n"
   ],
   "id": "8130e242dc4b27a8"
  },
  {
   "metadata": {},
   "cell_type": "code",
   "outputs": [],
   "execution_count": null,
   "source": [
    "generator = Generator(latent_dim=100)\n",
    "\n",
    "# 테스트 실행\n",
    "test_model(generator, dataloader=None, model_type='gan', latent_dim=100, device='cuda')\n"
   ],
   "id": "ac25bf8c11ae434e"
  }
 ],
 "metadata": {
  "kernelspec": {
   "display_name": "Python 3",
   "language": "python",
   "name": "python3"
  },
  "language_info": {
   "codemirror_mode": {
    "name": "ipython",
    "version": 2
   },
   "file_extension": ".py",
   "mimetype": "text/x-python",
   "name": "python",
   "nbconvert_exporter": "python",
   "pygments_lexer": "ipython2",
   "version": "2.7.6"
  }
 },
 "nbformat": 4,
 "nbformat_minor": 5
}
