{
 "nbformat": 4,
 "nbformat_minor": 0,
 "metadata": {
  "colab": {
   "provenance": [],
   "machine_shape": "hm",
   "gpuType": "T4",
   "authorship_tag": "ABX9TyMYdSPL7jfUU1i8eveyYxN+"
  },
  "kernelspec": {
   "name": "python3",
   "display_name": "Python 3 (ipykernel)",
   "language": "python"
  },
  "language_info": {
   "name": "python"
  },
  "accelerator": "GPU"
 },
 "cells": [
  {
   "cell_type": "code",
   "metadata": {
    "id": "ZPsyfADpMoNp",
    "executionInfo": {
     "status": "ok",
     "timestamp": 1728736997827,
     "user_tz": -540,
     "elapsed": 1445,
     "user": {
      "displayName": "JaeHyeok Ho",
      "userId": "09522757785018905826"
     }
    },
    "ExecuteTime": {
     "end_time": "2024-11-10T06:50:13.868963Z",
     "start_time": "2024-11-10T06:50:12.711373Z"
    }
   },
   "source": [
    "import numpy as np\n",
    "import pandas as pd\n",
    "import matplotlib.pyplot as plt\n",
    "from prompt_toolkit.key_binding.bindings.named_commands import self_insert\n",
    "#데이터 증강에 필요한 라이브러리\n",
    "from scipy.ndimage import median_filter, rotate, shift\n",
    "from sklearn.model_selection import train_test_split\n",
    "from sklearn.ensemble import RandomForestClassifier\n",
    "from sklearn.metrics import accuracy_score, precision_score, recall_score"
   ],
   "outputs": [],
   "execution_count": 1
  },
  {
   "metadata": {},
   "cell_type": "markdown",
   "source": "### 패딩 조져서 60,60 ->: 3600으로 만들고 kernel size = 8 stride = 4로 커널이 지나가면서 통예수치 추출 이하 생략.,"
  },
  {
   "cell_type": "code",
   "source": [
    "df = pd.read_pickle(\"/Users/unsi/Downloads/LSWMD.pkl\") \n",
    "df"
   ],
   "metadata": {
    "colab": {
     "base_uri": "https://localhost:8080/",
     "height": 423
    },
    "id": "KVv1GqlNM_en",
    "executionInfo": {
     "status": "ok",
     "timestamp": 1728737001367,
     "user_tz": -540,
     "elapsed": 976,
     "user": {
      "displayName": "JaeHyeok Ho",
      "userId": "09522757785018905826"
     }
    },
    "outputId": "fe281b75-0cb6-4e48-f7e9-4605984be061",
    "ExecuteTime": {
     "end_time": "2024-11-10T06:50:30.194879Z",
     "start_time": "2024-11-10T06:50:13.869907Z"
    }
   },
   "outputs": [
    {
     "data": {
      "text/plain": [
       "                                                 waferMap  dieSize   lotName  \\\n",
       "0       [[0, 0, 0, 0, 0, 0, 0, 0, 0, 0, 0, 0, 0, 0, 0,...   1683.0      lot1   \n",
       "1       [[0, 0, 0, 0, 0, 0, 0, 0, 0, 0, 0, 0, 0, 0, 0,...   1683.0      lot1   \n",
       "2       [[0, 0, 0, 0, 0, 0, 0, 0, 0, 0, 0, 0, 0, 0, 0,...   1683.0      lot1   \n",
       "3       [[0, 0, 0, 0, 0, 0, 0, 0, 0, 0, 0, 0, 0, 0, 0,...   1683.0      lot1   \n",
       "4       [[0, 0, 0, 0, 0, 0, 0, 0, 0, 0, 0, 0, 0, 0, 0,...   1683.0      lot1   \n",
       "...                                                   ...      ...       ...   \n",
       "811452  [[0, 0, 0, 0, 0, 0, 0, 0, 0, 0, 0, 1, 2, 1, 1,...    600.0  lot47542   \n",
       "811453  [[0, 0, 0, 0, 0, 0, 0, 0, 0, 0, 0, 2, 2, 1, 1,...    600.0  lot47542   \n",
       "811454  [[0, 0, 0, 0, 0, 0, 0, 0, 0, 0, 0, 1, 2, 1, 1,...    600.0  lot47542   \n",
       "811455  [[0, 0, 0, 0, 0, 0, 0, 0, 0, 0, 0, 1, 1, 1, 1,...    600.0  lot47543   \n",
       "811456  [[0, 0, 0, 0, 0, 0, 0, 0, 0, 0, 0, 1, 2, 1, 1,...    600.0  lot47543   \n",
       "\n",
       "        waferIndex trianTestLabel    failureType  \n",
       "0              1.0   [[Training]]       [[none]]  \n",
       "1              2.0   [[Training]]       [[none]]  \n",
       "2              3.0   [[Training]]       [[none]]  \n",
       "3              4.0   [[Training]]       [[none]]  \n",
       "4              5.0   [[Training]]       [[none]]  \n",
       "...            ...            ...            ...  \n",
       "811452        23.0       [[Test]]  [[Edge-Ring]]  \n",
       "811453        24.0       [[Test]]   [[Edge-Loc]]  \n",
       "811454        25.0       [[Test]]  [[Edge-Ring]]  \n",
       "811455         1.0             []             []  \n",
       "811456         2.0             []             []  \n",
       "\n",
       "[811457 rows x 6 columns]"
      ],
      "text/html": [
       "<div>\n",
       "<style scoped>\n",
       "    .dataframe tbody tr th:only-of-type {\n",
       "        vertical-align: middle;\n",
       "    }\n",
       "\n",
       "    .dataframe tbody tr th {\n",
       "        vertical-align: top;\n",
       "    }\n",
       "\n",
       "    .dataframe thead th {\n",
       "        text-align: right;\n",
       "    }\n",
       "</style>\n",
       "<table border=\"1\" class=\"dataframe\">\n",
       "  <thead>\n",
       "    <tr style=\"text-align: right;\">\n",
       "      <th></th>\n",
       "      <th>waferMap</th>\n",
       "      <th>dieSize</th>\n",
       "      <th>lotName</th>\n",
       "      <th>waferIndex</th>\n",
       "      <th>trianTestLabel</th>\n",
       "      <th>failureType</th>\n",
       "    </tr>\n",
       "  </thead>\n",
       "  <tbody>\n",
       "    <tr>\n",
       "      <th>0</th>\n",
       "      <td>[[0, 0, 0, 0, 0, 0, 0, 0, 0, 0, 0, 0, 0, 0, 0,...</td>\n",
       "      <td>1683.0</td>\n",
       "      <td>lot1</td>\n",
       "      <td>1.0</td>\n",
       "      <td>[[Training]]</td>\n",
       "      <td>[[none]]</td>\n",
       "    </tr>\n",
       "    <tr>\n",
       "      <th>1</th>\n",
       "      <td>[[0, 0, 0, 0, 0, 0, 0, 0, 0, 0, 0, 0, 0, 0, 0,...</td>\n",
       "      <td>1683.0</td>\n",
       "      <td>lot1</td>\n",
       "      <td>2.0</td>\n",
       "      <td>[[Training]]</td>\n",
       "      <td>[[none]]</td>\n",
       "    </tr>\n",
       "    <tr>\n",
       "      <th>2</th>\n",
       "      <td>[[0, 0, 0, 0, 0, 0, 0, 0, 0, 0, 0, 0, 0, 0, 0,...</td>\n",
       "      <td>1683.0</td>\n",
       "      <td>lot1</td>\n",
       "      <td>3.0</td>\n",
       "      <td>[[Training]]</td>\n",
       "      <td>[[none]]</td>\n",
       "    </tr>\n",
       "    <tr>\n",
       "      <th>3</th>\n",
       "      <td>[[0, 0, 0, 0, 0, 0, 0, 0, 0, 0, 0, 0, 0, 0, 0,...</td>\n",
       "      <td>1683.0</td>\n",
       "      <td>lot1</td>\n",
       "      <td>4.0</td>\n",
       "      <td>[[Training]]</td>\n",
       "      <td>[[none]]</td>\n",
       "    </tr>\n",
       "    <tr>\n",
       "      <th>4</th>\n",
       "      <td>[[0, 0, 0, 0, 0, 0, 0, 0, 0, 0, 0, 0, 0, 0, 0,...</td>\n",
       "      <td>1683.0</td>\n",
       "      <td>lot1</td>\n",
       "      <td>5.0</td>\n",
       "      <td>[[Training]]</td>\n",
       "      <td>[[none]]</td>\n",
       "    </tr>\n",
       "    <tr>\n",
       "      <th>...</th>\n",
       "      <td>...</td>\n",
       "      <td>...</td>\n",
       "      <td>...</td>\n",
       "      <td>...</td>\n",
       "      <td>...</td>\n",
       "      <td>...</td>\n",
       "    </tr>\n",
       "    <tr>\n",
       "      <th>811452</th>\n",
       "      <td>[[0, 0, 0, 0, 0, 0, 0, 0, 0, 0, 0, 1, 2, 1, 1,...</td>\n",
       "      <td>600.0</td>\n",
       "      <td>lot47542</td>\n",
       "      <td>23.0</td>\n",
       "      <td>[[Test]]</td>\n",
       "      <td>[[Edge-Ring]]</td>\n",
       "    </tr>\n",
       "    <tr>\n",
       "      <th>811453</th>\n",
       "      <td>[[0, 0, 0, 0, 0, 0, 0, 0, 0, 0, 0, 2, 2, 1, 1,...</td>\n",
       "      <td>600.0</td>\n",
       "      <td>lot47542</td>\n",
       "      <td>24.0</td>\n",
       "      <td>[[Test]]</td>\n",
       "      <td>[[Edge-Loc]]</td>\n",
       "    </tr>\n",
       "    <tr>\n",
       "      <th>811454</th>\n",
       "      <td>[[0, 0, 0, 0, 0, 0, 0, 0, 0, 0, 0, 1, 2, 1, 1,...</td>\n",
       "      <td>600.0</td>\n",
       "      <td>lot47542</td>\n",
       "      <td>25.0</td>\n",
       "      <td>[[Test]]</td>\n",
       "      <td>[[Edge-Ring]]</td>\n",
       "    </tr>\n",
       "    <tr>\n",
       "      <th>811455</th>\n",
       "      <td>[[0, 0, 0, 0, 0, 0, 0, 0, 0, 0, 0, 1, 1, 1, 1,...</td>\n",
       "      <td>600.0</td>\n",
       "      <td>lot47543</td>\n",
       "      <td>1.0</td>\n",
       "      <td>[]</td>\n",
       "      <td>[]</td>\n",
       "    </tr>\n",
       "    <tr>\n",
       "      <th>811456</th>\n",
       "      <td>[[0, 0, 0, 0, 0, 0, 0, 0, 0, 0, 0, 1, 2, 1, 1,...</td>\n",
       "      <td>600.0</td>\n",
       "      <td>lot47543</td>\n",
       "      <td>2.0</td>\n",
       "      <td>[]</td>\n",
       "      <td>[]</td>\n",
       "    </tr>\n",
       "  </tbody>\n",
       "</table>\n",
       "<p>811457 rows × 6 columns</p>\n",
       "</div>"
      ]
     },
     "execution_count": 2,
     "metadata": {},
     "output_type": "execute_result"
    }
   ],
   "execution_count": 2
  },
  {
   "cell_type": "code",
   "source": "df['waferMap'][0].shape",
   "metadata": {
    "colab": {
     "base_uri": "https://localhost:8080/"
    },
    "id": "pSkGFdQ5M_cB",
    "executionInfo": {
     "status": "ok",
     "timestamp": 1728737001367,
     "user_tz": -540,
     "elapsed": 11,
     "user": {
      "displayName": "JaeHyeok Ho",
      "userId": "09522757785018905826"
     }
    },
    "outputId": "7195338f-2f40-4ee3-bdc4-6ef97454e815",
    "ExecuteTime": {
     "end_time": "2024-11-10T06:50:30.197614Z",
     "start_time": "2024-11-10T06:50:30.195536Z"
    }
   },
   "outputs": [
    {
     "data": {
      "text/plain": [
       "(45, 48)"
      ]
     },
     "execution_count": 3,
     "metadata": {},
     "output_type": "execute_result"
    }
   ],
   "execution_count": 3
  },
  {
   "cell_type": "code",
   "source": [
    "# failureType 열의 데이터 유형과 샘플 값 확인\n",
    "print(df['failureType'].head(50))  # 상위 50개의 데이터를 확인\n"
   ],
   "metadata": {
    "colab": {
     "base_uri": "https://localhost:8080/"
    },
    "id": "uq2Ijm3ZM_Zc",
    "executionInfo": {
     "status": "ok",
     "timestamp": 1728737001367,
     "user_tz": -540,
     "elapsed": 9,
     "user": {
      "displayName": "JaeHyeok Ho",
      "userId": "09522757785018905826"
     }
    },
    "outputId": "71f6321d-1496-47f8-bbe8-27182d288fe6",
    "ExecuteTime": {
     "end_time": "2024-11-10T06:50:30.203932Z",
     "start_time": "2024-11-10T06:50:30.198756Z"
    }
   },
   "outputs": [
    {
     "name": "stdout",
     "output_type": "stream",
     "text": [
      "0         [[none]]\n",
      "1         [[none]]\n",
      "2         [[none]]\n",
      "3         [[none]]\n",
      "4         [[none]]\n",
      "5         [[none]]\n",
      "6         [[none]]\n",
      "7         [[none]]\n",
      "8         [[none]]\n",
      "9         [[none]]\n",
      "10        [[none]]\n",
      "11        [[none]]\n",
      "12        [[none]]\n",
      "13        [[none]]\n",
      "14        [[none]]\n",
      "15        [[none]]\n",
      "16        [[none]]\n",
      "17        [[none]]\n",
      "18        [[none]]\n",
      "19         [[Loc]]\n",
      "20        [[none]]\n",
      "21        [[none]]\n",
      "22        [[none]]\n",
      "23        [[none]]\n",
      "24        [[none]]\n",
      "25        [[none]]\n",
      "26        [[none]]\n",
      "27        [[none]]\n",
      "28        [[none]]\n",
      "29        [[none]]\n",
      "30        [[none]]\n",
      "31        [[none]]\n",
      "32        [[none]]\n",
      "33        [[none]]\n",
      "34        [[none]]\n",
      "35              []\n",
      "36    [[Edge-Loc]]\n",
      "37    [[Edge-Loc]]\n",
      "38    [[Edge-Loc]]\n",
      "39    [[Edge-Loc]]\n",
      "40         [[Loc]]\n",
      "41    [[Edge-Loc]]\n",
      "42    [[Edge-Loc]]\n",
      "43    [[Edge-Loc]]\n",
      "44      [[Center]]\n",
      "45              []\n",
      "46        [[none]]\n",
      "47         [[Loc]]\n",
      "48    [[Edge-Loc]]\n",
      "49      [[Center]]\n",
      "Name: failureType, dtype: object\n"
     ]
    }
   ],
   "execution_count": 4
  },
  {
   "metadata": {
    "ExecuteTime": {
     "end_time": "2024-11-10T06:50:30.621669Z",
     "start_time": "2024-11-10T06:50:30.204511Z"
    }
   },
   "cell_type": "code",
   "source": [
    "passed = df[df['failureType'].apply(lambda x: x.shape == (0, 0) or x[0][0] == 'none')]\n",
    "passed['failureType'] = 8\n",
    "eda_pass = passed\n",
    "passed = passed.sample(n=100000, random_state=42)\n",
    "faild = df[df['failureType'].apply(lambda x: len(x) > 0 and len(x[0]) > 0 and x[0][0] != 'none')]\n",
    "faild\n",
    "class2idx = {\n",
    "    'Loc': 0,\n",
    "    'Edge-Loc': 1,\n",
    "    'Center': 2,\n",
    "    'Edge-Ring': 3,\n",
    "    'Scratch': 4,\n",
    "    'Random': 5,\n",
    "    'Near-full': 6,\n",
    "    'Donut': 7,\n",
    "    'pass': 8\n",
    "}\n",
    "\n",
    "#failureType 인코딩 \n",
    "faild['failureType'] = faild['failureType'].apply(lambda x: class2idx.get(x[0][0], -1))\n",
    "\n",
    "# 결과 확인\n",
    "faild\n",
    "df = pd.concat([faild, passed])\n",
    "df"
   ],
   "outputs": [
    {
     "name": "stderr",
     "output_type": "stream",
     "text": [
      "/var/folders/9d/lcchyqrx6jq_hz6pm4d1j7z80000gn/T/ipykernel_83868/1353984034.py:2: SettingWithCopyWarning: \n",
      "A value is trying to be set on a copy of a slice from a DataFrame.\n",
      "Try using .loc[row_indexer,col_indexer] = value instead\n",
      "\n",
      "See the caveats in the documentation: https://pandas.pydata.org/pandas-docs/stable/user_guide/indexing.html#returning-a-view-versus-a-copy\n",
      "  passed['failureType'] = 8\n",
      "/var/folders/9d/lcchyqrx6jq_hz6pm4d1j7z80000gn/T/ipykernel_83868/1353984034.py:20: SettingWithCopyWarning: \n",
      "A value is trying to be set on a copy of a slice from a DataFrame.\n",
      "Try using .loc[row_indexer,col_indexer] = value instead\n",
      "\n",
      "See the caveats in the documentation: https://pandas.pydata.org/pandas-docs/stable/user_guide/indexing.html#returning-a-view-versus-a-copy\n",
      "  faild['failureType'] = faild['failureType'].apply(lambda x: class2idx.get(x[0][0], -1))\n"
     ]
    },
    {
     "data": {
      "text/plain": [
       "                                                 waferMap  dieSize   lotName  \\\n",
       "19      [[0, 0, 0, 0, 0, 0, 0, 0, 0, 0, 0, 0, 0, 0, 0,...   1683.0      lot1   \n",
       "36      [[0, 0, 0, 0, 0, 0, 0, 0, 0, 0, 0, 0, 0, 0, 0,...   2460.0      lot2   \n",
       "37      [[0, 0, 0, 0, 0, 0, 0, 0, 0, 0, 0, 0, 0, 0, 0,...   2460.0      lot2   \n",
       "38      [[0, 0, 0, 0, 0, 0, 0, 0, 0, 0, 0, 0, 0, 0, 0,...   2460.0      lot2   \n",
       "39      [[0, 0, 0, 0, 0, 0, 0, 0, 0, 0, 0, 0, 0, 0, 0,...   2460.0      lot2   \n",
       "...                                                   ...      ...       ...   \n",
       "334843  [[0, 0, 0, 0, 0, 0, 0, 0, 0, 0, 0, 0, 0, 0, 0,...   5532.0  lot20174   \n",
       "609203  [[0, 0, 0, 0, 0, 0, 0, 0, 0, 0, 0, 0, 2, 2, 1,...    710.0  lot38319   \n",
       "244074  [[0, 0, 0, 0, 0, 0, 0, 0, 0, 0, 0, 0, 2, 1, 2,...    648.0  lot15275   \n",
       "379250  [[0, 0, 0, 0, 0, 0, 0, 0, 0, 0, 0, 0, 0, 0, 0,...   2393.0  lot22590   \n",
       "57821   [[0, 0, 0, 0, 0, 0, 0, 0, 0, 0, 0, 0, 0, 0, 0,...   1253.0   lot4621   \n",
       "\n",
       "        waferIndex trianTestLabel  failureType  \n",
       "19            20.0   [[Training]]            0  \n",
       "36            12.0   [[Training]]            1  \n",
       "37            13.0   [[Training]]            1  \n",
       "38            14.0   [[Training]]            1  \n",
       "39            15.0   [[Training]]            1  \n",
       "...            ...            ...          ...  \n",
       "334843         4.0             []            8  \n",
       "609203        13.0             []            8  \n",
       "244074        11.0             []            8  \n",
       "379250        20.0             []            8  \n",
       "57821         25.0             []            8  \n",
       "\n",
       "[125519 rows x 6 columns]"
      ],
      "text/html": [
       "<div>\n",
       "<style scoped>\n",
       "    .dataframe tbody tr th:only-of-type {\n",
       "        vertical-align: middle;\n",
       "    }\n",
       "\n",
       "    .dataframe tbody tr th {\n",
       "        vertical-align: top;\n",
       "    }\n",
       "\n",
       "    .dataframe thead th {\n",
       "        text-align: right;\n",
       "    }\n",
       "</style>\n",
       "<table border=\"1\" class=\"dataframe\">\n",
       "  <thead>\n",
       "    <tr style=\"text-align: right;\">\n",
       "      <th></th>\n",
       "      <th>waferMap</th>\n",
       "      <th>dieSize</th>\n",
       "      <th>lotName</th>\n",
       "      <th>waferIndex</th>\n",
       "      <th>trianTestLabel</th>\n",
       "      <th>failureType</th>\n",
       "    </tr>\n",
       "  </thead>\n",
       "  <tbody>\n",
       "    <tr>\n",
       "      <th>19</th>\n",
       "      <td>[[0, 0, 0, 0, 0, 0, 0, 0, 0, 0, 0, 0, 0, 0, 0,...</td>\n",
       "      <td>1683.0</td>\n",
       "      <td>lot1</td>\n",
       "      <td>20.0</td>\n",
       "      <td>[[Training]]</td>\n",
       "      <td>0</td>\n",
       "    </tr>\n",
       "    <tr>\n",
       "      <th>36</th>\n",
       "      <td>[[0, 0, 0, 0, 0, 0, 0, 0, 0, 0, 0, 0, 0, 0, 0,...</td>\n",
       "      <td>2460.0</td>\n",
       "      <td>lot2</td>\n",
       "      <td>12.0</td>\n",
       "      <td>[[Training]]</td>\n",
       "      <td>1</td>\n",
       "    </tr>\n",
       "    <tr>\n",
       "      <th>37</th>\n",
       "      <td>[[0, 0, 0, 0, 0, 0, 0, 0, 0, 0, 0, 0, 0, 0, 0,...</td>\n",
       "      <td>2460.0</td>\n",
       "      <td>lot2</td>\n",
       "      <td>13.0</td>\n",
       "      <td>[[Training]]</td>\n",
       "      <td>1</td>\n",
       "    </tr>\n",
       "    <tr>\n",
       "      <th>38</th>\n",
       "      <td>[[0, 0, 0, 0, 0, 0, 0, 0, 0, 0, 0, 0, 0, 0, 0,...</td>\n",
       "      <td>2460.0</td>\n",
       "      <td>lot2</td>\n",
       "      <td>14.0</td>\n",
       "      <td>[[Training]]</td>\n",
       "      <td>1</td>\n",
       "    </tr>\n",
       "    <tr>\n",
       "      <th>39</th>\n",
       "      <td>[[0, 0, 0, 0, 0, 0, 0, 0, 0, 0, 0, 0, 0, 0, 0,...</td>\n",
       "      <td>2460.0</td>\n",
       "      <td>lot2</td>\n",
       "      <td>15.0</td>\n",
       "      <td>[[Training]]</td>\n",
       "      <td>1</td>\n",
       "    </tr>\n",
       "    <tr>\n",
       "      <th>...</th>\n",
       "      <td>...</td>\n",
       "      <td>...</td>\n",
       "      <td>...</td>\n",
       "      <td>...</td>\n",
       "      <td>...</td>\n",
       "      <td>...</td>\n",
       "    </tr>\n",
       "    <tr>\n",
       "      <th>334843</th>\n",
       "      <td>[[0, 0, 0, 0, 0, 0, 0, 0, 0, 0, 0, 0, 0, 0, 0,...</td>\n",
       "      <td>5532.0</td>\n",
       "      <td>lot20174</td>\n",
       "      <td>4.0</td>\n",
       "      <td>[]</td>\n",
       "      <td>8</td>\n",
       "    </tr>\n",
       "    <tr>\n",
       "      <th>609203</th>\n",
       "      <td>[[0, 0, 0, 0, 0, 0, 0, 0, 0, 0, 0, 0, 2, 2, 1,...</td>\n",
       "      <td>710.0</td>\n",
       "      <td>lot38319</td>\n",
       "      <td>13.0</td>\n",
       "      <td>[]</td>\n",
       "      <td>8</td>\n",
       "    </tr>\n",
       "    <tr>\n",
       "      <th>244074</th>\n",
       "      <td>[[0, 0, 0, 0, 0, 0, 0, 0, 0, 0, 0, 0, 2, 1, 2,...</td>\n",
       "      <td>648.0</td>\n",
       "      <td>lot15275</td>\n",
       "      <td>11.0</td>\n",
       "      <td>[]</td>\n",
       "      <td>8</td>\n",
       "    </tr>\n",
       "    <tr>\n",
       "      <th>379250</th>\n",
       "      <td>[[0, 0, 0, 0, 0, 0, 0, 0, 0, 0, 0, 0, 0, 0, 0,...</td>\n",
       "      <td>2393.0</td>\n",
       "      <td>lot22590</td>\n",
       "      <td>20.0</td>\n",
       "      <td>[]</td>\n",
       "      <td>8</td>\n",
       "    </tr>\n",
       "    <tr>\n",
       "      <th>57821</th>\n",
       "      <td>[[0, 0, 0, 0, 0, 0, 0, 0, 0, 0, 0, 0, 0, 0, 0,...</td>\n",
       "      <td>1253.0</td>\n",
       "      <td>lot4621</td>\n",
       "      <td>25.0</td>\n",
       "      <td>[]</td>\n",
       "      <td>8</td>\n",
       "    </tr>\n",
       "  </tbody>\n",
       "</table>\n",
       "<p>125519 rows × 6 columns</p>\n",
       "</div>"
      ]
     },
     "execution_count": 5,
     "metadata": {},
     "output_type": "execute_result"
    }
   ],
   "execution_count": 5
  },
  {
   "cell_type": "code",
   "source": [
    "# failureType의 고유 값과 개수 세기\n",
    "failure_counts = df['failureType'].value_counts()\n",
    "\n",
    "print(failure_counts)"
   ],
   "metadata": {
    "colab": {
     "base_uri": "https://localhost:8080/"
    },
    "id": "oG5nNG2bM_Pj",
    "executionInfo": {
     "status": "ok",
     "timestamp": 1728737010477,
     "user_tz": -540,
     "elapsed": 500,
     "user": {
      "displayName": "JaeHyeok Ho",
      "userId": "09522757785018905826"
     }
    },
    "outputId": "6c04c21f-aa19-430e-9ca3-289427db1f71",
    "ExecuteTime": {
     "end_time": "2024-11-10T06:50:30.630403Z",
     "start_time": "2024-11-10T06:50:30.622530Z"
    }
   },
   "outputs": [
    {
     "name": "stdout",
     "output_type": "stream",
     "text": [
      "failureType\n",
      "8    100000\n",
      "3      9680\n",
      "1      5189\n",
      "2      4294\n",
      "0      3593\n",
      "4      1193\n",
      "5       866\n",
      "7       555\n",
      "6       149\n",
      "Name: count, dtype: int64\n"
     ]
    }
   ],
   "execution_count": 6
  },
  {
   "cell_type": "code",
   "source": [
    "features = df['waferMap']\n",
    "targets = df['failureType'].values\n",
    "df = pd.concat([faild, passed])"
   ],
   "metadata": {
    "id": "4KFiGUk6QWw4",
    "executionInfo": {
     "status": "ok",
     "timestamp": 1728737216425,
     "user_tz": -540,
     "elapsed": 386,
     "user": {
      "displayName": "JaeHyeok Ho",
      "userId": "09522757785018905826"
     }
    },
    "ExecuteTime": {
     "end_time": "2024-11-10T06:50:30.640134Z",
     "start_time": "2024-11-10T06:50:30.632342Z"
    }
   },
   "outputs": [],
   "execution_count": 7
  },
  {
   "metadata": {
    "ExecuteTime": {
     "end_time": "2024-11-10T06:50:30.643904Z",
     "start_time": "2024-11-10T06:50:30.640831Z"
    }
   },
   "cell_type": "code",
   "source": "features.shape",
   "outputs": [
    {
     "data": {
      "text/plain": [
       "(125519,)"
      ]
     },
     "execution_count": 8,
     "metadata": {},
     "output_type": "execute_result"
    }
   ],
   "execution_count": 8
  },
  {
   "metadata": {
    "ExecuteTime": {
     "end_time": "2024-11-10T06:50:39.238972Z",
     "start_time": "2024-11-10T06:50:30.644427Z"
    }
   },
   "cell_type": "code",
   "source": [
    "def apply_median_filter(wafer_map, size=3):\n",
    "    return median_filter(wafer_map, size=size)\n",
    "features = features.apply(lambda x: apply_median_filter(x, size=3))"
   ],
   "outputs": [],
   "execution_count": 9
  },
  {
   "metadata": {
    "ExecuteTime": {
     "end_time": "2024-11-10T06:50:39.328376Z",
     "start_time": "2024-11-10T06:50:39.242362Z"
    }
   },
   "cell_type": "code",
   "source": "df",
   "outputs": [
    {
     "data": {
      "text/plain": [
       "                                                 waferMap  dieSize   lotName  \\\n",
       "19      [[0, 0, 0, 0, 0, 0, 0, 0, 0, 0, 0, 0, 0, 0, 0,...   1683.0      lot1   \n",
       "36      [[0, 0, 0, 0, 0, 0, 0, 0, 0, 0, 0, 0, 0, 0, 0,...   2460.0      lot2   \n",
       "37      [[0, 0, 0, 0, 0, 0, 0, 0, 0, 0, 0, 0, 0, 0, 0,...   2460.0      lot2   \n",
       "38      [[0, 0, 0, 0, 0, 0, 0, 0, 0, 0, 0, 0, 0, 0, 0,...   2460.0      lot2   \n",
       "39      [[0, 0, 0, 0, 0, 0, 0, 0, 0, 0, 0, 0, 0, 0, 0,...   2460.0      lot2   \n",
       "...                                                   ...      ...       ...   \n",
       "334843  [[0, 0, 0, 0, 0, 0, 0, 0, 0, 0, 0, 0, 0, 0, 0,...   5532.0  lot20174   \n",
       "609203  [[0, 0, 0, 0, 0, 0, 0, 0, 0, 0, 0, 0, 2, 2, 1,...    710.0  lot38319   \n",
       "244074  [[0, 0, 0, 0, 0, 0, 0, 0, 0, 0, 0, 0, 2, 1, 2,...    648.0  lot15275   \n",
       "379250  [[0, 0, 0, 0, 0, 0, 0, 0, 0, 0, 0, 0, 0, 0, 0,...   2393.0  lot22590   \n",
       "57821   [[0, 0, 0, 0, 0, 0, 0, 0, 0, 0, 0, 0, 0, 0, 0,...   1253.0   lot4621   \n",
       "\n",
       "        waferIndex trianTestLabel  failureType  \n",
       "19            20.0   [[Training]]            0  \n",
       "36            12.0   [[Training]]            1  \n",
       "37            13.0   [[Training]]            1  \n",
       "38            14.0   [[Training]]            1  \n",
       "39            15.0   [[Training]]            1  \n",
       "...            ...            ...          ...  \n",
       "334843         4.0             []            8  \n",
       "609203        13.0             []            8  \n",
       "244074        11.0             []            8  \n",
       "379250        20.0             []            8  \n",
       "57821         25.0             []            8  \n",
       "\n",
       "[125519 rows x 6 columns]"
      ],
      "text/html": [
       "<div>\n",
       "<style scoped>\n",
       "    .dataframe tbody tr th:only-of-type {\n",
       "        vertical-align: middle;\n",
       "    }\n",
       "\n",
       "    .dataframe tbody tr th {\n",
       "        vertical-align: top;\n",
       "    }\n",
       "\n",
       "    .dataframe thead th {\n",
       "        text-align: right;\n",
       "    }\n",
       "</style>\n",
       "<table border=\"1\" class=\"dataframe\">\n",
       "  <thead>\n",
       "    <tr style=\"text-align: right;\">\n",
       "      <th></th>\n",
       "      <th>waferMap</th>\n",
       "      <th>dieSize</th>\n",
       "      <th>lotName</th>\n",
       "      <th>waferIndex</th>\n",
       "      <th>trianTestLabel</th>\n",
       "      <th>failureType</th>\n",
       "    </tr>\n",
       "  </thead>\n",
       "  <tbody>\n",
       "    <tr>\n",
       "      <th>19</th>\n",
       "      <td>[[0, 0, 0, 0, 0, 0, 0, 0, 0, 0, 0, 0, 0, 0, 0,...</td>\n",
       "      <td>1683.0</td>\n",
       "      <td>lot1</td>\n",
       "      <td>20.0</td>\n",
       "      <td>[[Training]]</td>\n",
       "      <td>0</td>\n",
       "    </tr>\n",
       "    <tr>\n",
       "      <th>36</th>\n",
       "      <td>[[0, 0, 0, 0, 0, 0, 0, 0, 0, 0, 0, 0, 0, 0, 0,...</td>\n",
       "      <td>2460.0</td>\n",
       "      <td>lot2</td>\n",
       "      <td>12.0</td>\n",
       "      <td>[[Training]]</td>\n",
       "      <td>1</td>\n",
       "    </tr>\n",
       "    <tr>\n",
       "      <th>37</th>\n",
       "      <td>[[0, 0, 0, 0, 0, 0, 0, 0, 0, 0, 0, 0, 0, 0, 0,...</td>\n",
       "      <td>2460.0</td>\n",
       "      <td>lot2</td>\n",
       "      <td>13.0</td>\n",
       "      <td>[[Training]]</td>\n",
       "      <td>1</td>\n",
       "    </tr>\n",
       "    <tr>\n",
       "      <th>38</th>\n",
       "      <td>[[0, 0, 0, 0, 0, 0, 0, 0, 0, 0, 0, 0, 0, 0, 0,...</td>\n",
       "      <td>2460.0</td>\n",
       "      <td>lot2</td>\n",
       "      <td>14.0</td>\n",
       "      <td>[[Training]]</td>\n",
       "      <td>1</td>\n",
       "    </tr>\n",
       "    <tr>\n",
       "      <th>39</th>\n",
       "      <td>[[0, 0, 0, 0, 0, 0, 0, 0, 0, 0, 0, 0, 0, 0, 0,...</td>\n",
       "      <td>2460.0</td>\n",
       "      <td>lot2</td>\n",
       "      <td>15.0</td>\n",
       "      <td>[[Training]]</td>\n",
       "      <td>1</td>\n",
       "    </tr>\n",
       "    <tr>\n",
       "      <th>...</th>\n",
       "      <td>...</td>\n",
       "      <td>...</td>\n",
       "      <td>...</td>\n",
       "      <td>...</td>\n",
       "      <td>...</td>\n",
       "      <td>...</td>\n",
       "    </tr>\n",
       "    <tr>\n",
       "      <th>334843</th>\n",
       "      <td>[[0, 0, 0, 0, 0, 0, 0, 0, 0, 0, 0, 0, 0, 0, 0,...</td>\n",
       "      <td>5532.0</td>\n",
       "      <td>lot20174</td>\n",
       "      <td>4.0</td>\n",
       "      <td>[]</td>\n",
       "      <td>8</td>\n",
       "    </tr>\n",
       "    <tr>\n",
       "      <th>609203</th>\n",
       "      <td>[[0, 0, 0, 0, 0, 0, 0, 0, 0, 0, 0, 0, 2, 2, 1,...</td>\n",
       "      <td>710.0</td>\n",
       "      <td>lot38319</td>\n",
       "      <td>13.0</td>\n",
       "      <td>[]</td>\n",
       "      <td>8</td>\n",
       "    </tr>\n",
       "    <tr>\n",
       "      <th>244074</th>\n",
       "      <td>[[0, 0, 0, 0, 0, 0, 0, 0, 0, 0, 0, 0, 2, 1, 2,...</td>\n",
       "      <td>648.0</td>\n",
       "      <td>lot15275</td>\n",
       "      <td>11.0</td>\n",
       "      <td>[]</td>\n",
       "      <td>8</td>\n",
       "    </tr>\n",
       "    <tr>\n",
       "      <th>379250</th>\n",
       "      <td>[[0, 0, 0, 0, 0, 0, 0, 0, 0, 0, 0, 0, 0, 0, 0,...</td>\n",
       "      <td>2393.0</td>\n",
       "      <td>lot22590</td>\n",
       "      <td>20.0</td>\n",
       "      <td>[]</td>\n",
       "      <td>8</td>\n",
       "    </tr>\n",
       "    <tr>\n",
       "      <th>57821</th>\n",
       "      <td>[[0, 0, 0, 0, 0, 0, 0, 0, 0, 0, 0, 0, 0, 0, 0,...</td>\n",
       "      <td>1253.0</td>\n",
       "      <td>lot4621</td>\n",
       "      <td>25.0</td>\n",
       "      <td>[]</td>\n",
       "      <td>8</td>\n",
       "    </tr>\n",
       "  </tbody>\n",
       "</table>\n",
       "<p>125519 rows × 6 columns</p>\n",
       "</div>"
      ]
     },
     "execution_count": 10,
     "metadata": {},
     "output_type": "execute_result"
    }
   ],
   "execution_count": 10
  },
  {
   "metadata": {
    "ExecuteTime": {
     "end_time": "2024-11-10T06:50:39.360194Z",
     "start_time": "2024-11-10T06:50:39.328973Z"
    }
   },
   "cell_type": "code",
   "source": [
    "import numpy as np\n",
    "import pandas as pd\n",
    "from sklearn.model_selection import train_test_split\n",
    "\n",
    "# 결함 유형 8을 새로운 라벨 7로 변환 (필요할 경우)\n",
    "\n",
    "\n",
    "# 데이터 분할 (train, test split)\n",
    "X_train, X_test, y_train, y_test = train_test_split(features, targets, stratify=targets, random_state=123, test_size=0.2)\n",
    "\n",
    "print(f\"훈련 데이터 수: {X_train.shape[0]}, 테스트 데이터 수: {X_test.shape[0]}\")"
   ],
   "outputs": [
    {
     "name": "stdout",
     "output_type": "stream",
     "text": [
      "훈련 데이터 수: 100415, 테스트 데이터 수: 25104\n"
     ]
    }
   ],
   "execution_count": 11
  },
  {
   "metadata": {
    "ExecuteTime": {
     "end_time": "2024-11-10T06:50:39.363008Z",
     "start_time": "2024-11-10T06:50:39.360886Z"
    }
   },
   "cell_type": "code",
   "source": "X_test.shape, y_test.shape",
   "outputs": [
    {
     "data": {
      "text/plain": [
       "((25104,), (25104,))"
      ]
     },
     "execution_count": 12,
     "metadata": {},
     "output_type": "execute_result"
    }
   ],
   "execution_count": 12
  },
  {
   "metadata": {
    "ExecuteTime": {
     "end_time": "2024-11-10T06:50:39.365502Z",
     "start_time": "2024-11-10T06:50:39.363506Z"
    }
   },
   "cell_type": "code",
   "source": "X_test.shape, y_test.shape",
   "outputs": [
    {
     "data": {
      "text/plain": [
       "((25104,), (25104,))"
      ]
     },
     "execution_count": 13,
     "metadata": {},
     "output_type": "execute_result"
    }
   ],
   "execution_count": 13
  },
  {
   "metadata": {
    "ExecuteTime": {
     "end_time": "2024-11-10T06:50:39.367574Z",
     "start_time": "2024-11-10T06:50:39.366066Z"
    }
   },
   "cell_type": "code",
   "source": [
    "X_train_no_aug = X_train\n",
    "y_train_no_aug = y_train"
   ],
   "outputs": [],
   "execution_count": 14
  },
  {
   "metadata": {
    "ExecuteTime": {
     "end_time": "2024-11-10T06:50:39.369286Z",
     "start_time": "2024-11-10T06:50:39.367987Z"
    }
   },
   "cell_type": "code",
   "source": "X_train_no_aug = X_train_no_aug.values",
   "outputs": [],
   "execution_count": 15
  },
  {
   "cell_type": "code",
   "source": [
    "import numpy as np\n",
    "\n",
    "# 데이터 증강 함수 (Train 데이터만 증강)\n",
    "def augment_data(wafer_maps, targets):\n",
    "    augmented_maps = []\n",
    "    augmented_targets = []\n",
    "    \n",
    "    # 원본 웨이퍼 맵의 크기 확인 (첫 번째 맵을 기준으로)\n",
    "    original_shape = wafer_maps[0].shape\n",
    "\n",
    "    for wafer_map, target in zip(wafer_maps, targets):\n",
    "        # 원본 데이터 추가 (리사이즈 없이 그대로)\n",
    "        augmented_maps.append(pad_or_crop(wafer_map, original_shape))  # 원본 데이터도 일관된 크기로 추가\n",
    "        augmented_targets.append(target)\n",
    "\n",
    "        # 결함 있는 웨이퍼만 증강 (라벨 8 제외)\n",
    "        if target != 8:\n",
    "            # 90도 회전\n",
    "            rotated_90 = np.rot90(wafer_map, k=-1)\n",
    "            rotated_180 = np.rot90(wafer_map, k=2)\n",
    "            rotated_270 = np.rot90(wafer_map, k=1)\n",
    "\n",
    "            # 상하 및 좌우 뒤집기\n",
    "            flipped_vertical = np.flip(wafer_map, axis=0)\n",
    "            flipped_horizontal = np.flip(wafer_map, axis=1)\n",
    "\n",
    "            # 회전 및 뒤집기 후 동일한 크기 유지 확인 및 강제 조정\n",
    "            augmented_maps.append(pad_or_crop(rotated_90, original_shape))\n",
    "            augmented_targets.append(target)\n",
    "\n",
    "            augmented_maps.append(pad_or_crop(rotated_180, original_shape))\n",
    "            augmented_targets.append(target)\n",
    "\n",
    "            augmented_maps.append(pad_or_crop(rotated_270, original_shape))\n",
    "            augmented_targets.append(target)\n",
    "\n",
    "            augmented_maps.append(pad_or_crop(flipped_vertical, original_shape))\n",
    "            augmented_targets.append(target)\n",
    "\n",
    "            augmented_maps.append(pad_or_crop(flipped_horizontal, original_shape))\n",
    "            augmented_targets.append(target)\n",
    "\n",
    "    # 웨이퍼 맵의 모양이 모두 같은지 확인 및 배열화\n",
    "    augmented_maps = np.array([np.array(wafer, dtype=np.float32) for wafer in augmented_maps])\n",
    "    \n",
    "    return augmented_maps, np.array(augmented_targets)\n",
    "\n",
    "def pad_or_crop(image, target_shape):\n",
    "    \"\"\"\n",
    "    이미지의 크기가 target_shape와 동일하지 않은 경우, 잘라내거나 패딩을 추가하여 동일한 크기로 만듭니다.\n",
    "    \"\"\"\n",
    "    current_shape = image.shape\n",
    "    padded_image = np.zeros(target_shape, dtype=image.dtype)\n",
    "\n",
    "    # 이미지의 크기가 목표 크기보다 작다면, 중앙에 위치하도록 패딩\n",
    "    padded_image[:min(current_shape[0], target_shape[0]), :min(current_shape[1], target_shape[1])] = \\\n",
    "        image[:min(current_shape[0], target_shape[0]), :min(current_shape[1], target_shape[1])]\n",
    "\n",
    "    return padded_image\n",
    "\n",
    "# 증강된 훈련 데이터\n",
    "X_train_aug, y_train_aug = augment_data(X_train_no_aug, y_train_no_aug)\n",
    "\n",
    "print(f\"증강된 훈련 데이터의 형태: {X_train_aug.shape}\")\n"
   ],
   "metadata": {
    "colab": {
     "base_uri": "https://localhost:8080/"
    },
    "id": "dZWNAlyFPtzV",
    "executionInfo": {
     "status": "ok",
     "timestamp": 1728737259910,
     "user_tz": -540,
     "elapsed": 321,
     "user": {
      "displayName": "JaeHyeok Ho",
      "userId": "09522757785018905826"
     }
    },
    "outputId": "a24ebfb4-4d9e-43f2-df8d-521df7d644f5",
    "ExecuteTime": {
     "end_time": "2024-11-10T06:50:42.200051Z",
     "start_time": "2024-11-10T06:50:39.369913Z"
    }
   },
   "outputs": [
    {
     "name": "stdout",
     "output_type": "stream",
     "text": [
      "증강된 훈련 데이터의 형태: (202490, 52, 59)\n"
     ]
    }
   ],
   "execution_count": 16
  },
  {
   "metadata": {
    "ExecuteTime": {
     "end_time": "2024-11-10T06:50:47.253402Z",
     "start_time": "2024-11-10T06:50:42.201406Z"
    }
   },
   "cell_type": "code",
   "source": [
    "import numpy as np\n",
    "\n",
    "def pad_images_to_same_size(images, target_shape):\n",
    "    \"\"\"\n",
    "    모든 이미지를 동일한 크기(target_shape)로 패딩합니다.\n",
    "    이미지가 target_shape보다 큰 경우 잘라냅니다.\n",
    "    \"\"\"\n",
    "    padded_images = []\n",
    "    for image in images:\n",
    "        # 현재 이미지의 크기 가져오기\n",
    "        current_shape = image.shape\n",
    "        \n",
    "        # 패딩된 이미지를 0으로 초기화 (target_shape 크기로)\n",
    "        padded_image = np.zeros(target_shape, dtype=image.dtype)\n",
    "        \n",
    "        # 이미지의 크기가 목표 크기보다 작다면, 중앙에 위치하도록 복사\n",
    "        padded_image[:min(current_shape[0], target_shape[0]), :min(current_shape[1], target_shape[1])] = \\\n",
    "            image[:min(current_shape[0], target_shape[0]), :min(current_shape[1], target_shape[1])]\n",
    "\n",
    "        padded_images.append(padded_image)\n",
    "\n",
    "    return np.array(padded_images)\n",
    "\n",
    "# 모든 이미지를 동일한 크기로 패딩\n",
    "target_shape = (60, 60)  # 예시로 (52, 59)로 설정\n",
    "X_train_no_aug = pad_images_to_same_size(X_train_no_aug, target_shape)\n",
    "X_train_aug = pad_images_to_same_size(X_train_aug, target_shape)\n",
    "X_test = pad_images_to_same_size(X_test, target_shape)\n",
    "# 각 이미지를 평탄화\n",
    "X_train_no_aug = np.array([i.reshape(-1) for i in X_train_no_aug])\n",
    "X_train_aug = np.array([i.reshape(-1) for i in X_train_aug])\n",
    "X_test = np.array([i.reshape(-1) for i in X_test])\n",
    "print(X_train_no_aug.shape)\n"
   ],
   "outputs": [
    {
     "name": "stdout",
     "output_type": "stream",
     "text": [
      "(100415, 3600)\n"
     ]
    }
   ],
   "execution_count": 17
  },
  {
   "metadata": {
    "ExecuteTime": {
     "end_time": "2024-11-10T06:50:47.258368Z",
     "start_time": "2024-11-10T06:50:47.254788Z"
    }
   },
   "cell_type": "code",
   "source": "X_train_aug.shape",
   "outputs": [
    {
     "data": {
      "text/plain": [
       "(202490, 3600)"
      ]
     },
     "execution_count": 18,
     "metadata": {},
     "output_type": "execute_result"
    }
   ],
   "execution_count": 18
  },
  {
   "metadata": {
    "ExecuteTime": {
     "end_time": "2024-11-10T06:50:55.458316Z",
     "start_time": "2024-11-10T06:50:47.259112Z"
    }
   },
   "cell_type": "code",
   "source": [
    "import numpy as np\n",
    "\n",
    "# 각 웨이퍼 맵에 대해 로그 변환을 개별적으로 적용\n",
    "def apply_log1p_to_array(arr):\n",
    "    return np.array([np.log1p(wafer) for wafer in arr])\n",
    "\n",
    "# 로그 변환을 적용하여 0으로 인한 문제를 피하기 위해 np.log1p 사용 (log(1 + x))\n",
    "X_train_no_aug = apply_log1p_to_array(X_train_no_aug)\n",
    "X_test = apply_log1p_to_array(X_test)\n",
    "X_train_aug = apply_log1p_to_array(X_train_aug)\n",
    "\n",
    "# 결과 출력\n",
    "print(X_train_aug[0])\n",
    "print(X_train_no_aug[0])\n"
   ],
   "outputs": [
    {
     "name": "stdout",
     "output_type": "stream",
     "text": [
      "[0. 0. 0. ... 0. 0. 0.]\n",
      "[0. 0. 0. ... 0. 0. 0.]\n"
     ]
    }
   ],
   "execution_count": 19
  },
  {
   "metadata": {
    "ExecuteTime": {
     "end_time": "2024-11-10T06:50:55.462608Z",
     "start_time": "2024-11-10T06:50:55.459944Z"
    }
   },
   "cell_type": "code",
   "source": "print(X_train_aug.shape)",
   "outputs": [
    {
     "name": "stdout",
     "output_type": "stream",
     "text": [
      "(202490, 3600)\n"
     ]
    }
   ],
   "execution_count": 20
  },
  {
   "metadata": {
    "ExecuteTime": {
     "end_time": "2024-11-10T06:50:55.465318Z",
     "start_time": "2024-11-10T06:50:55.463281Z"
    }
   },
   "cell_type": "code",
   "source": "y_train_aug.shape",
   "outputs": [
    {
     "data": {
      "text/plain": [
       "(202490,)"
      ]
     },
     "execution_count": 21,
     "metadata": {},
     "output_type": "execute_result"
    }
   ],
   "execution_count": 21
  },
  {
   "metadata": {
    "ExecuteTime": {
     "end_time": "2024-11-10T06:50:55.471628Z",
     "start_time": "2024-11-10T06:50:55.466190Z"
    }
   },
   "cell_type": "code",
   "source": [
    "import pandas as pd\n",
    "\n",
    "# 결함 유형별 데이터 개수 세기\n",
    "augmented_target_series = pd.Series(y_train_aug)\n",
    "failure_counts_augmented = augmented_target_series.value_counts()\n",
    "\n",
    "print(\"증강된 훈련 데이터의 결함 유형별 개수:\")\n",
    "print(failure_counts_augmented)"
   ],
   "outputs": [
    {
     "name": "stdout",
     "output_type": "stream",
     "text": [
      "증강된 훈련 데이터의 결함 유형별 개수:\n",
      "8    80000\n",
      "3    46464\n",
      "1    24906\n",
      "2    20610\n",
      "0    17244\n",
      "4     5730\n",
      "5     4158\n",
      "7     2664\n",
      "6      714\n",
      "Name: count, dtype: int64\n"
     ]
    }
   ],
   "execution_count": 22
  },
  {
   "metadata": {
    "ExecuteTime": {
     "end_time": "2024-11-10T06:50:55.581083Z",
     "start_time": "2024-11-10T06:50:55.472263Z"
    }
   },
   "cell_type": "code",
   "source": [
    "import matplotlib.pyplot as plt\n",
    "\n",
    "# 결함 유형별 데이터 개수 그래프 그리기\n",
    "plt.figure(figsize=(10, 6))\n",
    "failure_counts_augmented.sort_index().plot(kind='bar', color='skyblue')\n",
    "plt.title('Augmented Training Data Count by Failure Type')\n",
    "plt.xlabel('Failure Type')\n",
    "plt.ylabel('Count')\n",
    "plt.xticks(rotation=0)\n",
    "plt.grid(axis='y', linestyle='--')\n",
    "plt.show()"
   ],
   "outputs": [
    {
     "data": {
      "text/plain": [
       "<Figure size 1000x600 with 1 Axes>"
      ],
      "image/png": "[encoded data removed]"
     },
     "metadata": {},
     "output_type": "display_data"
    }
   ],
   "execution_count": 23
  },
  {
   "metadata": {
    "ExecuteTime": {
     "end_time": "2024-11-10T06:51:00.972874Z",
     "start_time": "2024-11-10T06:50:55.581917Z"
    }
   },
   "cell_type": "code",
   "source": [
    "import numpy as np\n",
    "import pandas as pd\n",
    "\n",
    "# 특징 추출 함수\n",
    "def extract_features(wafer_maps):\n",
    "    features = []\n",
    "    \n",
    "    for wafer_map in wafer_maps:\n",
    "        # 1. 결함 다이 비율\n",
    "        total_pixels = wafer_map.size  # 전체 다이 개수\n",
    "        defect_count = np.sum(wafer_map == 2)  # 2의 개수\n",
    "        defect_ratio = defect_count / total_pixels if total_pixels > 0 else 0\n",
    "\n",
    "        # 2. 결함 분포 (중앙값과 가장자리 근처에 집중되는지)\n",
    "        defect_indices = np.argwhere(wafer_map == 2)  # 결함 위치의 인덱스\n",
    "        if defect_indices.size > 0:\n",
    "            center_of_defects = np.mean(defect_indices, axis=0)  # 결함 위치의 중앙\n",
    "            distance_to_center = np.linalg.norm(defect_indices - center_of_defects, axis=1)  # 중앙에서의 거리\n",
    "            avg_distance = np.mean(distance_to_center)  # 평균 거리\n",
    "        else:\n",
    "            center_of_defects = np.array([np.nan, np.nan])\n",
    "            avg_distance = np.nan\n",
    "\n",
    "        # 3. 픽셀 기반 통계 값 (평균 및 분산)\n",
    "        mean_value = np.mean(wafer_map)\n",
    "        variance_value = np.var(wafer_map)\n",
    "\n",
    "        # 특징 추가\n",
    "        features.append({\n",
    "            'defect_ratio': defect_ratio,\n",
    "            'center_of_defects': center_of_defects,\n",
    "            'avg_distance_to_center': avg_distance,\n",
    "            'mean_value': mean_value,\n",
    "            'variance_value': variance_value\n",
    "        })\n",
    "\n",
    "    return pd.DataFrame(features)\n",
    "\n",
    "# 특징 추출\n",
    "features_df = extract_features(X_train_aug)\n",
    "\n",
    "# 결과 확인\n",
    "print(features_df.head())"
   ],
   "outputs": [
    {
     "name": "stdout",
     "output_type": "stream",
     "text": [
      "   defect_ratio center_of_defects  avg_distance_to_center  mean_value  \\\n",
      "0           0.0        [nan, nan]                     NaN    0.462516   \n",
      "1           0.0        [nan, nan]                     NaN    0.490242   \n",
      "2           0.0        [nan, nan]                     NaN    0.211850   \n",
      "3           0.0        [nan, nan]                     NaN    0.346381   \n",
      "4           0.0        [nan, nan]                     NaN    0.105854   \n",
      "\n",
      "   variance_value  \n",
      "0        0.106918  \n",
      "1        0.099720  \n",
      "2        0.104561  \n",
      "3        0.120113  \n",
      "4        0.064023  \n"
     ]
    }
   ],
   "execution_count": 24
  },
  {
   "metadata": {
    "ExecuteTime": {
     "end_time": "2024-11-10T06:51:00.979027Z",
     "start_time": "2024-11-10T06:51:00.974066Z"
    }
   },
   "cell_type": "code",
   "source": [
    "import numpy as np\n",
    "\n",
    "class FeatureExtraction:\n",
    "    def __init__(self):\n",
    "        pass\n",
    "    \n",
    "    def __call__(self, arr):\n",
    "        return self.forward(arr)\n",
    "    \n",
    "    def forward(self, arr):\n",
    "        n_rows, n_cols = arr.shape\n",
    "        n_splits = 8  # 구간 개수\n",
    "        stride = 4  # 겹치는 간격 설정\n",
    "\n",
    "        # 각 구간에 대해 추출할 통계 수치의 개수 (기존 4개에서 IQR, min, max 추가로 7개로 변경)\n",
    "        num_features = 7\n",
    "        # 결과를 저장할 배열 초기화 (n_rows, 8 * num_features)\n",
    "        result = np.zeros((n_rows, n_splits * num_features))\n",
    "        \n",
    "        # 각 행에 대해 반복\n",
    "        for i in range(n_rows):\n",
    "            row = arr[i]\n",
    "            features = []\n",
    "            \n",
    "            # 각 구간에 대해 통계 값 계산\n",
    "            for j in range(n_splits):\n",
    "                start = j * stride\n",
    "                end = start + (n_cols // n_splits)\n",
    "                \n",
    "                # 구간이 배열의 경계를 넘지 않도록 보정\n",
    "                if end > n_cols:\n",
    "                    end = n_cols\n",
    "                \n",
    "                segment = row[start:end]\n",
    "                \n",
    "                # 기본 통계 값 계산\n",
    "                mean = np.mean(segment)\n",
    "                std = np.std(segment)\n",
    "                var = np.var(segment)\n",
    "                summation = np.sum(segment)\n",
    "                \n",
    "                # 추가 통계 값 계산\n",
    "                iqr = np.percentile(segment, 75) - np.percentile(segment, 25)\n",
    "                minimum = np.min(segment)\n",
    "                maximum = np.max(segment)\n",
    "                \n",
    "                # 모든 통계 값 추가\n",
    "                features.extend([mean, std, var, summation, iqr, minimum, maximum])\n",
    "            \n",
    "            # 결과 배열에 통계 값 저장\n",
    "            result[i] = features\n",
    "        \n",
    "        return result\n",
    "\n"
   ],
   "outputs": [],
   "execution_count": 25
  },
  {
   "metadata": {},
   "cell_type": "code",
   "source": "X_train_aug[0].shape",
   "outputs": [],
   "execution_count": null
  },
  {
   "metadata": {
    "ExecuteTime": {
     "end_time": "2024-11-10T06:51:01.808299Z",
     "start_time": "2024-11-10T06:51:00.990209Z"
    }
   },
   "cell_type": "code",
   "source": [
    "import torch\n",
    "from torch.utils.data import Dataset, DataLoader\n",
    "\n",
    "class WaferDataset(Dataset):\n",
    "    def __init__(self, wafer_maps, labels):\n",
    "        # 데이터셋 초기화 (wafer_maps: 웨이퍼 맵 열, labels: 원핫 인코딩된 레이블 열)\n",
    "        self.wafer_maps = wafer_maps.reset_index(drop=True)\n",
    "        self.labels = labels.reset_index(drop=True) # 레이블을 float32로 변환\n",
    "\n",
    "    def __len__(self):\n",
    "        # 데이터셋 크기 반환\n",
    "        return len(self.wafer_maps)\n",
    "\n",
    "    def __getitem__(self, idx):\n",
    "        # 웨이퍼 맵을 float32로 변환하여 텐서로 변환\n",
    "        wafer_map = self.wafer_maps[idx]\n",
    "        wafer_map_tensor = torch.tensor(wafer_map, dtype=torch.float32).unsqueeze(0).to(torch.float32)\n",
    "        \n",
    "        # 레이블을 텐서로 변환\n",
    "        label = torch.tensor(self.labels.iloc[idx].values, dtype=torch.float32)\n",
    "        return wafer_map_tensor.to('cuda'), label.to('cuda')\n",
    "\n"
   ],
   "outputs": [],
   "execution_count": 27
  }
 ]
}
