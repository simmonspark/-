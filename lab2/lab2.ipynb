{
 "cells": [
  {
   "cell_type": "markdown",
   "source": [
    "## feature eng"
   ],
   "metadata": {
    "collapsed": false
   },
   "id": "a6bd141f0d5af7d1"
  },
  {
   "cell_type": "markdown",
   "source": [
    "### 1차 가공"
   ],
   "metadata": {
    "collapsed": false
   },
   "id": "da459f3307f42f82"
  },
  {
   "cell_type": "code",
   "outputs": [
    {
     "name": "stdout",
     "output_type": "stream",
     "text": [
      "-------------------\n",
      "|     lab1         |\n",
      "-------------------\n",
      "data already exist\n"
     ]
    }
   ],
   "source": [
    "import numpy as np\n",
    "import pandas as pd\n",
    "import matplotlib.pyplot as plt\n",
    "%matplotlib inline\n",
    "import urllib.request\n",
    "import urllib.request\n",
    "from sklearn.model_selection import GridSearchCV\n",
    "import xgboost as xgb\n",
    "from sklearn.model_selection import train_test_split\n",
    "from sklearn.metrics import mean_squared_error, r2_score\n",
    "from sklearn.preprocessing import LabelEncoder, StandardScaler\n",
    "from tqdm import tqdm\n",
    "import os\n",
    "from imblearn.over_sampling import SMOTE\n",
    "\n",
    "print('-------------------')\n",
    "print('|     lab1         |')\n",
    "print('-------------------')\n",
    "\n",
    "if os.path.exists('/semi.csv'):\n",
    "    '''\n",
    "    혹시 파일이 생기지 않는다면, 아래 두 줄의 스크립스틑 파이썬 .py파일로 만들어서 실행하면 됩니다. \n",
    "    '''\n",
    "    url = \"https://drive.google.com/uc?export=download&id=1XCU0eo2xZ03xhxJhdrCnVjduCoaBQ7kJ\"\n",
    "    urllib.request.urlretrieve(url, \"semi.csv\")  # save in a file\n",
    "else:\n",
    "    print('data already exist')\n"
   ],
   "metadata": {
    "collapsed": false,
    "ExecuteTime": {
     "end_time": "2024-09-12T14:06:24.092147128Z",
     "start_time": "2024-09-12T14:06:24.038332659Z"
    }
   },
   "id": "f2e2212a013d25ad",
   "execution_count": 1
  },
  {
   "cell_type": "code",
   "outputs": [],
   "source": [
    "df = pd.read_csv('semi.csv')"
   ],
   "metadata": {
    "collapsed": false,
    "ExecuteTime": {
     "end_time": "2024-09-12T14:06:24.142606132Z",
     "start_time": "2024-09-12T14:06:24.091976565Z"
    }
   },
   "id": "190d26f2c203f742",
   "execution_count": 2
  },
  {
   "cell_type": "code",
   "outputs": [
    {
     "data": {
      "text/plain": "Time          0\n0             6\n1             7\n2            14\n3            14\n             ..\n586           1\n587           1\n588           1\n589           1\nPass/Fail     0\nLength: 592, dtype: int64"
     },
     "execution_count": 3,
     "metadata": {},
     "output_type": "execute_result"
    }
   ],
   "source": [
    "df.isnull().sum()"
   ],
   "metadata": {
    "collapsed": false,
    "ExecuteTime": {
     "end_time": "2024-09-12T14:06:24.148634954Z",
     "start_time": "2024-09-12T14:06:24.143724074Z"
    }
   },
   "id": "84861c09a084a62f",
   "execution_count": 3
  },
  {
   "cell_type": "code",
   "outputs": [
    {
     "name": "stdout",
     "output_type": "stream",
     "text": [
      "<class 'pandas.core.frame.DataFrame'>\n",
      "RangeIndex: 1567 entries, 0 to 1566\n",
      "Columns: 592 entries, Time to Pass/Fail\n",
      "dtypes: float64(590), int64(1), object(1)\n",
      "memory usage: 7.1+ MB\n"
     ]
    }
   ],
   "source": [
    "df.info()"
   ],
   "metadata": {
    "collapsed": false,
    "ExecuteTime": {
     "end_time": "2024-09-12T14:06:24.200392852Z",
     "start_time": "2024-09-12T14:06:24.158888639Z"
    }
   },
   "id": "465ab6554b516868",
   "execution_count": 4
  },
  {
   "cell_type": "code",
   "outputs": [
    {
     "data": {
      "text/plain": "                 0            1            2            3            4  \\\ncount  1561.000000  1560.000000  1553.000000  1553.000000  1553.000000   \nmean   3014.452896  2495.850231  2200.547318  1396.376627     4.197013   \nstd      73.621787    80.407705    29.513152   441.691640    56.355540   \nmin    2743.240000  2158.750000  2060.660000     0.000000     0.681500   \n25%    2966.260000  2452.247500  2181.044400  1081.875800     1.017700   \n50%    3011.490000  2499.405000  2201.066700  1285.214400     1.316800   \n75%    3056.650000  2538.822500  2218.055500  1591.223500     1.525700   \nmax    3356.350000  2846.440000  2315.266700  3715.041700  1114.536600   \n\n            5            6            7            8            9  ...  \\\ncount  1553.0  1553.000000  1558.000000  1565.000000  1565.000000  ...   \nmean    100.0   101.112908     0.121822     1.462862    -0.000841  ...   \nstd       0.0     6.237214     0.008961     0.073897     0.015116  ...   \nmin     100.0    82.131100     0.000000     1.191000    -0.053400  ...   \n25%     100.0    97.920000     0.121100     1.411200    -0.010800  ...   \n50%     100.0   101.512200     0.122400     1.461600    -0.001300  ...   \n75%     100.0   104.586700     0.123800     1.516900     0.008400  ...   \nmax     100.0   129.252200     0.128600     1.656400     0.074900  ...   \n\n              581          582          583          584          585  \\\ncount  618.000000  1566.000000  1566.000000  1566.000000  1566.000000   \nmean    97.934373     0.500096     0.015318     0.003847     3.067826   \nstd     87.520966     0.003404     0.017180     0.003720     3.578033   \nmin      0.000000     0.477800     0.006000     0.001700     1.197500   \n25%     46.184900     0.497900     0.011600     0.003100     2.306500   \n50%     72.288900     0.500200     0.013800     0.003600     2.757650   \n75%    116.539150     0.502375     0.016500     0.004100     3.295175   \nmax    737.304800     0.509800     0.476600     0.104500    99.303200   \n\n               586          587          588          589    Pass/Fail  \ncount  1566.000000  1566.000000  1566.000000  1566.000000  1567.000000  \nmean      0.021458     0.016475     0.005283    99.670066    -0.867262  \nstd       0.012358     0.008808     0.002867    93.891919     0.498010  \nmin      -0.016900     0.003200     0.001000     0.000000    -1.000000  \n25%       0.013425     0.010600     0.003300    44.368600    -1.000000  \n50%       0.020500     0.014800     0.004600    71.900500    -1.000000  \n75%       0.027600     0.020300     0.006400   114.749700    -1.000000  \nmax       0.102800     0.079900     0.028600   737.304800     1.000000  \n\n[8 rows x 591 columns]",
      "text/html": "<div>\n<style scoped>\n    .dataframe tbody tr th:only-of-type {\n        vertical-align: middle;\n    }\n\n    .dataframe tbody tr th {\n        vertical-align: top;\n    }\n\n    .dataframe thead th {\n        text-align: right;\n    }\n</style>\n<table border=\"1\" class=\"dataframe\">\n  <thead>\n    <tr style=\"text-align: right;\">\n      <th></th>\n      <th>0</th>\n      <th>1</th>\n      <th>2</th>\n      <th>3</th>\n      <th>4</th>\n      <th>5</th>\n      <th>6</th>\n      <th>7</th>\n      <th>8</th>\n      <th>9</th>\n      <th>...</th>\n      <th>581</th>\n      <th>582</th>\n      <th>583</th>\n      <th>584</th>\n      <th>585</th>\n      <th>586</th>\n      <th>587</th>\n      <th>588</th>\n      <th>589</th>\n      <th>Pass/Fail</th>\n    </tr>\n  </thead>\n  <tbody>\n    <tr>\n      <th>count</th>\n      <td>1561.000000</td>\n      <td>1560.000000</td>\n      <td>1553.000000</td>\n      <td>1553.000000</td>\n      <td>1553.000000</td>\n      <td>1553.0</td>\n      <td>1553.000000</td>\n      <td>1558.000000</td>\n      <td>1565.000000</td>\n      <td>1565.000000</td>\n      <td>...</td>\n      <td>618.000000</td>\n      <td>1566.000000</td>\n      <td>1566.000000</td>\n      <td>1566.000000</td>\n      <td>1566.000000</td>\n      <td>1566.000000</td>\n      <td>1566.000000</td>\n      <td>1566.000000</td>\n      <td>1566.000000</td>\n      <td>1567.000000</td>\n    </tr>\n    <tr>\n      <th>mean</th>\n      <td>3014.452896</td>\n      <td>2495.850231</td>\n      <td>2200.547318</td>\n      <td>1396.376627</td>\n      <td>4.197013</td>\n      <td>100.0</td>\n      <td>101.112908</td>\n      <td>0.121822</td>\n      <td>1.462862</td>\n      <td>-0.000841</td>\n      <td>...</td>\n      <td>97.934373</td>\n      <td>0.500096</td>\n      <td>0.015318</td>\n      <td>0.003847</td>\n      <td>3.067826</td>\n      <td>0.021458</td>\n      <td>0.016475</td>\n      <td>0.005283</td>\n      <td>99.670066</td>\n      <td>-0.867262</td>\n    </tr>\n    <tr>\n      <th>std</th>\n      <td>73.621787</td>\n      <td>80.407705</td>\n      <td>29.513152</td>\n      <td>441.691640</td>\n      <td>56.355540</td>\n      <td>0.0</td>\n      <td>6.237214</td>\n      <td>0.008961</td>\n      <td>0.073897</td>\n      <td>0.015116</td>\n      <td>...</td>\n      <td>87.520966</td>\n      <td>0.003404</td>\n      <td>0.017180</td>\n      <td>0.003720</td>\n      <td>3.578033</td>\n      <td>0.012358</td>\n      <td>0.008808</td>\n      <td>0.002867</td>\n      <td>93.891919</td>\n      <td>0.498010</td>\n    </tr>\n    <tr>\n      <th>min</th>\n      <td>2743.240000</td>\n      <td>2158.750000</td>\n      <td>2060.660000</td>\n      <td>0.000000</td>\n      <td>0.681500</td>\n      <td>100.0</td>\n      <td>82.131100</td>\n      <td>0.000000</td>\n      <td>1.191000</td>\n      <td>-0.053400</td>\n      <td>...</td>\n      <td>0.000000</td>\n      <td>0.477800</td>\n      <td>0.006000</td>\n      <td>0.001700</td>\n      <td>1.197500</td>\n      <td>-0.016900</td>\n      <td>0.003200</td>\n      <td>0.001000</td>\n      <td>0.000000</td>\n      <td>-1.000000</td>\n    </tr>\n    <tr>\n      <th>25%</th>\n      <td>2966.260000</td>\n      <td>2452.247500</td>\n      <td>2181.044400</td>\n      <td>1081.875800</td>\n      <td>1.017700</td>\n      <td>100.0</td>\n      <td>97.920000</td>\n      <td>0.121100</td>\n      <td>1.411200</td>\n      <td>-0.010800</td>\n      <td>...</td>\n      <td>46.184900</td>\n      <td>0.497900</td>\n      <td>0.011600</td>\n      <td>0.003100</td>\n      <td>2.306500</td>\n      <td>0.013425</td>\n      <td>0.010600</td>\n      <td>0.003300</td>\n      <td>44.368600</td>\n      <td>-1.000000</td>\n    </tr>\n    <tr>\n      <th>50%</th>\n      <td>3011.490000</td>\n      <td>2499.405000</td>\n      <td>2201.066700</td>\n      <td>1285.214400</td>\n      <td>1.316800</td>\n      <td>100.0</td>\n      <td>101.512200</td>\n      <td>0.122400</td>\n      <td>1.461600</td>\n      <td>-0.001300</td>\n      <td>...</td>\n      <td>72.288900</td>\n      <td>0.500200</td>\n      <td>0.013800</td>\n      <td>0.003600</td>\n      <td>2.757650</td>\n      <td>0.020500</td>\n      <td>0.014800</td>\n      <td>0.004600</td>\n      <td>71.900500</td>\n      <td>-1.000000</td>\n    </tr>\n    <tr>\n      <th>75%</th>\n      <td>3056.650000</td>\n      <td>2538.822500</td>\n      <td>2218.055500</td>\n      <td>1591.223500</td>\n      <td>1.525700</td>\n      <td>100.0</td>\n      <td>104.586700</td>\n      <td>0.123800</td>\n      <td>1.516900</td>\n      <td>0.008400</td>\n      <td>...</td>\n      <td>116.539150</td>\n      <td>0.502375</td>\n      <td>0.016500</td>\n      <td>0.004100</td>\n      <td>3.295175</td>\n      <td>0.027600</td>\n      <td>0.020300</td>\n      <td>0.006400</td>\n      <td>114.749700</td>\n      <td>-1.000000</td>\n    </tr>\n    <tr>\n      <th>max</th>\n      <td>3356.350000</td>\n      <td>2846.440000</td>\n      <td>2315.266700</td>\n      <td>3715.041700</td>\n      <td>1114.536600</td>\n      <td>100.0</td>\n      <td>129.252200</td>\n      <td>0.128600</td>\n      <td>1.656400</td>\n      <td>0.074900</td>\n      <td>...</td>\n      <td>737.304800</td>\n      <td>0.509800</td>\n      <td>0.476600</td>\n      <td>0.104500</td>\n      <td>99.303200</td>\n      <td>0.102800</td>\n      <td>0.079900</td>\n      <td>0.028600</td>\n      <td>737.304800</td>\n      <td>1.000000</td>\n    </tr>\n  </tbody>\n</table>\n<p>8 rows × 591 columns</p>\n</div>"
     },
     "execution_count": 5,
     "metadata": {},
     "output_type": "execute_result"
    }
   ],
   "source": [
    "df.describe()"
   ],
   "metadata": {
    "collapsed": false,
    "ExecuteTime": {
     "end_time": "2024-09-12T14:06:24.500065333Z",
     "start_time": "2024-09-12T14:06:24.200292672Z"
    }
   },
   "id": "278d8e87cafdf2dc",
   "execution_count": 5
  },
  {
   "cell_type": "code",
   "outputs": [
    {
     "name": "stdout",
     "output_type": "stream",
     "text": [
      "duplicated! 52\n",
      "duplicated! 69\n",
      "duplicated! 97\n",
      "duplicated! 141\n",
      "duplicated! 149\n",
      "duplicated! 178\n",
      "duplicated! 179\n",
      "duplicated! 186\n",
      "duplicated! 189\n",
      "duplicated! 190\n",
      "duplicated! 191\n",
      "duplicated! 192\n",
      "duplicated! 193\n",
      "duplicated! 194\n",
      "duplicated! 226\n",
      "duplicated! 229\n",
      "duplicated! 230\n",
      "duplicated! 231\n",
      "duplicated! 232\n",
      "duplicated! 233\n",
      "duplicated! 234\n",
      "duplicated! 235\n",
      "duplicated! 236\n",
      "duplicated! 237\n",
      "duplicated! 240\n",
      "duplicated! 241\n",
      "duplicated! 242\n",
      "duplicated! 243\n",
      "duplicated! 256\n",
      "duplicated! 257\n",
      "duplicated! 258\n",
      "duplicated! 259\n",
      "duplicated! 260\n",
      "duplicated! 261\n",
      "duplicated! 262\n",
      "duplicated! 263\n",
      "duplicated! 264\n",
      "duplicated! 265\n",
      "duplicated! 266\n",
      "duplicated! 276\n",
      "duplicated! 284\n",
      "duplicated! 313\n",
      "duplicated! 314\n",
      "duplicated! 315\n",
      "duplicated! 322\n",
      "duplicated! 325\n",
      "duplicated! 326\n",
      "duplicated! 327\n",
      "duplicated! 328\n",
      "duplicated! 329\n",
      "duplicated! 330\n",
      "duplicated! 364\n",
      "duplicated! 369\n",
      "duplicated! 370\n",
      "duplicated! 371\n",
      "duplicated! 372\n",
      "duplicated! 373\n",
      "duplicated! 374\n",
      "duplicated! 375\n",
      "duplicated! 378\n",
      "duplicated! 379\n",
      "duplicated! 380\n",
      "duplicated! 381\n",
      "duplicated! 394\n",
      "duplicated! 395\n",
      "duplicated! 396\n",
      "duplicated! 397\n",
      "duplicated! 398\n",
      "duplicated! 399\n",
      "duplicated! 400\n",
      "duplicated! 401\n",
      "duplicated! 402\n",
      "duplicated! 403\n",
      "duplicated! 404\n",
      "duplicated! 414\n",
      "duplicated! 422\n",
      "duplicated! 449\n",
      "duplicated! 450\n",
      "duplicated! 451\n",
      "duplicated! 458\n",
      "duplicated! 461\n",
      "duplicated! 462\n",
      "duplicated! 463\n",
      "duplicated! 464\n",
      "duplicated! 465\n",
      "duplicated! 466\n",
      "duplicated! 481\n",
      "duplicated! 498\n",
      "duplicated! 501\n",
      "duplicated! 502\n",
      "duplicated! 503\n",
      "duplicated! 504\n",
      "duplicated! 505\n",
      "duplicated! 506\n",
      "duplicated! 507\n",
      "duplicated! 508\n",
      "duplicated! 509\n",
      "duplicated! 512\n",
      "duplicated! 513\n",
      "duplicated! 514\n",
      "duplicated! 515\n",
      "duplicated! 528\n",
      "duplicated! 529\n",
      "duplicated! 530\n",
      "duplicated! 531\n",
      "duplicated! 532\n",
      "duplicated! 533\n",
      "duplicated! 534\n",
      "duplicated! 535\n",
      "duplicated! 536\n",
      "duplicated! 537\n",
      "duplicated! 538\n"
     ]
    }
   ],
   "source": [
    "def DuplicatedHandler(df: pd.DataFrame):\n",
    "    features = range(590)\n",
    "    stack = []\n",
    "    idx = []\n",
    "    for i, fe in enumerate(features):\n",
    "        st = df[str(fe)].std()\n",
    "        me = df[str(fe)].mean()\n",
    "        mx = df[str(fe)].max()\n",
    "        mn = df[str(fe)].mean()\n",
    "        if (st, me, mx, mn) in stack:\n",
    "            idx.append(fe)\n",
    "            print('duplicated!', i)\n",
    "        else:\n",
    "            stack.append((st, me, mx, mn))\n",
    "\n",
    "    for i in idx:\n",
    "        df = df.drop(str(i), axis=1)\n",
    "    df = df.drop(['Time'], axis=1)\n",
    "    return df\n",
    "\n",
    "\n",
    "df = DuplicatedHandler(df)\n",
    "feature = df.drop('Pass/Fail', axis=1)\n",
    "target = df['Pass/Fail']\n",
    "\n",
    "X_train, X_test, y_train, y_test = train_test_split(feature, target, \\\n",
    "                                                    test_size=0.2, random_state=11, stratify=target,shuffle=True)"
   ],
   "metadata": {
    "collapsed": false,
    "ExecuteTime": {
     "end_time": "2024-09-12T14:06:24.601191484Z",
     "start_time": "2024-09-12T14:06:24.501449183Z"
    }
   },
   "id": "ac9b3a7cc56d3d45",
   "execution_count": 6
  },
  {
   "cell_type": "code",
   "outputs": [],
   "source": [
    "\n"
   ],
   "metadata": {
    "collapsed": false,
    "ExecuteTime": {
     "end_time": "2024-09-12T14:06:24.606612625Z",
     "start_time": "2024-09-12T14:06:24.599881396Z"
    }
   },
   "id": "ebd71acef99a4b32",
   "execution_count": 6
  },
  {
   "cell_type": "markdown",
   "source": [
    "### Create feature Handler"
   ],
   "metadata": {
    "collapsed": false
   },
   "id": "46f3a2f3eeca38a6"
  },
  {
   "cell_type": "code",
   "outputs": [
    {
     "name": "stdout",
     "output_type": "stream",
     "text": [
      "NULL PASSED!\n"
     ]
    }
   ],
   "source": [
    "\n",
    "def NullHandler(train, test):\n",
    "    features = iter(train.columns)\n",
    "    for fe in features:\n",
    "        if train[str(fe)].isnull().sum() != 0:\n",
    "            train[str(fe)] = train[str(fe)].fillna(np.mean(train[str(fe)]))\n",
    "            test[str(fe)] = test[str(fe)].fillna(np.mean(train[str(fe)]))\n",
    "    assert train.isnull().sum().sum() == 0\n",
    "    print('NULL PASSED!\\n')\n",
    "    return train, test\n",
    "\n",
    "\n",
    "def Norm(train, test):\n",
    "    numeric_features = train.columns[:-1]\n",
    "    for feature in numeric_features:\n",
    "        sk = StandardScaler()\n",
    "        train[feature] = sk.fit_transform(train[[feature]])\n",
    "        test[feature] = sk.transform(test[[feature]])\n",
    "    return train, test\n",
    "\n",
    "\n",
    "def DataHandler(train, test):\n",
    "    train, test = NullHandler(train, test)\n",
    "    train, test = Norm(train, test)\n",
    "    return train, test\n",
    "\n",
    "\n",
    "X_train,X_test = DataHandler(X_train,X_test)"
   ],
   "metadata": {
    "collapsed": false,
    "ExecuteTime": {
     "end_time": "2024-09-12T14:06:25.413561400Z",
     "start_time": "2024-09-12T14:06:24.606750898Z"
    }
   },
   "id": "28bb0164a5cd63a4",
   "execution_count": 7
  },
  {
   "cell_type": "code",
   "outputs": [
    {
     "name": "stdout",
     "output_type": "stream",
     "text": [
      "is NaN data check :  0\n"
     ]
    }
   ],
   "source": [
    "print('is NaN data check : ', X_train.isna().sum().sum())"
   ],
   "metadata": {
    "collapsed": false,
    "ExecuteTime": {
     "end_time": "2024-09-12T14:06:25.419079345Z",
     "start_time": "2024-09-12T14:06:25.411292534Z"
    }
   },
   "id": "3eff3c4302655af4",
   "execution_count": 8
  },
  {
   "cell_type": "code",
   "outputs": [
    {
     "data": {
      "text/plain": "425    -1\n412    -1\n115     1\n887    -1\n328    -1\n       ..\n1332   -1\n1447   -1\n1412   -1\n270    -1\n734    -1\nName: Pass/Fail, Length: 1253, dtype: int64"
     },
     "execution_count": 9,
     "metadata": {},
     "output_type": "execute_result"
    }
   ],
   "source": [
    "y_train"
   ],
   "metadata": {
    "collapsed": false,
    "ExecuteTime": {
     "end_time": "2024-09-12T14:06:25.425230056Z",
     "start_time": "2024-09-12T14:06:25.420001904Z"
    }
   },
   "id": "6f1bce95e87ef666",
   "execution_count": 9
  },
  {
   "cell_type": "code",
   "outputs": [],
   "source": [],
   "metadata": {
    "collapsed": false,
    "ExecuteTime": {
     "end_time": "2024-09-12T14:06:25.425960067Z",
     "start_time": "2024-09-12T14:06:25.422486360Z"
    }
   },
   "id": "cd62294ceeaa9c2b",
   "execution_count": 9
  },
  {
   "cell_type": "code",
   "outputs": [],
   "source": [
    "y_train = [0 if label == -1 else 1 for label in y_train]\n",
    "y_test = [0 if label == -1 else 1 for label in y_test]"
   ],
   "metadata": {
    "collapsed": false,
    "ExecuteTime": {
     "end_time": "2024-09-12T14:06:25.470174701Z",
     "start_time": "2024-09-12T14:06:25.424765008Z"
    }
   },
   "id": "d2d492c43e5945b7",
   "execution_count": 10
  },
  {
   "cell_type": "code",
   "outputs": [],
   "source": [
    "def OverSampler(X_train, y_train):\n",
    "    smote = SMOTE(random_state=11)\n",
    "    X_train, y_train = smote.fit_resample(X_train, y_train)\n",
    "    return X_train, y_train\n",
    "\n",
    "\n",
    "X_train, y_train = OverSampler(X_train, y_train)"
   ],
   "metadata": {
    "collapsed": false,
    "ExecuteTime": {
     "end_time": "2024-09-12T14:06:25.536388016Z",
     "start_time": "2024-09-12T14:06:25.470045704Z"
    }
   },
   "id": "69b980b3574ac64b",
   "execution_count": 11
  },
  {
   "cell_type": "code",
   "outputs": [
    {
     "data": {
      "text/plain": "(2340, 478)"
     },
     "execution_count": 12,
     "metadata": {},
     "output_type": "execute_result"
    }
   ],
   "source": [
    "X_train.shape"
   ],
   "metadata": {
    "collapsed": false,
    "ExecuteTime": {
     "end_time": "2024-09-12T14:06:25.579257743Z",
     "start_time": "2024-09-12T14:06:25.538454594Z"
    }
   },
   "id": "a6bf7a3a30749a98",
   "execution_count": 12
  },
  {
   "cell_type": "code",
   "outputs": [
    {
     "data": {
      "text/plain": "'def AnomalyDelete(df: pd.DataFrame):\\n    col = df.columns[:-1]\\n    stack = []\\n\\n    quantile_25 = df[col].quantile(0.25)\\n    quantile_75 = df[col].quantile(0.75)\\n    iqr = quantile_75 - quantile_25\\n    iqr_weight = iqr * 3 \\n    \\n    # 각 열의 이상치 인덱스를 추가\\n    for i in col:\\n        lowest_val = quantile_25[i] - iqr_weight[i]\\n        highest_val = quantile_75[i] + iqr_weight[i]\\n        outlier_idx = df[(df[i] < lowest_val) | (df[i] > highest_val)].index\\n        stack.extend(outlier_idx)\\n    \\n    # 중복 제거 후 반환\\n    return list(set(stack))\\n\\n\\ndef delHandler(X_train: pd.DataFrame, y_train: pd.Series, idxs):\\n    X_train = X_train.drop(index=idxs, axis=0)\\n    y_train = y_train.drop(index=idxs, axis=0)\\n    return X_train, y_train\\n\\n\\ndef AnomalyHandler(X_train: pd.DataFrame, y_train):\\n    idxs = AnomalyDelete(X_train)\\n    y_train = pd.Series(y_train)\\n    X_train, y_train = delHandler(X_train, y_train, idxs)\\n    return X_train, y_train\\n\\n\\nX_train, y_train = AnomalyHandler(X_train, y_train)'"
     },
     "execution_count": 13,
     "metadata": {},
     "output_type": "execute_result"
    }
   ],
   "source": [
    "'''def AnomalyDelete(df: pd.DataFrame):\n",
    "    col = df.columns[:-1]\n",
    "    stack = []\n",
    "\n",
    "    quantile_25 = df[col].quantile(0.25)\n",
    "    quantile_75 = df[col].quantile(0.75)\n",
    "    iqr = quantile_75 - quantile_25\n",
    "    iqr_weight = iqr * 3 \n",
    "    \n",
    "    # 각 열의 이상치 인덱스를 추가\n",
    "    for i in col:\n",
    "        lowest_val = quantile_25[i] - iqr_weight[i]\n",
    "        highest_val = quantile_75[i] + iqr_weight[i]\n",
    "        outlier_idx = df[(df[i] < lowest_val) | (df[i] > highest_val)].index\n",
    "        stack.extend(outlier_idx)\n",
    "    \n",
    "    # 중복 제거 후 반환\n",
    "    return list(set(stack))\n",
    "\n",
    "\n",
    "def delHandler(X_train: pd.DataFrame, y_train: pd.Series, idxs):\n",
    "    X_train = X_train.drop(index=idxs, axis=0)\n",
    "    y_train = y_train.drop(index=idxs, axis=0)\n",
    "    return X_train, y_train\n",
    "\n",
    "\n",
    "def AnomalyHandler(X_train: pd.DataFrame, y_train):\n",
    "    idxs = AnomalyDelete(X_train)\n",
    "    y_train = pd.Series(y_train)\n",
    "    X_train, y_train = delHandler(X_train, y_train, idxs)\n",
    "    return X_train, y_train\n",
    "\n",
    "\n",
    "X_train, y_train = AnomalyHandler(X_train, y_train)'''"
   ],
   "metadata": {
    "collapsed": false,
    "ExecuteTime": {
     "end_time": "2024-09-12T14:06:25.581850235Z",
     "start_time": "2024-09-12T14:06:25.579050387Z"
    }
   },
   "id": "582d0d05231aac37",
   "execution_count": 13
  },
  {
   "cell_type": "code",
   "outputs": [
    {
     "data": {
      "text/plain": "(2340, 478)"
     },
     "execution_count": 14,
     "metadata": {},
     "output_type": "execute_result"
    }
   ],
   "source": [
    "X_train.shape"
   ],
   "metadata": {
    "collapsed": false,
    "ExecuteTime": {
     "end_time": "2024-09-12T14:06:25.583130405Z",
     "start_time": "2024-09-12T14:06:25.579319537Z"
    }
   },
   "id": "7c83a6e869035de1",
   "execution_count": 14
  },
  {
   "cell_type": "code",
   "outputs": [],
   "source": [
    "from sklearn.feature_selection import RFE\n",
    "from sklearn.decomposition import PCA\n",
    "\n",
    "model = xgb.XGBClassifier(\n",
    "    max_depth=5,              \n",
    "    learning_rate=0.01,    \n",
    "    n_estimators=50,                              \n",
    "    objective='binary:logistic',\n",
    "    eval_metric='logloss',      \n",
    "    random_state=42              \n",
    ")\n",
    "\n",
    "rfe = RFE(model, n_features_to_select=200)\n",
    "X_train = rfe.fit_transform(X_train, y_train)\n",
    "pca = PCA(n_components=20) \n",
    "X_train = pca.fit_transform(X_train)\n"
   ],
   "metadata": {
    "collapsed": false,
    "ExecuteTime": {
     "end_time": "2024-09-12T14:09:38.629700968Z",
     "start_time": "2024-09-12T14:06:25.579490462Z"
    }
   },
   "id": "c85ba9019a122a9d",
   "execution_count": 15
  },
  {
   "cell_type": "code",
   "outputs": [
    {
     "data": {
      "text/plain": "XGBClassifier(base_score=None, booster=None, callbacks=None,\n              colsample_bylevel=None, colsample_bynode=None,\n              colsample_bytree=None, device=None, early_stopping_rounds=None,\n              enable_categorical=False, eval_metric='logloss',\n              feature_types=None, gamma=None, grow_policy=None,\n              importance_type=None, interaction_constraints=None,\n              learning_rate=0.01, max_bin=None, max_cat_threshold=None,\n              max_cat_to_onehot=None, max_delta_step=None, max_depth=10,\n              max_leaves=None, min_child_weight=None, missing=nan,\n              monotone_constraints=None, multi_strategy=None, n_estimators=100,\n              n_jobs=None, num_parallel_tree=None, random_state=42, ...)",
      "text/html": "<style>#sk-container-id-1 {\n  /* Definition of color scheme common for light and dark mode */\n  --sklearn-color-text: black;\n  --sklearn-color-line: gray;\n  /* Definition of color scheme for unfitted estimators */\n  --sklearn-color-unfitted-level-0: #fff5e6;\n  --sklearn-color-unfitted-level-1: #f6e4d2;\n  --sklearn-color-unfitted-level-2: #ffe0b3;\n  --sklearn-color-unfitted-level-3: chocolate;\n  /* Definition of color scheme for fitted estimators */\n  --sklearn-color-fitted-level-0: #f0f8ff;\n  --sklearn-color-fitted-level-1: #d4ebff;\n  --sklearn-color-fitted-level-2: #b3dbfd;\n  --sklearn-color-fitted-level-3: cornflowerblue;\n\n  /* Specific color for light theme */\n  --sklearn-color-text-on-default-background: var(--sg-text-color, var(--theme-code-foreground, var(--jp-content-font-color1, black)));\n  --sklearn-color-background: var(--sg-background-color, var(--theme-background, var(--jp-layout-color0, white)));\n  --sklearn-color-border-box: var(--sg-text-color, var(--theme-code-foreground, var(--jp-content-font-color1, black)));\n  --sklearn-color-icon: #696969;\n\n  @media (prefers-color-scheme: dark) {\n    /* Redefinition of color scheme for dark theme */\n    --sklearn-color-text-on-default-background: var(--sg-text-color, var(--theme-code-foreground, var(--jp-content-font-color1, white)));\n    --sklearn-color-background: var(--sg-background-color, var(--theme-background, var(--jp-layout-color0, #111)));\n    --sklearn-color-border-box: var(--sg-text-color, var(--theme-code-foreground, var(--jp-content-font-color1, white)));\n    --sklearn-color-icon: #878787;\n  }\n}\n\n#sk-container-id-1 {\n  color: var(--sklearn-color-text);\n}\n\n#sk-container-id-1 pre {\n  padding: 0;\n}\n\n#sk-container-id-1 input.sk-hidden--visually {\n  border: 0;\n  clip: rect(1px 1px 1px 1px);\n  clip: rect(1px, 1px, 1px, 1px);\n  height: 1px;\n  margin: -1px;\n  overflow: hidden;\n  padding: 0;\n  position: absolute;\n  width: 1px;\n}\n\n#sk-container-id-1 div.sk-dashed-wrapped {\n  border: 1px dashed var(--sklearn-color-line);\n  margin: 0 0.4em 0.5em 0.4em;\n  box-sizing: border-box;\n  padding-bottom: 0.4em;\n  background-color: var(--sklearn-color-background);\n}\n\n#sk-container-id-1 div.sk-container {\n  /* jupyter's `normalize.less` sets `[hidden] { display: none; }`\n     but bootstrap.min.css set `[hidden] { display: none !important; }`\n     so we also need the `!important` here to be able to override the\n     default hidden behavior on the sphinx rendered scikit-learn.org.\n     See: https://github.com/scikit-learn/scikit-learn/issues/21755 */\n  display: inline-block !important;\n  position: relative;\n}\n\n#sk-container-id-1 div.sk-text-repr-fallback {\n  display: none;\n}\n\ndiv.sk-parallel-item,\ndiv.sk-serial,\ndiv.sk-item {\n  /* draw centered vertical line to link estimators */\n  background-image: linear-gradient(var(--sklearn-color-text-on-default-background), var(--sklearn-color-text-on-default-background));\n  background-size: 2px 100%;\n  background-repeat: no-repeat;\n  background-position: center center;\n}\n\n/* Parallel-specific style estimator block */\n\n#sk-container-id-1 div.sk-parallel-item::after {\n  content: \"\";\n  width: 100%;\n  border-bottom: 2px solid var(--sklearn-color-text-on-default-background);\n  flex-grow: 1;\n}\n\n#sk-container-id-1 div.sk-parallel {\n  display: flex;\n  align-items: stretch;\n  justify-content: center;\n  background-color: var(--sklearn-color-background);\n  position: relative;\n}\n\n#sk-container-id-1 div.sk-parallel-item {\n  display: flex;\n  flex-direction: column;\n}\n\n#sk-container-id-1 div.sk-parallel-item:first-child::after {\n  align-self: flex-end;\n  width: 50%;\n}\n\n#sk-container-id-1 div.sk-parallel-item:last-child::after {\n  align-self: flex-start;\n  width: 50%;\n}\n\n#sk-container-id-1 div.sk-parallel-item:only-child::after {\n  width: 0;\n}\n\n/* Serial-specific style estimator block */\n\n#sk-container-id-1 div.sk-serial {\n  display: flex;\n  flex-direction: column;\n  align-items: center;\n  background-color: var(--sklearn-color-background);\n  padding-right: 1em;\n  padding-left: 1em;\n}\n\n\n/* Toggleable style: style used for estimator/Pipeline/ColumnTransformer box that is\nclickable and can be expanded/collapsed.\n- Pipeline and ColumnTransformer use this feature and define the default style\n- Estimators will overwrite some part of the style using the `sk-estimator` class\n*/\n\n/* Pipeline and ColumnTransformer style (default) */\n\n#sk-container-id-1 div.sk-toggleable {\n  /* Default theme specific background. It is overwritten whether we have a\n  specific estimator or a Pipeline/ColumnTransformer */\n  background-color: var(--sklearn-color-background);\n}\n\n/* Toggleable label */\n#sk-container-id-1 label.sk-toggleable__label {\n  cursor: pointer;\n  display: block;\n  width: 100%;\n  margin-bottom: 0;\n  padding: 0.5em;\n  box-sizing: border-box;\n  text-align: center;\n}\n\n#sk-container-id-1 label.sk-toggleable__label-arrow:before {\n  /* Arrow on the left of the label */\n  content: \"▸\";\n  float: left;\n  margin-right: 0.25em;\n  color: var(--sklearn-color-icon);\n}\n\n#sk-container-id-1 label.sk-toggleable__label-arrow:hover:before {\n  color: var(--sklearn-color-text);\n}\n\n/* Toggleable content - dropdown */\n\n#sk-container-id-1 div.sk-toggleable__content {\n  max-height: 0;\n  max-width: 0;\n  overflow: hidden;\n  text-align: left;\n  /* unfitted */\n  background-color: var(--sklearn-color-unfitted-level-0);\n}\n\n#sk-container-id-1 div.sk-toggleable__content.fitted {\n  /* fitted */\n  background-color: var(--sklearn-color-fitted-level-0);\n}\n\n#sk-container-id-1 div.sk-toggleable__content pre {\n  margin: 0.2em;\n  border-radius: 0.25em;\n  color: var(--sklearn-color-text);\n  /* unfitted */\n  background-color: var(--sklearn-color-unfitted-level-0);\n}\n\n#sk-container-id-1 div.sk-toggleable__content.fitted pre {\n  /* unfitted */\n  background-color: var(--sklearn-color-fitted-level-0);\n}\n\n#sk-container-id-1 input.sk-toggleable__control:checked~div.sk-toggleable__content {\n  /* Expand drop-down */\n  max-height: 200px;\n  max-width: 100%;\n  overflow: auto;\n}\n\n#sk-container-id-1 input.sk-toggleable__control:checked~label.sk-toggleable__label-arrow:before {\n  content: \"▾\";\n}\n\n/* Pipeline/ColumnTransformer-specific style */\n\n#sk-container-id-1 div.sk-label input.sk-toggleable__control:checked~label.sk-toggleable__label {\n  color: var(--sklearn-color-text);\n  background-color: var(--sklearn-color-unfitted-level-2);\n}\n\n#sk-container-id-1 div.sk-label.fitted input.sk-toggleable__control:checked~label.sk-toggleable__label {\n  background-color: var(--sklearn-color-fitted-level-2);\n}\n\n/* Estimator-specific style */\n\n/* Colorize estimator box */\n#sk-container-id-1 div.sk-estimator input.sk-toggleable__control:checked~label.sk-toggleable__label {\n  /* unfitted */\n  background-color: var(--sklearn-color-unfitted-level-2);\n}\n\n#sk-container-id-1 div.sk-estimator.fitted input.sk-toggleable__control:checked~label.sk-toggleable__label {\n  /* fitted */\n  background-color: var(--sklearn-color-fitted-level-2);\n}\n\n#sk-container-id-1 div.sk-label label.sk-toggleable__label,\n#sk-container-id-1 div.sk-label label {\n  /* The background is the default theme color */\n  color: var(--sklearn-color-text-on-default-background);\n}\n\n/* On hover, darken the color of the background */\n#sk-container-id-1 div.sk-label:hover label.sk-toggleable__label {\n  color: var(--sklearn-color-text);\n  background-color: var(--sklearn-color-unfitted-level-2);\n}\n\n/* Label box, darken color on hover, fitted */\n#sk-container-id-1 div.sk-label.fitted:hover label.sk-toggleable__label.fitted {\n  color: var(--sklearn-color-text);\n  background-color: var(--sklearn-color-fitted-level-2);\n}\n\n/* Estimator label */\n\n#sk-container-id-1 div.sk-label label {\n  font-family: monospace;\n  font-weight: bold;\n  display: inline-block;\n  line-height: 1.2em;\n}\n\n#sk-container-id-1 div.sk-label-container {\n  text-align: center;\n}\n\n/* Estimator-specific */\n#sk-container-id-1 div.sk-estimator {\n  font-family: monospace;\n  border: 1px dotted var(--sklearn-color-border-box);\n  border-radius: 0.25em;\n  box-sizing: border-box;\n  margin-bottom: 0.5em;\n  /* unfitted */\n  background-color: var(--sklearn-color-unfitted-level-0);\n}\n\n#sk-container-id-1 div.sk-estimator.fitted {\n  /* fitted */\n  background-color: var(--sklearn-color-fitted-level-0);\n}\n\n/* on hover */\n#sk-container-id-1 div.sk-estimator:hover {\n  /* unfitted */\n  background-color: var(--sklearn-color-unfitted-level-2);\n}\n\n#sk-container-id-1 div.sk-estimator.fitted:hover {\n  /* fitted */\n  background-color: var(--sklearn-color-fitted-level-2);\n}\n\n/* Specification for estimator info (e.g. \"i\" and \"?\") */\n\n/* Common style for \"i\" and \"?\" */\n\n.sk-estimator-doc-link,\na:link.sk-estimator-doc-link,\na:visited.sk-estimator-doc-link {\n  float: right;\n  font-size: smaller;\n  line-height: 1em;\n  font-family: monospace;\n  background-color: var(--sklearn-color-background);\n  border-radius: 1em;\n  height: 1em;\n  width: 1em;\n  text-decoration: none !important;\n  margin-left: 1ex;\n  /* unfitted */\n  border: var(--sklearn-color-unfitted-level-1) 1pt solid;\n  color: var(--sklearn-color-unfitted-level-1);\n}\n\n.sk-estimator-doc-link.fitted,\na:link.sk-estimator-doc-link.fitted,\na:visited.sk-estimator-doc-link.fitted {\n  /* fitted */\n  border: var(--sklearn-color-fitted-level-1) 1pt solid;\n  color: var(--sklearn-color-fitted-level-1);\n}\n\n/* On hover */\ndiv.sk-estimator:hover .sk-estimator-doc-link:hover,\n.sk-estimator-doc-link:hover,\ndiv.sk-label-container:hover .sk-estimator-doc-link:hover,\n.sk-estimator-doc-link:hover {\n  /* unfitted */\n  background-color: var(--sklearn-color-unfitted-level-3);\n  color: var(--sklearn-color-background);\n  text-decoration: none;\n}\n\ndiv.sk-estimator.fitted:hover .sk-estimator-doc-link.fitted:hover,\n.sk-estimator-doc-link.fitted:hover,\ndiv.sk-label-container:hover .sk-estimator-doc-link.fitted:hover,\n.sk-estimator-doc-link.fitted:hover {\n  /* fitted */\n  background-color: var(--sklearn-color-fitted-level-3);\n  color: var(--sklearn-color-background);\n  text-decoration: none;\n}\n\n/* Span, style for the box shown on hovering the info icon */\n.sk-estimator-doc-link span {\n  display: none;\n  z-index: 9999;\n  position: relative;\n  font-weight: normal;\n  right: .2ex;\n  padding: .5ex;\n  margin: .5ex;\n  width: min-content;\n  min-width: 20ex;\n  max-width: 50ex;\n  color: var(--sklearn-color-text);\n  box-shadow: 2pt 2pt 4pt #999;\n  /* unfitted */\n  background: var(--sklearn-color-unfitted-level-0);\n  border: .5pt solid var(--sklearn-color-unfitted-level-3);\n}\n\n.sk-estimator-doc-link.fitted span {\n  /* fitted */\n  background: var(--sklearn-color-fitted-level-0);\n  border: var(--sklearn-color-fitted-level-3);\n}\n\n.sk-estimator-doc-link:hover span {\n  display: block;\n}\n\n/* \"?\"-specific style due to the `<a>` HTML tag */\n\n#sk-container-id-1 a.estimator_doc_link {\n  float: right;\n  font-size: 1rem;\n  line-height: 1em;\n  font-family: monospace;\n  background-color: var(--sklearn-color-background);\n  border-radius: 1rem;\n  height: 1rem;\n  width: 1rem;\n  text-decoration: none;\n  /* unfitted */\n  color: var(--sklearn-color-unfitted-level-1);\n  border: var(--sklearn-color-unfitted-level-1) 1pt solid;\n}\n\n#sk-container-id-1 a.estimator_doc_link.fitted {\n  /* fitted */\n  border: var(--sklearn-color-fitted-level-1) 1pt solid;\n  color: var(--sklearn-color-fitted-level-1);\n}\n\n/* On hover */\n#sk-container-id-1 a.estimator_doc_link:hover {\n  /* unfitted */\n  background-color: var(--sklearn-color-unfitted-level-3);\n  color: var(--sklearn-color-background);\n  text-decoration: none;\n}\n\n#sk-container-id-1 a.estimator_doc_link.fitted:hover {\n  /* fitted */\n  background-color: var(--sklearn-color-fitted-level-3);\n}\n</style><div id=\"sk-container-id-1\" class=\"sk-top-container\"><div class=\"sk-text-repr-fallback\"><pre>XGBClassifier(base_score=None, booster=None, callbacks=None,\n              colsample_bylevel=None, colsample_bynode=None,\n              colsample_bytree=None, device=None, early_stopping_rounds=None,\n              enable_categorical=False, eval_metric=&#x27;logloss&#x27;,\n              feature_types=None, gamma=None, grow_policy=None,\n              importance_type=None, interaction_constraints=None,\n              learning_rate=0.01, max_bin=None, max_cat_threshold=None,\n              max_cat_to_onehot=None, max_delta_step=None, max_depth=10,\n              max_leaves=None, min_child_weight=None, missing=nan,\n              monotone_constraints=None, multi_strategy=None, n_estimators=100,\n              n_jobs=None, num_parallel_tree=None, random_state=42, ...)</pre><b>In a Jupyter environment, please rerun this cell to show the HTML representation or trust the notebook. <br />On GitHub, the HTML representation is unable to render, please try loading this page with nbviewer.org.</b></div><div class=\"sk-container\" hidden><div class=\"sk-item\"><div class=\"sk-estimator fitted sk-toggleable\"><input class=\"sk-toggleable__control sk-hidden--visually\" id=\"sk-estimator-id-1\" type=\"checkbox\" checked><label for=\"sk-estimator-id-1\" class=\"sk-toggleable__label fitted sk-toggleable__label-arrow fitted\">&nbsp;XGBClassifier<span class=\"sk-estimator-doc-link fitted\">i<span>Fitted</span></span></label><div class=\"sk-toggleable__content fitted\"><pre>XGBClassifier(base_score=None, booster=None, callbacks=None,\n              colsample_bylevel=None, colsample_bynode=None,\n              colsample_bytree=None, device=None, early_stopping_rounds=None,\n              enable_categorical=False, eval_metric=&#x27;logloss&#x27;,\n              feature_types=None, gamma=None, grow_policy=None,\n              importance_type=None, interaction_constraints=None,\n              learning_rate=0.01, max_bin=None, max_cat_threshold=None,\n              max_cat_to_onehot=None, max_delta_step=None, max_depth=10,\n              max_leaves=None, min_child_weight=None, missing=nan,\n              monotone_constraints=None, multi_strategy=None, n_estimators=100,\n              n_jobs=None, num_parallel_tree=None, random_state=42, ...)</pre></div> </div></div></div></div>"
     },
     "execution_count": 16,
     "metadata": {},
     "output_type": "execute_result"
    }
   ],
   "source": [
    "\n",
    "model = xgb.XGBClassifier(\n",
    "    max_depth=10,              \n",
    "    learning_rate=0.01,    \n",
    "    n_estimators=100,                              \n",
    "    objective='binary:logistic',\n",
    "    eval_metric='logloss',      \n",
    "    random_state=42,\n",
    "\n",
    ")\n",
    "model.fit(X_train,y_train)\n"
   ],
   "metadata": {
    "collapsed": false,
    "ExecuteTime": {
     "end_time": "2024-09-12T14:09:39.080937686Z",
     "start_time": "2024-09-12T14:09:38.628577397Z"
    }
   },
   "id": "6d1fe90942c865ce",
   "execution_count": 16
  },
  {
   "cell_type": "code",
   "outputs": [
    {
     "data": {
      "text/plain": "(314, 478)"
     },
     "execution_count": 17,
     "metadata": {},
     "output_type": "execute_result"
    }
   ],
   "source": [
    "X_test.shape"
   ],
   "metadata": {
    "collapsed": false,
    "ExecuteTime": {
     "end_time": "2024-09-12T14:09:39.081997321Z",
     "start_time": "2024-09-12T14:09:39.080015505Z"
    }
   },
   "id": "e2fd5f3efae86936",
   "execution_count": 17
  },
  {
   "cell_type": "code",
   "outputs": [],
   "source": [
    "X_test_rfe = rfe.transform(X_test) "
   ],
   "metadata": {
    "collapsed": false,
    "ExecuteTime": {
     "end_time": "2024-09-12T14:09:39.128031055Z",
     "start_time": "2024-09-12T14:09:39.081917819Z"
    }
   },
   "id": "8f24888ec999ec9a",
   "execution_count": 18
  },
  {
   "cell_type": "code",
   "outputs": [
    {
     "ename": "ValueError",
     "evalue": "Input X contains NaN.\nPCA does not accept missing values encoded as NaN natively. For supervised learning, you might want to consider sklearn.ensemble.HistGradientBoostingClassifier and Regressor which accept missing values encoded as NaNs natively. Alternatively, it is possible to preprocess the data, for instance by using an imputer transformer in a pipeline or drop samples with missing values. See https://scikit-learn.org/stable/modules/impute.html You can find a list of all estimators that handle NaN values at the following page: https://scikit-learn.org/stable/modules/impute.html#estimators-that-handle-nan-values",
     "output_type": "error",
     "traceback": [
      "\u001B[0;31m---------------------------------------------------------------------------\u001B[0m",
      "\u001B[0;31mValueError\u001B[0m                                Traceback (most recent call last)",
      "Cell \u001B[0;32mIn[19], line 1\u001B[0m\n\u001B[0;32m----> 1\u001B[0m X_test_pca \u001B[38;5;241m=\u001B[39m \u001B[43mpca\u001B[49m\u001B[38;5;241;43m.\u001B[39;49m\u001B[43mtransform\u001B[49m\u001B[43m(\u001B[49m\u001B[43mX_test_rfe\u001B[49m\u001B[43m)\u001B[49m\n",
      "File \u001B[0;32m~/anaconda3/envs/forpytorch/lib/python3.9/site-packages/sklearn/utils/_set_output.py:273\u001B[0m, in \u001B[0;36m_wrap_method_output.<locals>.wrapped\u001B[0;34m(self, X, *args, **kwargs)\u001B[0m\n\u001B[1;32m    271\u001B[0m \u001B[38;5;129m@wraps\u001B[39m(f)\n\u001B[1;32m    272\u001B[0m \u001B[38;5;28;01mdef\u001B[39;00m \u001B[38;5;21mwrapped\u001B[39m(\u001B[38;5;28mself\u001B[39m, X, \u001B[38;5;241m*\u001B[39margs, \u001B[38;5;241m*\u001B[39m\u001B[38;5;241m*\u001B[39mkwargs):\n\u001B[0;32m--> 273\u001B[0m     data_to_wrap \u001B[38;5;241m=\u001B[39m \u001B[43mf\u001B[49m\u001B[43m(\u001B[49m\u001B[38;5;28;43mself\u001B[39;49m\u001B[43m,\u001B[49m\u001B[43m \u001B[49m\u001B[43mX\u001B[49m\u001B[43m,\u001B[49m\u001B[43m \u001B[49m\u001B[38;5;241;43m*\u001B[39;49m\u001B[43margs\u001B[49m\u001B[43m,\u001B[49m\u001B[43m \u001B[49m\u001B[38;5;241;43m*\u001B[39;49m\u001B[38;5;241;43m*\u001B[39;49m\u001B[43mkwargs\u001B[49m\u001B[43m)\u001B[49m\n\u001B[1;32m    274\u001B[0m     \u001B[38;5;28;01mif\u001B[39;00m \u001B[38;5;28misinstance\u001B[39m(data_to_wrap, \u001B[38;5;28mtuple\u001B[39m):\n\u001B[1;32m    275\u001B[0m         \u001B[38;5;66;03m# only wrap the first output for cross decomposition\u001B[39;00m\n\u001B[1;32m    276\u001B[0m         return_tuple \u001B[38;5;241m=\u001B[39m (\n\u001B[1;32m    277\u001B[0m             _wrap_data_with_container(method, data_to_wrap[\u001B[38;5;241m0\u001B[39m], X, \u001B[38;5;28mself\u001B[39m),\n\u001B[1;32m    278\u001B[0m             \u001B[38;5;241m*\u001B[39mdata_to_wrap[\u001B[38;5;241m1\u001B[39m:],\n\u001B[1;32m    279\u001B[0m         )\n",
      "File \u001B[0;32m~/anaconda3/envs/forpytorch/lib/python3.9/site-packages/sklearn/decomposition/_base.py:145\u001B[0m, in \u001B[0;36m_BasePCA.transform\u001B[0;34m(self, X)\u001B[0m\n\u001B[1;32m    141\u001B[0m xp, _ \u001B[38;5;241m=\u001B[39m get_namespace(X)\n\u001B[1;32m    143\u001B[0m check_is_fitted(\u001B[38;5;28mself\u001B[39m)\n\u001B[0;32m--> 145\u001B[0m X \u001B[38;5;241m=\u001B[39m \u001B[38;5;28;43mself\u001B[39;49m\u001B[38;5;241;43m.\u001B[39;49m\u001B[43m_validate_data\u001B[49m\u001B[43m(\u001B[49m\n\u001B[1;32m    146\u001B[0m \u001B[43m    \u001B[49m\u001B[43mX\u001B[49m\u001B[43m,\u001B[49m\u001B[43m \u001B[49m\u001B[43maccept_sparse\u001B[49m\u001B[38;5;241;43m=\u001B[39;49m\u001B[43m(\u001B[49m\u001B[38;5;124;43m\"\u001B[39;49m\u001B[38;5;124;43mcsr\u001B[39;49m\u001B[38;5;124;43m\"\u001B[39;49m\u001B[43m,\u001B[49m\u001B[43m \u001B[49m\u001B[38;5;124;43m\"\u001B[39;49m\u001B[38;5;124;43mcsc\u001B[39;49m\u001B[38;5;124;43m\"\u001B[39;49m\u001B[43m)\u001B[49m\u001B[43m,\u001B[49m\u001B[43m \u001B[49m\u001B[43mdtype\u001B[49m\u001B[38;5;241;43m=\u001B[39;49m\u001B[43m[\u001B[49m\u001B[43mxp\u001B[49m\u001B[38;5;241;43m.\u001B[39;49m\u001B[43mfloat64\u001B[49m\u001B[43m,\u001B[49m\u001B[43m \u001B[49m\u001B[43mxp\u001B[49m\u001B[38;5;241;43m.\u001B[39;49m\u001B[43mfloat32\u001B[49m\u001B[43m]\u001B[49m\u001B[43m,\u001B[49m\u001B[43m \u001B[49m\u001B[43mreset\u001B[49m\u001B[38;5;241;43m=\u001B[39;49m\u001B[38;5;28;43;01mFalse\u001B[39;49;00m\n\u001B[1;32m    147\u001B[0m \u001B[43m\u001B[49m\u001B[43m)\u001B[49m\n\u001B[1;32m    148\u001B[0m \u001B[38;5;28;01mif\u001B[39;00m \u001B[38;5;28mself\u001B[39m\u001B[38;5;241m.\u001B[39mmean_ \u001B[38;5;129;01mis\u001B[39;00m \u001B[38;5;129;01mnot\u001B[39;00m \u001B[38;5;28;01mNone\u001B[39;00m:\n\u001B[1;32m    149\u001B[0m     \u001B[38;5;28;01mif\u001B[39;00m issparse(X):\n",
      "File \u001B[0;32m~/anaconda3/envs/forpytorch/lib/python3.9/site-packages/sklearn/base.py:633\u001B[0m, in \u001B[0;36mBaseEstimator._validate_data\u001B[0;34m(self, X, y, reset, validate_separately, cast_to_ndarray, **check_params)\u001B[0m\n\u001B[1;32m    631\u001B[0m         out \u001B[38;5;241m=\u001B[39m X, y\n\u001B[1;32m    632\u001B[0m \u001B[38;5;28;01melif\u001B[39;00m \u001B[38;5;129;01mnot\u001B[39;00m no_val_X \u001B[38;5;129;01mand\u001B[39;00m no_val_y:\n\u001B[0;32m--> 633\u001B[0m     out \u001B[38;5;241m=\u001B[39m \u001B[43mcheck_array\u001B[49m\u001B[43m(\u001B[49m\u001B[43mX\u001B[49m\u001B[43m,\u001B[49m\u001B[43m \u001B[49m\u001B[43minput_name\u001B[49m\u001B[38;5;241;43m=\u001B[39;49m\u001B[38;5;124;43m\"\u001B[39;49m\u001B[38;5;124;43mX\u001B[39;49m\u001B[38;5;124;43m\"\u001B[39;49m\u001B[43m,\u001B[49m\u001B[43m \u001B[49m\u001B[38;5;241;43m*\u001B[39;49m\u001B[38;5;241;43m*\u001B[39;49m\u001B[43mcheck_params\u001B[49m\u001B[43m)\u001B[49m\n\u001B[1;32m    634\u001B[0m \u001B[38;5;28;01melif\u001B[39;00m no_val_X \u001B[38;5;129;01mand\u001B[39;00m \u001B[38;5;129;01mnot\u001B[39;00m no_val_y:\n\u001B[1;32m    635\u001B[0m     out \u001B[38;5;241m=\u001B[39m _check_y(y, \u001B[38;5;241m*\u001B[39m\u001B[38;5;241m*\u001B[39mcheck_params)\n",
      "File \u001B[0;32m~/anaconda3/envs/forpytorch/lib/python3.9/site-packages/sklearn/utils/validation.py:1003\u001B[0m, in \u001B[0;36mcheck_array\u001B[0;34m(array, accept_sparse, accept_large_sparse, dtype, order, copy, force_all_finite, ensure_2d, allow_nd, ensure_min_samples, ensure_min_features, estimator, input_name)\u001B[0m\n\u001B[1;32m    997\u001B[0m     \u001B[38;5;28;01mraise\u001B[39;00m \u001B[38;5;167;01mValueError\u001B[39;00m(\n\u001B[1;32m    998\u001B[0m         \u001B[38;5;124m\"\u001B[39m\u001B[38;5;124mFound array with dim \u001B[39m\u001B[38;5;132;01m%d\u001B[39;00m\u001B[38;5;124m. \u001B[39m\u001B[38;5;132;01m%s\u001B[39;00m\u001B[38;5;124m expected <= 2.\u001B[39m\u001B[38;5;124m\"\u001B[39m\n\u001B[1;32m    999\u001B[0m         \u001B[38;5;241m%\u001B[39m (array\u001B[38;5;241m.\u001B[39mndim, estimator_name)\n\u001B[1;32m   1000\u001B[0m     )\n\u001B[1;32m   1002\u001B[0m \u001B[38;5;28;01mif\u001B[39;00m force_all_finite:\n\u001B[0;32m-> 1003\u001B[0m     \u001B[43m_assert_all_finite\u001B[49m\u001B[43m(\u001B[49m\n\u001B[1;32m   1004\u001B[0m \u001B[43m        \u001B[49m\u001B[43marray\u001B[49m\u001B[43m,\u001B[49m\n\u001B[1;32m   1005\u001B[0m \u001B[43m        \u001B[49m\u001B[43minput_name\u001B[49m\u001B[38;5;241;43m=\u001B[39;49m\u001B[43minput_name\u001B[49m\u001B[43m,\u001B[49m\n\u001B[1;32m   1006\u001B[0m \u001B[43m        \u001B[49m\u001B[43mestimator_name\u001B[49m\u001B[38;5;241;43m=\u001B[39;49m\u001B[43mestimator_name\u001B[49m\u001B[43m,\u001B[49m\n\u001B[1;32m   1007\u001B[0m \u001B[43m        \u001B[49m\u001B[43mallow_nan\u001B[49m\u001B[38;5;241;43m=\u001B[39;49m\u001B[43mforce_all_finite\u001B[49m\u001B[43m \u001B[49m\u001B[38;5;241;43m==\u001B[39;49m\u001B[43m \u001B[49m\u001B[38;5;124;43m\"\u001B[39;49m\u001B[38;5;124;43mallow-nan\u001B[39;49m\u001B[38;5;124;43m\"\u001B[39;49m\u001B[43m,\u001B[49m\n\u001B[1;32m   1008\u001B[0m \u001B[43m    \u001B[49m\u001B[43m)\u001B[49m\n\u001B[1;32m   1010\u001B[0m \u001B[38;5;28;01mif\u001B[39;00m copy:\n\u001B[1;32m   1011\u001B[0m     \u001B[38;5;28;01mif\u001B[39;00m _is_numpy_namespace(xp):\n\u001B[1;32m   1012\u001B[0m         \u001B[38;5;66;03m# only make a copy if `array` and `array_orig` may share memory`\u001B[39;00m\n",
      "File \u001B[0;32m~/anaconda3/envs/forpytorch/lib/python3.9/site-packages/sklearn/utils/validation.py:126\u001B[0m, in \u001B[0;36m_assert_all_finite\u001B[0;34m(X, allow_nan, msg_dtype, estimator_name, input_name)\u001B[0m\n\u001B[1;32m    123\u001B[0m \u001B[38;5;28;01mif\u001B[39;00m first_pass_isfinite:\n\u001B[1;32m    124\u001B[0m     \u001B[38;5;28;01mreturn\u001B[39;00m\n\u001B[0;32m--> 126\u001B[0m \u001B[43m_assert_all_finite_element_wise\u001B[49m\u001B[43m(\u001B[49m\n\u001B[1;32m    127\u001B[0m \u001B[43m    \u001B[49m\u001B[43mX\u001B[49m\u001B[43m,\u001B[49m\n\u001B[1;32m    128\u001B[0m \u001B[43m    \u001B[49m\u001B[43mxp\u001B[49m\u001B[38;5;241;43m=\u001B[39;49m\u001B[43mxp\u001B[49m\u001B[43m,\u001B[49m\n\u001B[1;32m    129\u001B[0m \u001B[43m    \u001B[49m\u001B[43mallow_nan\u001B[49m\u001B[38;5;241;43m=\u001B[39;49m\u001B[43mallow_nan\u001B[49m\u001B[43m,\u001B[49m\n\u001B[1;32m    130\u001B[0m \u001B[43m    \u001B[49m\u001B[43mmsg_dtype\u001B[49m\u001B[38;5;241;43m=\u001B[39;49m\u001B[43mmsg_dtype\u001B[49m\u001B[43m,\u001B[49m\n\u001B[1;32m    131\u001B[0m \u001B[43m    \u001B[49m\u001B[43mestimator_name\u001B[49m\u001B[38;5;241;43m=\u001B[39;49m\u001B[43mestimator_name\u001B[49m\u001B[43m,\u001B[49m\n\u001B[1;32m    132\u001B[0m \u001B[43m    \u001B[49m\u001B[43minput_name\u001B[49m\u001B[38;5;241;43m=\u001B[39;49m\u001B[43minput_name\u001B[49m\u001B[43m,\u001B[49m\n\u001B[1;32m    133\u001B[0m \u001B[43m\u001B[49m\u001B[43m)\u001B[49m\n",
      "File \u001B[0;32m~/anaconda3/envs/forpytorch/lib/python3.9/site-packages/sklearn/utils/validation.py:175\u001B[0m, in \u001B[0;36m_assert_all_finite_element_wise\u001B[0;34m(X, xp, allow_nan, msg_dtype, estimator_name, input_name)\u001B[0m\n\u001B[1;32m    158\u001B[0m \u001B[38;5;28;01mif\u001B[39;00m estimator_name \u001B[38;5;129;01mand\u001B[39;00m input_name \u001B[38;5;241m==\u001B[39m \u001B[38;5;124m\"\u001B[39m\u001B[38;5;124mX\u001B[39m\u001B[38;5;124m\"\u001B[39m \u001B[38;5;129;01mand\u001B[39;00m has_nan_error:\n\u001B[1;32m    159\u001B[0m     \u001B[38;5;66;03m# Improve the error message on how to handle missing values in\u001B[39;00m\n\u001B[1;32m    160\u001B[0m     \u001B[38;5;66;03m# scikit-learn.\u001B[39;00m\n\u001B[1;32m    161\u001B[0m     msg_err \u001B[38;5;241m+\u001B[39m\u001B[38;5;241m=\u001B[39m (\n\u001B[1;32m    162\u001B[0m         \u001B[38;5;124mf\u001B[39m\u001B[38;5;124m\"\u001B[39m\u001B[38;5;130;01m\\n\u001B[39;00m\u001B[38;5;132;01m{\u001B[39;00mestimator_name\u001B[38;5;132;01m}\u001B[39;00m\u001B[38;5;124m does not accept missing values\u001B[39m\u001B[38;5;124m\"\u001B[39m\n\u001B[1;32m    163\u001B[0m         \u001B[38;5;124m\"\u001B[39m\u001B[38;5;124m encoded as NaN natively. For supervised learning, you might want\u001B[39m\u001B[38;5;124m\"\u001B[39m\n\u001B[0;32m   (...)\u001B[0m\n\u001B[1;32m    173\u001B[0m         \u001B[38;5;124m\"\u001B[39m\u001B[38;5;124m#estimators-that-handle-nan-values\u001B[39m\u001B[38;5;124m\"\u001B[39m\n\u001B[1;32m    174\u001B[0m     )\n\u001B[0;32m--> 175\u001B[0m \u001B[38;5;28;01mraise\u001B[39;00m \u001B[38;5;167;01mValueError\u001B[39;00m(msg_err)\n",
      "\u001B[0;31mValueError\u001B[0m: Input X contains NaN.\nPCA does not accept missing values encoded as NaN natively. For supervised learning, you might want to consider sklearn.ensemble.HistGradientBoostingClassifier and Regressor which accept missing values encoded as NaNs natively. Alternatively, it is possible to preprocess the data, for instance by using an imputer transformer in a pipeline or drop samples with missing values. See https://scikit-learn.org/stable/modules/impute.html You can find a list of all estimators that handle NaN values at the following page: https://scikit-learn.org/stable/modules/impute.html#estimators-that-handle-nan-values"
     ]
    }
   ],
   "source": [
    "X_test_pca = pca.transform(X_test_rfe)"
   ],
   "metadata": {
    "collapsed": false,
    "ExecuteTime": {
     "end_time": "2024-09-12T14:09:39.536904234Z",
     "start_time": "2024-09-12T14:09:39.123043904Z"
    }
   },
   "id": "dd6f8e124a19e2d3",
   "execution_count": 19
  },
  {
   "cell_type": "code",
   "outputs": [],
   "source": [
    "y_pred = model.predict(X_test_pca)"
   ],
   "metadata": {
    "collapsed": false,
    "ExecuteTime": {
     "start_time": "2024-09-12T14:09:39.538573264Z"
    }
   },
   "id": "fff2a601c39a27a9",
   "execution_count": null
  },
  {
   "cell_type": "code",
   "outputs": [],
   "source": [
    "from sklearn.metrics import f1_score, balanced_accuracy_score\n",
    "f1 = f1_score(y_pred, y_test)\n",
    "balance = balanced_accuracy_score(y_pred, y_test)\n",
    "print(f'f1 score is : {f1}')\n",
    "print(f'balanced score is : {balance}')"
   ],
   "metadata": {
    "collapsed": false,
    "ExecuteTime": {
     "start_time": "2024-09-12T14:09:39.561467952Z"
    }
   },
   "id": "89b502c5f141c49c",
   "execution_count": null
  },
  {
   "cell_type": "code",
   "outputs": [],
   "source": [
    "import joblib\n",
    "\n",
    "joblib.dump(model, 'best_xgboost_model.pkl')"
   ],
   "metadata": {
    "collapsed": false,
    "ExecuteTime": {
     "start_time": "2024-09-12T14:09:39.561620655Z"
    }
   },
   "id": "8b4c7f1d87efbaba",
   "execution_count": null
  },
  {
   "cell_type": "code",
   "outputs": [],
   "source": [],
   "metadata": {
    "collapsed": false,
    "ExecuteTime": {
     "start_time": "2024-09-12T14:09:39.561723849Z"
    }
   },
   "id": "5a7c9571da216681"
  }
 ],
 "metadata": {
  "kernelspec": {
   "display_name": "Python 3",
   "language": "python",
   "name": "python3"
  },
  "language_info": {
   "codemirror_mode": {
    "name": "ipython",
    "version": 2
   },
   "file_extension": ".py",
   "mimetype": "text/x-python",
   "name": "python",
   "nbconvert_exporter": "python",
   "pygments_lexer": "ipython2",
   "version": "2.7.6"
  }
 },
 "nbformat": 4,
 "nbformat_minor": 5
}
