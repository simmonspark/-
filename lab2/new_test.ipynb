{
 "cells": [
  {
   "cell_type": "code",
   "id": "initial_id",
   "metadata": {
    "collapsed": true,
    "ExecuteTime": {
     "end_time": "2024-09-30T04:56:43.182699Z",
     "start_time": "2024-09-30T04:56:42.912912Z"
    }
   },
   "source": [
    "\n",
    "# Libraries for reading and manipulating data\n",
    "import numpy as np\n",
    "import pandas as pd\n",
    "\n",
    "# Libraries for data visualization\n",
    "import matplotlib.pyplot as plt\n",
    "import seaborn as sns\n",
    "\n",
    "# Libraries for model management\n",
    "import pickle\n",
    "from sklearn.pipeline import Pipeline\n",
    "\n",
    "# Libraries for data-preprocessing, model building and evaluation\n",
    "from sklearn import metrics\n",
    "from sklearn.decomposition import PCA\n",
    "from sklearn.preprocessing import StandardScaler\n",
    "from sklearn.model_selection import (KFold,\n",
    "                                     LeaveOneOut,\n",
    "                                     StratifiedKFold,\n",
    "                                     cross_val_score,\n",
    "                                     train_test_split,\n",
    "                                     GridSearchCV,\n",
    "                                     RandomizedSearchCV)\n",
    "\n",
    "# Classifier models\n",
    "from sklearn.svm import SVC\n",
    "from sklearn.naive_bayes import GaussianNB\n",
    "from sklearn.ensemble import BaggingClassifier\n",
    "from sklearn.ensemble import AdaBoostClassifier\n",
    "from sklearn.tree import DecisionTreeClassifier\n",
    "from sklearn.neighbors import KNeighborsClassifier\n",
    "from sklearn.ensemble import RandomForestClassifier\n",
    "from sklearn.linear_model import LogisticRegression\n",
    "from sklearn.ensemble import GradientBoostingClassifier\n",
    "\n",
    "# Library to over-sample a given data\n",
    "from imblearn.over_sampling import SMOTE\n",
    "import os\n",
    "\n",
    "# 데이터 불러오기\n",
    "if os.path.exists('semi.csv'):\n",
    "    df = pd.read_csv('semi.csv')\n",
    "else:\n",
    "    raise FileNotFoundError(\"CSV 파일이 없습니다. 데이터를 업로드해주세요.\")\n",
    "\n",
    "# 데이터 확인\n",
    "print(f\"Shape of the dataset: {df.shape}\")\n",
    "print(df.info())\n",
    "\n",
    "\n",
    "def display_null_count(df):\n",
    "    for attr in df.columns:\n",
    "        print('-' * 50)\n",
    "        print(f'{attr}')\n",
    "        print('-' * 50)\n",
    "        print('Null entry count:', df[attr].isnull().sum())\n",
    "        print('Null entry proportion:', round(100 * df[attr].isnull().sum() / df.shape[0], 2), '%\\n')\n",
    "\n",
    "\n",
    "display_null_count(df[['Time', 'Pass/Fail']])\n",
    "\n",
    "\n",
    "\n"
   ],
   "outputs": [
    {
     "name": "stdout",
     "output_type": "stream",
     "text": [
      "Shape of the dataset: (1567, 592)\n",
      "<class 'pandas.core.frame.DataFrame'>\n",
      "RangeIndex: 1567 entries, 0 to 1566\n",
      "Columns: 592 entries, Time to Pass/Fail\n",
      "dtypes: float64(590), int64(1), object(1)\n",
      "memory usage: 7.1+ MB\n",
      "None\n",
      "--------------------------------------------------\n",
      "Time\n",
      "--------------------------------------------------\n",
      "Null entry count: 0\n",
      "Null entry proportion: 0.0 %\n",
      "\n",
      "--------------------------------------------------\n",
      "Pass/Fail\n",
      "--------------------------------------------------\n",
      "Null entry count: 0\n",
      "Null entry proportion: 0.0 %\n",
      "\n"
     ]
    }
   ],
   "execution_count": 192
  },
  {
   "metadata": {
    "ExecuteTime": {
     "end_time": "2024-09-30T04:56:43.348230Z",
     "start_time": "2024-09-30T04:56:43.183767Z"
    }
   },
   "cell_type": "code",
   "source": [
    "for attr in df.select_dtypes(include=['float64']).columns:\n",
    "    null_proportion = (df[attr].isnull().sum() / df.shape[0])  # str(attr) 대신 attr 사용\n",
    "    if null_proportion > 0.2:\n",
    "        df = df.drop(attr, axis=1)\n",
    "    elif null_proportion:\n",
    "        df[attr] = df[attr].fillna(df[attr].mean())  # str(attr) 대신 attr 사용\n",
    "\n",
    "df.info()\n"
   ],
   "id": "8d574f45c1b36ee0",
   "outputs": [
    {
     "name": "stdout",
     "output_type": "stream",
     "text": [
      "<class 'pandas.core.frame.DataFrame'>\n",
      "RangeIndex: 1567 entries, 0 to 1566\n",
      "Columns: 560 entries, Time to Pass/Fail\n",
      "dtypes: float64(558), int64(1), object(1)\n",
      "memory usage: 6.7+ MB\n"
     ]
    }
   ],
   "execution_count": 193
  },
  {
   "metadata": {
    "ExecuteTime": {
     "end_time": "2024-09-30T04:56:43.381019Z",
     "start_time": "2024-09-30T04:56:43.348865Z"
    }
   },
   "cell_type": "code",
   "source": [
    "std_0_cols = [col for col in df.select_dtypes(include=['float64']).columns if df[col].std() == 0]\n",
    "df = df.drop(std_0_cols, axis=1)\n",
    "df.info()"
   ],
   "id": "7625821d8178bbea",
   "outputs": [
    {
     "name": "stdout",
     "output_type": "stream",
     "text": [
      "<class 'pandas.core.frame.DataFrame'>\n",
      "RangeIndex: 1567 entries, 0 to 1566\n",
      "Columns: 444 entries, Time to Pass/Fail\n",
      "dtypes: float64(442), int64(1), object(1)\n",
      "memory usage: 5.3+ MB\n"
     ]
    }
   ],
   "execution_count": 194
  },
  {
   "metadata": {
    "ExecuteTime": {
     "end_time": "2024-09-30T04:56:43.392341Z",
     "start_time": "2024-09-30T04:56:43.382458Z"
    }
   },
   "cell_type": "code",
   "source": [
    "df['Time'] = pd.to_datetime(df['Time'])\n",
    "df.info()"
   ],
   "id": "d6f4ff08f8bec88b",
   "outputs": [
    {
     "name": "stdout",
     "output_type": "stream",
     "text": [
      "<class 'pandas.core.frame.DataFrame'>\n",
      "RangeIndex: 1567 entries, 0 to 1566\n",
      "Columns: 444 entries, Time to Pass/Fail\n",
      "dtypes: datetime64[ns](1), float64(442), int64(1)\n",
      "memory usage: 5.3 MB\n"
     ]
    }
   ],
   "execution_count": 195
  },
  {
   "metadata": {
    "ExecuteTime": {
     "end_time": "2024-09-30T04:56:43.772320Z",
     "start_time": "2024-09-30T04:56:43.392968Z"
    }
   },
   "cell_type": "code",
   "source": [
    "# Attributes with very weak(<0.05) correlation with the target variable 'Pass/Fail'\n",
    "target_corr = abs(df.corr()['Pass/Fail'])\n",
    "weak_corr_features = target_corr[target_corr < 0.05]\n",
    "df.drop(list(weak_corr_features.index), axis=1)"
   ],
   "id": "77ab484d684fe975",
   "outputs": [
    {
     "data": {
      "text/plain": [
       "             14       21       22      26       28       32      33       38  \\\n",
       "0      7.955800 -5419.00  2916.50  1.7730  64.2333  83.3971  9.5126  86.9555   \n",
       "1     10.154800 -5441.50  2604.25  2.0143  68.4222  84.9052  9.7997  87.5241   \n",
       "2      9.515700 -5447.75  2701.75  2.0295  67.1333  84.7569  8.6590  84.7327   \n",
       "3      9.605200 -5468.25  2648.25  2.0038  62.9333  84.9105  8.6789  86.6867   \n",
       "4     10.566100 -5476.25  2635.25  1.9912  62.8333  86.3269  8.7677  86.1468   \n",
       "...         ...      ...      ...     ...      ...      ...     ...      ...   \n",
       "1562  11.769200 -5418.75  2608.00  1.9540  71.1444  83.8405  8.7164  86.3672   \n",
       "1563   9.162000 -6408.75  2277.50  1.8023  72.8444  84.0623  8.9607  86.4051   \n",
       "1564   9.005371 -5153.25  2707.00  1.9435  71.2667  85.8638  8.1728  86.3506   \n",
       "1565   9.735400 -5271.75  2676.50  1.9880  70.5111  84.5602  9.1930  86.3130   \n",
       "1566   9.005371 -5319.50  2668.00  2.0085  73.0667  83.3424  8.7786  86.4039   \n",
       "\n",
       "         40      56  ...       510       511     542     543    551      554  \\\n",
       "0     61.29  0.9317  ...   64.6707    0.0000  0.1096  0.0078   0.78   0.3363   \n",
       "1     78.25  0.9324  ...  141.4365    0.0000  0.1096  0.0078   1.33   0.4989   \n",
       "2     14.37  0.9139  ...  240.7767  244.2748  0.1096  0.0078   0.85   0.3752   \n",
       "3     76.90  0.9139  ...  113.5593    0.0000  0.1096  0.0078  39.33  17.4781   \n",
       "4     76.39  0.9298  ...  148.0663    0.0000  0.1096  0.0078   1.98   0.8311   \n",
       "...     ...     ...  ...       ...       ...     ...     ...    ...      ...   \n",
       "1562  81.21  0.9204  ...   53.1915  235.7895  0.1180  0.0104   0.80   0.3141   \n",
       "1563  79.43  0.9255  ...   29.4372  700.0000  0.1120  0.0102   1.33   0.5058   \n",
       "1564  82.03  0.9353  ...   54.8330    0.0000  0.1119  0.0089   1.50   0.5605   \n",
       "1565  81.13  0.9207  ...   78.4993  456.4103  0.1180  0.0104   1.33   0.5058   \n",
       "1566  80.45  0.9187  ...   75.8621  317.6471  0.1124  0.0088   1.33   0.5058   \n",
       "\n",
       "          557     573     575  Pass/Fail  \n",
       "0      1.0297  0.3157  0.1026         -1  \n",
       "1      1.7819  0.2653  0.0772         -1  \n",
       "2      1.1386  0.1882  0.0640          1  \n",
       "3     54.2917  0.1738  0.0525         -1  \n",
       "4      2.5014  0.2224  0.0706         -1  \n",
       "...       ...     ...     ...        ...  \n",
       "1562   1.0367  0.2363  0.0785         -1  \n",
       "1563   1.8156  0.3891  0.1213         -1  \n",
       "1564   2.0228  0.4154  0.1352         -1  \n",
       "1565   1.8156  0.3669  0.1040         -1  \n",
       "1566   1.8156  0.4774  0.1495         -1  \n",
       "\n",
       "[1567 rows x 84 columns]"
      ],
      "text/html": [
       "<div>\n",
       "<style scoped>\n",
       "    .dataframe tbody tr th:only-of-type {\n",
       "        vertical-align: middle;\n",
       "    }\n",
       "\n",
       "    .dataframe tbody tr th {\n",
       "        vertical-align: top;\n",
       "    }\n",
       "\n",
       "    .dataframe thead th {\n",
       "        text-align: right;\n",
       "    }\n",
       "</style>\n",
       "<table border=\"1\" class=\"dataframe\">\n",
       "  <thead>\n",
       "    <tr style=\"text-align: right;\">\n",
       "      <th></th>\n",
       "      <th>14</th>\n",
       "      <th>21</th>\n",
       "      <th>22</th>\n",
       "      <th>26</th>\n",
       "      <th>28</th>\n",
       "      <th>32</th>\n",
       "      <th>33</th>\n",
       "      <th>38</th>\n",
       "      <th>40</th>\n",
       "      <th>56</th>\n",
       "      <th>...</th>\n",
       "      <th>510</th>\n",
       "      <th>511</th>\n",
       "      <th>542</th>\n",
       "      <th>543</th>\n",
       "      <th>551</th>\n",
       "      <th>554</th>\n",
       "      <th>557</th>\n",
       "      <th>573</th>\n",
       "      <th>575</th>\n",
       "      <th>Pass/Fail</th>\n",
       "    </tr>\n",
       "  </thead>\n",
       "  <tbody>\n",
       "    <tr>\n",
       "      <th>0</th>\n",
       "      <td>7.955800</td>\n",
       "      <td>-5419.00</td>\n",
       "      <td>2916.50</td>\n",
       "      <td>1.7730</td>\n",
       "      <td>64.2333</td>\n",
       "      <td>83.3971</td>\n",
       "      <td>9.5126</td>\n",
       "      <td>86.9555</td>\n",
       "      <td>61.29</td>\n",
       "      <td>0.9317</td>\n",
       "      <td>...</td>\n",
       "      <td>64.6707</td>\n",
       "      <td>0.0000</td>\n",
       "      <td>0.1096</td>\n",
       "      <td>0.0078</td>\n",
       "      <td>0.78</td>\n",
       "      <td>0.3363</td>\n",
       "      <td>1.0297</td>\n",
       "      <td>0.3157</td>\n",
       "      <td>0.1026</td>\n",
       "      <td>-1</td>\n",
       "    </tr>\n",
       "    <tr>\n",
       "      <th>1</th>\n",
       "      <td>10.154800</td>\n",
       "      <td>-5441.50</td>\n",
       "      <td>2604.25</td>\n",
       "      <td>2.0143</td>\n",
       "      <td>68.4222</td>\n",
       "      <td>84.9052</td>\n",
       "      <td>9.7997</td>\n",
       "      <td>87.5241</td>\n",
       "      <td>78.25</td>\n",
       "      <td>0.9324</td>\n",
       "      <td>...</td>\n",
       "      <td>141.4365</td>\n",
       "      <td>0.0000</td>\n",
       "      <td>0.1096</td>\n",
       "      <td>0.0078</td>\n",
       "      <td>1.33</td>\n",
       "      <td>0.4989</td>\n",
       "      <td>1.7819</td>\n",
       "      <td>0.2653</td>\n",
       "      <td>0.0772</td>\n",
       "      <td>-1</td>\n",
       "    </tr>\n",
       "    <tr>\n",
       "      <th>2</th>\n",
       "      <td>9.515700</td>\n",
       "      <td>-5447.75</td>\n",
       "      <td>2701.75</td>\n",
       "      <td>2.0295</td>\n",
       "      <td>67.1333</td>\n",
       "      <td>84.7569</td>\n",
       "      <td>8.6590</td>\n",
       "      <td>84.7327</td>\n",
       "      <td>14.37</td>\n",
       "      <td>0.9139</td>\n",
       "      <td>...</td>\n",
       "      <td>240.7767</td>\n",
       "      <td>244.2748</td>\n",
       "      <td>0.1096</td>\n",
       "      <td>0.0078</td>\n",
       "      <td>0.85</td>\n",
       "      <td>0.3752</td>\n",
       "      <td>1.1386</td>\n",
       "      <td>0.1882</td>\n",
       "      <td>0.0640</td>\n",
       "      <td>1</td>\n",
       "    </tr>\n",
       "    <tr>\n",
       "      <th>3</th>\n",
       "      <td>9.605200</td>\n",
       "      <td>-5468.25</td>\n",
       "      <td>2648.25</td>\n",
       "      <td>2.0038</td>\n",
       "      <td>62.9333</td>\n",
       "      <td>84.9105</td>\n",
       "      <td>8.6789</td>\n",
       "      <td>86.6867</td>\n",
       "      <td>76.90</td>\n",
       "      <td>0.9139</td>\n",
       "      <td>...</td>\n",
       "      <td>113.5593</td>\n",
       "      <td>0.0000</td>\n",
       "      <td>0.1096</td>\n",
       "      <td>0.0078</td>\n",
       "      <td>39.33</td>\n",
       "      <td>17.4781</td>\n",
       "      <td>54.2917</td>\n",
       "      <td>0.1738</td>\n",
       "      <td>0.0525</td>\n",
       "      <td>-1</td>\n",
       "    </tr>\n",
       "    <tr>\n",
       "      <th>4</th>\n",
       "      <td>10.566100</td>\n",
       "      <td>-5476.25</td>\n",
       "      <td>2635.25</td>\n",
       "      <td>1.9912</td>\n",
       "      <td>62.8333</td>\n",
       "      <td>86.3269</td>\n",
       "      <td>8.7677</td>\n",
       "      <td>86.1468</td>\n",
       "      <td>76.39</td>\n",
       "      <td>0.9298</td>\n",
       "      <td>...</td>\n",
       "      <td>148.0663</td>\n",
       "      <td>0.0000</td>\n",
       "      <td>0.1096</td>\n",
       "      <td>0.0078</td>\n",
       "      <td>1.98</td>\n",
       "      <td>0.8311</td>\n",
       "      <td>2.5014</td>\n",
       "      <td>0.2224</td>\n",
       "      <td>0.0706</td>\n",
       "      <td>-1</td>\n",
       "    </tr>\n",
       "    <tr>\n",
       "      <th>...</th>\n",
       "      <td>...</td>\n",
       "      <td>...</td>\n",
       "      <td>...</td>\n",
       "      <td>...</td>\n",
       "      <td>...</td>\n",
       "      <td>...</td>\n",
       "      <td>...</td>\n",
       "      <td>...</td>\n",
       "      <td>...</td>\n",
       "      <td>...</td>\n",
       "      <td>...</td>\n",
       "      <td>...</td>\n",
       "      <td>...</td>\n",
       "      <td>...</td>\n",
       "      <td>...</td>\n",
       "      <td>...</td>\n",
       "      <td>...</td>\n",
       "      <td>...</td>\n",
       "      <td>...</td>\n",
       "      <td>...</td>\n",
       "      <td>...</td>\n",
       "    </tr>\n",
       "    <tr>\n",
       "      <th>1562</th>\n",
       "      <td>11.769200</td>\n",
       "      <td>-5418.75</td>\n",
       "      <td>2608.00</td>\n",
       "      <td>1.9540</td>\n",
       "      <td>71.1444</td>\n",
       "      <td>83.8405</td>\n",
       "      <td>8.7164</td>\n",
       "      <td>86.3672</td>\n",
       "      <td>81.21</td>\n",
       "      <td>0.9204</td>\n",
       "      <td>...</td>\n",
       "      <td>53.1915</td>\n",
       "      <td>235.7895</td>\n",
       "      <td>0.1180</td>\n",
       "      <td>0.0104</td>\n",
       "      <td>0.80</td>\n",
       "      <td>0.3141</td>\n",
       "      <td>1.0367</td>\n",
       "      <td>0.2363</td>\n",
       "      <td>0.0785</td>\n",
       "      <td>-1</td>\n",
       "    </tr>\n",
       "    <tr>\n",
       "      <th>1563</th>\n",
       "      <td>9.162000</td>\n",
       "      <td>-6408.75</td>\n",
       "      <td>2277.50</td>\n",
       "      <td>1.8023</td>\n",
       "      <td>72.8444</td>\n",
       "      <td>84.0623</td>\n",
       "      <td>8.9607</td>\n",
       "      <td>86.4051</td>\n",
       "      <td>79.43</td>\n",
       "      <td>0.9255</td>\n",
       "      <td>...</td>\n",
       "      <td>29.4372</td>\n",
       "      <td>700.0000</td>\n",
       "      <td>0.1120</td>\n",
       "      <td>0.0102</td>\n",
       "      <td>1.33</td>\n",
       "      <td>0.5058</td>\n",
       "      <td>1.8156</td>\n",
       "      <td>0.3891</td>\n",
       "      <td>0.1213</td>\n",
       "      <td>-1</td>\n",
       "    </tr>\n",
       "    <tr>\n",
       "      <th>1564</th>\n",
       "      <td>9.005371</td>\n",
       "      <td>-5153.25</td>\n",
       "      <td>2707.00</td>\n",
       "      <td>1.9435</td>\n",
       "      <td>71.2667</td>\n",
       "      <td>85.8638</td>\n",
       "      <td>8.1728</td>\n",
       "      <td>86.3506</td>\n",
       "      <td>82.03</td>\n",
       "      <td>0.9353</td>\n",
       "      <td>...</td>\n",
       "      <td>54.8330</td>\n",
       "      <td>0.0000</td>\n",
       "      <td>0.1119</td>\n",
       "      <td>0.0089</td>\n",
       "      <td>1.50</td>\n",
       "      <td>0.5605</td>\n",
       "      <td>2.0228</td>\n",
       "      <td>0.4154</td>\n",
       "      <td>0.1352</td>\n",
       "      <td>-1</td>\n",
       "    </tr>\n",
       "    <tr>\n",
       "      <th>1565</th>\n",
       "      <td>9.735400</td>\n",
       "      <td>-5271.75</td>\n",
       "      <td>2676.50</td>\n",
       "      <td>1.9880</td>\n",
       "      <td>70.5111</td>\n",
       "      <td>84.5602</td>\n",
       "      <td>9.1930</td>\n",
       "      <td>86.3130</td>\n",
       "      <td>81.13</td>\n",
       "      <td>0.9207</td>\n",
       "      <td>...</td>\n",
       "      <td>78.4993</td>\n",
       "      <td>456.4103</td>\n",
       "      <td>0.1180</td>\n",
       "      <td>0.0104</td>\n",
       "      <td>1.33</td>\n",
       "      <td>0.5058</td>\n",
       "      <td>1.8156</td>\n",
       "      <td>0.3669</td>\n",
       "      <td>0.1040</td>\n",
       "      <td>-1</td>\n",
       "    </tr>\n",
       "    <tr>\n",
       "      <th>1566</th>\n",
       "      <td>9.005371</td>\n",
       "      <td>-5319.50</td>\n",
       "      <td>2668.00</td>\n",
       "      <td>2.0085</td>\n",
       "      <td>73.0667</td>\n",
       "      <td>83.3424</td>\n",
       "      <td>8.7786</td>\n",
       "      <td>86.4039</td>\n",
       "      <td>80.45</td>\n",
       "      <td>0.9187</td>\n",
       "      <td>...</td>\n",
       "      <td>75.8621</td>\n",
       "      <td>317.6471</td>\n",
       "      <td>0.1124</td>\n",
       "      <td>0.0088</td>\n",
       "      <td>1.33</td>\n",
       "      <td>0.5058</td>\n",
       "      <td>1.8156</td>\n",
       "      <td>0.4774</td>\n",
       "      <td>0.1495</td>\n",
       "      <td>-1</td>\n",
       "    </tr>\n",
       "  </tbody>\n",
       "</table>\n",
       "<p>1567 rows × 84 columns</p>\n",
       "</div>"
      ]
     },
     "execution_count": 196,
     "metadata": {},
     "output_type": "execute_result"
    }
   ],
   "execution_count": 196
  },
  {
   "metadata": {
    "ExecuteTime": {
     "end_time": "2024-09-30T04:56:45.023346Z",
     "start_time": "2024-09-30T04:56:43.773490Z"
    }
   },
   "cell_type": "code",
   "source": [
    "# Attributes with high correlation(>0.95)\n",
    "corr_attrs = list()\n",
    "signal_df_corr = df.select_dtypes(include=['float64']).corr()\n",
    "for i in range(len(signal_df_corr.columns)):\n",
    "    for j in range(i + 1, len(signal_df_corr.columns)):\n",
    "        if abs(signal_df_corr.iloc[i, j]) > 0.95:\n",
    "            corr_attrs.append(signal_df_corr.columns[j])\n",
    "corr_attrs = list(set(corr_attrs))\n",
    "df = df.drop(corr_attrs, axis=1)\n",
    "\n",
    "X = df.drop('Pass/Fail', axis=1)\n",
    "Y = df['Pass/Fail']"
   ],
   "id": "3681cc3994786a8f",
   "outputs": [],
   "execution_count": 197
  },
  {
   "metadata": {
    "ExecuteTime": {
     "end_time": "2024-09-30T04:56:45.049809Z",
     "start_time": "2024-09-30T04:56:45.024370Z"
    }
   },
   "cell_type": "code",
   "source": [
    "# datetime64 타입의 열들을 제외한 피처들만 선택\n",
    "X = df.select_dtypes(exclude=['datetime64']).iloc[:, :-1]  # 마지막 열 제외\n",
    "Y = df.iloc[:, -1]  # 마지막 열(타겟 변수)\n",
    "\n",
    "'''smote = SMOTE(random_state=1, k_neighbors=20)\n",
    "X_bal, Y_bal = smote.fit_resample(X, Y)\n",
    "Y_bal = pd.Series(Y_bal)'''\n",
    "from imblearn.over_sampling import ADASYN\n",
    "from imblearn.over_sampling import BorderlineSMOTE\n",
    "\n",
    "X_bal = X\n",
    "Y_bal = pd.Series(Y)\n",
    "x_train, x_test, y_train, y_test = train_test_split(X_bal, Y_bal, test_size=0.30, random_state=1, stratify=Y_bal)\n",
    "adasyn = ADASYN(sampling_strategy='minority', random_state=42, n_neighbors=5)\n",
    "x_train, y_train = adasyn.fit_resample(x_train, y_train)\n",
    "\n",
    "from sklearn.decomposition import PCA\n",
    "\n"
   ],
   "id": "52074f8b000c0462",
   "outputs": [],
   "execution_count": 198
  },
  {
   "metadata": {
    "ExecuteTime": {
     "end_time": "2024-09-30T04:56:45.051984Z",
     "start_time": "2024-09-30T04:56:45.050628Z"
    }
   },
   "cell_type": "code",
   "source": "\n",
   "id": "b7fc3459eb7ec91f",
   "outputs": [],
   "execution_count": 198
  },
  {
   "metadata": {
    "ExecuteTime": {
     "end_time": "2024-09-30T04:56:45.127058Z",
     "start_time": "2024-09-30T04:56:45.052618Z"
    }
   },
   "cell_type": "code",
   "source": [
    "std_scalar = StandardScaler().fit(x_train)\n",
    "X_train = pd.DataFrame(std_scalar.transform(x_train), columns=x_train.columns)\n",
    "X_test = pd.DataFrame(std_scalar.transform(x_test), columns=x_train.columns)\n",
    "\n",
    "pca = PCA(n_components=150)\n",
    "X_train = pca.fit_transform(X_train)\n",
    "X_test = pca.transform(X_test)"
   ],
   "id": "b48002a9a0ecfc85",
   "outputs": [],
   "execution_count": 199
  },
  {
   "metadata": {
    "ExecuteTime": {
     "end_time": "2024-09-30T04:57:01.807196Z",
     "start_time": "2024-09-30T04:56:45.129614Z"
    }
   },
   "cell_type": "code",
   "source": [
    "import numpy as np\n",
    "from sklearn.svm import SVC\n",
    "from sklearn.metrics import balanced_accuracy_score\n",
    "from skopt import BayesSearchCV\n",
    "from skopt.space import Real, Categorical, Integer\n",
    "\n",
    "# SVC를 위한 베이지안 최적화 설정\n",
    "search_space = {\n",
    "    'C': Real(1e-6, 1000.0, prior='log-uniform'),  # 정규화 매개변수\n",
    "    'gamma': Real(1e-6, 1.0, prior='log-uniform'),  # 커널 계수\n",
    "    'kernel': Categorical(['linear', 'poly', 'rbf', 'sigmoid']),  # 커널 종류\n",
    "    'degree': Integer(1, 5),  # 다항 커널을 사용할 경우 차수\n",
    "    'class_weight': Categorical([None, 'balanced'])  # 클래스 가중치\n",
    "}\n",
    "\n",
    "# SVC 모델 초기화\n",
    "model = SVC()\n",
    "\n",
    "# BayesSearchCV 설정\n",
    "\n",
    "opt = BayesSearchCV(\n",
    "    model,\n",
    "    search_space,\n",
    "    n_iter=30,  # 최대 100번의 파라미터 조합을 테스트\n",
    "    cv=2,\n",
    "    scoring='balanced_accuracy',  # balanced accuracy score를 기준으로 최적화\n",
    "    n_jobs=-1,\n",
    "    random_state=123  # 결과 재현성을 위한 random_state\n",
    ")\n",
    "\n",
    "# 모델 최적화 (여기서 X_train, y_train 사용)\n",
    "opt.fit(X_train, y_train)\n",
    "\n",
    "# 최적의 파라미터 출력\n",
    "print(f\"Best Parameters: {opt.best_params_}\")\n",
    "\n",
    "# 최적 파라미터를 사용하여 다시 모델을 학습 (전체 훈련 데이터를 사용)\n",
    "best_model = opt.best_estimator_\n",
    "\n",
    "y_pred = best_model.predict(X_test)\n",
    "\n",
    "# 테스트셋에서의 balanced accuracy 계산\n",
    "balanced_accuracy = balanced_accuracy_score(y_test, y_pred)\n",
    "print(f\"Balanced Accuracy on Test Set: {balanced_accuracy}\")\n"
   ],
   "id": "a1763a627b729681",
   "outputs": [
    {
     "name": "stdout",
     "output_type": "stream",
     "text": [
      "Best Parameters: OrderedDict([('C', 11.653724968169188), ('class_weight', None), ('degree', 2), ('gamma', 0.004711038388676721), ('kernel', 'rbf')])\n",
      "Balanced Accuracy on Test Set: 0.49772727272727274\n"
     ]
    }
   ],
   "execution_count": 200
  },
  {
   "metadata": {
    "ExecuteTime": {
     "end_time": "2024-09-30T04:57:01.819281Z",
     "start_time": "2024-09-30T04:57:01.807977Z"
    }
   },
   "cell_type": "code",
   "source": [
    "model = KNeighborsClassifier(n_neighbors=3, metric='cosine', algorithm='brute')\n",
    "model.fit(X_train, y_train)\n",
    "y_pred_proba = model.predict_proba(X_test)[:, 1]\n",
    "\n",
    "threshold = 0.3\n",
    "y_pred = (y_pred_proba >= threshold).astype(int)\n",
    "\n",
    "# 성능 평가\n",
    "accuracy = balanced_accuracy_score(y_test, y_pred)\n",
    "print(f\"Balanced Accuracy Score: {accuracy}\")"
   ],
   "id": "b927feb8230757d0",
   "outputs": [
    {
     "name": "stdout",
     "output_type": "stream",
     "text": [
      "Balanced Accuracy Score: 0.16129032258064516\n"
     ]
    },
    {
     "name": "stderr",
     "output_type": "stream",
     "text": [
      "/opt/anaconda3/envs/forml/lib/python3.10/site-packages/sklearn/metrics/_classification.py:2480: UserWarning: y_pred contains classes not in y_true\n",
      "  warnings.warn(\"y_pred contains classes not in y_true\")\n"
     ]
    }
   ],
   "execution_count": 201
  },
  {
   "metadata": {
    "ExecuteTime": {
     "end_time": "2024-09-30T04:57:01.849040Z",
     "start_time": "2024-09-30T04:57:01.820105Z"
    }
   },
   "cell_type": "code",
   "source": [
    "from sklearn.svm import SVC\n",
    "from sklearn.metrics import balanced_accuracy_score\n",
    "\n",
    "# SVC 모델 초기화 (확률 추정을 사용하기 위해 probability=True로 설정)\n",
    "\n",
    "\n",
    "# 확률 예측\n",
    "y_pred_proba = opt.best_estimator_.predict(X_test)\n",
    "\n",
    "# 성능 평가\n",
    "balanced_accuracy = balanced_accuracy_score(y_test, y_pred_proba)\n",
    "print(f\"Balanced Accuracy on Test Set: {balanced_accuracy}\")\n"
   ],
   "id": "c598492160ee151c",
   "outputs": [
    {
     "name": "stdout",
     "output_type": "stream",
     "text": [
      "Balanced Accuracy on Test Set: 0.49772727272727274\n"
     ]
    }
   ],
   "execution_count": 202
  },
  {
   "metadata": {
    "ExecuteTime": {
     "end_time": "2024-09-30T04:57:01.851171Z",
     "start_time": "2024-09-30T04:57:01.849875Z"
    }
   },
   "cell_type": "code",
   "source": "",
   "id": "4128e0f117f75b1a",
   "outputs": [],
   "execution_count": 202
  },
  {
   "metadata": {
    "ExecuteTime": {
     "end_time": "2024-09-30T04:57:01.852981Z",
     "start_time": "2024-09-30T04:57:01.851768Z"
    }
   },
   "cell_type": "code",
   "source": "",
   "id": "5a96e4cdefd4d151",
   "outputs": [],
   "execution_count": 202
  }
 ],
 "metadata": {
  "kernelspec": {
   "display_name": "Python 3",
   "language": "python",
   "name": "python3"
  },
  "language_info": {
   "codemirror_mode": {
    "name": "ipython",
    "version": 2
   },
   "file_extension": ".py",
   "mimetype": "text/x-python",
   "name": "python",
   "nbconvert_exporter": "python",
   "pygments_lexer": "ipython2",
   "version": "2.7.6"
  }
 },
 "nbformat": 4,
 "nbformat_minor": 5
}
