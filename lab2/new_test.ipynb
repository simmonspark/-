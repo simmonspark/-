{
 "cells": [
  {
   "cell_type": "code",
   "id": "initial_id",
   "metadata": {
    "collapsed": true,
    "ExecuteTime": {
     "end_time": "2024-09-29T15:39:34.816559Z",
     "start_time": "2024-09-29T15:39:32.195503Z"
    }
   },
   "source": [
    "# 기존 라이브러리 불러오기\n",
    "import numpy as np\n",
    "import pandas as pd\n",
    "import matplotlib.pyplot as plt\n",
    "%matplotlib inline\n",
    "from sklearn.model_selection import train_test_split\n",
    "from sklearn.metrics import balanced_accuracy_score\n",
    "from sklearn.preprocessing import StandardScaler\n",
    "from tqdm import tqdm\n",
    "import xgboost as xgb\n",
    "from sklearn.neighbors import KNeighborsClassifier\n",
    "import os\n",
    "\n",
    "# 데이터 불러오기\n",
    "if os.path.exists('semi.csv'):\n",
    "    df = pd.read_csv('semi.csv')\n",
    "else:\n",
    "    raise FileNotFoundError(\"CSV 파일이 없습니다. 데이터를 업로드해주세요.\")\n",
    "\n",
    "# 데이터 확인\n",
    "print(f\"Shape of the dataset: {df.shape}\")\n",
    "print(df.info())\n",
    "\n",
    "# Step 1: 결측값 처리\n",
    "# 50% 이상 결측값이 있는 열은 삭제\n",
    "threshold = len(df) * 0.5\n",
    "df_cleaned = df.dropna(thresh=threshold, axis=1)\n",
    "\n",
    "# 숫자형 열에 대해서만 결측값을 평균값으로 대체\n",
    "numeric_columns = df_cleaned.select_dtypes(include=[np.number]).columns\n",
    "df_cleaned[numeric_columns] = df_cleaned[numeric_columns].fillna(df_cleaned[numeric_columns].mean())\n",
    "\n",
    "# Step 2: '\n",
    "\n",
    "# 'Time' 열은 더 이상 필요 없으므로 삭제\n",
    "df_cleaned = df_cleaned.drop(columns=['Time'])\n",
    "\n",
    "# Step 3: 데이터 스케일링 (Pass/Fail을 제외한 나머지 열을 스케일링)\n",
    "scaler = StandardScaler()\n",
    "scaled_features = scaler.fit_transform(df_cleaned.drop(columns=['Pass/Fail']))\n",
    "\n",
    "# 스케일링된 데이터프레임 생성\n",
    "df_scaled = pd.DataFrame(scaled_features, columns=df_cleaned.columns[:-1])\n",
    "df_scaled['Pass/Fail'] = df_cleaned['Pass/Fail'].values\n",
    "\n",
    "# 스케일링된 데이터 확인\n",
    "print(df_scaled.head())\n",
    "\n",
    "# Step 4: 학습 데이터와 테스트 데이터로 분할\n",
    "X = df_scaled.drop(columns=['Pass/Fail'])\n",
    "y = df_scaled['Pass/Fail']\n",
    "\n",
    "X_train, X_test, y_train, y_test = train_test_split(X, y, test_size=0.2, random_state=42)\n",
    "y_train = np.where(y_train == -1, 0, 1)\n",
    "y_test = np.where(y_test == -1, 0, 1)\n",
    "\n",
    "\n",
    "\n",
    "from sklearn.feature_selection import RFE\n",
    "from sklearn.decomposition import PCA\n",
    "from sklearn.linear_model import LogisticRegression\n",
    "\n",
    "lr = LogisticRegression(random_state=1234)\n",
    "rfe = RFE(lr, n_features_to_select=300)\n",
    "X_train_rfe = rfe.fit_transform(X_train, y_train)\n",
    "X_test_rfe = rfe.transform(X_test)\n",
    "\n",
    "pca = PCA(n_components=150)\n",
    "X_train = pca.fit_transform(X_train_rfe)\n",
    "X_test = pca.transform(X_test_rfe)\n",
    "\n",
    "\n",
    "\n",
    "\n",
    "\n",
    "\n",
    "\n",
    "# Step 5: 모델 훈련 및 성능 평가 (XGBoost 모델을 예시로 사용)\n",
    "model = KNeighborsClassifier(n_neighbors=3,metric='cosine',algorithm='brute',weights='uniform')\n",
    "model.fit(X_train, y_train)\n",
    "y_pred_proba = model.predict_proba(X_test)[:, 1]\n",
    "\n",
    "threshold = 0.45\n",
    "y_pred = (y_pred_proba >= threshold).astype(int)\n",
    "\n",
    "\n",
    "# 성능 평가\n",
    "accuracy = balanced_accuracy_score(y_test, y_pred)\n",
    "print(f\"Balanced Accuracy Score: {accuracy}\")\n"
   ],
   "outputs": [
    {
     "name": "stdout",
     "output_type": "stream",
     "text": [
      "Shape of the dataset: (1567, 592)\n",
      "<class 'pandas.core.frame.DataFrame'>\n",
      "RangeIndex: 1567 entries, 0 to 1566\n",
      "Columns: 592 entries, Time to Pass/Fail\n",
      "dtypes: float64(590), int64(1), object(1)\n",
      "memory usage: 7.1+ MB\n",
      "None\n",
      "          0         1         2         3         4    5         6         7  \\\n",
      "0  0.224309  0.849725 -0.436273  0.033555 -0.050580  0.0 -0.563790  0.266269   \n",
      "1  1.107136 -0.382910  1.017137  0.153067 -0.060045  0.0  0.198217  0.322244   \n",
      "2 -1.114158  0.799102 -0.481289  0.686213 -0.047906  0.0 -0.906210  0.255074   \n",
      "3 -0.350312 -0.198875 -0.051547 -1.106948 -0.051290  0.0  0.503246 -0.013602   \n",
      "4  0.242143  0.087526  1.117387 -0.158919 -0.047492  0.0 -0.115382  0.187905   \n",
      "\n",
      "          8         9  ...       577       582        583        584  \\\n",
      "0  0.509826  1.128417  ... -0.135520  0.118699  -0.204890  -0.093207   \n",
      "1  0.456999  0.022582  ... -0.460054  0.530203   0.406679   0.444706   \n",
      "2 -0.260907  0.327183  ... -0.590505 -1.262780   0.022264   0.014375   \n",
      "3  0.343218 -0.765408  ... -0.645708 -0.322199  -0.292257  -0.362164   \n",
      "4  0.545044 -0.149584  ... -0.454486 -5.906899  26.867231  27.071425   \n",
      "\n",
      "         585       586       587           588           589  Pass/Fail  \n",
      "0  -0.197113  0.000000  0.000000 -3.027186e-16  1.514500e-16         -1  \n",
      "1   0.385059 -0.960174  0.411853  2.501244e-01  1.156689e+00         -1  \n",
      "2   0.029833  2.991151  3.627063  3.321419e+00 -1.791486e-01          1  \n",
      "3  -0.283417 -0.101895 -0.178927 -3.082928e-01 -2.752459e-01         -1  \n",
      "4  26.913347 -0.101895 -0.178927 -3.082928e-01 -2.752459e-01         -1  \n",
      "\n",
      "[5 rows x 563 columns]\n"
     ]
    },
    {
     "name": "stderr",
     "output_type": "stream",
     "text": [
      "/var/folders/9d/lcchyqrx6jq_hz6pm4d1j7z80000gn/T/ipykernel_14043/2377077678.py:31: SettingWithCopyWarning: \n",
      "A value is trying to be set on a copy of a slice from a DataFrame.\n",
      "Try using .loc[row_indexer,col_indexer] = value instead\n",
      "\n",
      "See the caveats in the documentation: https://pandas.pydata.org/pandas-docs/stable/user_guide/indexing.html#returning-a-view-versus-a-copy\n",
      "  df_cleaned[numeric_columns] = df_cleaned[numeric_columns].fillna(df_cleaned[numeric_columns].mean())\n"
     ]
    },
    {
     "name": "stdout",
     "output_type": "stream",
     "text": [
      "Balanced Accuracy Score: 0.5382183908045977\n"
     ]
    }
   ],
   "execution_count": 13
  },
  {
   "metadata": {
    "ExecuteTime": {
     "end_time": "2024-09-29T16:24:03.401032Z",
     "start_time": "2024-09-29T16:22:20.179139Z"
    }
   },
   "cell_type": "code",
   "source": [
    "import numpy as np\n",
    "from sklearn.svm import SVC\n",
    "from sklearn.metrics import balanced_accuracy_score\n",
    "from skopt import BayesSearchCV\n",
    "from skopt.space import Real, Categorical, Integer\n",
    "\n",
    "# SVC를 위한 베이지안 최적화 설정\n",
    "search_space = {\n",
    "    'C': Real(1e-6, 1000.0, prior='log-uniform'),  # 정규화 매개변수\n",
    "    'gamma': Real(1e-6, 1.0, prior='log-uniform'),  # 커널 계수\n",
    "    'kernel': Categorical(['linear', 'poly', 'rbf', 'sigmoid']),  # 커널 종류\n",
    "    'degree': Integer(1, 5),  # 다항 커널을 사용할 경우 차수\n",
    "    'class_weight': Categorical([None, 'balanced'])  # 클래스 가중치\n",
    "}\n",
    "\n",
    "# SVC 모델 초기화\n",
    "model = SVC()\n",
    "\n",
    "# BayesSearchCV 설정\n",
    "\n",
    "opt = BayesSearchCV(\n",
    "    model,\n",
    "    search_space,\n",
    "    n_iter=100,  # 최대 100번의 파라미터 조합을 테스트\n",
    "    cv=2,  # 5-Fold Cross Validation\n",
    "    scoring='f1',  # balanced accuracy score를 기준으로 최적화\n",
    "    n_jobs=-1,  # 모든 CPU 코어 사용\n",
    "    random_state=123  # 결과 재현성을 위한 random_state\n",
    ")\n",
    "\n",
    "# 모델 최적화 (여기서 X_train, y_train 사용)\n",
    "opt.fit(X_train, y_train)\n",
    "\n",
    "# 최적의 파라미터 출력\n",
    "print(f\"Best Parameters: {opt.best_params_}\")\n",
    "\n",
    "# 최적 파라미터를 사용하여 다시 모델을 학습 (전체 훈련 데이터를 사용)\n",
    "best_model = opt.best_estimator_\n",
    "\n",
    "# 최적 모델을 이용한 테스트셋 예측\n",
    "y_pred = best_model.predict(X_test)\n",
    "\n",
    "# 테스트셋에서의 balanced accuracy 계산\n",
    "balanced_accuracy = balanced_accuracy_score(y_test, y_pred)\n",
    "print(f\"Balanced Accuracy on Test Set: {balanced_accuracy}\")\n"
   ],
   "id": "a1763a627b729681",
   "outputs": [
    {
     "name": "stdout",
     "output_type": "stream",
     "text": [
      "Best Parameters: OrderedDict([('C', 222.08332588348782), ('class_weight', 'balanced'), ('degree', 5), ('gamma', 0.0010624665872805631), ('kernel', 'sigmoid')])\n",
      "Balanced Accuracy on Test Set: 0.6551724137931034\n"
     ]
    }
   ],
   "execution_count": 58
  },
  {
   "metadata": {
    "ExecuteTime": {
     "end_time": "2024-09-29T15:45:52.117244Z",
     "start_time": "2024-09-29T15:45:52.095662Z"
    }
   },
   "cell_type": "code",
   "source": [
    "model = KNeighborsClassifier(n_neighbors=3,metric='cosine',algorithm='brute')\n",
    "model.fit(X_train, y_train)\n",
    "y_pred_proba = model.predict_proba(X_test)[:, 1]\n",
    "\n",
    "threshold = 0.25\n",
    "y_pred = (y_pred_proba >= threshold).astype(int)\n",
    "\n",
    "\n",
    "# 성능 평가\n",
    "accuracy = balanced_accuracy_score(y_test, y_pred)\n",
    "print(f\"Balanced Accuracy Score: {accuracy}\")"
   ],
   "id": "b927feb8230757d0",
   "outputs": [
    {
     "name": "stdout",
     "output_type": "stream",
     "text": [
      "Balanced Accuracy Score: 0.6619252873563218\n"
     ]
    }
   ],
   "execution_count": 33
  },
  {
   "metadata": {
    "ExecuteTime": {
     "end_time": "2024-09-29T16:21:30.294112Z",
     "start_time": "2024-09-29T16:21:29.355784Z"
    }
   },
   "cell_type": "code",
   "source": [
    "from sklearn.svm import SVC\n",
    "from sklearn.metrics import balanced_accuracy_score\n",
    "\n",
    "# SVC 모델 초기화 (확률 추정을 사용하기 위해 probability=True로 설정)\n",
    "model = SVC(C=1.3, class_weight='balanced', degree=3, probability=True,kernel='linear')\n",
    "model.fit(X_train, y_train)\n",
    "\n",
    "# 확률 예측\n",
    "y_pred_proba = model.predict_proba(X_test)\n",
    "\n",
    "# 특정 임계값(threshold)을 적용한 예측\n",
    "threshold = 0.3\n",
    "y_pred = (y_pred_proba[:, 1] >= threshold).astype(int)  # 이진 예측을 위한 변환\n",
    "\n",
    "# 성능 평가\n",
    "balanced_accuracy = balanced_accuracy_score(y_test, y_pred)\n",
    "print(f\"Balanced Accuracy on Test Set: {balanced_accuracy}\")\n"
   ],
   "id": "c598492160ee151c",
   "outputs": [
    {
     "name": "stdout",
     "output_type": "stream",
     "text": [
      "Balanced Accuracy on Test Set: 0.4982758620689655\n"
     ]
    }
   ],
   "execution_count": 57
  },
  {
   "metadata": {
    "ExecuteTime": {
     "end_time": "2024-09-29T16:20:17.401473Z",
     "start_time": "2024-09-29T16:20:17.399907Z"
    }
   },
   "cell_type": "code",
   "source": [],
   "id": "4128e0f117f75b1a",
   "outputs": [],
   "execution_count": 41
  },
  {
   "metadata": {},
   "cell_type": "code",
   "outputs": [],
   "execution_count": null,
   "source": [],
   "id": "5a96e4cdefd4d151"
  }
 ],
 "metadata": {
  "kernelspec": {
   "display_name": "Python 3",
   "language": "python",
   "name": "python3"
  },
  "language_info": {
   "codemirror_mode": {
    "name": "ipython",
    "version": 2
   },
   "file_extension": ".py",
   "mimetype": "text/x-python",
   "name": "python",
   "nbconvert_exporter": "python",
   "pygments_lexer": "ipython2",
   "version": "2.7.6"
  }
 },
 "nbformat": 4,
 "nbformat_minor": 5
}
