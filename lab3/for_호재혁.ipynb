{
 "nbformat": 4,
 "nbformat_minor": 0,
 "metadata": {
  "colab": {
   "provenance": [],
   "machine_shape": "hm",
   "gpuType": "T4",
   "authorship_tag": "ABX9TyMYdSPL7jfUU1i8eveyYxN+"
  },
  "kernelspec": {
   "name": "python3",
   "display_name": "Python 3 (ipykernel)",
   "language": "python"
  },
  "language_info": {
   "name": "python"
  },
  "accelerator": "GPU"
 },
 "cells": [
  {
   "cell_type": "code",
   "metadata": {
    "id": "ZPsyfADpMoNp",
    "executionInfo": {
     "status": "ok",
     "timestamp": 1728736997827,
     "user_tz": -540,
     "elapsed": 1445,
     "user": {
      "displayName": "JaeHyeok Ho",
      "userId": "09522757785018905826"
     }
    },
    "ExecuteTime": {
     "end_time": "2024-10-26T13:18:43.291867Z",
     "start_time": "2024-10-26T13:18:43.197249Z"
    }
   },
   "source": [
    "import numpy as np\n",
    "import pandas as pd\n",
    "import matplotlib.pyplot as plt\n",
    "from prompt_toolkit.key_binding.bindings.named_commands import self_insert\n",
    "#데이터 증강에 필요한 라이브러리\n",
    "from scipy.ndimage import median_filter, rotate, shift\n",
    "from sklearn.model_selection import train_test_split\n",
    "from sklearn.ensemble import RandomForestClassifier\n",
    "from sklearn.metrics import accuracy_score, precision_score, recall_score"
   ],
   "outputs": [],
   "execution_count": 1
  },
  {
   "cell_type": "code",
   "source": [
    "df = pd.read_pickle(\"/home/unsi/다운로드/LSWMD.pkl\") \n",
    "df"
   ],
   "metadata": {
    "colab": {
     "base_uri": "https://localhost:8080/",
     "height": 423
    },
    "id": "KVv1GqlNM_en",
    "executionInfo": {
     "status": "ok",
     "timestamp": 1728737001367,
     "user_tz": -540,
     "elapsed": 976,
     "user": {
      "displayName": "JaeHyeok Ho",
      "userId": "09522757785018905826"
     }
    },
    "outputId": "fe281b75-0cb6-4e48-f7e9-4605984be061",
    "ExecuteTime": {
     "end_time": "2024-10-26T13:19:03.697456Z",
     "start_time": "2024-10-26T13:18:43.302104Z"
    }
   },
   "outputs": [
    {
     "data": {
      "text/plain": [
       "                                                 waferMap  dieSize   lotName  \\\n",
       "0       [[0, 0, 0, 0, 0, 0, 0, 0, 0, 0, 0, 0, 0, 0, 0,...   1683.0      lot1   \n",
       "1       [[0, 0, 0, 0, 0, 0, 0, 0, 0, 0, 0, 0, 0, 0, 0,...   1683.0      lot1   \n",
       "2       [[0, 0, 0, 0, 0, 0, 0, 0, 0, 0, 0, 0, 0, 0, 0,...   1683.0      lot1   \n",
       "3       [[0, 0, 0, 0, 0, 0, 0, 0, 0, 0, 0, 0, 0, 0, 0,...   1683.0      lot1   \n",
       "4       [[0, 0, 0, 0, 0, 0, 0, 0, 0, 0, 0, 0, 0, 0, 0,...   1683.0      lot1   \n",
       "...                                                   ...      ...       ...   \n",
       "811452  [[0, 0, 0, 0, 0, 0, 0, 0, 0, 0, 0, 1, 2, 1, 1,...    600.0  lot47542   \n",
       "811453  [[0, 0, 0, 0, 0, 0, 0, 0, 0, 0, 0, 2, 2, 1, 1,...    600.0  lot47542   \n",
       "811454  [[0, 0, 0, 0, 0, 0, 0, 0, 0, 0, 0, 1, 2, 1, 1,...    600.0  lot47542   \n",
       "811455  [[0, 0, 0, 0, 0, 0, 0, 0, 0, 0, 0, 1, 1, 1, 1,...    600.0  lot47543   \n",
       "811456  [[0, 0, 0, 0, 0, 0, 0, 0, 0, 0, 0, 1, 2, 1, 1,...    600.0  lot47543   \n",
       "\n",
       "        waferIndex trianTestLabel    failureType  \n",
       "0              1.0   [[Training]]       [[none]]  \n",
       "1              2.0   [[Training]]       [[none]]  \n",
       "2              3.0   [[Training]]       [[none]]  \n",
       "3              4.0   [[Training]]       [[none]]  \n",
       "4              5.0   [[Training]]       [[none]]  \n",
       "...            ...            ...            ...  \n",
       "811452        23.0       [[Test]]  [[Edge-Ring]]  \n",
       "811453        24.0       [[Test]]   [[Edge-Loc]]  \n",
       "811454        25.0       [[Test]]  [[Edge-Ring]]  \n",
       "811455         1.0             []             []  \n",
       "811456         2.0             []             []  \n",
       "\n",
       "[811457 rows x 6 columns]"
      ],
      "text/html": [
       "<div>\n",
       "<style scoped>\n",
       "    .dataframe tbody tr th:only-of-type {\n",
       "        vertical-align: middle;\n",
       "    }\n",
       "\n",
       "    .dataframe tbody tr th {\n",
       "        vertical-align: top;\n",
       "    }\n",
       "\n",
       "    .dataframe thead th {\n",
       "        text-align: right;\n",
       "    }\n",
       "</style>\n",
       "<table border=\"1\" class=\"dataframe\">\n",
       "  <thead>\n",
       "    <tr style=\"text-align: right;\">\n",
       "      <th></th>\n",
       "      <th>waferMap</th>\n",
       "      <th>dieSize</th>\n",
       "      <th>lotName</th>\n",
       "      <th>waferIndex</th>\n",
       "      <th>trianTestLabel</th>\n",
       "      <th>failureType</th>\n",
       "    </tr>\n",
       "  </thead>\n",
       "  <tbody>\n",
       "    <tr>\n",
       "      <th>0</th>\n",
       "      <td>[[0, 0, 0, 0, 0, 0, 0, 0, 0, 0, 0, 0, 0, 0, 0,...</td>\n",
       "      <td>1683.0</td>\n",
       "      <td>lot1</td>\n",
       "      <td>1.0</td>\n",
       "      <td>[[Training]]</td>\n",
       "      <td>[[none]]</td>\n",
       "    </tr>\n",
       "    <tr>\n",
       "      <th>1</th>\n",
       "      <td>[[0, 0, 0, 0, 0, 0, 0, 0, 0, 0, 0, 0, 0, 0, 0,...</td>\n",
       "      <td>1683.0</td>\n",
       "      <td>lot1</td>\n",
       "      <td>2.0</td>\n",
       "      <td>[[Training]]</td>\n",
       "      <td>[[none]]</td>\n",
       "    </tr>\n",
       "    <tr>\n",
       "      <th>2</th>\n",
       "      <td>[[0, 0, 0, 0, 0, 0, 0, 0, 0, 0, 0, 0, 0, 0, 0,...</td>\n",
       "      <td>1683.0</td>\n",
       "      <td>lot1</td>\n",
       "      <td>3.0</td>\n",
       "      <td>[[Training]]</td>\n",
       "      <td>[[none]]</td>\n",
       "    </tr>\n",
       "    <tr>\n",
       "      <th>3</th>\n",
       "      <td>[[0, 0, 0, 0, 0, 0, 0, 0, 0, 0, 0, 0, 0, 0, 0,...</td>\n",
       "      <td>1683.0</td>\n",
       "      <td>lot1</td>\n",
       "      <td>4.0</td>\n",
       "      <td>[[Training]]</td>\n",
       "      <td>[[none]]</td>\n",
       "    </tr>\n",
       "    <tr>\n",
       "      <th>4</th>\n",
       "      <td>[[0, 0, 0, 0, 0, 0, 0, 0, 0, 0, 0, 0, 0, 0, 0,...</td>\n",
       "      <td>1683.0</td>\n",
       "      <td>lot1</td>\n",
       "      <td>5.0</td>\n",
       "      <td>[[Training]]</td>\n",
       "      <td>[[none]]</td>\n",
       "    </tr>\n",
       "    <tr>\n",
       "      <th>...</th>\n",
       "      <td>...</td>\n",
       "      <td>...</td>\n",
       "      <td>...</td>\n",
       "      <td>...</td>\n",
       "      <td>...</td>\n",
       "      <td>...</td>\n",
       "    </tr>\n",
       "    <tr>\n",
       "      <th>811452</th>\n",
       "      <td>[[0, 0, 0, 0, 0, 0, 0, 0, 0, 0, 0, 1, 2, 1, 1,...</td>\n",
       "      <td>600.0</td>\n",
       "      <td>lot47542</td>\n",
       "      <td>23.0</td>\n",
       "      <td>[[Test]]</td>\n",
       "      <td>[[Edge-Ring]]</td>\n",
       "    </tr>\n",
       "    <tr>\n",
       "      <th>811453</th>\n",
       "      <td>[[0, 0, 0, 0, 0, 0, 0, 0, 0, 0, 0, 2, 2, 1, 1,...</td>\n",
       "      <td>600.0</td>\n",
       "      <td>lot47542</td>\n",
       "      <td>24.0</td>\n",
       "      <td>[[Test]]</td>\n",
       "      <td>[[Edge-Loc]]</td>\n",
       "    </tr>\n",
       "    <tr>\n",
       "      <th>811454</th>\n",
       "      <td>[[0, 0, 0, 0, 0, 0, 0, 0, 0, 0, 0, 1, 2, 1, 1,...</td>\n",
       "      <td>600.0</td>\n",
       "      <td>lot47542</td>\n",
       "      <td>25.0</td>\n",
       "      <td>[[Test]]</td>\n",
       "      <td>[[Edge-Ring]]</td>\n",
       "    </tr>\n",
       "    <tr>\n",
       "      <th>811455</th>\n",
       "      <td>[[0, 0, 0, 0, 0, 0, 0, 0, 0, 0, 0, 1, 1, 1, 1,...</td>\n",
       "      <td>600.0</td>\n",
       "      <td>lot47543</td>\n",
       "      <td>1.0</td>\n",
       "      <td>[]</td>\n",
       "      <td>[]</td>\n",
       "    </tr>\n",
       "    <tr>\n",
       "      <th>811456</th>\n",
       "      <td>[[0, 0, 0, 0, 0, 0, 0, 0, 0, 0, 0, 1, 2, 1, 1,...</td>\n",
       "      <td>600.0</td>\n",
       "      <td>lot47543</td>\n",
       "      <td>2.0</td>\n",
       "      <td>[]</td>\n",
       "      <td>[]</td>\n",
       "    </tr>\n",
       "  </tbody>\n",
       "</table>\n",
       "<p>811457 rows × 6 columns</p>\n",
       "</div>"
      ]
     },
     "execution_count": 2,
     "metadata": {},
     "output_type": "execute_result"
    }
   ],
   "execution_count": 2
  },
  {
   "cell_type": "code",
   "source": "df['waferMap'][0].shape",
   "metadata": {
    "colab": {
     "base_uri": "https://localhost:8080/"
    },
    "id": "pSkGFdQ5M_cB",
    "executionInfo": {
     "status": "ok",
     "timestamp": 1728737001367,
     "user_tz": -540,
     "elapsed": 11,
     "user": {
      "displayName": "JaeHyeok Ho",
      "userId": "09522757785018905826"
     }
    },
    "outputId": "7195338f-2f40-4ee3-bdc4-6ef97454e815",
    "ExecuteTime": {
     "end_time": "2024-10-26T13:19:03.788446Z",
     "start_time": "2024-10-26T13:19:03.785625Z"
    }
   },
   "outputs": [
    {
     "data": {
      "text/plain": [
       "(45, 48)"
      ]
     },
     "execution_count": 3,
     "metadata": {},
     "output_type": "execute_result"
    }
   ],
   "execution_count": 3
  },
  {
   "cell_type": "code",
   "source": [
    "# failureType 열의 데이터 유형과 샘플 값 확인\n",
    "print(df['failureType'].head(50))  # 상위 50개의 데이터를 확인\n"
   ],
   "metadata": {
    "colab": {
     "base_uri": "https://localhost:8080/"
    },
    "id": "uq2Ijm3ZM_Zc",
    "executionInfo": {
     "status": "ok",
     "timestamp": 1728737001367,
     "user_tz": -540,
     "elapsed": 9,
     "user": {
      "displayName": "JaeHyeok Ho",
      "userId": "09522757785018905826"
     }
    },
    "outputId": "71f6321d-1496-47f8-bbe8-27182d288fe6",
    "ExecuteTime": {
     "end_time": "2024-10-26T13:19:03.830772Z",
     "start_time": "2024-10-26T13:19:03.824596Z"
    }
   },
   "outputs": [
    {
     "name": "stdout",
     "output_type": "stream",
     "text": [
      "0         [[none]]\n",
      "1         [[none]]\n",
      "2         [[none]]\n",
      "3         [[none]]\n",
      "4         [[none]]\n",
      "5         [[none]]\n",
      "6         [[none]]\n",
      "7         [[none]]\n",
      "8         [[none]]\n",
      "9         [[none]]\n",
      "10        [[none]]\n",
      "11        [[none]]\n",
      "12        [[none]]\n",
      "13        [[none]]\n",
      "14        [[none]]\n",
      "15        [[none]]\n",
      "16        [[none]]\n",
      "17        [[none]]\n",
      "18        [[none]]\n",
      "19         [[Loc]]\n",
      "20        [[none]]\n",
      "21        [[none]]\n",
      "22        [[none]]\n",
      "23        [[none]]\n",
      "24        [[none]]\n",
      "25        [[none]]\n",
      "26        [[none]]\n",
      "27        [[none]]\n",
      "28        [[none]]\n",
      "29        [[none]]\n",
      "30        [[none]]\n",
      "31        [[none]]\n",
      "32        [[none]]\n",
      "33        [[none]]\n",
      "34        [[none]]\n",
      "35              []\n",
      "36    [[Edge-Loc]]\n",
      "37    [[Edge-Loc]]\n",
      "38    [[Edge-Loc]]\n",
      "39    [[Edge-Loc]]\n",
      "40         [[Loc]]\n",
      "41    [[Edge-Loc]]\n",
      "42    [[Edge-Loc]]\n",
      "43    [[Edge-Loc]]\n",
      "44      [[Center]]\n",
      "45              []\n",
      "46        [[none]]\n",
      "47         [[Loc]]\n",
      "48    [[Edge-Loc]]\n",
      "49      [[Center]]\n",
      "Name: failureType, dtype: object\n"
     ]
    }
   ],
   "execution_count": 4
  },
  {
   "cell_type": "code",
   "source": [
    "import numpy as np\n",
    "\n",
    "# class2idx 딕셔너리 (예시)\n",
    "class2idx = {\n",
    "    'Loc': 0,\n",
    "    'Edge-Loc': 1,\n",
    "    'Center': 2,\n",
    "    'Edge-Ring': 3,\n",
    "    'Scratch': 4,\n",
    "    'Random': 5,\n",
    "    'Near-full': 6,\n",
    "    'Donut': 7\n",
    "}\n",
    "\n",
    "def map_failure_type(failure_list):\n",
    "    # numpy array를 리스트로 변환\n",
    "    if isinstance(failure_list, np.ndarray):\n",
    "        failure_list = failure_list.tolist()\n",
    "\n",
    "    # 문자열로 변환\n",
    "    failure_str = str(failure_list)\n",
    "\n",
    "    # 'none' 또는 None 문자열 처리\n",
    "    if \"none\" in failure_str or failure_list == []:\n",
    "        return 8\n",
    "\n",
    "    # 리스트 안에 첫 번째 원소를 가져오기\n",
    "    try:\n",
    "        first_element = eval(failure_str)[0][0]  # 첫 번째 리스트의 첫 번째 요소\n",
    "        return class2idx.get(first_element, 8)\n",
    "    except (IndexError, SyntaxError):\n",
    "        return 8\n",
    "\n",
    "# apply로 처리\n",
    "df['failureType'] = df['failureType'].apply(map_failure_type)\n",
    "\n",
    "# 결과 확인\n",
    "print(df['failureType'])"
   ],
   "metadata": {
    "colab": {
     "base_uri": "https://localhost:8080/"
    },
    "id": "EWsWHgTRM_Uh",
    "executionInfo": {
     "status": "ok",
     "timestamp": 1728737005908,
     "user_tz": -540,
     "elapsed": 431,
     "user": {
      "displayName": "JaeHyeok Ho",
      "userId": "09522757785018905826"
     }
    },
    "outputId": "b6b00eb3-8a19-42dd-ba22-d257698eaee1",
    "ExecuteTime": {
     "end_time": "2024-10-26T13:19:04.265593Z",
     "start_time": "2024-10-26T13:19:03.938735Z"
    }
   },
   "outputs": [
    {
     "name": "stdout",
     "output_type": "stream",
     "text": [
      "0         8\n",
      "1         8\n",
      "2         8\n",
      "3         8\n",
      "4         8\n",
      "         ..\n",
      "811452    3\n",
      "811453    1\n",
      "811454    3\n",
      "811455    8\n",
      "811456    8\n",
      "Name: failureType, Length: 811457, dtype: int64\n"
     ]
    }
   ],
   "execution_count": 5
  },
  {
   "metadata": {
    "ExecuteTime": {
     "end_time": "2024-10-26T13:19:04.278563Z",
     "start_time": "2024-10-26T13:19:04.276064Z"
    }
   },
   "cell_type": "code",
   "source": "df['waferMap'][0].shape",
   "outputs": [
    {
     "data": {
      "text/plain": [
       "(45, 48)"
      ]
     },
     "execution_count": 6,
     "metadata": {},
     "output_type": "execute_result"
    }
   ],
   "execution_count": 6
  },
  {
   "cell_type": "code",
   "source": [
    "df.info()\n",
    "df[df['failureType'] != 8]\n",
    "df = df[df['waferMap'].apply(lambda x: x.shape == (39, 37))]"
   ],
   "metadata": {
    "colab": {
     "base_uri": "https://localhost:8080/",
     "height": 666
    },
    "id": "39XBhYZdM_Sb",
    "executionInfo": {
     "status": "ok",
     "timestamp": 1728737008105,
     "user_tz": -540,
     "elapsed": 386,
     "user": {
      "displayName": "JaeHyeok Ho",
      "userId": "09522757785018905826"
     }
    },
    "outputId": "c140bca9-ce26-4eed-a456-401e8adcf732",
    "ExecuteTime": {
     "end_time": "2024-10-26T13:19:04.476737Z",
     "start_time": "2024-10-26T13:19:04.334203Z"
    }
   },
   "outputs": [
    {
     "name": "stdout",
     "output_type": "stream",
     "text": [
      "<class 'pandas.core.frame.DataFrame'>\n",
      "RangeIndex: 811457 entries, 0 to 811456\n",
      "Data columns (total 6 columns):\n",
      " #   Column          Non-Null Count   Dtype  \n",
      "---  ------          --------------   -----  \n",
      " 0   waferMap        811457 non-null  object \n",
      " 1   dieSize         811457 non-null  float64\n",
      " 2   lotName         811457 non-null  object \n",
      " 3   waferIndex      811457 non-null  float64\n",
      " 4   trianTestLabel  811457 non-null  object \n",
      " 5   failureType     811457 non-null  int64  \n",
      "dtypes: float64(2), int64(1), object(3)\n",
      "memory usage: 37.1+ MB\n"
     ]
    }
   ],
   "execution_count": 7
  },
  {
   "metadata": {
    "ExecuteTime": {
     "end_time": "2024-10-26T13:19:04.570686Z",
     "start_time": "2024-10-26T13:19:04.510514Z"
    }
   },
   "cell_type": "code",
   "source": "df",
   "outputs": [
    {
     "data": {
      "text/plain": [
       "                                                 waferMap  dieSize   lotName  \\\n",
       "67656   [[0, 0, 0, 0, 0, 0, 0, 0, 0, 0, 0, 0, 0, 0, 0,...   1129.0   lot5129   \n",
       "67657   [[0, 0, 0, 0, 0, 0, 0, 0, 0, 0, 0, 0, 0, 0, 0,...   1129.0   lot5129   \n",
       "67658   [[0, 0, 0, 0, 0, 0, 0, 0, 0, 0, 0, 0, 0, 0, 0,...   1129.0   lot5129   \n",
       "67659   [[0, 0, 0, 0, 0, 0, 0, 0, 0, 0, 0, 0, 0, 0, 0,...   1129.0   lot5129   \n",
       "67660   [[0, 0, 0, 0, 0, 0, 0, 0, 0, 0, 0, 0, 0, 0, 0,...   1129.0   lot5129   \n",
       "...                                                   ...      ...       ...   \n",
       "763742  [[0, 0, 0, 0, 0, 0, 0, 0, 0, 0, 0, 0, 0, 0, 2,...   1109.0  lot45599   \n",
       "763743  [[0, 0, 0, 0, 0, 0, 0, 0, 0, 0, 0, 0, 0, 0, 2,...   1109.0  lot45599   \n",
       "763744  [[0, 0, 0, 0, 0, 0, 0, 0, 0, 0, 0, 0, 0, 0, 2,...   1109.0  lot45599   \n",
       "763745  [[0, 0, 0, 0, 0, 0, 0, 0, 0, 0, 0, 0, 0, 0, 2,...   1109.0  lot45600   \n",
       "763746  [[0, 0, 0, 0, 0, 0, 0, 0, 0, 0, 0, 0, 0, 0, 2,...   1109.0  lot45600   \n",
       "\n",
       "        waferIndex trianTestLabel  failureType  \n",
       "67656          1.0             []            8  \n",
       "67657          2.0             []            8  \n",
       "67658          3.0             []            8  \n",
       "67659          4.0             []            8  \n",
       "67660          5.0             []            8  \n",
       "...            ...            ...          ...  \n",
       "763742        23.0       [[Test]]            8  \n",
       "763743        24.0       [[Test]]            8  \n",
       "763744        25.0       [[Test]]            8  \n",
       "763745         1.0             []            8  \n",
       "763746         2.0             []            8  \n",
       "\n",
       "[15327 rows x 6 columns]"
      ],
      "text/html": [
       "<div>\n",
       "<style scoped>\n",
       "    .dataframe tbody tr th:only-of-type {\n",
       "        vertical-align: middle;\n",
       "    }\n",
       "\n",
       "    .dataframe tbody tr th {\n",
       "        vertical-align: top;\n",
       "    }\n",
       "\n",
       "    .dataframe thead th {\n",
       "        text-align: right;\n",
       "    }\n",
       "</style>\n",
       "<table border=\"1\" class=\"dataframe\">\n",
       "  <thead>\n",
       "    <tr style=\"text-align: right;\">\n",
       "      <th></th>\n",
       "      <th>waferMap</th>\n",
       "      <th>dieSize</th>\n",
       "      <th>lotName</th>\n",
       "      <th>waferIndex</th>\n",
       "      <th>trianTestLabel</th>\n",
       "      <th>failureType</th>\n",
       "    </tr>\n",
       "  </thead>\n",
       "  <tbody>\n",
       "    <tr>\n",
       "      <th>67656</th>\n",
       "      <td>[[0, 0, 0, 0, 0, 0, 0, 0, 0, 0, 0, 0, 0, 0, 0,...</td>\n",
       "      <td>1129.0</td>\n",
       "      <td>lot5129</td>\n",
       "      <td>1.0</td>\n",
       "      <td>[]</td>\n",
       "      <td>8</td>\n",
       "    </tr>\n",
       "    <tr>\n",
       "      <th>67657</th>\n",
       "      <td>[[0, 0, 0, 0, 0, 0, 0, 0, 0, 0, 0, 0, 0, 0, 0,...</td>\n",
       "      <td>1129.0</td>\n",
       "      <td>lot5129</td>\n",
       "      <td>2.0</td>\n",
       "      <td>[]</td>\n",
       "      <td>8</td>\n",
       "    </tr>\n",
       "    <tr>\n",
       "      <th>67658</th>\n",
       "      <td>[[0, 0, 0, 0, 0, 0, 0, 0, 0, 0, 0, 0, 0, 0, 0,...</td>\n",
       "      <td>1129.0</td>\n",
       "      <td>lot5129</td>\n",
       "      <td>3.0</td>\n",
       "      <td>[]</td>\n",
       "      <td>8</td>\n",
       "    </tr>\n",
       "    <tr>\n",
       "      <th>67659</th>\n",
       "      <td>[[0, 0, 0, 0, 0, 0, 0, 0, 0, 0, 0, 0, 0, 0, 0,...</td>\n",
       "      <td>1129.0</td>\n",
       "      <td>lot5129</td>\n",
       "      <td>4.0</td>\n",
       "      <td>[]</td>\n",
       "      <td>8</td>\n",
       "    </tr>\n",
       "    <tr>\n",
       "      <th>67660</th>\n",
       "      <td>[[0, 0, 0, 0, 0, 0, 0, 0, 0, 0, 0, 0, 0, 0, 0,...</td>\n",
       "      <td>1129.0</td>\n",
       "      <td>lot5129</td>\n",
       "      <td>5.0</td>\n",
       "      <td>[]</td>\n",
       "      <td>8</td>\n",
       "    </tr>\n",
       "    <tr>\n",
       "      <th>...</th>\n",
       "      <td>...</td>\n",
       "      <td>...</td>\n",
       "      <td>...</td>\n",
       "      <td>...</td>\n",
       "      <td>...</td>\n",
       "      <td>...</td>\n",
       "    </tr>\n",
       "    <tr>\n",
       "      <th>763742</th>\n",
       "      <td>[[0, 0, 0, 0, 0, 0, 0, 0, 0, 0, 0, 0, 0, 0, 2,...</td>\n",
       "      <td>1109.0</td>\n",
       "      <td>lot45599</td>\n",
       "      <td>23.0</td>\n",
       "      <td>[[Test]]</td>\n",
       "      <td>8</td>\n",
       "    </tr>\n",
       "    <tr>\n",
       "      <th>763743</th>\n",
       "      <td>[[0, 0, 0, 0, 0, 0, 0, 0, 0, 0, 0, 0, 0, 0, 2,...</td>\n",
       "      <td>1109.0</td>\n",
       "      <td>lot45599</td>\n",
       "      <td>24.0</td>\n",
       "      <td>[[Test]]</td>\n",
       "      <td>8</td>\n",
       "    </tr>\n",
       "    <tr>\n",
       "      <th>763744</th>\n",
       "      <td>[[0, 0, 0, 0, 0, 0, 0, 0, 0, 0, 0, 0, 0, 0, 2,...</td>\n",
       "      <td>1109.0</td>\n",
       "      <td>lot45599</td>\n",
       "      <td>25.0</td>\n",
       "      <td>[[Test]]</td>\n",
       "      <td>8</td>\n",
       "    </tr>\n",
       "    <tr>\n",
       "      <th>763745</th>\n",
       "      <td>[[0, 0, 0, 0, 0, 0, 0, 0, 0, 0, 0, 0, 0, 0, 2,...</td>\n",
       "      <td>1109.0</td>\n",
       "      <td>lot45600</td>\n",
       "      <td>1.0</td>\n",
       "      <td>[]</td>\n",
       "      <td>8</td>\n",
       "    </tr>\n",
       "    <tr>\n",
       "      <th>763746</th>\n",
       "      <td>[[0, 0, 0, 0, 0, 0, 0, 0, 0, 0, 0, 0, 0, 0, 2,...</td>\n",
       "      <td>1109.0</td>\n",
       "      <td>lot45600</td>\n",
       "      <td>2.0</td>\n",
       "      <td>[]</td>\n",
       "      <td>8</td>\n",
       "    </tr>\n",
       "  </tbody>\n",
       "</table>\n",
       "<p>15327 rows × 6 columns</p>\n",
       "</div>"
      ]
     },
     "execution_count": 8,
     "metadata": {},
     "output_type": "execute_result"
    }
   ],
   "execution_count": 8
  },
  {
   "cell_type": "code",
   "source": [
    "# failureType의 고유 값과 개수 세기\n",
    "failure_counts = df['failureType'].value_counts()\n",
    "\n",
    "print(failure_counts)"
   ],
   "metadata": {
    "colab": {
     "base_uri": "https://localhost:8080/"
    },
    "id": "oG5nNG2bM_Pj",
    "executionInfo": {
     "status": "ok",
     "timestamp": 1728737010477,
     "user_tz": -540,
     "elapsed": 500,
     "user": {
      "displayName": "JaeHyeok Ho",
      "userId": "09522757785018905826"
     }
    },
    "outputId": "6c04c21f-aa19-430e-9ca3-289427db1f71",
    "ExecuteTime": {
     "end_time": "2024-10-26T13:19:04.635149Z",
     "start_time": "2024-10-26T13:19:04.632804Z"
    }
   },
   "outputs": [
    {
     "name": "stdout",
     "output_type": "stream",
     "text": [
      "failureType\n",
      "8    14312\n",
      "1      473\n",
      "0      222\n",
      "2      173\n",
      "4       60\n",
      "5       35\n",
      "7       22\n",
      "3       15\n",
      "6       15\n",
      "Name: count, dtype: int64\n"
     ]
    }
   ],
   "execution_count": 9
  },
  {
   "cell_type": "code",
   "source": [
    "features = df['waferMap'].values\n",
    "targets = df['failureType'].values"
   ],
   "metadata": {
    "id": "4KFiGUk6QWw4",
    "executionInfo": {
     "status": "ok",
     "timestamp": 1728737216425,
     "user_tz": -540,
     "elapsed": 386,
     "user": {
      "displayName": "JaeHyeok Ho",
      "userId": "09522757785018905826"
     }
    },
    "ExecuteTime": {
     "end_time": "2024-10-26T13:19:04.652246Z",
     "start_time": "2024-10-26T13:19:04.650154Z"
    }
   },
   "outputs": [],
   "execution_count": 10
  },
  {
   "metadata": {
    "ExecuteTime": {
     "end_time": "2024-10-26T13:19:04.736169Z",
     "start_time": "2024-10-26T13:19:04.733987Z"
    }
   },
   "cell_type": "code",
   "source": "features.shape",
   "outputs": [
    {
     "data": {
      "text/plain": [
       "(15327,)"
      ]
     },
     "execution_count": 11,
     "metadata": {},
     "output_type": "execute_result"
    }
   ],
   "execution_count": 11
  },
  {
   "metadata": {
    "ExecuteTime": {
     "end_time": "2024-10-26T13:19:04.793291Z",
     "start_time": "2024-10-26T13:19:04.787836Z"
    }
   },
   "cell_type": "code",
   "source": [
    "import numpy as np\n",
    "import pandas as pd\n",
    "from sklearn.model_selection import train_test_split\n",
    "\n",
    "# 결함 유형 8을 새로운 라벨 7로 변환 (필요할 경우)\n",
    "\n",
    "\n",
    "# 데이터 분할 (train, test split)\n",
    "X_train, X_test, y_train, y_test = train_test_split(features, targets, stratify=targets, random_state=123, test_size=0.2)\n",
    "\n",
    "print(f\"훈련 데이터 수: {X_train.shape[0]}, 테스트 데이터 수: {X_test.shape[0]}\")"
   ],
   "outputs": [
    {
     "name": "stdout",
     "output_type": "stream",
     "text": [
      "훈련 데이터 수: 12261, 테스트 데이터 수: 3066\n"
     ]
    }
   ],
   "execution_count": 12
  },
  {
   "metadata": {
    "ExecuteTime": {
     "end_time": "2024-10-26T13:19:04.880070Z",
     "start_time": "2024-10-26T13:19:04.877530Z"
    }
   },
   "cell_type": "code",
   "source": [
    "from scipy.ndimage import median_filter\n",
    "import ast\n",
    "\n",
    "# 필터링 함수 정의\n",
    "def apply_median_filter_to_features(features, targets):\n",
    "    filtered_maps = []\n",
    "    filtered_targets = []\n",
    "\n",
    "    for wafer_map, target in zip(features, targets):\n",
    "        # 문자열이 아닌 ndarray인 경우 처리\n",
    "        if isinstance(wafer_map, np.ndarray):\n",
    "            wafer_map_array = wafer_map\n",
    "        else:\n",
    "            wafer_map_array = np.array(ast.literal_eval(wafer_map.replace(' ', ',')))\n",
    "\n",
    "        # 필터 적용: 0은 그대로 두고 1과 2에 대해 필터링 적용\n",
    "        filtered_map = np.where(wafer_map_array == 0, 0, median_filter(wafer_map_array, size=3))\n",
    "        filtered_maps.append(filtered_map)\n",
    "        filtered_targets.append(target)\n",
    "\n",
    "    return np.array(filtered_maps), np.array(filtered_targets)"
   ],
   "outputs": [],
   "execution_count": 13
  },
  {
   "metadata": {
    "ExecuteTime": {
     "end_time": "2024-10-26T13:19:05.744603Z",
     "start_time": "2024-10-26T13:19:04.962210Z"
    }
   },
   "cell_type": "code",
   "source": [
    "# 필터링된 훈련 데이터\n",
    "filtered_train_X, filtered_train_y = apply_median_filter_to_features(X_train, y_train)\n",
    "filtered_test_X, filtered_test_Y = apply_median_filter_to_features(X_test, y_test)\n",
    "print(f\"필터링된 훈련 데이터의 형태: {filtered_train_X.shape}\")"
   ],
   "outputs": [
    {
     "name": "stdout",
     "output_type": "stream",
     "text": [
      "필터링된 훈련 데이터의 형태: (12261, 39, 37)\n"
     ]
    }
   ],
   "execution_count": 14
  },
  {
   "metadata": {
    "ExecuteTime": {
     "end_time": "2024-10-26T13:19:05.829707Z",
     "start_time": "2024-10-26T13:19:05.827593Z"
    }
   },
   "cell_type": "code",
   "source": "X_test.shape, y_test.shape",
   "outputs": [
    {
     "data": {
      "text/plain": [
       "((3066,), (3066,))"
      ]
     },
     "execution_count": 15,
     "metadata": {},
     "output_type": "execute_result"
    }
   ],
   "execution_count": 15
  },
  {
   "metadata": {
    "ExecuteTime": {
     "end_time": "2024-10-26T13:19:05.916746Z",
     "start_time": "2024-10-26T13:19:05.911838Z"
    }
   },
   "cell_type": "code",
   "source": [
    "import numpy as np\n",
    "\n",
    "# X_test의 요소들을 numpy 배열로 변환\n",
    "X_test_images = np.array(X_test.tolist())  # 리스트로 변환 후 numpy 배열로 변환\n",
    "\n",
    "# 배열의 형태 확인\n",
    "print(f\"X_test_images shape: {X_test_images.shape}\")  # (n_samples, 26, 26)\n",
    "\n",
    "# reshape을 사용하여 (n_samples, 26*26) 형태로 변환\n",
    "X_test_reshaped = X_test_images.reshape(-1, 39*37)  # (n_samples, 676)\n",
    "\n",
    "X_test = X_test_reshaped\n",
    "\n",
    "# 변환된 형태 출력\n",
    "print(f\"X_test shape: {X_test_reshaped.shape}\")  # (n_samples, 676)"
   ],
   "outputs": [
    {
     "name": "stdout",
     "output_type": "stream",
     "text": [
      "X_test_images shape: (3066, 39, 37)\n",
      "X_test shape: (3066, 1443)\n"
     ]
    }
   ],
   "execution_count": 16
  },
  {
   "metadata": {
    "ExecuteTime": {
     "end_time": "2024-10-26T13:19:05.985614Z",
     "start_time": "2024-10-26T13:19:05.983551Z"
    }
   },
   "cell_type": "code",
   "source": "X_test.shape, y_test.shape",
   "outputs": [
    {
     "data": {
      "text/plain": [
       "((3066, 1443), (3066,))"
      ]
     },
     "execution_count": 17,
     "metadata": {},
     "output_type": "execute_result"
    }
   ],
   "execution_count": 17
  },
  {
   "metadata": {
    "ExecuteTime": {
     "end_time": "2024-10-26T13:19:06.063107Z",
     "start_time": "2024-10-26T13:19:06.061569Z"
    }
   },
   "cell_type": "code",
   "source": [
    "X_train_no_aug = filtered_train_X\n",
    "y_train_no_aug = filtered_train_y"
   ],
   "outputs": [],
   "execution_count": 18
  },
  {
   "metadata": {
    "ExecuteTime": {
     "end_time": "2024-10-26T13:19:06.137144Z",
     "start_time": "2024-10-26T13:19:06.135630Z"
    }
   },
   "cell_type": "code",
   "source": "",
   "outputs": [],
   "execution_count": null
  },
  {
   "metadata": {
    "ExecuteTime": {
     "end_time": "2024-10-26T13:19:06.213356Z",
     "start_time": "2024-10-26T13:19:06.211295Z"
    }
   },
   "cell_type": "code",
   "source": "X_train_no_aug.shape",
   "outputs": [
    {
     "data": {
      "text/plain": [
       "(12261, 39, 37)"
      ]
     },
     "execution_count": 19,
     "metadata": {},
     "output_type": "execute_result"
    }
   ],
   "execution_count": 19
  },
  {
   "metadata": {
    "ExecuteTime": {
     "end_time": "2024-10-26T13:19:06.284321Z",
     "start_time": "2024-10-26T13:19:06.282685Z"
    }
   },
   "cell_type": "code",
   "source": "",
   "outputs": [],
   "execution_count": null
  },
  {
   "cell_type": "code",
   "source": [
    "import numpy as np\n",
    "\n",
    "# 데이터 증강 함수 (Train 데이터만 증강)\n",
    "def augment_data(wafer_maps, targets):\n",
    "    augmented_maps = []\n",
    "    augmented_targets = []\n",
    "    \n",
    "    # 원본 웨이퍼 맵의 크기 확인 (첫 번째 맵을 기준으로)\n",
    "    original_shape = wafer_maps[0].shape\n",
    "\n",
    "    for wafer_map, target in zip(wafer_maps, targets):\n",
    "        # 원본 데이터 추가 (리사이즈 없이 그대로)\n",
    "        augmented_maps.append(wafer_map)\n",
    "        augmented_targets.append(target)\n",
    "\n",
    "        # 결함 있는 웨이퍼만 증강 (라벨 8 제외)\n",
    "        if target != 8:\n",
    "            # 90도 회전\n",
    "            rotated_90 = np.rot90(wafer_map, k=-1)\n",
    "            rotated_180 = np.rot90(wafer_map, k=2)\n",
    "            rotated_270 = np.rot90(wafer_map, k=1)\n",
    "\n",
    "            # 상하 및 좌우 뒤집기\n",
    "            flipped_vertical = np.flip(wafer_map, axis=0)\n",
    "            flipped_horizontal = np.flip(wafer_map, axis=1)\n",
    "\n",
    "            # 회전 및 뒤집기 후 동일한 크기 유지 확인 및 강제 조정\n",
    "            augmented_maps.append(pad_or_crop(rotated_90, original_shape))\n",
    "            augmented_targets.append(target)\n",
    "\n",
    "            augmented_maps.append(pad_or_crop(rotated_180, original_shape))\n",
    "            augmented_targets.append(target)\n",
    "\n",
    "            augmented_maps.append(pad_or_crop(rotated_270, original_shape))\n",
    "            augmented_targets.append(target)\n",
    "\n",
    "            augmented_maps.append(pad_or_crop(flipped_vertical, original_shape))\n",
    "            augmented_targets.append(target)\n",
    "\n",
    "            augmented_maps.append(pad_or_crop(flipped_horizontal, original_shape))\n",
    "            augmented_targets.append(target)\n",
    "\n",
    "    # 웨이퍼 맵의 모양이 모두 같은지 확인 및 배열화\n",
    "    augmented_maps = np.array(augmented_maps)\n",
    "    \n",
    "    return augmented_maps, np.array(augmented_targets)\n",
    "\n",
    "def pad_or_crop(image, target_shape):\n",
    "    \"\"\"\n",
    "    이미지의 크기가 target_shape와 동일하지 않은 경우, 잘라내거나 패딩을 추가하여 동일한 크기로 만듭니다.\n",
    "    \"\"\"\n",
    "    current_shape = image.shape\n",
    "    padded_image = np.zeros(target_shape, dtype=image.dtype)\n",
    "\n",
    "    # 이미지의 크기가 목표 크기보다 작다면, 중앙에 위치하도록 패딩\n",
    "    padded_image[:min(current_shape[0], target_shape[0]), :min(current_shape[1], target_shape[1])] = \\\n",
    "        image[:min(current_shape[0], target_shape[0]), :min(current_shape[1], target_shape[1])]\n",
    "\n",
    "    return padded_image\n",
    "\n",
    "# 증강된 훈련 데이터\n",
    "X_train_aug, y_train_aug = augment_data(X_train_no_aug, y_train_no_aug)\n",
    "\n",
    "print(f\"증강된 훈련 데이터의 형태: {X_train_aug.shape}\")\n"
   ],
   "metadata": {
    "colab": {
     "base_uri": "https://localhost:8080/"
    },
    "id": "dZWNAlyFPtzV",
    "executionInfo": {
     "status": "ok",
     "timestamp": 1728737259910,
     "user_tz": -540,
     "elapsed": 321,
     "user": {
      "displayName": "JaeHyeok Ho",
      "userId": "09522757785018905826"
     }
    },
    "outputId": "a24ebfb4-4d9e-43f2-df8d-521df7d644f5",
    "ExecuteTime": {
     "end_time": "2024-10-26T13:19:06.385913Z",
     "start_time": "2024-10-26T13:19:06.355407Z"
    }
   },
   "outputs": [
    {
     "name": "stdout",
     "output_type": "stream",
     "text": [
      "증강된 훈련 데이터의 형태: (16321, 39, 37)\n"
     ]
    }
   ],
   "execution_count": 20
  },
  {
   "metadata": {
    "ExecuteTime": {
     "end_time": "2024-10-26T13:19:06.856553Z",
     "start_time": "2024-10-26T13:19:06.456062Z"
    }
   },
   "cell_type": "code",
   "source": [
    "import numpy as np\n",
    "\n",
    "# 로그 변환을 적용하여 0으로 인한 문제를 피하기 위해 np.log1p 사용 (log(1 + x))\n",
    "X_train_no_aug = np.array([np.log1p(i) for i in X_train_no_aug])\n",
    "X_test = np.array([np.log1p(i) for i in X_test])\n",
    "X_train_aug = np.array([np.log1p(i) for i in X_train_aug])\n",
    "# 결과 출력\n",
    "print(X_train_aug[0])\n",
    "print(X_train_no_aug[0])\n",
    "\n"
   ],
   "outputs": [
    {
     "name": "stdout",
     "output_type": "stream",
     "text": [
      "[[0. 0. 0. ... 0. 0. 0.]\n",
      " [0. 0. 0. ... 0. 0. 0.]\n",
      " [0. 0. 0. ... 0. 0. 0.]\n",
      " ...\n",
      " [0. 0. 0. ... 0. 0. 0.]\n",
      " [0. 0. 0. ... 0. 0. 0.]\n",
      " [0. 0. 0. ... 0. 0. 0.]]\n",
      "[[0. 0. 0. ... 0. 0. 0.]\n",
      " [0. 0. 0. ... 0. 0. 0.]\n",
      " [0. 0. 0. ... 0. 0. 0.]\n",
      " ...\n",
      " [0. 0. 0. ... 0. 0. 0.]\n",
      " [0. 0. 0. ... 0. 0. 0.]\n",
      " [0. 0. 0. ... 0. 0. 0.]]\n"
     ]
    }
   ],
   "execution_count": 21
  },
  {
   "metadata": {
    "ExecuteTime": {
     "end_time": "2024-10-26T13:19:06.997310Z",
     "start_time": "2024-10-26T13:19:06.995318Z"
    }
   },
   "cell_type": "code",
   "source": "print(X_train_aug.shape)",
   "outputs": [
    {
     "name": "stdout",
     "output_type": "stream",
     "text": [
      "(16321, 39, 37)\n"
     ]
    }
   ],
   "execution_count": 22
  },
  {
   "metadata": {
    "ExecuteTime": {
     "end_time": "2024-10-26T13:19:07.009863Z",
     "start_time": "2024-10-26T13:19:07.006919Z"
    }
   },
   "cell_type": "code",
   "source": [
    "import pandas as pd\n",
    "\n",
    "# 결함 유형별 데이터 개수 세기\n",
    "augmented_target_series = pd.Series(y_train_aug)\n",
    "failure_counts_augmented = augmented_target_series.value_counts()\n",
    "\n",
    "print(\"증강된 훈련 데이터의 결함 유형별 개수:\")\n",
    "print(failure_counts_augmented)"
   ],
   "outputs": [
    {
     "name": "stdout",
     "output_type": "stream",
     "text": [
      "증강된 훈련 데이터의 결함 유형별 개수:\n",
      "8    11449\n",
      "1     2268\n",
      "0     1068\n",
      "2      828\n",
      "4      288\n",
      "5      168\n",
      "7      108\n",
      "3       72\n",
      "6       72\n",
      "Name: count, dtype: int64\n"
     ]
    }
   ],
   "execution_count": 23
  },
  {
   "metadata": {
    "ExecuteTime": {
     "end_time": "2024-10-26T13:19:07.161933Z",
     "start_time": "2024-10-26T13:19:07.082278Z"
    }
   },
   "cell_type": "code",
   "source": [
    "import matplotlib.pyplot as plt\n",
    "\n",
    "# 결함 유형별 데이터 개수 그래프 그리기\n",
    "plt.figure(figsize=(10, 6))\n",
    "failure_counts_augmented.sort_index().plot(kind='bar', color='skyblue')\n",
    "plt.title('Augmented Training Data Count by Failure Type')\n",
    "plt.xlabel('Failure Type')\n",
    "plt.ylabel('Count')\n",
    "plt.xticks(rotation=0)\n",
    "plt.grid(axis='y', linestyle='--')\n",
    "plt.show()"
   ],
   "outputs": [
    {
     "data": {
      "text/plain": [
       "<Figure size 1000x600 with 1 Axes>"
      ],
      "image/png": "[encoded data removed]"
     },
     "metadata": {},
     "output_type": "display_data"
    }
   ],
   "execution_count": 24
  },
  {
   "metadata": {
    "ExecuteTime": {
     "end_time": "2024-10-26T13:19:07.937185Z",
     "start_time": "2024-10-26T13:19:07.233164Z"
    }
   },
   "cell_type": "code",
   "source": [
    "import numpy as np\n",
    "import pandas as pd\n",
    "\n",
    "# 특징 추출 함수\n",
    "def extract_features(wafer_maps):\n",
    "    features = []\n",
    "    \n",
    "    for wafer_map in wafer_maps:\n",
    "        # 1. 결함 다이 비율\n",
    "        total_pixels = wafer_map.size  # 전체 다이 개수\n",
    "        defect_count = np.sum(wafer_map == 2)  # 2의 개수\n",
    "        defect_ratio = defect_count / total_pixels if total_pixels > 0 else 0\n",
    "\n",
    "        # 2. 결함 분포 (중앙값과 가장자리 근처에 집중되는지)\n",
    "        defect_indices = np.argwhere(wafer_map == 2)  # 결함 위치의 인덱스\n",
    "        if defect_indices.size > 0:\n",
    "            center_of_defects = np.mean(defect_indices, axis=0)  # 결함 위치의 중앙\n",
    "            distance_to_center = np.linalg.norm(defect_indices - center_of_defects, axis=1)  # 중앙에서의 거리\n",
    "            avg_distance = np.mean(distance_to_center)  # 평균 거리\n",
    "        else:\n",
    "            center_of_defects = np.array([np.nan, np.nan])\n",
    "            avg_distance = np.nan\n",
    "\n",
    "        # 3. 픽셀 기반 통계 값 (평균 및 분산)\n",
    "        mean_value = np.mean(wafer_map)\n",
    "        variance_value = np.var(wafer_map)\n",
    "\n",
    "        # 특징 추가\n",
    "        features.append({\n",
    "            'defect_ratio': defect_ratio,\n",
    "            'center_of_defects': center_of_defects,\n",
    "            'avg_distance_to_center': avg_distance,\n",
    "            'mean_value': mean_value,\n",
    "            'variance_value': variance_value\n",
    "        })\n",
    "\n",
    "    return pd.DataFrame(features)\n",
    "\n",
    "# 특징 추출\n",
    "features_df = extract_features(X_train_aug)\n",
    "\n",
    "# 결과 확인\n",
    "print(features_df.head())"
   ],
   "outputs": [
    {
     "name": "stdout",
     "output_type": "stream",
     "text": [
      "   defect_ratio center_of_defects  avg_distance_to_center  mean_value  \\\n",
      "0           0.0        [nan, nan]                     NaN    0.536621   \n",
      "1           0.0        [nan, nan]                     NaN    0.545898   \n",
      "2           0.0        [nan, nan]                     NaN    0.536621   \n",
      "3           0.0        [nan, nan]                     NaN    0.542480   \n",
      "4           0.0        [nan, nan]                     NaN    0.544434   \n",
      "\n",
      "   variance_value  \n",
      "0        0.088318  \n",
      "1        0.084778  \n",
      "2        0.088318  \n",
      "3        0.082397  \n",
      "4        0.083618  \n"
     ]
    },
    {
     "name": "stderr",
     "output_type": "stream",
     "text": [
      "/home/unsi/anaconda3/envs/forpytorch/lib/python3.9/site-packages/pandas/io/formats/format.py:1458: RuntimeWarning: overflow encountered in cast\n",
      "  has_large_values = (abs_vals > 1e6).any()\n"
     ]
    }
   ],
   "execution_count": 25
  },
  {
   "metadata": {
    "ExecuteTime": {
     "end_time": "2024-10-26T13:19:12.570795Z",
     "start_time": "2024-10-26T13:19:08.009900Z"
    }
   },
   "cell_type": "code",
   "source": [
    "from imblearn.over_sampling import ADASYN\n",
    "import numpy as np\n",
    "\n",
    "# ADASYN을 사용한 데이터 증강\n",
    "def augment_data_with_adasyn(X, y):\n",
    "    ada = ADASYN(sampling_strategy='auto', random_state=123)\n",
    "    \n",
    "    # X를 2D 형태로 변환 (n_samples, 676)\n",
    "    X_flattened = X.reshape(X.shape[0], -1)\n",
    "    \n",
    "    # ADASYN을 적용하여 데이터 증강\n",
    "    X_resampled, y_resampled = ada.fit_resample(X_flattened, y)\n",
    "    \n",
    "    # 1D 형태로 반환 (X_resampled의 shape은 (n_samples, 676))\n",
    "    return X_resampled, y_resampled\n",
    "\n",
    "# ADASYN을 사용하여 증강된 훈련 데이터 생성\n",
    "X_train_aug_with_adsyn, y_train_aug_with_adsyn = augment_data_with_adasyn(X_train_aug, y_train_aug)\n",
    "\n",
    "print(f\"ADASYN으로 증강된 훈련 데이터의 형태: {X_train_aug_with_adsyn.shape}\")"
   ],
   "outputs": [
    {
     "name": "stdout",
     "output_type": "stream",
     "text": [
      "ADASYN으로 증강된 훈련 데이터의 형태: (102820, 1443)\n"
     ]
    }
   ],
   "execution_count": 26
  },
  {
   "metadata": {
    "ExecuteTime": {
     "end_time": "2024-10-26T13:19:12.718249Z",
     "start_time": "2024-10-26T13:19:12.716058Z"
    }
   },
   "cell_type": "code",
   "source": "X_train_aug_with_adsyn.shape",
   "outputs": [
    {
     "data": {
      "text/plain": [
       "(102820, 1443)"
      ]
     },
     "execution_count": 27,
     "metadata": {},
     "output_type": "execute_result"
    }
   ],
   "execution_count": 27
  },
  {
   "metadata": {
    "ExecuteTime": {
     "end_time": "2024-10-26T13:19:12.726048Z",
     "start_time": "2024-10-26T13:19:12.723872Z"
    }
   },
   "cell_type": "code",
   "source": "X_train_aug = X_train_aug.reshape(-1, 39*37)\n",
   "outputs": [],
   "execution_count": 28
  },
  {
   "metadata": {
    "ExecuteTime": {
     "end_time": "2024-10-26T13:19:12.800503Z",
     "start_time": "2024-10-26T13:19:12.798344Z"
    }
   },
   "cell_type": "code",
   "source": "X_train_aug.shape",
   "outputs": [
    {
     "data": {
      "text/plain": [
       "(16321, 1443)"
      ]
     },
     "execution_count": 29,
     "metadata": {},
     "output_type": "execute_result"
    }
   ],
   "execution_count": 29
  },
  {
   "metadata": {
    "ExecuteTime": {
     "end_time": "2024-10-26T13:19:12.874255Z",
     "start_time": "2024-10-26T13:19:12.872643Z"
    }
   },
   "cell_type": "code",
   "source": "X_train_no_aug = X_train_no_aug.reshape(-1, 39*37)\n",
   "outputs": [],
   "execution_count": 30
  },
  {
   "metadata": {
    "ExecuteTime": {
     "end_time": "2024-10-26T13:19:12.947624Z",
     "start_time": "2024-10-26T13:19:12.945675Z"
    }
   },
   "cell_type": "code",
   "source": "assert len(X_train_no_aug.shape) == len(X_train_aug.shape) == len(X_train_aug_with_adsyn.shape)\n",
   "outputs": [],
   "execution_count": 31
  },
  {
   "metadata": {
    "ExecuteTime": {
     "end_time": "2024-10-26T13:19:15.045660Z",
     "start_time": "2024-10-26T13:19:13.018550Z"
    }
   },
   "cell_type": "code",
   "source": [
    "import numpy as np\n",
    "\n",
    "def extract_statistics(arr):\n",
    "    # 배열의 크기 확인\n",
    "    n_rows, n_cols = arr.shape\n",
    "    \n",
    "    # 각 행을 8개 구간으로 나누기 위해 구간의 크기 계산\n",
    "    n_splits = 8\n",
    "    segment_size = n_cols // n_splits\n",
    "    \n",
    "    # 결과를 저장할 배열 초기화 (n_rows, 32)\n",
    "    result = np.zeros((n_rows, n_splits * 4))\n",
    "    \n",
    "    # 각 행에 대해 반복\n",
    "    for i in range(n_rows):\n",
    "        row = arr[i]\n",
    "        features = []\n",
    "        \n",
    "        # 각 구간에 대해 통계 값 계산\n",
    "        for j in range(n_splits):\n",
    "            segment = row[j * segment_size:(j + 1) * segment_size]\n",
    "            mean = np.mean(segment)\n",
    "            std = np.std(segment)\n",
    "            var = np.var(segment)\n",
    "            summation = np.sum(segment)\n",
    "            \n",
    "            features.extend([mean, std, var, summation])\n",
    "        \n",
    "        # 결과 배열에 통계 값 저장\n",
    "        result[i] = features\n",
    "    \n",
    "    return result\n",
    "\n",
    "# 사용 예시\n",
    "# 임의의 (13885, 1443) 크기의 배열 생성\n",
    "arr = np.random.rand(13885, 1443)\n",
    "output = extract_statistics(arr)\n",
    "print(output.shape)  # (13885, 32)\n"
   ],
   "outputs": [
    {
     "name": "stdout",
     "output_type": "stream",
     "text": [
      "(13885, 32)\n"
     ]
    }
   ],
   "execution_count": 32
  },
  {
   "metadata": {
    "ExecuteTime": {
     "end_time": "2024-10-26T13:19:15.120460Z",
     "start_time": "2024-10-26T13:19:15.116768Z"
    }
   },
   "cell_type": "code",
   "source": [
    "import numpy as np\n",
    "\n",
    "class FeatureExtraction:\n",
    "    def __init__(self):\n",
    "        pass\n",
    "    \n",
    "    def __call__(self, arr):\n",
    "        return self.forward(arr)\n",
    "    \n",
    "    def forward(self, arr):\n",
    "        n_rows, n_cols = arr.shape\n",
    "        n_splits = 8  # 구간 개수\n",
    "        stride = 4  # 겹치는 간격 설정\n",
    "\n",
    "        # 각 구간에 대해 추출할 통계 수치의 개수 (기존 4개에서 IQR, min, max 추가로 7개로 변경)\n",
    "        num_features = 7\n",
    "        # 결과를 저장할 배열 초기화 (n_rows, 8 * num_features)\n",
    "        result = np.zeros((n_rows, n_splits * num_features))\n",
    "        \n",
    "        # 각 행에 대해 반복\n",
    "        for i in range(n_rows):\n",
    "            row = arr[i]\n",
    "            features = []\n",
    "            \n",
    "            # 각 구간에 대해 통계 값 계산\n",
    "            for j in range(n_splits):\n",
    "                start = j * stride\n",
    "                end = start + (n_cols // n_splits)\n",
    "                \n",
    "                # 구간이 배열의 경계를 넘지 않도록 보정\n",
    "                if end > n_cols:\n",
    "                    end = n_cols\n",
    "                \n",
    "                segment = row[start:end]\n",
    "                \n",
    "                # 기본 통계 값 계산\n",
    "                mean = np.mean(segment)\n",
    "                std = np.std(segment)\n",
    "                var = np.var(segment)\n",
    "                summation = np.sum(segment)\n",
    "                \n",
    "                # 추가 통계 값 계산\n",
    "                iqr = np.percentile(segment, 75) - np.percentile(segment, 25)\n",
    "                minimum = np.min(segment)\n",
    "                maximum = np.max(segment)\n",
    "                \n",
    "                # 모든 통계 값 추가\n",
    "                features.extend([mean, std, var, summation, iqr, minimum, maximum])\n",
    "            \n",
    "            # 결과 배열에 통계 값 저장\n",
    "            result[i] = features\n",
    "        \n",
    "        return result\n",
    "\n"
   ],
   "outputs": [],
   "execution_count": 33
  },
  {
   "metadata": {
    "ExecuteTime": {
     "end_time": "2024-10-26T13:21:02.515932Z",
     "start_time": "2024-10-26T13:19:15.192777Z"
    }
   },
   "cell_type": "code",
   "source": [
    "extracter = FeatureExtraction()\n",
    "X_train_no_aug = extracter.forward(X_train_no_aug)\n",
    "X_train_aug = extracter.forward(X_train_aug)\n",
    "X_train_aug_with_adsyn = extracter.forward(X_train_aug_with_adsyn)\n",
    "X_test = extracter.forward(X_test)"
   ],
   "outputs": [],
   "execution_count": 34
  },
  {
   "metadata": {
    "ExecuteTime": {
     "end_time": "2024-10-26T13:21:02.589191Z",
     "start_time": "2024-10-26T13:21:02.586804Z"
    }
   },
   "cell_type": "code",
   "source": "y_train_aug",
   "outputs": [
    {
     "data": {
      "text/plain": [
       "array([8, 8, 8, ..., 8, 8, 8])"
      ]
     },
     "execution_count": 35,
     "metadata": {},
     "output_type": "execute_result"
    }
   ],
   "execution_count": 35
  },
  {
   "metadata": {
    "ExecuteTime": {
     "end_time": "2024-10-26T13:21:02.681955Z",
     "start_time": "2024-10-26T13:21:02.679692Z"
    }
   },
   "cell_type": "code",
   "source": "assert X_train_no_aug.shape[-1] == X_train_aug.shape[-1] == X_train_aug_with_adsyn.shape[-1]",
   "outputs": [],
   "execution_count": 36
  },
  {
   "metadata": {
    "ExecuteTime": {
     "end_time": "2024-10-26T13:21:06.352580Z",
     "start_time": "2024-10-26T13:21:02.755158Z"
    }
   },
   "cell_type": "code",
   "source": [
    "from sklearn.metrics import classification_report, balanced_accuracy_score, precision_score, recall_score, f1_score\n",
    "import xgboost as xgb\n",
    "\n",
    "# 공통된 평가 함수 정의\n",
    "def evaluate_model(model, X_train, y_train, X_test, y_test):\n",
    "    # 모델 훈련\n",
    "    model.fit(X_train, y_train)\n",
    "    \n",
    "    # 검증 데이터로 예측\n",
    "    y_pred = model.predict(X_test)\n",
    "    \n",
    "    # 성능 지표 계산\n",
    "    accuracy = model.score(X_test, y_test)\n",
    "    precision = precision_score(y_test, y_pred, average='weighted')\n",
    "    recall = recall_score(y_test, y_pred, average='weighted')\n",
    "    f1 = f1_score(y_test, y_pred, average='weighted')\n",
    "    balanced_acc = balanced_accuracy_score(y_test, y_pred)\n",
    "    \n",
    "    # 결과 출력\n",
    "    print(f\"Accuracy: {accuracy:.4f}\")\n",
    "    print(f\"Precision: {precision:.4f}\")\n",
    "    print(f\"Recall: {recall:.4f}\")\n",
    "    print(f\"F1 Score: {f1:.4f}\")\n",
    "    print(f\"Balanced Accuracy Score: {balanced_acc:.4f}\")\n",
    "    \n",
    "    # classification_report 출력 (average 파라미터 제거)\n",
    "    print(\"\\nClassification Report:\\n\", classification_report(y_test, y_pred))\n",
    "\n",
    "# XGBoost 모델 정의\n",
    "def create_model():\n",
    "    return xgb.XGBClassifier(objective='multi:softmax', num_class=8, eval_metric='mlogloss', use_label_encoder=False, device='cuda')\n",
    "\n",
    "# 모델 및 데이터셋 평가\n",
    "datasets = [\n",
    "    (\"No Augmentation\", X_train_no_aug, y_train_no_aug),\n",
    "    (\"Augmentation\", X_train_aug, y_train_aug),\n",
    "    (\"Augmentation with ADASYN\", X_train_aug_with_adsyn, y_train_aug_with_adsyn)\n",
    "]\n",
    "\n",
    "# 공통된 테스트 데이터 (X_test, y_test)로 각 모델 평가\n",
    "for dataset_name, X_train, y_train in datasets:\n",
    "    print(f\"\\nEvaluating model trained on {dataset_name} dataset\")\n",
    "    model = create_model()\n",
    "    evaluate_model(model, X_train, y_train, X_test, y_test)\n"
   ],
   "outputs": [
    {
     "name": "stdout",
     "output_type": "stream",
     "text": [
      "\n",
      "Evaluating model trained on No Augmentation dataset\n"
     ]
    },
    {
     "name": "stderr",
     "output_type": "stream",
     "text": [
      "/home/unsi/anaconda3/envs/forpytorch/lib/python3.9/site-packages/xgboost/core.py:158: UserWarning: [22:21:02] WARNING: /workspace/src/learner.cc:740: \n",
      "Parameters: { \"use_label_encoder\" } are not used.\n",
      "\n",
      "  warnings.warn(smsg, UserWarning)\n",
      "/home/unsi/anaconda3/envs/forpytorch/lib/python3.9/site-packages/xgboost/core.py:158: UserWarning: [22:21:03] WARNING: /workspace/src/common/error_msg.cc:58: Falling back to prediction using DMatrix due to mismatched devices. This might lead to higher memory usage and slower performance. XGBoost is running on: cuda:0, while the input data is on: cpu.\n",
      "Potential solutions:\n",
      "- Use a data structure that matches the device ordinal in the booster.\n",
      "- Set the device for booster before call to inplace_predict.\n",
      "\n",
      "This warning will only be shown once.\n",
      "\n",
      "  warnings.warn(smsg, UserWarning)\n",
      "/home/unsi/anaconda3/envs/forpytorch/lib/python3.9/site-packages/xgboost/core.py:158: UserWarning: [22:21:03] WARNING: /workspace/src/learner.cc:740: \n",
      "Parameters: { \"use_label_encoder\" } are not used.\n",
      "\n",
      "  warnings.warn(smsg, UserWarning)\n"
     ]
    },
    {
     "name": "stdout",
     "output_type": "stream",
     "text": [
      "Accuracy: 0.6582\n",
      "Precision: 0.8857\n",
      "Recall: 0.6582\n",
      "F1 Score: 0.7495\n",
      "Balanced Accuracy Score: 0.2031\n",
      "\n",
      "Classification Report:\n",
      "               precision    recall  f1-score   support\n",
      "\n",
      "           0       0.02      0.18      0.04        44\n",
      "           1       0.07      0.34      0.12        95\n",
      "           2       0.00      0.00      0.00        35\n",
      "           3       0.00      0.00      0.00         3\n",
      "           4       0.00      0.00      0.00        12\n",
      "           5       0.02      0.29      0.04         7\n",
      "           6       0.25      0.33      0.29         3\n",
      "           7       0.00      0.00      0.00         4\n",
      "           8       0.95      0.69      0.80      2863\n",
      "\n",
      "    accuracy                           0.66      3066\n",
      "   macro avg       0.15      0.20      0.14      3066\n",
      "weighted avg       0.89      0.66      0.75      3066\n",
      "\n",
      "\n",
      "Evaluating model trained on Augmentation dataset\n",
      "Accuracy: 0.5757\n",
      "Precision: 0.8907\n",
      "Recall: 0.5757\n",
      "F1 Score: 0.6910\n",
      "Balanced Accuracy Score: 0.2348\n",
      "\n",
      "Classification Report:\n",
      "               precision    recall  f1-score   support\n",
      "\n",
      "           0       0.02      0.18      0.04        44\n",
      "           1       0.06      0.38      0.10        95\n",
      "           2       0.00      0.00      0.00        35\n",
      "           3       0.04      0.33      0.07         3\n",
      "           4       0.00      0.00      0.00        12\n",
      "           5       0.01      0.29      0.02         7\n",
      "           6       0.33      0.33      0.33         3\n",
      "           7       0.00      0.00      0.00         4\n",
      "           8       0.95      0.60      0.74      2863\n",
      "\n",
      "    accuracy                           0.58      3066\n",
      "   macro avg       0.16      0.23      0.14      3066\n",
      "weighted avg       0.89      0.58      0.69      3066\n",
      "\n",
      "\n",
      "Evaluating model trained on Augmentation with ADASYN dataset\n"
     ]
    },
    {
     "name": "stderr",
     "output_type": "stream",
     "text": [
      "/home/unsi/anaconda3/envs/forpytorch/lib/python3.9/site-packages/xgboost/core.py:158: UserWarning: [22:21:04] WARNING: /workspace/src/learner.cc:740: \n",
      "Parameters: { \"use_label_encoder\" } are not used.\n",
      "\n",
      "  warnings.warn(smsg, UserWarning)\n"
     ]
    },
    {
     "name": "stdout",
     "output_type": "stream",
     "text": [
      "Accuracy: 0.4191\n",
      "Precision: 0.8939\n",
      "Recall: 0.4191\n",
      "F1 Score: 0.5625\n",
      "Balanced Accuracy Score: 0.2069\n",
      "\n",
      "Classification Report:\n",
      "               precision    recall  f1-score   support\n",
      "\n",
      "           0       0.00      0.05      0.01        44\n",
      "           1       0.04      0.28      0.07        95\n",
      "           2       0.00      0.00      0.00        35\n",
      "           3       0.03      0.33      0.05         3\n",
      "           4       0.00      0.00      0.00        12\n",
      "           5       0.01      0.43      0.01         7\n",
      "           6       0.20      0.33      0.25         3\n",
      "           7       0.00      0.00      0.00         4\n",
      "           8       0.96      0.44      0.60      2863\n",
      "\n",
      "    accuracy                           0.42      3066\n",
      "   macro avg       0.14      0.21      0.11      3066\n",
      "weighted avg       0.89      0.42      0.56      3066\n",
      "\n"
     ]
    },
    {
     "name": "stderr",
     "output_type": "stream",
     "text": [
      "/home/unsi/anaconda3/envs/forpytorch/lib/python3.9/site-packages/sklearn/metrics/_classification.py:1531: UndefinedMetricWarning: Precision is ill-defined and being set to 0.0 in labels with no predicted samples. Use `zero_division` parameter to control this behavior.\n",
      "  _warn_prf(average, modifier, f\"{metric.capitalize()} is\", len(result))\n",
      "/home/unsi/anaconda3/envs/forpytorch/lib/python3.9/site-packages/sklearn/metrics/_classification.py:1531: UndefinedMetricWarning: Precision is ill-defined and being set to 0.0 in labels with no predicted samples. Use `zero_division` parameter to control this behavior.\n",
      "  _warn_prf(average, modifier, f\"{metric.capitalize()} is\", len(result))\n",
      "/home/unsi/anaconda3/envs/forpytorch/lib/python3.9/site-packages/sklearn/metrics/_classification.py:1531: UndefinedMetricWarning: Precision is ill-defined and being set to 0.0 in labels with no predicted samples. Use `zero_division` parameter to control this behavior.\n",
      "  _warn_prf(average, modifier, f\"{metric.capitalize()} is\", len(result))\n",
      "/home/unsi/anaconda3/envs/forpytorch/lib/python3.9/site-packages/sklearn/metrics/_classification.py:1531: UndefinedMetricWarning: Precision is ill-defined and being set to 0.0 in labels with no predicted samples. Use `zero_division` parameter to control this behavior.\n",
      "  _warn_prf(average, modifier, f\"{metric.capitalize()} is\", len(result))\n"
     ]
    }
   ],
   "execution_count": 37
  },
  {
   "metadata": {
    "ExecuteTime": {
     "end_time": "2024-10-26T13:21:06.413693Z",
     "start_time": "2024-10-26T13:21:06.412429Z"
    }
   },
   "cell_type": "code",
   "source": "",
   "outputs": [],
   "execution_count": null
  },
  {
   "metadata": {
    "ExecuteTime": {
     "end_time": "2024-10-26T13:21:06.474502Z",
     "start_time": "2024-10-26T13:21:06.472503Z"
    }
   },
   "cell_type": "code",
   "source": "y_train_no_aug.shape",
   "outputs": [
    {
     "data": {
      "text/plain": [
       "(12261,)"
      ]
     },
     "execution_count": 38,
     "metadata": {},
     "output_type": "execute_result"
    }
   ],
   "execution_count": 38
  },
  {
   "metadata": {
    "ExecuteTime": {
     "end_time": "2024-10-26T13:21:06.533544Z",
     "start_time": "2024-10-26T13:21:06.531193Z"
    }
   },
   "cell_type": "code",
   "source": "X_train_aug",
   "outputs": [
    {
     "data": {
      "text/plain": [
       "array([[0.32641602, 0.35668945, 0.12719727, ..., 0.69335938, 0.        ,\n",
       "        1.09863281],\n",
       "       [0.31103516, 0.35546875, 0.12634277, ..., 0.69335938, 0.        ,\n",
       "        1.09863281],\n",
       "       [0.32202148, 0.34936523, 0.12207031, ..., 0.69335938, 0.        ,\n",
       "        0.69335938],\n",
       "       ...,\n",
       "       [0.32421875, 0.35302734, 0.12457275, ..., 0.69335938, 0.        ,\n",
       "        0.69335938],\n",
       "       [0.32202148, 0.34936523, 0.12207031, ..., 0.69335938, 0.        ,\n",
       "        1.09863281],\n",
       "       [0.30419922, 0.34399414, 0.1184082 , ..., 0.69335938, 0.        ,\n",
       "        0.69335938]])"
      ]
     },
     "execution_count": 39,
     "metadata": {},
     "output_type": "execute_result"
    }
   ],
   "execution_count": 39
  },
  {
   "metadata": {
    "ExecuteTime": {
     "end_time": "2024-10-26T13:21:06.644498Z",
     "start_time": "2024-10-26T13:21:06.642252Z"
    }
   },
   "cell_type": "code",
   "source": "X_train_aug_with_adsyn",
   "outputs": [
    {
     "data": {
      "text/plain": [
       "array([[0.32641602, 0.35668945, 0.12719727, ..., 0.69335938, 0.        ,\n",
       "        1.09863281],\n",
       "       [0.31103516, 0.35546875, 0.12634277, ..., 0.69335938, 0.        ,\n",
       "        1.09863281],\n",
       "       [0.32202148, 0.34936523, 0.12207031, ..., 0.69335938, 0.        ,\n",
       "        0.69335938],\n",
       "       ...,\n",
       "       [0.30810547, 0.34545898, 0.11938477, ..., 0.69335938, 0.        ,\n",
       "        0.86181641],\n",
       "       [0.3046875 , 0.34375   , 0.1182251 , ..., 0.69335938, 0.        ,\n",
       "        0.71582031],\n",
       "       [0.30419922, 0.34204102, 0.11700439, ..., 0.69335938, 0.        ,\n",
       "        0.69335938]])"
      ]
     },
     "execution_count": 40,
     "metadata": {},
     "output_type": "execute_result"
    }
   ],
   "execution_count": 40
  },
  {
   "metadata": {
    "ExecuteTime": {
     "end_time": "2024-10-26T13:23:14.667341Z",
     "start_time": "2024-10-26T13:21:06.682690Z"
    }
   },
   "cell_type": "code",
   "source": [
    "from bayes_opt import BayesianOptimization\n",
    "import xgboost as xgb\n",
    "from sklearn.model_selection import train_test_split\n",
    "from sklearn.metrics import accuracy_score\n",
    "\n",
    "# 평가 함수 정의\n",
    "def xgb_evaluate(learning_rate, n_estimators, max_depth, subsample, colsample_bytree):\n",
    "    # XGBoost 모델 정의\n",
    "    model = xgb.XGBClassifier(\n",
    "        learning_rate=learning_rate,\n",
    "        n_estimators=int(n_estimators),  # 정수로 변환\n",
    "        max_depth=int(max_depth),  # 정수로 변환\n",
    "        subsample=subsample,\n",
    "        colsample_bytree=colsample_bytree,\n",
    "        objective='multi:softmax',\n",
    "        num_class=8,\n",
    "        eval_metric='mlogloss',\n",
    "        use_label_encoder=False,\n",
    "        device='cuda'\n",
    "    )\n",
    "    \n",
    "    # 교차 검증 데이터로 모델 평가\n",
    "    model.fit(X_train_aug_with_adsyn, y_train_aug_with_adsyn)\n",
    "    y_pred = model.predict(X_test)\n",
    "    accuracy = balanced_accuracy_score(y_test, y_pred)\n",
    "    \n",
    "    return accuracy\n",
    "\n",
    "# 최적화할 파라미터 범위 설정\n",
    "param_bounds = {\n",
    "    'learning_rate': (0.01, 0.3),\n",
    "    'n_estimators': (50, 500),\n",
    "    'max_depth': (3, 10),\n",
    "    'subsample': (0.6, 1.0),\n",
    "    'colsample_bytree': (0.6, 1.0)\n",
    "}\n",
    "\n",
    "# BayesianOptimization 객체 생성\n",
    "optimizer = BayesianOptimization(f=xgb_evaluate, pbounds=param_bounds, random_state=42)\n",
    "\n",
    "# 최적화 수행\n",
    "optimizer.maximize(init_points=5, n_iter=25)\n",
    "\n",
    "# 최적화 결과 출력\n",
    "print(optimizer.max)\n"
   ],
   "outputs": [
    {
     "name": "stdout",
     "output_type": "stream",
     "text": [
      "|   iter    |  target   | colsam... | learni... | max_depth | n_esti... | subsample |\n",
      "-------------------------------------------------------------------------------------\n"
     ]
    },
    {
     "name": "stderr",
     "output_type": "stream",
     "text": [
      "/home/unsi/anaconda3/envs/forpytorch/lib/python3.9/site-packages/xgboost/core.py:158: UserWarning: [22:21:06] WARNING: /workspace/src/learner.cc:740: \n",
      "Parameters: { \"use_label_encoder\" } are not used.\n",
      "\n",
      "  warnings.warn(smsg, UserWarning)\n"
     ]
    },
    {
     "name": "stdout",
     "output_type": "stream",
     "text": [
      "| \u001B[39m1        \u001B[39m | \u001B[39m0.2319   \u001B[39m | \u001B[39m0.7498   \u001B[39m | \u001B[39m0.2857   \u001B[39m | \u001B[39m8.124    \u001B[39m | \u001B[39m319.4    \u001B[39m | \u001B[39m0.6624   \u001B[39m |\n"
     ]
    },
    {
     "name": "stderr",
     "output_type": "stream",
     "text": [
      "/home/unsi/anaconda3/envs/forpytorch/lib/python3.9/site-packages/xgboost/core.py:158: UserWarning: [22:21:16] WARNING: /workspace/src/learner.cc:740: \n",
      "Parameters: { \"use_label_encoder\" } are not used.\n",
      "\n",
      "  warnings.warn(smsg, UserWarning)\n"
     ]
    },
    {
     "name": "stdout",
     "output_type": "stream",
     "text": [
      "| \u001B[39m2        \u001B[39m | \u001B[39m0.2022   \u001B[39m | \u001B[39m0.6624   \u001B[39m | \u001B[39m0.02684  \u001B[39m | \u001B[39m9.063    \u001B[39m | \u001B[39m320.5    \u001B[39m | \u001B[39m0.8832   \u001B[39m |\n"
     ]
    },
    {
     "name": "stderr",
     "output_type": "stream",
     "text": [
      "/home/unsi/anaconda3/envs/forpytorch/lib/python3.9/site-packages/xgboost/core.py:158: UserWarning: [22:21:26] WARNING: /workspace/src/learner.cc:740: \n",
      "Parameters: { \"use_label_encoder\" } are not used.\n",
      "\n",
      "  warnings.warn(smsg, UserWarning)\n"
     ]
    },
    {
     "name": "stdout",
     "output_type": "stream",
     "text": [
      "| \u001B[39m3        \u001B[39m | \u001B[39m0.2093   \u001B[39m | \u001B[39m0.6082   \u001B[39m | \u001B[39m0.2913   \u001B[39m | \u001B[39m8.827    \u001B[39m | \u001B[39m145.6    \u001B[39m | \u001B[39m0.6727   \u001B[39m |\n"
     ]
    },
    {
     "name": "stderr",
     "output_type": "stream",
     "text": [
      "/home/unsi/anaconda3/envs/forpytorch/lib/python3.9/site-packages/xgboost/core.py:158: UserWarning: [22:21:29] WARNING: /workspace/src/learner.cc:740: \n",
      "Parameters: { \"use_label_encoder\" } are not used.\n",
      "\n",
      "  warnings.warn(smsg, UserWarning)\n"
     ]
    },
    {
     "name": "stdout",
     "output_type": "stream",
     "text": [
      "| \u001B[35m4        \u001B[39m | \u001B[35m0.2384   \u001B[39m | \u001B[35m0.6734   \u001B[39m | \u001B[35m0.09823  \u001B[39m | \u001B[35m6.673    \u001B[39m | \u001B[35m244.4    \u001B[39m | \u001B[35m0.7165   \u001B[39m |\n"
     ]
    },
    {
     "name": "stderr",
     "output_type": "stream",
     "text": [
      "/home/unsi/anaconda3/envs/forpytorch/lib/python3.9/site-packages/xgboost/core.py:158: UserWarning: [22:21:32] WARNING: /workspace/src/learner.cc:740: \n",
      "Parameters: { \"use_label_encoder\" } are not used.\n",
      "\n",
      "  warnings.warn(smsg, UserWarning)\n"
     ]
    },
    {
     "name": "stdout",
     "output_type": "stream",
     "text": [
      "| \u001B[39m5        \u001B[39m | \u001B[39m0.1675   \u001B[39m | \u001B[39m0.8447   \u001B[39m | \u001B[39m0.05045  \u001B[39m | \u001B[39m5.045    \u001B[39m | \u001B[39m214.9    \u001B[39m | \u001B[39m0.7824   \u001B[39m |\n"
     ]
    },
    {
     "name": "stderr",
     "output_type": "stream",
     "text": [
      "/home/unsi/anaconda3/envs/forpytorch/lib/python3.9/site-packages/xgboost/core.py:158: UserWarning: [22:21:34] WARNING: /workspace/src/learner.cc:740: \n",
      "Parameters: { \"use_label_encoder\" } are not used.\n",
      "\n",
      "  warnings.warn(smsg, UserWarning)\n"
     ]
    },
    {
     "name": "stdout",
     "output_type": "stream",
     "text": [
      "| \u001B[39m6        \u001B[39m | \u001B[39m0.2253   \u001B[39m | \u001B[39m0.8495   \u001B[39m | \u001B[39m0.2534   \u001B[39m | \u001B[39m8.314    \u001B[39m | \u001B[39m319.4    \u001B[39m | \u001B[39m0.9844   \u001B[39m |\n"
     ]
    },
    {
     "name": "stderr",
     "output_type": "stream",
     "text": [
      "/home/unsi/anaconda3/envs/forpytorch/lib/python3.9/site-packages/xgboost/core.py:158: UserWarning: [22:21:40] WARNING: /workspace/src/learner.cc:740: \n",
      "Parameters: { \"use_label_encoder\" } are not used.\n",
      "\n",
      "  warnings.warn(smsg, UserWarning)\n"
     ]
    },
    {
     "name": "stdout",
     "output_type": "stream",
     "text": [
      "| \u001B[39m7        \u001B[39m | \u001B[39m0.2155   \u001B[39m | \u001B[39m0.6      \u001B[39m | \u001B[39m0.3      \u001B[39m | \u001B[39m6.466    \u001B[39m | \u001B[39m318.0    \u001B[39m | \u001B[39m0.6      \u001B[39m |\n"
     ]
    },
    {
     "name": "stderr",
     "output_type": "stream",
     "text": [
      "/home/unsi/anaconda3/envs/forpytorch/lib/python3.9/site-packages/xgboost/core.py:158: UserWarning: [22:21:44] WARNING: /workspace/src/learner.cc:740: \n",
      "Parameters: { \"use_label_encoder\" } are not used.\n",
      "\n",
      "  warnings.warn(smsg, UserWarning)\n"
     ]
    },
    {
     "name": "stdout",
     "output_type": "stream",
     "text": [
      "| \u001B[39m8        \u001B[39m | \u001B[39m0.2106   \u001B[39m | \u001B[39m0.8214   \u001B[39m | \u001B[39m0.2932   \u001B[39m | \u001B[39m7.74     \u001B[39m | \u001B[39m243.0    \u001B[39m | \u001B[39m0.6297   \u001B[39m |\n"
     ]
    },
    {
     "name": "stderr",
     "output_type": "stream",
     "text": [
      "/home/unsi/anaconda3/envs/forpytorch/lib/python3.9/site-packages/xgboost/core.py:158: UserWarning: [22:21:48] WARNING: /workspace/src/learner.cc:740: \n",
      "Parameters: { \"use_label_encoder\" } are not used.\n",
      "\n",
      "  warnings.warn(smsg, UserWarning)\n"
     ]
    },
    {
     "name": "stdout",
     "output_type": "stream",
     "text": [
      "| \u001B[39m9        \u001B[39m | \u001B[39m0.137    \u001B[39m | \u001B[39m0.6      \u001B[39m | \u001B[39m0.01     \u001B[39m | \u001B[39m5.834    \u001B[39m | \u001B[39m245.5    \u001B[39m | \u001B[39m0.7848   \u001B[39m |\n"
     ]
    },
    {
     "name": "stderr",
     "output_type": "stream",
     "text": [
      "/home/unsi/anaconda3/envs/forpytorch/lib/python3.9/site-packages/xgboost/core.py:158: UserWarning: [22:21:50] WARNING: /workspace/src/learner.cc:740: \n",
      "Parameters: { \"use_label_encoder\" } are not used.\n",
      "\n",
      "  warnings.warn(smsg, UserWarning)\n"
     ]
    },
    {
     "name": "stdout",
     "output_type": "stream",
     "text": [
      "| \u001B[39m10       \u001B[39m | \u001B[39m0.1777   \u001B[39m | \u001B[39m0.6      \u001B[39m | \u001B[39m0.01     \u001B[39m | \u001B[39m7.13     \u001B[39m | \u001B[39m243.9    \u001B[39m | \u001B[39m0.7311   \u001B[39m |\n"
     ]
    },
    {
     "name": "stderr",
     "output_type": "stream",
     "text": [
      "/home/unsi/anaconda3/envs/forpytorch/lib/python3.9/site-packages/xgboost/core.py:158: UserWarning: [22:21:55] WARNING: /workspace/src/learner.cc:740: \n",
      "Parameters: { \"use_label_encoder\" } are not used.\n",
      "\n",
      "  warnings.warn(smsg, UserWarning)\n"
     ]
    },
    {
     "name": "stdout",
     "output_type": "stream",
     "text": [
      "| \u001B[39m11       \u001B[39m | \u001B[39m0.2253   \u001B[39m | \u001B[39m0.8809   \u001B[39m | \u001B[39m0.1037   \u001B[39m | \u001B[39m6.494    \u001B[39m | \u001B[39m317.9    \u001B[39m | \u001B[39m0.7193   \u001B[39m |\n"
     ]
    },
    {
     "name": "stderr",
     "output_type": "stream",
     "text": [
      "/home/unsi/anaconda3/envs/forpytorch/lib/python3.9/site-packages/xgboost/core.py:158: UserWarning: [22:21:59] WARNING: /workspace/src/learner.cc:740: \n",
      "Parameters: { \"use_label_encoder\" } are not used.\n",
      "\n",
      "  warnings.warn(smsg, UserWarning)\n"
     ]
    },
    {
     "name": "stdout",
     "output_type": "stream",
     "text": [
      "| \u001B[39m12       \u001B[39m | \u001B[39m0.2194   \u001B[39m | \u001B[39m0.9066   \u001B[39m | \u001B[39m0.3      \u001B[39m | \u001B[39m6.393    \u001B[39m | \u001B[39m244.4    \u001B[39m | \u001B[39m0.6215   \u001B[39m |\n"
     ]
    },
    {
     "name": "stderr",
     "output_type": "stream",
     "text": [
      "/home/unsi/anaconda3/envs/forpytorch/lib/python3.9/site-packages/xgboost/core.py:158: UserWarning: [22:22:02] WARNING: /workspace/src/learner.cc:740: \n",
      "Parameters: { \"use_label_encoder\" } are not used.\n",
      "\n",
      "  warnings.warn(smsg, UserWarning)\n"
     ]
    },
    {
     "name": "stdout",
     "output_type": "stream",
     "text": [
      "| \u001B[39m13       \u001B[39m | \u001B[39m0.2264   \u001B[39m | \u001B[39m0.8032   \u001B[39m | \u001B[39m0.1777   \u001B[39m | \u001B[39m7.634    \u001B[39m | \u001B[39m243.1    \u001B[39m | \u001B[39m0.802    \u001B[39m |\n"
     ]
    },
    {
     "name": "stderr",
     "output_type": "stream",
     "text": [
      "/home/unsi/anaconda3/envs/forpytorch/lib/python3.9/site-packages/xgboost/core.py:158: UserWarning: [22:22:06] WARNING: /workspace/src/learner.cc:740: \n",
      "Parameters: { \"use_label_encoder\" } are not used.\n",
      "\n",
      "  warnings.warn(smsg, UserWarning)\n"
     ]
    },
    {
     "name": "stdout",
     "output_type": "stream",
     "text": [
      "| \u001B[39m14       \u001B[39m | \u001B[39m0.2107   \u001B[39m | \u001B[39m0.6      \u001B[39m | \u001B[39m0.2954   \u001B[39m | \u001B[39m6.774    \u001B[39m | \u001B[39m244.7    \u001B[39m | \u001B[39m0.879    \u001B[39m |\n"
     ]
    },
    {
     "name": "stderr",
     "output_type": "stream",
     "text": [
      "/home/unsi/anaconda3/envs/forpytorch/lib/python3.9/site-packages/xgboost/core.py:158: UserWarning: [22:22:09] WARNING: /workspace/src/learner.cc:740: \n",
      "Parameters: { \"use_label_encoder\" } are not used.\n",
      "\n",
      "  warnings.warn(smsg, UserWarning)\n"
     ]
    },
    {
     "name": "stdout",
     "output_type": "stream",
     "text": [
      "| \u001B[39m15       \u001B[39m | \u001B[39m0.2179   \u001B[39m | \u001B[39m0.6299   \u001B[39m | \u001B[39m0.2438   \u001B[39m | \u001B[39m8.073    \u001B[39m | \u001B[39m340.1    \u001B[39m | \u001B[39m0.7421   \u001B[39m |\n"
     ]
    },
    {
     "name": "stderr",
     "output_type": "stream",
     "text": [
      "/home/unsi/anaconda3/envs/forpytorch/lib/python3.9/site-packages/xgboost/core.py:158: UserWarning: [22:22:16] WARNING: /workspace/src/learner.cc:740: \n",
      "Parameters: { \"use_label_encoder\" } are not used.\n",
      "\n",
      "  warnings.warn(smsg, UserWarning)\n"
     ]
    },
    {
     "name": "stdout",
     "output_type": "stream",
     "text": [
      "| \u001B[39m16       \u001B[39m | \u001B[39m0.2132   \u001B[39m | \u001B[39m0.9769   \u001B[39m | \u001B[39m0.2476   \u001B[39m | \u001B[39m3.931    \u001B[39m | \u001B[39m303.8    \u001B[39m | \u001B[39m0.6537   \u001B[39m |\n"
     ]
    },
    {
     "name": "stderr",
     "output_type": "stream",
     "text": [
      "/home/unsi/anaconda3/envs/forpytorch/lib/python3.9/site-packages/xgboost/core.py:158: UserWarning: [22:22:18] WARNING: /workspace/src/learner.cc:740: \n",
      "Parameters: { \"use_label_encoder\" } are not used.\n",
      "\n",
      "  warnings.warn(smsg, UserWarning)\n"
     ]
    },
    {
     "name": "stdout",
     "output_type": "stream",
     "text": [
      "| \u001B[39m17       \u001B[39m | \u001B[39m0.1397   \u001B[39m | \u001B[39m0.6      \u001B[39m | \u001B[39m0.01     \u001B[39m | \u001B[39m6.373    \u001B[39m | \u001B[39m244.3    \u001B[39m | \u001B[39m0.9201   \u001B[39m |\n"
     ]
    },
    {
     "name": "stderr",
     "output_type": "stream",
     "text": [
      "/home/unsi/anaconda3/envs/forpytorch/lib/python3.9/site-packages/xgboost/core.py:158: UserWarning: [22:22:21] WARNING: /workspace/src/learner.cc:740: \n",
      "Parameters: { \"use_label_encoder\" } are not used.\n",
      "\n",
      "  warnings.warn(smsg, UserWarning)\n"
     ]
    },
    {
     "name": "stdout",
     "output_type": "stream",
     "text": [
      "| \u001B[39m18       \u001B[39m | \u001B[39m0.212    \u001B[39m | \u001B[39m0.9716   \u001B[39m | \u001B[39m0.2088   \u001B[39m | \u001B[39m6.297    \u001B[39m | \u001B[39m483.9    \u001B[39m | \u001B[39m0.975    \u001B[39m |\n"
     ]
    },
    {
     "name": "stderr",
     "output_type": "stream",
     "text": [
      "/home/unsi/anaconda3/envs/forpytorch/lib/python3.9/site-packages/xgboost/core.py:158: UserWarning: [22:22:27] WARNING: /workspace/src/learner.cc:740: \n",
      "Parameters: { \"use_label_encoder\" } are not used.\n",
      "\n",
      "  warnings.warn(smsg, UserWarning)\n"
     ]
    },
    {
     "name": "stdout",
     "output_type": "stream",
     "text": [
      "| \u001B[39m19       \u001B[39m | \u001B[39m0.2286   \u001B[39m | \u001B[39m0.7054   \u001B[39m | \u001B[39m0.2352   \u001B[39m | \u001B[39m7.632    \u001B[39m | \u001B[39m243.1    \u001B[39m | \u001B[39m0.7277   \u001B[39m |\n"
     ]
    },
    {
     "name": "stderr",
     "output_type": "stream",
     "text": [
      "/home/unsi/anaconda3/envs/forpytorch/lib/python3.9/site-packages/xgboost/core.py:158: UserWarning: [22:22:31] WARNING: /workspace/src/learner.cc:740: \n",
      "Parameters: { \"use_label_encoder\" } are not used.\n",
      "\n",
      "  warnings.warn(smsg, UserWarning)\n"
     ]
    },
    {
     "name": "stdout",
     "output_type": "stream",
     "text": [
      "| \u001B[39m20       \u001B[39m | \u001B[39m0.2209   \u001B[39m | \u001B[39m0.782    \u001B[39m | \u001B[39m0.2056   \u001B[39m | \u001B[39m6.72     \u001B[39m | \u001B[39m244.4    \u001B[39m | \u001B[39m0.6      \u001B[39m |\n"
     ]
    },
    {
     "name": "stderr",
     "output_type": "stream",
     "text": [
      "/home/unsi/anaconda3/envs/forpytorch/lib/python3.9/site-packages/xgboost/core.py:158: UserWarning: [22:22:34] WARNING: /workspace/src/learner.cc:740: \n",
      "Parameters: { \"use_label_encoder\" } are not used.\n",
      "\n",
      "  warnings.warn(smsg, UserWarning)\n"
     ]
    },
    {
     "name": "stdout",
     "output_type": "stream",
     "text": [
      "| \u001B[39m21       \u001B[39m | \u001B[39m0.2094   \u001B[39m | \u001B[39m0.956    \u001B[39m | \u001B[39m0.02978  \u001B[39m | \u001B[39m5.955    \u001B[39m | \u001B[39m424.5    \u001B[39m | \u001B[39m0.7402   \u001B[39m |\n"
     ]
    },
    {
     "name": "stderr",
     "output_type": "stream",
     "text": [
      "/home/unsi/anaconda3/envs/forpytorch/lib/python3.9/site-packages/xgboost/core.py:158: UserWarning: [22:22:38] WARNING: /workspace/src/learner.cc:740: \n",
      "Parameters: { \"use_label_encoder\" } are not used.\n",
      "\n",
      "  warnings.warn(smsg, UserWarning)\n"
     ]
    },
    {
     "name": "stdout",
     "output_type": "stream",
     "text": [
      "| \u001B[39m22       \u001B[39m | \u001B[39m0.1391   \u001B[39m | \u001B[39m0.6      \u001B[39m | \u001B[39m0.01     \u001B[39m | \u001B[39m6.821    \u001B[39m | \u001B[39m244.5    \u001B[39m | \u001B[39m0.6648   \u001B[39m |\n"
     ]
    },
    {
     "name": "stderr",
     "output_type": "stream",
     "text": [
      "/home/unsi/anaconda3/envs/forpytorch/lib/python3.9/site-packages/xgboost/core.py:158: UserWarning: [22:22:42] WARNING: /workspace/src/learner.cc:740: \n",
      "Parameters: { \"use_label_encoder\" } are not used.\n",
      "\n",
      "  warnings.warn(smsg, UserWarning)\n"
     ]
    },
    {
     "name": "stdout",
     "output_type": "stream",
     "text": [
      "| \u001B[39m23       \u001B[39m | \u001B[39m0.1879   \u001B[39m | \u001B[39m0.7818   \u001B[39m | \u001B[39m0.2917   \u001B[39m | \u001B[39m3.827    \u001B[39m | \u001B[39m105.3    \u001B[39m | \u001B[39m0.687    \u001B[39m |\n"
     ]
    },
    {
     "name": "stderr",
     "output_type": "stream",
     "text": [
      "/home/unsi/anaconda3/envs/forpytorch/lib/python3.9/site-packages/xgboost/core.py:158: UserWarning: [22:22:42] WARNING: /workspace/src/learner.cc:740: \n",
      "Parameters: { \"use_label_encoder\" } are not used.\n",
      "\n",
      "  warnings.warn(smsg, UserWarning)\n"
     ]
    },
    {
     "name": "stdout",
     "output_type": "stream",
     "text": [
      "| \u001B[39m24       \u001B[39m | \u001B[39m0.2299   \u001B[39m | \u001B[39m0.6794   \u001B[39m | \u001B[39m0.104    \u001B[39m | \u001B[39m6.679    \u001B[39m | \u001B[39m244.4    \u001B[39m | \u001B[39m0.7225   \u001B[39m |\n"
     ]
    },
    {
     "name": "stderr",
     "output_type": "stream",
     "text": [
      "/home/unsi/anaconda3/envs/forpytorch/lib/python3.9/site-packages/xgboost/core.py:158: UserWarning: [22:22:46] WARNING: /workspace/src/learner.cc:740: \n",
      "Parameters: { \"use_label_encoder\" } are not used.\n",
      "\n",
      "  warnings.warn(smsg, UserWarning)\n"
     ]
    },
    {
     "name": "stdout",
     "output_type": "stream",
     "text": [
      "| \u001B[39m25       \u001B[39m | \u001B[39m0.2228   \u001B[39m | \u001B[39m0.9671   \u001B[39m | \u001B[39m0.1219   \u001B[39m | \u001B[39m7.632    \u001B[39m | \u001B[39m178.8    \u001B[39m | \u001B[39m0.6621   \u001B[39m |\n"
     ]
    },
    {
     "name": "stderr",
     "output_type": "stream",
     "text": [
      "/home/unsi/anaconda3/envs/forpytorch/lib/python3.9/site-packages/xgboost/core.py:158: UserWarning: [22:22:48] WARNING: /workspace/src/learner.cc:740: \n",
      "Parameters: { \"use_label_encoder\" } are not used.\n",
      "\n",
      "  warnings.warn(smsg, UserWarning)\n"
     ]
    },
    {
     "name": "stdout",
     "output_type": "stream",
     "text": [
      "| \u001B[39m26       \u001B[39m | \u001B[39m0.2202   \u001B[39m | \u001B[39m0.7489   \u001B[39m | \u001B[39m0.1263   \u001B[39m | \u001B[39m9.43     \u001B[39m | \u001B[39m378.3    \u001B[39m | \u001B[39m0.6488   \u001B[39m |\n"
     ]
    },
    {
     "name": "stderr",
     "output_type": "stream",
     "text": [
      "/home/unsi/anaconda3/envs/forpytorch/lib/python3.9/site-packages/xgboost/core.py:158: UserWarning: [22:22:58] WARNING: /workspace/src/learner.cc:740: \n",
      "Parameters: { \"use_label_encoder\" } are not used.\n",
      "\n",
      "  warnings.warn(smsg, UserWarning)\n"
     ]
    },
    {
     "name": "stdout",
     "output_type": "stream",
     "text": [
      "| \u001B[39m27       \u001B[39m | \u001B[39m0.198    \u001B[39m | \u001B[39m0.6615   \u001B[39m | \u001B[39m0.08996  \u001B[39m | \u001B[39m6.625    \u001B[39m | \u001B[39m244.3    \u001B[39m | \u001B[39m0.6851   \u001B[39m |\n"
     ]
    },
    {
     "name": "stderr",
     "output_type": "stream",
     "text": [
      "/home/unsi/anaconda3/envs/forpytorch/lib/python3.9/site-packages/xgboost/core.py:158: UserWarning: [22:23:01] WARNING: /workspace/src/learner.cc:740: \n",
      "Parameters: { \"use_label_encoder\" } are not used.\n",
      "\n",
      "  warnings.warn(smsg, UserWarning)\n"
     ]
    },
    {
     "name": "stdout",
     "output_type": "stream",
     "text": [
      "| \u001B[39m28       \u001B[39m | \u001B[39m0.2152   \u001B[39m | \u001B[39m0.7545   \u001B[39m | \u001B[39m0.2947   \u001B[39m | \u001B[39m6.352    \u001B[39m | \u001B[39m244.4    \u001B[39m | \u001B[39m0.8256   \u001B[39m |\n"
     ]
    },
    {
     "name": "stderr",
     "output_type": "stream",
     "text": [
      "/home/unsi/anaconda3/envs/forpytorch/lib/python3.9/site-packages/xgboost/core.py:158: UserWarning: [22:23:04] WARNING: /workspace/src/learner.cc:740: \n",
      "Parameters: { \"use_label_encoder\" } are not used.\n",
      "\n",
      "  warnings.warn(smsg, UserWarning)\n"
     ]
    },
    {
     "name": "stdout",
     "output_type": "stream",
     "text": [
      "| \u001B[39m29       \u001B[39m | \u001B[39m0.2245   \u001B[39m | \u001B[39m0.816    \u001B[39m | \u001B[39m0.2258   \u001B[39m | \u001B[39m4.264    \u001B[39m | \u001B[39m394.2    \u001B[39m | \u001B[39m0.7215   \u001B[39m |\n"
     ]
    },
    {
     "name": "stderr",
     "output_type": "stream",
     "text": [
      "/home/unsi/anaconda3/envs/forpytorch/lib/python3.9/site-packages/xgboost/core.py:158: UserWarning: [22:23:07] WARNING: /workspace/src/learner.cc:740: \n",
      "Parameters: { \"use_label_encoder\" } are not used.\n",
      "\n",
      "  warnings.warn(smsg, UserWarning)\n"
     ]
    },
    {
     "name": "stdout",
     "output_type": "stream",
     "text": [
      "| \u001B[39m30       \u001B[39m | \u001B[39m0.2055   \u001B[39m | \u001B[39m0.603    \u001B[39m | \u001B[39m0.04922  \u001B[39m | \u001B[39m7.806    \u001B[39m | \u001B[39m451.3    \u001B[39m | \u001B[39m0.7005   \u001B[39m |\n",
      "=====================================================================================\n",
      "{'target': np.float64(0.23842335952746455), 'params': {'colsample_bytree': np.float64(0.6733618039413735), 'learning_rate': np.float64(0.09823025045826593), 'max_depth': np.float64(6.673295021425664), 'n_estimators': np.float64(244.3752583889521), 'subsample': np.float64(0.7164916560792167)}}\n"
     ]
    }
   ],
   "execution_count": 41
  },
  {
   "metadata": {
    "ExecuteTime": {
     "end_time": "2024-10-26T13:23:17.678446Z",
     "start_time": "2024-10-26T13:23:14.742354Z"
    }
   },
   "cell_type": "code",
   "source": [
    "from sklearn.metrics import classification_report, accuracy_score, precision_score, recall_score, f1_score, balanced_accuracy_score\n",
    "\n",
    "# 최적의 하이퍼파라미터를 사용한 최종 테스트 함수\n",
    "def final_test_with_best_params(optimizer, X_train, y_train, X_test, y_test):\n",
    "    # 베이지안 최적화로 얻은 최적의 하이퍼파라미터 추출\n",
    "    best_params = optimizer.max['params']\n",
    "    \n",
    "    # 최적의 하이퍼파라미터로 XGBoost 모델 학습\n",
    "    model = xgb.XGBClassifier(\n",
    "        learning_rate=best_params['learning_rate'],\n",
    "        n_estimators=int(best_params['n_estimators']),  # 정수로 변환\n",
    "        max_depth=int(best_params['max_depth']),  # 정수로 변환\n",
    "        subsample=best_params['subsample'],\n",
    "        colsample_bytree=best_params['colsample_bytree'],\n",
    "        objective='multi:softmax',\n",
    "        num_class=8,\n",
    "        eval_metric='mlogloss',\n",
    "        use_label_encoder=False,\n",
    "        device='cuda'\n",
    "    )\n",
    "    \n",
    "    # 최적 하이퍼파라미터로 모델 학습\n",
    "    model.fit(X_train, y_train)\n",
    "    \n",
    "    # 테스트 데이터로 예측\n",
    "    y_pred = model.predict(X_test)\n",
    "    \n",
    "    # 성능 지표 계산\n",
    "    accuracy = accuracy_score(y_test, y_pred)\n",
    "    precision = precision_score(y_test, y_pred, average='weighted')\n",
    "    recall = recall_score(y_test, y_pred, average='weighted')\n",
    "    f1 = f1_score(y_test, y_pred, average='weighted')\n",
    "    balanced_acc = balanced_accuracy_score(y_test, y_pred)\n",
    "    \n",
    "    # 결과 출력\n",
    "    print(f\"Final Model Performance:\")\n",
    "    print(f\"Accuracy: {accuracy:.4f}\")\n",
    "    print(f\"Precision: {precision:.4f}\")\n",
    "    print(f\"Recall: {recall:.4f}\")\n",
    "    print(f\"F1 Score: {f1:.4f}\")\n",
    "    print(f\"Balanced Accuracy Score: {balanced_acc:.4f}\")\n",
    "    \n",
    "    # Classification Report 출력\n",
    "    print(\"\\nClassification Report:\\n\", classification_report(y_test, y_pred))\n",
    "\n",
    "# 최종 테스트 실행\n",
    "final_test_with_best_params(optimizer, X_train_aug_with_adsyn, y_train_aug_with_adsyn, X_test, y_test)\n"
   ],
   "outputs": [
    {
     "name": "stderr",
     "output_type": "stream",
     "text": [
      "/home/unsi/anaconda3/envs/forpytorch/lib/python3.9/site-packages/xgboost/core.py:158: UserWarning: [22:23:14] WARNING: /workspace/src/learner.cc:740: \n",
      "Parameters: { \"use_label_encoder\" } are not used.\n",
      "\n",
      "  warnings.warn(smsg, UserWarning)\n"
     ]
    },
    {
     "name": "stdout",
     "output_type": "stream",
     "text": [
      "Final Model Performance:\n",
      "Accuracy: 0.4201\n",
      "Precision: 0.8969\n",
      "Recall: 0.4201\n",
      "F1 Score: 0.5617\n",
      "Balanced Accuracy Score: 0.2384\n",
      "\n",
      "Classification Report:\n",
      "               precision    recall  f1-score   support\n",
      "\n",
      "           0       0.01      0.14      0.02        44\n",
      "           1       0.05      0.34      0.09        95\n",
      "           2       0.00      0.00      0.00        35\n",
      "           3       0.03      0.33      0.05         3\n",
      "           4       0.00      0.00      0.00        12\n",
      "           5       0.01      0.57      0.01         7\n",
      "           6       0.25      0.33      0.29         3\n",
      "           7       0.00      0.00      0.00         4\n",
      "           8       0.96      0.43      0.60      2863\n",
      "\n",
      "    accuracy                           0.42      3066\n",
      "   macro avg       0.14      0.24      0.12      3066\n",
      "weighted avg       0.90      0.42      0.56      3066\n",
      "\n"
     ]
    },
    {
     "name": "stderr",
     "output_type": "stream",
     "text": [
      "/home/unsi/anaconda3/envs/forpytorch/lib/python3.9/site-packages/sklearn/metrics/_classification.py:1531: UndefinedMetricWarning: Precision is ill-defined and being set to 0.0 in labels with no predicted samples. Use `zero_division` parameter to control this behavior.\n",
      "  _warn_prf(average, modifier, f\"{metric.capitalize()} is\", len(result))\n",
      "/home/unsi/anaconda3/envs/forpytorch/lib/python3.9/site-packages/sklearn/metrics/_classification.py:1531: UndefinedMetricWarning: Precision is ill-defined and being set to 0.0 in labels with no predicted samples. Use `zero_division` parameter to control this behavior.\n",
      "  _warn_prf(average, modifier, f\"{metric.capitalize()} is\", len(result))\n",
      "/home/unsi/anaconda3/envs/forpytorch/lib/python3.9/site-packages/sklearn/metrics/_classification.py:1531: UndefinedMetricWarning: Precision is ill-defined and being set to 0.0 in labels with no predicted samples. Use `zero_division` parameter to control this behavior.\n",
      "  _warn_prf(average, modifier, f\"{metric.capitalize()} is\", len(result))\n",
      "/home/unsi/anaconda3/envs/forpytorch/lib/python3.9/site-packages/sklearn/metrics/_classification.py:1531: UndefinedMetricWarning: Precision is ill-defined and being set to 0.0 in labels with no predicted samples. Use `zero_division` parameter to control this behavior.\n",
      "  _warn_prf(average, modifier, f\"{metric.capitalize()} is\", len(result))\n"
     ]
    }
   ],
   "execution_count": 42
  },
  {
   "metadata": {
    "ExecuteTime": {
     "end_time": "2024-10-26T13:23:17.739279Z",
     "start_time": "2024-10-26T13:23:17.738075Z"
    }
   },
   "cell_type": "code",
   "source": "",
   "outputs": [],
   "execution_count": null
  }
 ]
}
