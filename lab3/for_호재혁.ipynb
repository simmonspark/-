{
 "nbformat": 4,
 "nbformat_minor": 0,
 "metadata": {
  "colab": {
   "provenance": [],
   "machine_shape": "hm",
   "gpuType": "T4",
   "authorship_tag": "ABX9TyMYdSPL7jfUU1i8eveyYxN+"
  },
  "kernelspec": {
   "name": "python3",
   "display_name": "Python 3 (ipykernel)",
   "language": "python"
  },
  "language_info": {
   "name": "python"
  },
  "accelerator": "GPU"
 },
 "cells": [
  {
   "cell_type": "code",
   "metadata": {
    "id": "ZPsyfADpMoNp",
    "executionInfo": {
     "status": "ok",
     "timestamp": 1728736997827,
     "user_tz": -540,
     "elapsed": 1445,
     "user": {
      "displayName": "JaeHyeok Ho",
      "userId": "09522757785018905826"
     }
    },
    "ExecuteTime": {
     "end_time": "2024-10-26T14:15:33.904702Z",
     "start_time": "2024-10-26T14:15:33.810738Z"
    }
   },
   "source": [
    "import numpy as np\n",
    "import pandas as pd\n",
    "import matplotlib.pyplot as plt\n",
    "from prompt_toolkit.key_binding.bindings.named_commands import self_insert\n",
    "#데이터 증강에 필요한 라이브러리\n",
    "from scipy.ndimage import median_filter, rotate, shift\n",
    "from sklearn.model_selection import train_test_split\n",
    "from sklearn.ensemble import RandomForestClassifier\n",
    "from sklearn.metrics import accuracy_score, precision_score, recall_score"
   ],
   "outputs": [],
   "execution_count": 1
  },
  {
   "metadata": {},
   "cell_type": "markdown",
   "source": "### 패딩 조져서 60,60 ->: 3600으로 만들고 kernel size = 8 stride = 4로 커널이 지나가면서 통예수치 추출 이하 생략.,"
  },
  {
   "metadata": {},
   "cell_type": "code",
   "outputs": [],
   "execution_count": null,
   "source": ""
  },
  {
   "cell_type": "code",
   "source": [
    "df = pd.read_pickle(\"/home/unsi/다운로드/LSWMD.pkl\") \n",
    "df"
   ],
   "metadata": {
    "colab": {
     "base_uri": "https://localhost:8080/",
     "height": 423
    },
    "id": "KVv1GqlNM_en",
    "executionInfo": {
     "status": "ok",
     "timestamp": 1728737001367,
     "user_tz": -540,
     "elapsed": 976,
     "user": {
      "displayName": "JaeHyeok Ho",
      "userId": "09522757785018905826"
     }
    },
    "outputId": "fe281b75-0cb6-4e48-f7e9-4605984be061",
    "ExecuteTime": {
     "end_time": "2024-10-26T14:15:54.704566Z",
     "start_time": "2024-10-26T14:15:34.162368Z"
    }
   },
   "outputs": [
    {
     "data": {
      "text/plain": [
       "                                                 waferMap  dieSize   lotName  \\\n",
       "0       [[0, 0, 0, 0, 0, 0, 0, 0, 0, 0, 0, 0, 0, 0, 0,...   1683.0      lot1   \n",
       "1       [[0, 0, 0, 0, 0, 0, 0, 0, 0, 0, 0, 0, 0, 0, 0,...   1683.0      lot1   \n",
       "2       [[0, 0, 0, 0, 0, 0, 0, 0, 0, 0, 0, 0, 0, 0, 0,...   1683.0      lot1   \n",
       "3       [[0, 0, 0, 0, 0, 0, 0, 0, 0, 0, 0, 0, 0, 0, 0,...   1683.0      lot1   \n",
       "4       [[0, 0, 0, 0, 0, 0, 0, 0, 0, 0, 0, 0, 0, 0, 0,...   1683.0      lot1   \n",
       "...                                                   ...      ...       ...   \n",
       "811452  [[0, 0, 0, 0, 0, 0, 0, 0, 0, 0, 0, 1, 2, 1, 1,...    600.0  lot47542   \n",
       "811453  [[0, 0, 0, 0, 0, 0, 0, 0, 0, 0, 0, 2, 2, 1, 1,...    600.0  lot47542   \n",
       "811454  [[0, 0, 0, 0, 0, 0, 0, 0, 0, 0, 0, 1, 2, 1, 1,...    600.0  lot47542   \n",
       "811455  [[0, 0, 0, 0, 0, 0, 0, 0, 0, 0, 0, 1, 1, 1, 1,...    600.0  lot47543   \n",
       "811456  [[0, 0, 0, 0, 0, 0, 0, 0, 0, 0, 0, 1, 2, 1, 1,...    600.0  lot47543   \n",
       "\n",
       "        waferIndex trianTestLabel    failureType  \n",
       "0              1.0   [[Training]]       [[none]]  \n",
       "1              2.0   [[Training]]       [[none]]  \n",
       "2              3.0   [[Training]]       [[none]]  \n",
       "3              4.0   [[Training]]       [[none]]  \n",
       "4              5.0   [[Training]]       [[none]]  \n",
       "...            ...            ...            ...  \n",
       "811452        23.0       [[Test]]  [[Edge-Ring]]  \n",
       "811453        24.0       [[Test]]   [[Edge-Loc]]  \n",
       "811454        25.0       [[Test]]  [[Edge-Ring]]  \n",
       "811455         1.0             []             []  \n",
       "811456         2.0             []             []  \n",
       "\n",
       "[811457 rows x 6 columns]"
      ],
      "text/html": [
       "<div>\n",
       "<style scoped>\n",
       "    .dataframe tbody tr th:only-of-type {\n",
       "        vertical-align: middle;\n",
       "    }\n",
       "\n",
       "    .dataframe tbody tr th {\n",
       "        vertical-align: top;\n",
       "    }\n",
       "\n",
       "    .dataframe thead th {\n",
       "        text-align: right;\n",
       "    }\n",
       "</style>\n",
       "<table border=\"1\" class=\"dataframe\">\n",
       "  <thead>\n",
       "    <tr style=\"text-align: right;\">\n",
       "      <th></th>\n",
       "      <th>waferMap</th>\n",
       "      <th>dieSize</th>\n",
       "      <th>lotName</th>\n",
       "      <th>waferIndex</th>\n",
       "      <th>trianTestLabel</th>\n",
       "      <th>failureType</th>\n",
       "    </tr>\n",
       "  </thead>\n",
       "  <tbody>\n",
       "    <tr>\n",
       "      <th>0</th>\n",
       "      <td>[[0, 0, 0, 0, 0, 0, 0, 0, 0, 0, 0, 0, 0, 0, 0,...</td>\n",
       "      <td>1683.0</td>\n",
       "      <td>lot1</td>\n",
       "      <td>1.0</td>\n",
       "      <td>[[Training]]</td>\n",
       "      <td>[[none]]</td>\n",
       "    </tr>\n",
       "    <tr>\n",
       "      <th>1</th>\n",
       "      <td>[[0, 0, 0, 0, 0, 0, 0, 0, 0, 0, 0, 0, 0, 0, 0,...</td>\n",
       "      <td>1683.0</td>\n",
       "      <td>lot1</td>\n",
       "      <td>2.0</td>\n",
       "      <td>[[Training]]</td>\n",
       "      <td>[[none]]</td>\n",
       "    </tr>\n",
       "    <tr>\n",
       "      <th>2</th>\n",
       "      <td>[[0, 0, 0, 0, 0, 0, 0, 0, 0, 0, 0, 0, 0, 0, 0,...</td>\n",
       "      <td>1683.0</td>\n",
       "      <td>lot1</td>\n",
       "      <td>3.0</td>\n",
       "      <td>[[Training]]</td>\n",
       "      <td>[[none]]</td>\n",
       "    </tr>\n",
       "    <tr>\n",
       "      <th>3</th>\n",
       "      <td>[[0, 0, 0, 0, 0, 0, 0, 0, 0, 0, 0, 0, 0, 0, 0,...</td>\n",
       "      <td>1683.0</td>\n",
       "      <td>lot1</td>\n",
       "      <td>4.0</td>\n",
       "      <td>[[Training]]</td>\n",
       "      <td>[[none]]</td>\n",
       "    </tr>\n",
       "    <tr>\n",
       "      <th>4</th>\n",
       "      <td>[[0, 0, 0, 0, 0, 0, 0, 0, 0, 0, 0, 0, 0, 0, 0,...</td>\n",
       "      <td>1683.0</td>\n",
       "      <td>lot1</td>\n",
       "      <td>5.0</td>\n",
       "      <td>[[Training]]</td>\n",
       "      <td>[[none]]</td>\n",
       "    </tr>\n",
       "    <tr>\n",
       "      <th>...</th>\n",
       "      <td>...</td>\n",
       "      <td>...</td>\n",
       "      <td>...</td>\n",
       "      <td>...</td>\n",
       "      <td>...</td>\n",
       "      <td>...</td>\n",
       "    </tr>\n",
       "    <tr>\n",
       "      <th>811452</th>\n",
       "      <td>[[0, 0, 0, 0, 0, 0, 0, 0, 0, 0, 0, 1, 2, 1, 1,...</td>\n",
       "      <td>600.0</td>\n",
       "      <td>lot47542</td>\n",
       "      <td>23.0</td>\n",
       "      <td>[[Test]]</td>\n",
       "      <td>[[Edge-Ring]]</td>\n",
       "    </tr>\n",
       "    <tr>\n",
       "      <th>811453</th>\n",
       "      <td>[[0, 0, 0, 0, 0, 0, 0, 0, 0, 0, 0, 2, 2, 1, 1,...</td>\n",
       "      <td>600.0</td>\n",
       "      <td>lot47542</td>\n",
       "      <td>24.0</td>\n",
       "      <td>[[Test]]</td>\n",
       "      <td>[[Edge-Loc]]</td>\n",
       "    </tr>\n",
       "    <tr>\n",
       "      <th>811454</th>\n",
       "      <td>[[0, 0, 0, 0, 0, 0, 0, 0, 0, 0, 0, 1, 2, 1, 1,...</td>\n",
       "      <td>600.0</td>\n",
       "      <td>lot47542</td>\n",
       "      <td>25.0</td>\n",
       "      <td>[[Test]]</td>\n",
       "      <td>[[Edge-Ring]]</td>\n",
       "    </tr>\n",
       "    <tr>\n",
       "      <th>811455</th>\n",
       "      <td>[[0, 0, 0, 0, 0, 0, 0, 0, 0, 0, 0, 1, 1, 1, 1,...</td>\n",
       "      <td>600.0</td>\n",
       "      <td>lot47543</td>\n",
       "      <td>1.0</td>\n",
       "      <td>[]</td>\n",
       "      <td>[]</td>\n",
       "    </tr>\n",
       "    <tr>\n",
       "      <th>811456</th>\n",
       "      <td>[[0, 0, 0, 0, 0, 0, 0, 0, 0, 0, 0, 1, 2, 1, 1,...</td>\n",
       "      <td>600.0</td>\n",
       "      <td>lot47543</td>\n",
       "      <td>2.0</td>\n",
       "      <td>[]</td>\n",
       "      <td>[]</td>\n",
       "    </tr>\n",
       "  </tbody>\n",
       "</table>\n",
       "<p>811457 rows × 6 columns</p>\n",
       "</div>"
      ]
     },
     "execution_count": 2,
     "metadata": {},
     "output_type": "execute_result"
    }
   ],
   "execution_count": 2
  },
  {
   "cell_type": "code",
   "source": "df['waferMap'][0].shape",
   "metadata": {
    "colab": {
     "base_uri": "https://localhost:8080/"
    },
    "id": "pSkGFdQ5M_cB",
    "executionInfo": {
     "status": "ok",
     "timestamp": 1728737001367,
     "user_tz": -540,
     "elapsed": 11,
     "user": {
      "displayName": "JaeHyeok Ho",
      "userId": "09522757785018905826"
     }
    },
    "outputId": "7195338f-2f40-4ee3-bdc4-6ef97454e815",
    "ExecuteTime": {
     "end_time": "2024-10-26T14:15:54.754904Z",
     "start_time": "2024-10-26T14:15:54.752692Z"
    }
   },
   "outputs": [
    {
     "data": {
      "text/plain": [
       "(45, 48)"
      ]
     },
     "execution_count": 3,
     "metadata": {},
     "output_type": "execute_result"
    }
   ],
   "execution_count": 3
  },
  {
   "cell_type": "code",
   "source": [
    "# failureType 열의 데이터 유형과 샘플 값 확인\n",
    "print(df['failureType'].head(50))  # 상위 50개의 데이터를 확인\n"
   ],
   "metadata": {
    "colab": {
     "base_uri": "https://localhost:8080/"
    },
    "id": "uq2Ijm3ZM_Zc",
    "executionInfo": {
     "status": "ok",
     "timestamp": 1728737001367,
     "user_tz": -540,
     "elapsed": 9,
     "user": {
      "displayName": "JaeHyeok Ho",
      "userId": "09522757785018905826"
     }
    },
    "outputId": "71f6321d-1496-47f8-bbe8-27182d288fe6",
    "ExecuteTime": {
     "end_time": "2024-10-26T14:15:54.834434Z",
     "start_time": "2024-10-26T14:15:54.820236Z"
    }
   },
   "outputs": [
    {
     "name": "stdout",
     "output_type": "stream",
     "text": [
      "0         [[none]]\n",
      "1         [[none]]\n",
      "2         [[none]]\n",
      "3         [[none]]\n",
      "4         [[none]]\n",
      "5         [[none]]\n",
      "6         [[none]]\n",
      "7         [[none]]\n",
      "8         [[none]]\n",
      "9         [[none]]\n",
      "10        [[none]]\n",
      "11        [[none]]\n",
      "12        [[none]]\n",
      "13        [[none]]\n",
      "14        [[none]]\n",
      "15        [[none]]\n",
      "16        [[none]]\n",
      "17        [[none]]\n",
      "18        [[none]]\n",
      "19         [[Loc]]\n",
      "20        [[none]]\n",
      "21        [[none]]\n",
      "22        [[none]]\n",
      "23        [[none]]\n",
      "24        [[none]]\n",
      "25        [[none]]\n",
      "26        [[none]]\n",
      "27        [[none]]\n",
      "28        [[none]]\n",
      "29        [[none]]\n",
      "30        [[none]]\n",
      "31        [[none]]\n",
      "32        [[none]]\n",
      "33        [[none]]\n",
      "34        [[none]]\n",
      "35              []\n",
      "36    [[Edge-Loc]]\n",
      "37    [[Edge-Loc]]\n",
      "38    [[Edge-Loc]]\n",
      "39    [[Edge-Loc]]\n",
      "40         [[Loc]]\n",
      "41    [[Edge-Loc]]\n",
      "42    [[Edge-Loc]]\n",
      "43    [[Edge-Loc]]\n",
      "44      [[Center]]\n",
      "45              []\n",
      "46        [[none]]\n",
      "47         [[Loc]]\n",
      "48    [[Edge-Loc]]\n",
      "49      [[Center]]\n",
      "Name: failureType, dtype: object\n"
     ]
    }
   ],
   "execution_count": 4
  },
  {
   "metadata": {
    "ExecuteTime": {
     "end_time": "2024-10-26T14:15:55.349514Z",
     "start_time": "2024-10-26T14:15:54.945972Z"
    }
   },
   "cell_type": "code",
   "source": [
    "passed = df[df['failureType'].apply(lambda x: x.shape == (0, 0) or x[0][0] == 'none')]\n",
    "passed['failureType'] = 8\n",
    "eda_pass = passed\n",
    "passed = passed.sample(n=100000, random_state=42)\n",
    "faild = df[df['failureType'].apply(lambda x: len(x) > 0 and len(x[0]) > 0 and x[0][0] != 'none')]\n",
    "faild\n",
    "class2idx = {\n",
    "    'Loc': 0,\n",
    "    'Edge-Loc': 1,\n",
    "    'Center': 2,\n",
    "    'Edge-Ring': 3,\n",
    "    'Scratch': 4,\n",
    "    'Random': 5,\n",
    "    'Near-full': 6,\n",
    "    'Donut': 7,\n",
    "    'pass': 8\n",
    "}\n",
    "\n",
    "#failureType 인코딩 \n",
    "faild['failureType'] = faild['failureType'].apply(lambda x: class2idx.get(x[0][0], -1))\n",
    "\n",
    "# 결과 확인\n",
    "faild\n",
    "df = pd.concat([faild, passed])\n",
    "df"
   ],
   "outputs": [
    {
     "name": "stderr",
     "output_type": "stream",
     "text": [
      "/tmp/ipykernel_19395/1353984034.py:2: SettingWithCopyWarning: \n",
      "A value is trying to be set on a copy of a slice from a DataFrame.\n",
      "Try using .loc[row_indexer,col_indexer] = value instead\n",
      "\n",
      "See the caveats in the documentation: https://pandas.pydata.org/pandas-docs/stable/user_guide/indexing.html#returning-a-view-versus-a-copy\n",
      "  passed['failureType'] = 8\n",
      "/tmp/ipykernel_19395/1353984034.py:20: SettingWithCopyWarning: \n",
      "A value is trying to be set on a copy of a slice from a DataFrame.\n",
      "Try using .loc[row_indexer,col_indexer] = value instead\n",
      "\n",
      "See the caveats in the documentation: https://pandas.pydata.org/pandas-docs/stable/user_guide/indexing.html#returning-a-view-versus-a-copy\n",
      "  faild['failureType'] = faild['failureType'].apply(lambda x: class2idx.get(x[0][0], -1))\n"
     ]
    },
    {
     "data": {
      "text/plain": [
       "                                                 waferMap  dieSize   lotName  \\\n",
       "19      [[0, 0, 0, 0, 0, 0, 0, 0, 0, 0, 0, 0, 0, 0, 0,...   1683.0      lot1   \n",
       "36      [[0, 0, 0, 0, 0, 0, 0, 0, 0, 0, 0, 0, 0, 0, 0,...   2460.0      lot2   \n",
       "37      [[0, 0, 0, 0, 0, 0, 0, 0, 0, 0, 0, 0, 0, 0, 0,...   2460.0      lot2   \n",
       "38      [[0, 0, 0, 0, 0, 0, 0, 0, 0, 0, 0, 0, 0, 0, 0,...   2460.0      lot2   \n",
       "39      [[0, 0, 0, 0, 0, 0, 0, 0, 0, 0, 0, 0, 0, 0, 0,...   2460.0      lot2   \n",
       "...                                                   ...      ...       ...   \n",
       "334843  [[0, 0, 0, 0, 0, 0, 0, 0, 0, 0, 0, 0, 0, 0, 0,...   5532.0  lot20174   \n",
       "609203  [[0, 0, 0, 0, 0, 0, 0, 0, 0, 0, 0, 0, 2, 2, 1,...    710.0  lot38319   \n",
       "244074  [[0, 0, 0, 0, 0, 0, 0, 0, 0, 0, 0, 0, 2, 1, 2,...    648.0  lot15275   \n",
       "379250  [[0, 0, 0, 0, 0, 0, 0, 0, 0, 0, 0, 0, 0, 0, 0,...   2393.0  lot22590   \n",
       "57821   [[0, 0, 0, 0, 0, 0, 0, 0, 0, 0, 0, 0, 0, 0, 0,...   1253.0   lot4621   \n",
       "\n",
       "        waferIndex trianTestLabel  failureType  \n",
       "19            20.0   [[Training]]            0  \n",
       "36            12.0   [[Training]]            1  \n",
       "37            13.0   [[Training]]            1  \n",
       "38            14.0   [[Training]]            1  \n",
       "39            15.0   [[Training]]            1  \n",
       "...            ...            ...          ...  \n",
       "334843         4.0             []            8  \n",
       "609203        13.0             []            8  \n",
       "244074        11.0             []            8  \n",
       "379250        20.0             []            8  \n",
       "57821         25.0             []            8  \n",
       "\n",
       "[125519 rows x 6 columns]"
      ],
      "text/html": [
       "<div>\n",
       "<style scoped>\n",
       "    .dataframe tbody tr th:only-of-type {\n",
       "        vertical-align: middle;\n",
       "    }\n",
       "\n",
       "    .dataframe tbody tr th {\n",
       "        vertical-align: top;\n",
       "    }\n",
       "\n",
       "    .dataframe thead th {\n",
       "        text-align: right;\n",
       "    }\n",
       "</style>\n",
       "<table border=\"1\" class=\"dataframe\">\n",
       "  <thead>\n",
       "    <tr style=\"text-align: right;\">\n",
       "      <th></th>\n",
       "      <th>waferMap</th>\n",
       "      <th>dieSize</th>\n",
       "      <th>lotName</th>\n",
       "      <th>waferIndex</th>\n",
       "      <th>trianTestLabel</th>\n",
       "      <th>failureType</th>\n",
       "    </tr>\n",
       "  </thead>\n",
       "  <tbody>\n",
       "    <tr>\n",
       "      <th>19</th>\n",
       "      <td>[[0, 0, 0, 0, 0, 0, 0, 0, 0, 0, 0, 0, 0, 0, 0,...</td>\n",
       "      <td>1683.0</td>\n",
       "      <td>lot1</td>\n",
       "      <td>20.0</td>\n",
       "      <td>[[Training]]</td>\n",
       "      <td>0</td>\n",
       "    </tr>\n",
       "    <tr>\n",
       "      <th>36</th>\n",
       "      <td>[[0, 0, 0, 0, 0, 0, 0, 0, 0, 0, 0, 0, 0, 0, 0,...</td>\n",
       "      <td>2460.0</td>\n",
       "      <td>lot2</td>\n",
       "      <td>12.0</td>\n",
       "      <td>[[Training]]</td>\n",
       "      <td>1</td>\n",
       "    </tr>\n",
       "    <tr>\n",
       "      <th>37</th>\n",
       "      <td>[[0, 0, 0, 0, 0, 0, 0, 0, 0, 0, 0, 0, 0, 0, 0,...</td>\n",
       "      <td>2460.0</td>\n",
       "      <td>lot2</td>\n",
       "      <td>13.0</td>\n",
       "      <td>[[Training]]</td>\n",
       "      <td>1</td>\n",
       "    </tr>\n",
       "    <tr>\n",
       "      <th>38</th>\n",
       "      <td>[[0, 0, 0, 0, 0, 0, 0, 0, 0, 0, 0, 0, 0, 0, 0,...</td>\n",
       "      <td>2460.0</td>\n",
       "      <td>lot2</td>\n",
       "      <td>14.0</td>\n",
       "      <td>[[Training]]</td>\n",
       "      <td>1</td>\n",
       "    </tr>\n",
       "    <tr>\n",
       "      <th>39</th>\n",
       "      <td>[[0, 0, 0, 0, 0, 0, 0, 0, 0, 0, 0, 0, 0, 0, 0,...</td>\n",
       "      <td>2460.0</td>\n",
       "      <td>lot2</td>\n",
       "      <td>15.0</td>\n",
       "      <td>[[Training]]</td>\n",
       "      <td>1</td>\n",
       "    </tr>\n",
       "    <tr>\n",
       "      <th>...</th>\n",
       "      <td>...</td>\n",
       "      <td>...</td>\n",
       "      <td>...</td>\n",
       "      <td>...</td>\n",
       "      <td>...</td>\n",
       "      <td>...</td>\n",
       "    </tr>\n",
       "    <tr>\n",
       "      <th>334843</th>\n",
       "      <td>[[0, 0, 0, 0, 0, 0, 0, 0, 0, 0, 0, 0, 0, 0, 0,...</td>\n",
       "      <td>5532.0</td>\n",
       "      <td>lot20174</td>\n",
       "      <td>4.0</td>\n",
       "      <td>[]</td>\n",
       "      <td>8</td>\n",
       "    </tr>\n",
       "    <tr>\n",
       "      <th>609203</th>\n",
       "      <td>[[0, 0, 0, 0, 0, 0, 0, 0, 0, 0, 0, 0, 2, 2, 1,...</td>\n",
       "      <td>710.0</td>\n",
       "      <td>lot38319</td>\n",
       "      <td>13.0</td>\n",
       "      <td>[]</td>\n",
       "      <td>8</td>\n",
       "    </tr>\n",
       "    <tr>\n",
       "      <th>244074</th>\n",
       "      <td>[[0, 0, 0, 0, 0, 0, 0, 0, 0, 0, 0, 0, 2, 1, 2,...</td>\n",
       "      <td>648.0</td>\n",
       "      <td>lot15275</td>\n",
       "      <td>11.0</td>\n",
       "      <td>[]</td>\n",
       "      <td>8</td>\n",
       "    </tr>\n",
       "    <tr>\n",
       "      <th>379250</th>\n",
       "      <td>[[0, 0, 0, 0, 0, 0, 0, 0, 0, 0, 0, 0, 0, 0, 0,...</td>\n",
       "      <td>2393.0</td>\n",
       "      <td>lot22590</td>\n",
       "      <td>20.0</td>\n",
       "      <td>[]</td>\n",
       "      <td>8</td>\n",
       "    </tr>\n",
       "    <tr>\n",
       "      <th>57821</th>\n",
       "      <td>[[0, 0, 0, 0, 0, 0, 0, 0, 0, 0, 0, 0, 0, 0, 0,...</td>\n",
       "      <td>1253.0</td>\n",
       "      <td>lot4621</td>\n",
       "      <td>25.0</td>\n",
       "      <td>[]</td>\n",
       "      <td>8</td>\n",
       "    </tr>\n",
       "  </tbody>\n",
       "</table>\n",
       "<p>125519 rows × 6 columns</p>\n",
       "</div>"
      ]
     },
     "execution_count": 5,
     "metadata": {},
     "output_type": "execute_result"
    }
   ],
   "execution_count": 5
  },
  {
   "cell_type": "code",
   "source": [
    "# failureType의 고유 값과 개수 세기\n",
    "failure_counts = df['failureType'].value_counts()\n",
    "\n",
    "print(failure_counts)"
   ],
   "metadata": {
    "colab": {
     "base_uri": "https://localhost:8080/"
    },
    "id": "oG5nNG2bM_Pj",
    "executionInfo": {
     "status": "ok",
     "timestamp": 1728737010477,
     "user_tz": -540,
     "elapsed": 500,
     "user": {
      "displayName": "JaeHyeok Ho",
      "userId": "09522757785018905826"
     }
    },
    "outputId": "6c04c21f-aa19-430e-9ca3-289427db1f71",
    "ExecuteTime": {
     "end_time": "2024-10-26T14:15:55.397484Z",
     "start_time": "2024-10-26T14:15:55.394807Z"
    }
   },
   "outputs": [
    {
     "name": "stdout",
     "output_type": "stream",
     "text": [
      "failureType\n",
      "8    100000\n",
      "3      9680\n",
      "1      5189\n",
      "2      4294\n",
      "0      3593\n",
      "4      1193\n",
      "5       866\n",
      "7       555\n",
      "6       149\n",
      "Name: count, dtype: int64\n"
     ]
    }
   ],
   "execution_count": 6
  },
  {
   "cell_type": "code",
   "source": [
    "features = df['waferMap']\n",
    "targets = df['failureType'].values\n",
    "df = pd.concat([faild, passed])"
   ],
   "metadata": {
    "id": "4KFiGUk6QWw4",
    "executionInfo": {
     "status": "ok",
     "timestamp": 1728737216425,
     "user_tz": -540,
     "elapsed": 386,
     "user": {
      "displayName": "JaeHyeok Ho",
      "userId": "09522757785018905826"
     }
    },
    "ExecuteTime": {
     "end_time": "2024-10-26T14:15:55.422245Z",
     "start_time": "2024-10-26T14:15:55.415378Z"
    }
   },
   "outputs": [],
   "execution_count": 7
  },
  {
   "metadata": {
    "ExecuteTime": {
     "end_time": "2024-10-26T14:15:55.538313Z",
     "start_time": "2024-10-26T14:15:55.535985Z"
    }
   },
   "cell_type": "code",
   "source": "features.shape",
   "outputs": [
    {
     "data": {
      "text/plain": [
       "(125519,)"
      ]
     },
     "execution_count": 8,
     "metadata": {},
     "output_type": "execute_result"
    }
   ],
   "execution_count": 8
  },
  {
   "metadata": {
    "ExecuteTime": {
     "end_time": "2024-10-26T14:16:03.211757Z",
     "start_time": "2024-10-26T14:15:55.600536Z"
    }
   },
   "cell_type": "code",
   "source": [
    "def apply_median_filter(wafer_map, size=3):\n",
    "    return median_filter(wafer_map, size=size)\n",
    "features = features.apply(lambda x: apply_median_filter(x, size=3))"
   ],
   "outputs": [],
   "execution_count": 9
  },
  {
   "metadata": {
    "ExecuteTime": {
     "end_time": "2024-10-26T14:16:03.313730Z",
     "start_time": "2024-10-26T14:16:03.220552Z"
    }
   },
   "cell_type": "code",
   "source": "df",
   "outputs": [
    {
     "data": {
      "text/plain": [
       "                                                 waferMap  dieSize   lotName  \\\n",
       "19      [[0, 0, 0, 0, 0, 0, 0, 0, 0, 0, 0, 0, 0, 0, 0,...   1683.0      lot1   \n",
       "36      [[0, 0, 0, 0, 0, 0, 0, 0, 0, 0, 0, 0, 0, 0, 0,...   2460.0      lot2   \n",
       "37      [[0, 0, 0, 0, 0, 0, 0, 0, 0, 0, 0, 0, 0, 0, 0,...   2460.0      lot2   \n",
       "38      [[0, 0, 0, 0, 0, 0, 0, 0, 0, 0, 0, 0, 0, 0, 0,...   2460.0      lot2   \n",
       "39      [[0, 0, 0, 0, 0, 0, 0, 0, 0, 0, 0, 0, 0, 0, 0,...   2460.0      lot2   \n",
       "...                                                   ...      ...       ...   \n",
       "334843  [[0, 0, 0, 0, 0, 0, 0, 0, 0, 0, 0, 0, 0, 0, 0,...   5532.0  lot20174   \n",
       "609203  [[0, 0, 0, 0, 0, 0, 0, 0, 0, 0, 0, 0, 2, 2, 1,...    710.0  lot38319   \n",
       "244074  [[0, 0, 0, 0, 0, 0, 0, 0, 0, 0, 0, 0, 2, 1, 2,...    648.0  lot15275   \n",
       "379250  [[0, 0, 0, 0, 0, 0, 0, 0, 0, 0, 0, 0, 0, 0, 0,...   2393.0  lot22590   \n",
       "57821   [[0, 0, 0, 0, 0, 0, 0, 0, 0, 0, 0, 0, 0, 0, 0,...   1253.0   lot4621   \n",
       "\n",
       "        waferIndex trianTestLabel  failureType  \n",
       "19            20.0   [[Training]]            0  \n",
       "36            12.0   [[Training]]            1  \n",
       "37            13.0   [[Training]]            1  \n",
       "38            14.0   [[Training]]            1  \n",
       "39            15.0   [[Training]]            1  \n",
       "...            ...            ...          ...  \n",
       "334843         4.0             []            8  \n",
       "609203        13.0             []            8  \n",
       "244074        11.0             []            8  \n",
       "379250        20.0             []            8  \n",
       "57821         25.0             []            8  \n",
       "\n",
       "[125519 rows x 6 columns]"
      ],
      "text/html": [
       "<div>\n",
       "<style scoped>\n",
       "    .dataframe tbody tr th:only-of-type {\n",
       "        vertical-align: middle;\n",
       "    }\n",
       "\n",
       "    .dataframe tbody tr th {\n",
       "        vertical-align: top;\n",
       "    }\n",
       "\n",
       "    .dataframe thead th {\n",
       "        text-align: right;\n",
       "    }\n",
       "</style>\n",
       "<table border=\"1\" class=\"dataframe\">\n",
       "  <thead>\n",
       "    <tr style=\"text-align: right;\">\n",
       "      <th></th>\n",
       "      <th>waferMap</th>\n",
       "      <th>dieSize</th>\n",
       "      <th>lotName</th>\n",
       "      <th>waferIndex</th>\n",
       "      <th>trianTestLabel</th>\n",
       "      <th>failureType</th>\n",
       "    </tr>\n",
       "  </thead>\n",
       "  <tbody>\n",
       "    <tr>\n",
       "      <th>19</th>\n",
       "      <td>[[0, 0, 0, 0, 0, 0, 0, 0, 0, 0, 0, 0, 0, 0, 0,...</td>\n",
       "      <td>1683.0</td>\n",
       "      <td>lot1</td>\n",
       "      <td>20.0</td>\n",
       "      <td>[[Training]]</td>\n",
       "      <td>0</td>\n",
       "    </tr>\n",
       "    <tr>\n",
       "      <th>36</th>\n",
       "      <td>[[0, 0, 0, 0, 0, 0, 0, 0, 0, 0, 0, 0, 0, 0, 0,...</td>\n",
       "      <td>2460.0</td>\n",
       "      <td>lot2</td>\n",
       "      <td>12.0</td>\n",
       "      <td>[[Training]]</td>\n",
       "      <td>1</td>\n",
       "    </tr>\n",
       "    <tr>\n",
       "      <th>37</th>\n",
       "      <td>[[0, 0, 0, 0, 0, 0, 0, 0, 0, 0, 0, 0, 0, 0, 0,...</td>\n",
       "      <td>2460.0</td>\n",
       "      <td>lot2</td>\n",
       "      <td>13.0</td>\n",
       "      <td>[[Training]]</td>\n",
       "      <td>1</td>\n",
       "    </tr>\n",
       "    <tr>\n",
       "      <th>38</th>\n",
       "      <td>[[0, 0, 0, 0, 0, 0, 0, 0, 0, 0, 0, 0, 0, 0, 0,...</td>\n",
       "      <td>2460.0</td>\n",
       "      <td>lot2</td>\n",
       "      <td>14.0</td>\n",
       "      <td>[[Training]]</td>\n",
       "      <td>1</td>\n",
       "    </tr>\n",
       "    <tr>\n",
       "      <th>39</th>\n",
       "      <td>[[0, 0, 0, 0, 0, 0, 0, 0, 0, 0, 0, 0, 0, 0, 0,...</td>\n",
       "      <td>2460.0</td>\n",
       "      <td>lot2</td>\n",
       "      <td>15.0</td>\n",
       "      <td>[[Training]]</td>\n",
       "      <td>1</td>\n",
       "    </tr>\n",
       "    <tr>\n",
       "      <th>...</th>\n",
       "      <td>...</td>\n",
       "      <td>...</td>\n",
       "      <td>...</td>\n",
       "      <td>...</td>\n",
       "      <td>...</td>\n",
       "      <td>...</td>\n",
       "    </tr>\n",
       "    <tr>\n",
       "      <th>334843</th>\n",
       "      <td>[[0, 0, 0, 0, 0, 0, 0, 0, 0, 0, 0, 0, 0, 0, 0,...</td>\n",
       "      <td>5532.0</td>\n",
       "      <td>lot20174</td>\n",
       "      <td>4.0</td>\n",
       "      <td>[]</td>\n",
       "      <td>8</td>\n",
       "    </tr>\n",
       "    <tr>\n",
       "      <th>609203</th>\n",
       "      <td>[[0, 0, 0, 0, 0, 0, 0, 0, 0, 0, 0, 0, 2, 2, 1,...</td>\n",
       "      <td>710.0</td>\n",
       "      <td>lot38319</td>\n",
       "      <td>13.0</td>\n",
       "      <td>[]</td>\n",
       "      <td>8</td>\n",
       "    </tr>\n",
       "    <tr>\n",
       "      <th>244074</th>\n",
       "      <td>[[0, 0, 0, 0, 0, 0, 0, 0, 0, 0, 0, 0, 2, 1, 2,...</td>\n",
       "      <td>648.0</td>\n",
       "      <td>lot15275</td>\n",
       "      <td>11.0</td>\n",
       "      <td>[]</td>\n",
       "      <td>8</td>\n",
       "    </tr>\n",
       "    <tr>\n",
       "      <th>379250</th>\n",
       "      <td>[[0, 0, 0, 0, 0, 0, 0, 0, 0, 0, 0, 0, 0, 0, 0,...</td>\n",
       "      <td>2393.0</td>\n",
       "      <td>lot22590</td>\n",
       "      <td>20.0</td>\n",
       "      <td>[]</td>\n",
       "      <td>8</td>\n",
       "    </tr>\n",
       "    <tr>\n",
       "      <th>57821</th>\n",
       "      <td>[[0, 0, 0, 0, 0, 0, 0, 0, 0, 0, 0, 0, 0, 0, 0,...</td>\n",
       "      <td>1253.0</td>\n",
       "      <td>lot4621</td>\n",
       "      <td>25.0</td>\n",
       "      <td>[]</td>\n",
       "      <td>8</td>\n",
       "    </tr>\n",
       "  </tbody>\n",
       "</table>\n",
       "<p>125519 rows × 6 columns</p>\n",
       "</div>"
      ]
     },
     "execution_count": 10,
     "metadata": {},
     "output_type": "execute_result"
    }
   ],
   "execution_count": 10
  },
  {
   "metadata": {
    "ExecuteTime": {
     "end_time": "2024-10-26T14:16:03.517224Z",
     "start_time": "2024-10-26T14:16:03.492993Z"
    }
   },
   "cell_type": "code",
   "source": [
    "import numpy as np\n",
    "import pandas as pd\n",
    "from sklearn.model_selection import train_test_split\n",
    "\n",
    "# 결함 유형 8을 새로운 라벨 7로 변환 (필요할 경우)\n",
    "\n",
    "\n",
    "# 데이터 분할 (train, test split)\n",
    "X_train, X_test, y_train, y_test = train_test_split(features, targets, stratify=targets, random_state=123, test_size=0.2)\n",
    "\n",
    "print(f\"훈련 데이터 수: {X_train.shape[0]}, 테스트 데이터 수: {X_test.shape[0]}\")"
   ],
   "outputs": [
    {
     "name": "stdout",
     "output_type": "stream",
     "text": [
      "훈련 데이터 수: 100415, 테스트 데이터 수: 25104\n"
     ]
    }
   ],
   "execution_count": 11
  },
  {
   "metadata": {
    "ExecuteTime": {
     "end_time": "2024-10-26T14:16:03.629216Z",
     "start_time": "2024-10-26T14:16:03.627613Z"
    }
   },
   "cell_type": "code",
   "source": "\n",
   "outputs": [],
   "execution_count": 11
  },
  {
   "metadata": {
    "ExecuteTime": {
     "end_time": "2024-10-26T14:16:03.696166Z",
     "start_time": "2024-10-26T14:16:03.692184Z"
    }
   },
   "cell_type": "code",
   "source": "X_test.shape, y_test.shape",
   "outputs": [
    {
     "data": {
      "text/plain": [
       "((25104,), (25104,))"
      ]
     },
     "execution_count": 12,
     "metadata": {},
     "output_type": "execute_result"
    }
   ],
   "execution_count": 12
  },
  {
   "metadata": {
    "ExecuteTime": {
     "end_time": "2024-10-26T14:16:03.844506Z",
     "start_time": "2024-10-26T14:16:03.843084Z"
    }
   },
   "cell_type": "code",
   "source": "",
   "outputs": [],
   "execution_count": null
  },
  {
   "metadata": {
    "ExecuteTime": {
     "end_time": "2024-10-26T14:16:03.989692Z",
     "start_time": "2024-10-26T14:16:03.987144Z"
    }
   },
   "cell_type": "code",
   "source": "X_test.shape, y_test.shape",
   "outputs": [
    {
     "data": {
      "text/plain": [
       "((25104,), (25104,))"
      ]
     },
     "execution_count": 13,
     "metadata": {},
     "output_type": "execute_result"
    }
   ],
   "execution_count": 13
  },
  {
   "metadata": {
    "ExecuteTime": {
     "end_time": "2024-10-26T14:16:04.133503Z",
     "start_time": "2024-10-26T14:16:04.131443Z"
    }
   },
   "cell_type": "code",
   "source": [
    "X_train_no_aug = X_train\n",
    "y_train_no_aug = y_train"
   ],
   "outputs": [],
   "execution_count": 14
  },
  {
   "metadata": {
    "ExecuteTime": {
     "end_time": "2024-10-26T14:16:04.280133Z",
     "start_time": "2024-10-26T14:16:04.277940Z"
    }
   },
   "cell_type": "code",
   "source": "X_train_no_aug = X_train_no_aug.values",
   "outputs": [],
   "execution_count": 15
  },
  {
   "metadata": {
    "ExecuteTime": {
     "end_time": "2024-10-26T14:16:04.501556Z",
     "start_time": "2024-10-26T14:16:04.500130Z"
    }
   },
   "cell_type": "code",
   "source": "",
   "outputs": [],
   "execution_count": null
  },
  {
   "metadata": {
    "ExecuteTime": {
     "end_time": "2024-10-26T14:16:04.714449Z",
     "start_time": "2024-10-26T14:16:04.713150Z"
    }
   },
   "cell_type": "code",
   "source": "",
   "outputs": [],
   "execution_count": null
  },
  {
   "cell_type": "code",
   "source": [
    "import numpy as np\n",
    "\n",
    "# 데이터 증강 함수 (Train 데이터만 증강)\n",
    "def augment_data(wafer_maps, targets):\n",
    "    augmented_maps = []\n",
    "    augmented_targets = []\n",
    "    \n",
    "    # 원본 웨이퍼 맵의 크기 확인 (첫 번째 맵을 기준으로)\n",
    "    original_shape = wafer_maps[0].shape\n",
    "\n",
    "    for wafer_map, target in zip(wafer_maps, targets):\n",
    "        # 원본 데이터 추가 (리사이즈 없이 그대로)\n",
    "        augmented_maps.append(pad_or_crop(wafer_map, original_shape))  # 원본 데이터도 일관된 크기로 추가\n",
    "        augmented_targets.append(target)\n",
    "\n",
    "        # 결함 있는 웨이퍼만 증강 (라벨 8 제외)\n",
    "        if target != 8:\n",
    "            # 90도 회전\n",
    "            rotated_90 = np.rot90(wafer_map, k=-1)\n",
    "            rotated_180 = np.rot90(wafer_map, k=2)\n",
    "            rotated_270 = np.rot90(wafer_map, k=1)\n",
    "\n",
    "            # 상하 및 좌우 뒤집기\n",
    "            flipped_vertical = np.flip(wafer_map, axis=0)\n",
    "            flipped_horizontal = np.flip(wafer_map, axis=1)\n",
    "\n",
    "            # 회전 및 뒤집기 후 동일한 크기 유지 확인 및 강제 조정\n",
    "            augmented_maps.append(pad_or_crop(rotated_90, original_shape))\n",
    "            augmented_targets.append(target)\n",
    "\n",
    "            augmented_maps.append(pad_or_crop(rotated_180, original_shape))\n",
    "            augmented_targets.append(target)\n",
    "\n",
    "            augmented_maps.append(pad_or_crop(rotated_270, original_shape))\n",
    "            augmented_targets.append(target)\n",
    "\n",
    "            augmented_maps.append(pad_or_crop(flipped_vertical, original_shape))\n",
    "            augmented_targets.append(target)\n",
    "\n",
    "            augmented_maps.append(pad_or_crop(flipped_horizontal, original_shape))\n",
    "            augmented_targets.append(target)\n",
    "\n",
    "    # 웨이퍼 맵의 모양이 모두 같은지 확인 및 배열화\n",
    "    augmented_maps = np.array([np.array(wafer, dtype=np.float32) for wafer in augmented_maps])\n",
    "    \n",
    "    return augmented_maps, np.array(augmented_targets)\n",
    "\n",
    "def pad_or_crop(image, target_shape):\n",
    "    \"\"\"\n",
    "    이미지의 크기가 target_shape와 동일하지 않은 경우, 잘라내거나 패딩을 추가하여 동일한 크기로 만듭니다.\n",
    "    \"\"\"\n",
    "    current_shape = image.shape\n",
    "    padded_image = np.zeros(target_shape, dtype=image.dtype)\n",
    "\n",
    "    # 이미지의 크기가 목표 크기보다 작다면, 중앙에 위치하도록 패딩\n",
    "    padded_image[:min(current_shape[0], target_shape[0]), :min(current_shape[1], target_shape[1])] = \\\n",
    "        image[:min(current_shape[0], target_shape[0]), :min(current_shape[1], target_shape[1])]\n",
    "\n",
    "    return padded_image\n",
    "\n",
    "# 증강된 훈련 데이터\n",
    "X_train_aug, y_train_aug = augment_data(X_train_no_aug, y_train_no_aug)\n",
    "\n",
    "print(f\"증강된 훈련 데이터의 형태: {X_train_aug.shape}\")\n"
   ],
   "metadata": {
    "colab": {
     "base_uri": "https://localhost:8080/"
    },
    "id": "dZWNAlyFPtzV",
    "executionInfo": {
     "status": "ok",
     "timestamp": 1728737259910,
     "user_tz": -540,
     "elapsed": 321,
     "user": {
      "displayName": "JaeHyeok Ho",
      "userId": "09522757785018905826"
     }
    },
    "outputId": "a24ebfb4-4d9e-43f2-df8d-521df7d644f5",
    "ExecuteTime": {
     "end_time": "2024-10-26T14:16:06.857984Z",
     "start_time": "2024-10-26T14:16:04.933391Z"
    }
   },
   "outputs": [
    {
     "name": "stdout",
     "output_type": "stream",
     "text": [
      "증강된 훈련 데이터의 형태: (202490, 52, 59)\n"
     ]
    }
   ],
   "execution_count": 16
  },
  {
   "metadata": {
    "ExecuteTime": {
     "end_time": "2024-10-26T14:16:08.879213Z",
     "start_time": "2024-10-26T14:16:07.069829Z"
    }
   },
   "cell_type": "code",
   "source": [
    "import numpy as np\n",
    "\n",
    "def pad_images_to_same_size(images, target_shape):\n",
    "    \"\"\"\n",
    "    모든 이미지를 동일한 크기(target_shape)로 패딩합니다.\n",
    "    이미지가 target_shape보다 큰 경우 잘라냅니다.\n",
    "    \"\"\"\n",
    "    padded_images = []\n",
    "    for image in images:\n",
    "        # 현재 이미지의 크기 가져오기\n",
    "        current_shape = image.shape\n",
    "        \n",
    "        # 패딩된 이미지를 0으로 초기화 (target_shape 크기로)\n",
    "        padded_image = np.zeros(target_shape, dtype=image.dtype)\n",
    "        \n",
    "        # 이미지의 크기가 목표 크기보다 작다면, 중앙에 위치하도록 복사\n",
    "        padded_image[:min(current_shape[0], target_shape[0]), :min(current_shape[1], target_shape[1])] = \\\n",
    "            image[:min(current_shape[0], target_shape[0]), :min(current_shape[1], target_shape[1])]\n",
    "\n",
    "        padded_images.append(padded_image)\n",
    "\n",
    "    return np.array(padded_images)\n",
    "\n",
    "# 모든 이미지를 동일한 크기로 패딩\n",
    "target_shape = (60, 60)  # 예시로 (52, 59)로 설정\n",
    "X_train_no_aug = pad_images_to_same_size(X_train_no_aug, target_shape)\n",
    "X_train_aug = pad_images_to_same_size(X_train_aug, target_shape)\n",
    "X_test = pad_images_to_same_size(X_test, target_shape)\n",
    "# 각 이미지를 평탄화\n",
    "X_train_no_aug = np.array([i.reshape(-1) for i in X_train_no_aug])\n",
    "X_train_aug = np.array([i.reshape(-1) for i in X_train_aug])\n",
    "X_test = np.array([i.reshape(-1) for i in X_test])\n",
    "print(X_train_no_aug.shape)\n"
   ],
   "outputs": [
    {
     "name": "stdout",
     "output_type": "stream",
     "text": [
      "(100415, 3600)\n"
     ]
    }
   ],
   "execution_count": 17
  },
  {
   "metadata": {
    "ExecuteTime": {
     "end_time": "2024-10-26T14:16:09.021254Z",
     "start_time": "2024-10-26T14:16:09.018715Z"
    }
   },
   "cell_type": "code",
   "source": "X_train_aug.shape",
   "outputs": [
    {
     "data": {
      "text/plain": [
       "(202490, 3600)"
      ]
     },
     "execution_count": 18,
     "metadata": {},
     "output_type": "execute_result"
    }
   ],
   "execution_count": 18
  },
  {
   "metadata": {
    "ExecuteTime": {
     "end_time": "2024-10-26T14:16:14.415650Z",
     "start_time": "2024-10-26T14:16:09.162264Z"
    }
   },
   "cell_type": "code",
   "source": [
    "import numpy as np\n",
    "\n",
    "# 각 웨이퍼 맵에 대해 로그 변환을 개별적으로 적용\n",
    "def apply_log1p_to_array(arr):\n",
    "    return np.array([np.log1p(wafer) for wafer in arr])\n",
    "\n",
    "# 로그 변환을 적용하여 0으로 인한 문제를 피하기 위해 np.log1p 사용 (log(1 + x))\n",
    "X_train_no_aug = apply_log1p_to_array(X_train_no_aug)\n",
    "X_test = apply_log1p_to_array(X_test)\n",
    "X_train_aug = apply_log1p_to_array(X_train_aug)\n",
    "\n",
    "# 결과 출력\n",
    "print(X_train_aug[0])\n",
    "print(X_train_no_aug[0])\n"
   ],
   "outputs": [
    {
     "name": "stdout",
     "output_type": "stream",
     "text": [
      "[0. 0. 0. ... 0. 0. 0.]\n",
      "[0. 0. 0. ... 0. 0. 0.]\n"
     ]
    }
   ],
   "execution_count": 19
  },
  {
   "metadata": {
    "ExecuteTime": {
     "end_time": "2024-10-26T14:16:14.558742Z",
     "start_time": "2024-10-26T14:16:14.556675Z"
    }
   },
   "cell_type": "code",
   "source": "print(X_train_aug.shape)",
   "outputs": [
    {
     "name": "stdout",
     "output_type": "stream",
     "text": [
      "(202490, 3600)\n"
     ]
    }
   ],
   "execution_count": 20
  },
  {
   "metadata": {
    "ExecuteTime": {
     "end_time": "2024-10-26T14:16:14.701064Z",
     "start_time": "2024-10-26T14:16:14.698413Z"
    }
   },
   "cell_type": "code",
   "source": "y_train_aug.shape",
   "outputs": [
    {
     "data": {
      "text/plain": [
       "(202490,)"
      ]
     },
     "execution_count": 21,
     "metadata": {},
     "output_type": "execute_result"
    }
   ],
   "execution_count": 21
  },
  {
   "metadata": {
    "ExecuteTime": {
     "end_time": "2024-10-26T14:16:14.846776Z",
     "start_time": "2024-10-26T14:16:14.843754Z"
    }
   },
   "cell_type": "code",
   "source": [
    "import pandas as pd\n",
    "\n",
    "# 결함 유형별 데이터 개수 세기\n",
    "augmented_target_series = pd.Series(y_train_aug)\n",
    "failure_counts_augmented = augmented_target_series.value_counts()\n",
    "\n",
    "print(\"증강된 훈련 데이터의 결함 유형별 개수:\")\n",
    "print(failure_counts_augmented)"
   ],
   "outputs": [
    {
     "name": "stdout",
     "output_type": "stream",
     "text": [
      "증강된 훈련 데이터의 결함 유형별 개수:\n",
      "8    80000\n",
      "3    46464\n",
      "1    24906\n",
      "2    20610\n",
      "0    17244\n",
      "4     5730\n",
      "5     4158\n",
      "7     2664\n",
      "6      714\n",
      "Name: count, dtype: int64\n"
     ]
    }
   ],
   "execution_count": 22
  },
  {
   "metadata": {
    "ExecuteTime": {
     "end_time": "2024-10-26T14:16:15.073674Z",
     "start_time": "2024-10-26T14:16:14.989122Z"
    }
   },
   "cell_type": "code",
   "source": [
    "import matplotlib.pyplot as plt\n",
    "\n",
    "# 결함 유형별 데이터 개수 그래프 그리기\n",
    "plt.figure(figsize=(10, 6))\n",
    "failure_counts_augmented.sort_index().plot(kind='bar', color='skyblue')\n",
    "plt.title('Augmented Training Data Count by Failure Type')\n",
    "plt.xlabel('Failure Type')\n",
    "plt.ylabel('Count')\n",
    "plt.xticks(rotation=0)\n",
    "plt.grid(axis='y', linestyle='--')\n",
    "plt.show()"
   ],
   "outputs": [
    {
     "data": {
      "text/plain": [
       "<Figure size 1000x600 with 1 Axes>"
      ],
      "image/png": "[encoded data removed]"
     },
     "metadata": {},
     "output_type": "display_data"
    }
   ],
   "execution_count": 23
  },
  {
   "metadata": {
    "ExecuteTime": {
     "end_time": "2024-10-26T14:16:19.349547Z",
     "start_time": "2024-10-26T14:16:15.215348Z"
    }
   },
   "cell_type": "code",
   "source": [
    "import numpy as np\n",
    "import pandas as pd\n",
    "\n",
    "# 특징 추출 함수\n",
    "def extract_features(wafer_maps):\n",
    "    features = []\n",
    "    \n",
    "    for wafer_map in wafer_maps:\n",
    "        # 1. 결함 다이 비율\n",
    "        total_pixels = wafer_map.size  # 전체 다이 개수\n",
    "        defect_count = np.sum(wafer_map == 2)  # 2의 개수\n",
    "        defect_ratio = defect_count / total_pixels if total_pixels > 0 else 0\n",
    "\n",
    "        # 2. 결함 분포 (중앙값과 가장자리 근처에 집중되는지)\n",
    "        defect_indices = np.argwhere(wafer_map == 2)  # 결함 위치의 인덱스\n",
    "        if defect_indices.size > 0:\n",
    "            center_of_defects = np.mean(defect_indices, axis=0)  # 결함 위치의 중앙\n",
    "            distance_to_center = np.linalg.norm(defect_indices - center_of_defects, axis=1)  # 중앙에서의 거리\n",
    "            avg_distance = np.mean(distance_to_center)  # 평균 거리\n",
    "        else:\n",
    "            center_of_defects = np.array([np.nan, np.nan])\n",
    "            avg_distance = np.nan\n",
    "\n",
    "        # 3. 픽셀 기반 통계 값 (평균 및 분산)\n",
    "        mean_value = np.mean(wafer_map)\n",
    "        variance_value = np.var(wafer_map)\n",
    "\n",
    "        # 특징 추가\n",
    "        features.append({\n",
    "            'defect_ratio': defect_ratio,\n",
    "            'center_of_defects': center_of_defects,\n",
    "            'avg_distance_to_center': avg_distance,\n",
    "            'mean_value': mean_value,\n",
    "            'variance_value': variance_value\n",
    "        })\n",
    "\n",
    "    return pd.DataFrame(features)\n",
    "\n",
    "# 특징 추출\n",
    "features_df = extract_features(X_train_aug)\n",
    "\n",
    "# 결과 확인\n",
    "print(features_df.head())"
   ],
   "outputs": [
    {
     "name": "stdout",
     "output_type": "stream",
     "text": [
      "   defect_ratio center_of_defects  avg_distance_to_center  mean_value  \\\n",
      "0           0.0        [nan, nan]                     NaN    0.462516   \n",
      "1           0.0        [nan, nan]                     NaN    0.490242   \n",
      "2           0.0        [nan, nan]                     NaN    0.211850   \n",
      "3           0.0        [nan, nan]                     NaN    0.346381   \n",
      "4           0.0        [nan, nan]                     NaN    0.105854   \n",
      "\n",
      "   variance_value  \n",
      "0        0.106918  \n",
      "1        0.099720  \n",
      "2        0.104561  \n",
      "3        0.120113  \n",
      "4        0.064023  \n"
     ]
    }
   ],
   "execution_count": 24
  },
  {
   "metadata": {
    "ExecuteTime": {
     "end_time": "2024-10-26T14:16:19.496156Z",
     "start_time": "2024-10-26T14:16:19.493421Z"
    }
   },
   "cell_type": "code",
   "source": [
    "'''from imblearn.over_sampling import ADASYN\n",
    "import numpy as np\n",
    "\n",
    "# ADASYN을 사용한 데이터 증강\n",
    "def augment_data_with_adasyn(X, y):\n",
    "    ada = ADASYN(sampling_strategy='auto', random_state=123)\n",
    "    \n",
    "    # X를 2D 형태로 변환 (n_samples, 676)\n",
    "    X_flattened = X.reshape(X.shape[0], -1)\n",
    "    \n",
    "    # ADASYN을 적용하여 데이터 증강\n",
    "    X_resampled, y_resampled = ada.fit_resample(X_flattened, y)\n",
    "    \n",
    "    # 1D 형태로 반환 (X_resampled의 shape은 (n_samples, 676))\n",
    "    return X_resampled, y_resampled\n",
    "\n",
    "# ADASYN을 사용하여 증강된 훈련 데이터 생성\n",
    "X_train_aug_with_adsyn, y_train_aug_with_adsyn = augment_data_with_adasyn(X_train_aug, y_train_aug)\n",
    "\n",
    "print(f\"ADASYN으로 증강된 훈련 데이터의 형태: {X_train_aug_with_adsyn.shape}\")'''"
   ],
   "outputs": [
    {
     "data": {
      "text/plain": [
       "'from imblearn.over_sampling import ADASYN\\nimport numpy as np\\n\\n# ADASYN을 사용한 데이터 증강\\ndef augment_data_with_adasyn(X, y):\\n    ada = ADASYN(sampling_strategy=\\'auto\\', random_state=123)\\n    \\n    # X를 2D 형태로 변환 (n_samples, 676)\\n    X_flattened = X.reshape(X.shape[0], -1)\\n    \\n    # ADASYN을 적용하여 데이터 증강\\n    X_resampled, y_resampled = ada.fit_resample(X_flattened, y)\\n    \\n    # 1D 형태로 반환 (X_resampled의 shape은 (n_samples, 676))\\n    return X_resampled, y_resampled\\n\\n# ADASYN을 사용하여 증강된 훈련 데이터 생성\\nX_train_aug_with_adsyn, y_train_aug_with_adsyn = augment_data_with_adasyn(X_train_aug, y_train_aug)\\n\\nprint(f\"ADASYN으로 증강된 훈련 데이터의 형태: {X_train_aug_with_adsyn.shape}\")'"
      ]
     },
     "execution_count": 25,
     "metadata": {},
     "output_type": "execute_result"
    }
   ],
   "execution_count": 25
  },
  {
   "metadata": {
    "ExecuteTime": {
     "end_time": "2024-10-26T14:16:19.639746Z",
     "start_time": "2024-10-26T14:16:19.638199Z"
    }
   },
   "cell_type": "code",
   "source": "",
   "outputs": [],
   "execution_count": null
  },
  {
   "metadata": {
    "ExecuteTime": {
     "end_time": "2024-10-26T14:16:19.782126Z",
     "start_time": "2024-10-26T14:16:19.780734Z"
    }
   },
   "cell_type": "code",
   "source": "",
   "outputs": [],
   "execution_count": null
  },
  {
   "metadata": {
    "ExecuteTime": {
     "end_time": "2024-10-26T14:16:19.925572Z",
     "start_time": "2024-10-26T14:16:19.924190Z"
    }
   },
   "cell_type": "code",
   "source": "",
   "outputs": [],
   "execution_count": null
  },
  {
   "metadata": {
    "ExecuteTime": {
     "end_time": "2024-10-26T14:16:20.068803Z",
     "start_time": "2024-10-26T14:16:20.067098Z"
    }
   },
   "cell_type": "code",
   "source": "\n",
   "outputs": [],
   "execution_count": 25
  },
  {
   "metadata": {
    "ExecuteTime": {
     "end_time": "2024-10-26T14:16:20.210290Z",
     "start_time": "2024-10-26T14:16:20.208944Z"
    }
   },
   "cell_type": "code",
   "source": "\n",
   "outputs": [],
   "execution_count": 25
  },
  {
   "metadata": {
    "ExecuteTime": {
     "end_time": "2024-10-26T14:16:20.354821Z",
     "start_time": "2024-10-26T14:16:20.351005Z"
    }
   },
   "cell_type": "code",
   "source": [
    "import numpy as np\n",
    "\n",
    "class FeatureExtraction:\n",
    "    def __init__(self):\n",
    "        pass\n",
    "    \n",
    "    def __call__(self, arr):\n",
    "        return self.forward(arr)\n",
    "    \n",
    "    def forward(self, arr):\n",
    "        n_rows, n_cols = arr.shape\n",
    "        n_splits = 8  # 구간 개수\n",
    "        stride = 4  # 겹치는 간격 설정\n",
    "\n",
    "        # 각 구간에 대해 추출할 통계 수치의 개수 (기존 4개에서 IQR, min, max 추가로 7개로 변경)\n",
    "        num_features = 7\n",
    "        # 결과를 저장할 배열 초기화 (n_rows, 8 * num_features)\n",
    "        result = np.zeros((n_rows, n_splits * num_features))\n",
    "        \n",
    "        # 각 행에 대해 반복\n",
    "        for i in range(n_rows):\n",
    "            row = arr[i]\n",
    "            features = []\n",
    "            \n",
    "            # 각 구간에 대해 통계 값 계산\n",
    "            for j in range(n_splits):\n",
    "                start = j * stride\n",
    "                end = start + (n_cols // n_splits)\n",
    "                \n",
    "                # 구간이 배열의 경계를 넘지 않도록 보정\n",
    "                if end > n_cols:\n",
    "                    end = n_cols\n",
    "                \n",
    "                segment = row[start:end]\n",
    "                \n",
    "                # 기본 통계 값 계산\n",
    "                mean = np.mean(segment)\n",
    "                std = np.std(segment)\n",
    "                var = np.var(segment)\n",
    "                summation = np.sum(segment)\n",
    "                \n",
    "                # 추가 통계 값 계산\n",
    "                iqr = np.percentile(segment, 75) - np.percentile(segment, 25)\n",
    "                minimum = np.min(segment)\n",
    "                maximum = np.max(segment)\n",
    "                \n",
    "                # 모든 통계 값 추가\n",
    "                features.extend([mean, std, var, summation, iqr, minimum, maximum])\n",
    "            \n",
    "            # 결과 배열에 통계 값 저장\n",
    "            result[i] = features\n",
    "        \n",
    "        return result\n",
    "\n"
   ],
   "outputs": [],
   "execution_count": 26
  },
  {
   "metadata": {
    "ExecuteTime": {
     "end_time": "2024-10-26T14:19:09.069247Z",
     "start_time": "2024-10-26T14:16:30.171812Z"
    }
   },
   "cell_type": "code",
   "source": [
    "from concurrent.futures import ProcessPoolExecutor\n",
    "import numpy as np\n",
    "from tqdm import tqdm\n",
    "\n",
    "def parallel_feature_extraction(extracter, arrays):\n",
    "\n",
    "    with ProcessPoolExecutor() as executor:\n",
    "        results = list(executor.map(extracter.forward, arrays))\n",
    "    return results\n",
    "\n",
    "extracter = FeatureExtraction()\n",
    "\n",
    "# 병렬 처리할 데이터 목록 생성\n",
    "data_to_process = [X_train_no_aug, X_train_aug, X_test]\n",
    "\n",
    "X_train_no_aug, X_train_aug, X_test = parallel_feature_extraction(extracter, data_to_process)\n",
    "\n",
    "# 결과 출력\n",
    "print(\"X_train_no_aug shape:\", X_train_no_aug.shape)\n",
    "print(\"X_train_aug shape:\", X_train_aug.shape)\n",
    "print(\"X_test shape:\", X_test.shape)\n"
   ],
   "outputs": [
    {
     "name": "stdout",
     "output_type": "stream",
     "text": [
      "X_train_no_aug shape: (100415, 56)\n",
      "X_train_aug shape: (202490, 56)\n",
      "X_test shape: (25104, 56)\n"
     ]
    }
   ],
   "execution_count": 28
  },
  {
   "metadata": {
    "ExecuteTime": {
     "end_time": "2024-10-26T14:19:14.570566Z",
     "start_time": "2024-10-26T14:19:14.567784Z"
    }
   },
   "cell_type": "code",
   "source": "y_train_aug",
   "outputs": [
    {
     "data": {
      "text/plain": [
       "array([8, 8, 8, ..., 3, 3, 8])"
      ]
     },
     "execution_count": 29,
     "metadata": {},
     "output_type": "execute_result"
    }
   ],
   "execution_count": 29
  },
  {
   "metadata": {
    "ExecuteTime": {
     "end_time": "2024-10-26T14:15:29.770555455Z",
     "start_time": "2024-10-26T13:21:02.679692Z"
    }
   },
   "cell_type": "code",
   "source": "",
   "outputs": [],
   "execution_count": 36
  },
  {
   "metadata": {
    "ExecuteTime": {
     "end_time": "2024-10-26T14:19:33.260970Z",
     "start_time": "2024-10-26T14:19:30.268924Z"
    }
   },
   "cell_type": "code",
   "source": [
    "from sklearn.metrics import classification_report, balanced_accuracy_score, precision_score, recall_score, f1_score\n",
    "import xgboost as xgb\n",
    "\n",
    "# 공통된 평가 함수 정의\n",
    "def evaluate_model(model, X_train, y_train, X_test, y_test):\n",
    "    # 모델 훈련\n",
    "    model.fit(X_train, y_train)\n",
    "    \n",
    "    # 검증 데이터로 예측\n",
    "    y_pred = model.predict(X_test)\n",
    "    \n",
    "    # 성능 지표 계산\n",
    "    accuracy = model.score(X_test, y_test)\n",
    "    precision = precision_score(y_test, y_pred, average='weighted')\n",
    "    recall = recall_score(y_test, y_pred, average='weighted')\n",
    "    f1 = f1_score(y_test, y_pred, average='weighted')\n",
    "    balanced_acc = balanced_accuracy_score(y_test, y_pred)\n",
    "    \n",
    "    # 결과 출력\n",
    "    print(f\"Accuracy: {accuracy:.4f}\")\n",
    "    print(f\"Precision: {precision:.4f}\")\n",
    "    print(f\"Recall: {recall:.4f}\")\n",
    "    print(f\"F1 Score: {f1:.4f}\")\n",
    "    print(f\"Balanced Accuracy Score: {balanced_acc:.4f}\")\n",
    "    \n",
    "    # classification_report 출력 (average 파라미터 제거)\n",
    "    print(\"\\nClassification Report:\\n\", classification_report(y_test, y_pred))\n",
    "\n",
    "# XGBoost 모델 정의\n",
    "def create_model():\n",
    "    return xgb.XGBClassifier(objective='multi:softmax', num_class=8, eval_metric='mlogloss', use_label_encoder=False, device='cuda')\n",
    "\n",
    "# 모델 및 데이터셋 평가\n",
    "datasets = [\n",
    "    (\"No Augmentation\", X_train_no_aug, y_train_no_aug),\n",
    "    (\"Augmentation\", X_train_aug, y_train_aug)\n",
    "    #(\"Augmentation with ADASYN\", X_train_aug_with_adsyn, y_train_aug_with_adsyn)\n",
    "]\n",
    "\n",
    "# 공통된 테스트 데이터 (X_test, y_test)로 각 모델 평가\n",
    "for dataset_name, X_train, y_train in datasets:\n",
    "    print(f\"\\nEvaluating model trained on {dataset_name} dataset\")\n",
    "    model = create_model()\n",
    "    evaluate_model(model, X_train, y_train, X_test, y_test)\n"
   ],
   "outputs": [
    {
     "name": "stdout",
     "output_type": "stream",
     "text": [
      "\n",
      "Evaluating model trained on No Augmentation dataset\n"
     ]
    },
    {
     "name": "stderr",
     "output_type": "stream",
     "text": [
      "/home/unsi/anaconda3/envs/forpytorch/lib/python3.9/site-packages/xgboost/core.py:158: UserWarning: [23:19:30] WARNING: /workspace/src/learner.cc:740: \n",
      "Parameters: { \"use_label_encoder\" } are not used.\n",
      "\n",
      "  warnings.warn(smsg, UserWarning)\n",
      "/home/unsi/anaconda3/envs/forpytorch/lib/python3.9/site-packages/xgboost/core.py:158: UserWarning: [23:19:31] WARNING: /workspace/src/common/error_msg.cc:58: Falling back to prediction using DMatrix due to mismatched devices. This might lead to higher memory usage and slower performance. XGBoost is running on: cuda:0, while the input data is on: cpu.\n",
      "Potential solutions:\n",
      "- Use a data structure that matches the device ordinal in the booster.\n",
      "- Set the device for booster before call to inplace_predict.\n",
      "\n",
      "This warning will only be shown once.\n",
      "\n",
      "  warnings.warn(smsg, UserWarning)\n",
      "/home/unsi/anaconda3/envs/forpytorch/lib/python3.9/site-packages/xgboost/core.py:158: UserWarning: [23:19:31] WARNING: /workspace/src/learner.cc:740: \n",
      "Parameters: { \"use_label_encoder\" } are not used.\n",
      "\n",
      "  warnings.warn(smsg, UserWarning)\n"
     ]
    },
    {
     "name": "stdout",
     "output_type": "stream",
     "text": [
      "Accuracy: 0.8647\n",
      "Precision: 0.8221\n",
      "Recall: 0.8647\n",
      "F1 Score: 0.8247\n",
      "Balanced Accuracy Score: 0.3482\n",
      "\n",
      "Classification Report:\n",
      "               precision    recall  f1-score   support\n",
      "\n",
      "           0       0.42      0.05      0.09       719\n",
      "           1       0.52      0.16      0.25      1038\n",
      "           2       0.44      0.02      0.04       859\n",
      "           3       0.87      0.87      0.87      1936\n",
      "           4       0.32      0.03      0.05       238\n",
      "           5       0.52      0.32      0.40       173\n",
      "           6       0.52      0.53      0.52        30\n",
      "           7       0.47      0.15      0.23       111\n",
      "           8       0.87      0.98      0.93     20000\n",
      "\n",
      "    accuracy                           0.86     25104\n",
      "   macro avg       0.55      0.35      0.38     25104\n",
      "weighted avg       0.82      0.86      0.82     25104\n",
      "\n",
      "\n",
      "Evaluating model trained on Augmentation dataset\n",
      "Accuracy: 0.7884\n",
      "Precision: 0.8044\n",
      "Recall: 0.7884\n",
      "F1 Score: 0.7938\n",
      "Balanced Accuracy Score: 0.4103\n",
      "\n",
      "Classification Report:\n",
      "               precision    recall  f1-score   support\n",
      "\n",
      "           0       0.13      0.07      0.09       719\n",
      "           1       0.22      0.29      0.25      1038\n",
      "           2       0.22      0.45      0.29       859\n",
      "           3       0.79      0.87      0.83      1936\n",
      "           4       0.02      0.00      0.01       238\n",
      "           5       0.42      0.43      0.43       173\n",
      "           6       0.42      0.63      0.51        30\n",
      "           7       0.29      0.09      0.14       111\n",
      "           8       0.90      0.86      0.88     20000\n",
      "\n",
      "    accuracy                           0.79     25104\n",
      "   macro avg       0.38      0.41      0.38     25104\n",
      "weighted avg       0.80      0.79      0.79     25104\n",
      "\n"
     ]
    }
   ],
   "execution_count": 30
  },
  {
   "metadata": {
    "ExecuteTime": {
     "end_time": "2024-10-26T14:15:29.770625824Z",
     "start_time": "2024-10-26T13:21:06.412429Z"
    }
   },
   "cell_type": "code",
   "source": "",
   "outputs": [],
   "execution_count": null
  },
  {
   "metadata": {
    "ExecuteTime": {
     "end_time": "2024-10-26T14:15:29.770652873Z",
     "start_time": "2024-10-26T13:21:06.472503Z"
    }
   },
   "cell_type": "code",
   "source": "y_train_no_aug.shape",
   "outputs": [
    {
     "data": {
      "text/plain": [
       "(12261,)"
      ]
     },
     "execution_count": 38,
     "metadata": {},
     "output_type": "execute_result"
    }
   ],
   "execution_count": 38
  },
  {
   "metadata": {
    "ExecuteTime": {
     "end_time": "2024-10-26T14:15:29.770694037Z",
     "start_time": "2024-10-26T13:21:06.531193Z"
    }
   },
   "cell_type": "code",
   "source": "X_train_aug",
   "outputs": [
    {
     "data": {
      "text/plain": [
       "array([[0.32641602, 0.35668945, 0.12719727, ..., 0.69335938, 0.        ,\n",
       "        1.09863281],\n",
       "       [0.31103516, 0.35546875, 0.12634277, ..., 0.69335938, 0.        ,\n",
       "        1.09863281],\n",
       "       [0.32202148, 0.34936523, 0.12207031, ..., 0.69335938, 0.        ,\n",
       "        0.69335938],\n",
       "       ...,\n",
       "       [0.32421875, 0.35302734, 0.12457275, ..., 0.69335938, 0.        ,\n",
       "        0.69335938],\n",
       "       [0.32202148, 0.34936523, 0.12207031, ..., 0.69335938, 0.        ,\n",
       "        1.09863281],\n",
       "       [0.30419922, 0.34399414, 0.1184082 , ..., 0.69335938, 0.        ,\n",
       "        0.69335938]])"
      ]
     },
     "execution_count": 39,
     "metadata": {},
     "output_type": "execute_result"
    }
   ],
   "execution_count": 39
  },
  {
   "metadata": {
    "ExecuteTime": {
     "end_time": "2024-10-26T14:15:29.770750958Z",
     "start_time": "2024-10-26T13:21:06.642252Z"
    }
   },
   "cell_type": "code",
   "source": "#X_train_aug_with_adsyn",
   "outputs": [
    {
     "data": {
      "text/plain": [
       "array([[0.32641602, 0.35668945, 0.12719727, ..., 0.69335938, 0.        ,\n",
       "        1.09863281],\n",
       "       [0.31103516, 0.35546875, 0.12634277, ..., 0.69335938, 0.        ,\n",
       "        1.09863281],\n",
       "       [0.32202148, 0.34936523, 0.12207031, ..., 0.69335938, 0.        ,\n",
       "        0.69335938],\n",
       "       ...,\n",
       "       [0.30810547, 0.34545898, 0.11938477, ..., 0.69335938, 0.        ,\n",
       "        0.86181641],\n",
       "       [0.3046875 , 0.34375   , 0.1182251 , ..., 0.69335938, 0.        ,\n",
       "        0.71582031],\n",
       "       [0.30419922, 0.34204102, 0.11700439, ..., 0.69335938, 0.        ,\n",
       "        0.69335938]])"
      ]
     },
     "execution_count": 40,
     "metadata": {},
     "output_type": "execute_result"
    }
   ],
   "execution_count": 40
  },
  {
   "metadata": {
    "ExecuteTime": {
     "end_time": "2024-10-26T14:23:03.186832Z",
     "start_time": "2024-10-26T14:19:57.336404Z"
    }
   },
   "cell_type": "code",
   "source": [
    "from bayes_opt import BayesianOptimization\n",
    "import xgboost as xgb\n",
    "from sklearn.model_selection import train_test_split\n",
    "from sklearn.metrics import accuracy_score\n",
    "\n",
    "# 평가 함수 정의\n",
    "def xgb_evaluate(learning_rate, n_estimators, max_depth, subsample, colsample_bytree):\n",
    "    # XGBoost 모델 정의\n",
    "    model = xgb.XGBClassifier(\n",
    "        learning_rate=learning_rate,\n",
    "        n_estimators=int(n_estimators),  # 정수로 변환\n",
    "        max_depth=int(max_depth),  # 정수로 변환\n",
    "        subsample=subsample,\n",
    "        colsample_bytree=colsample_bytree,\n",
    "        objective='multi:softmax',\n",
    "        num_class=8,\n",
    "        eval_metric='mlogloss',\n",
    "        use_label_encoder=False,\n",
    "        device='cuda'\n",
    "    )\n",
    "    \n",
    "    # 교차 검증 데이터로 모델 평가\n",
    "    model.fit(X_train_aug, y_train_aug)\n",
    "    y_pred = model.predict(X_test)\n",
    "    accuracy = balanced_accuracy_score(y_test, y_pred)\n",
    "    \n",
    "    return accuracy\n",
    "\n",
    "# 최적화할 파라미터 범위 설정\n",
    "param_bounds = {\n",
    "    'learning_rate': (0.01, 0.3),\n",
    "    'n_estimators': (50, 500),\n",
    "    'max_depth': (3, 10),\n",
    "    'subsample': (0.6, 1.0),\n",
    "    'colsample_bytree': (0.6, 1.0)\n",
    "}\n",
    "\n",
    "# BayesianOptimization 객체 생성\n",
    "optimizer = BayesianOptimization(f=xgb_evaluate, pbounds=param_bounds, random_state=42)\n",
    "\n",
    "# 최적화 수행\n",
    "optimizer.maximize(init_points=5, n_iter=25)\n",
    "\n",
    "# 최적화 결과 출력\n",
    "print(optimizer.max)\n"
   ],
   "outputs": [
    {
     "name": "stdout",
     "output_type": "stream",
     "text": [
      "|   iter    |  target   | colsam... | learni... | max_depth | n_esti... | subsample |\n",
      "-------------------------------------------------------------------------------------\n"
     ]
    },
    {
     "name": "stderr",
     "output_type": "stream",
     "text": [
      "/home/unsi/anaconda3/envs/forpytorch/lib/python3.9/site-packages/xgboost/core.py:158: UserWarning: [23:19:57] WARNING: /workspace/src/learner.cc:740: \n",
      "Parameters: { \"use_label_encoder\" } are not used.\n",
      "\n",
      "  warnings.warn(smsg, UserWarning)\n"
     ]
    },
    {
     "name": "stdout",
     "output_type": "stream",
     "text": [
      "| \u001B[39m1        \u001B[39m | \u001B[39m0.4195   \u001B[39m | \u001B[39m0.7498   \u001B[39m | \u001B[39m0.2857   \u001B[39m | \u001B[39m8.124    \u001B[39m | \u001B[39m319.4    \u001B[39m | \u001B[39m0.6624   \u001B[39m |\n"
     ]
    },
    {
     "name": "stderr",
     "output_type": "stream",
     "text": [
      "/home/unsi/anaconda3/envs/forpytorch/lib/python3.9/site-packages/xgboost/core.py:158: UserWarning: [23:20:05] WARNING: /workspace/src/learner.cc:740: \n",
      "Parameters: { \"use_label_encoder\" } are not used.\n",
      "\n",
      "  warnings.warn(smsg, UserWarning)\n"
     ]
    },
    {
     "name": "stdout",
     "output_type": "stream",
     "text": [
      "| \u001B[39m2        \u001B[39m | \u001B[39m0.4074   \u001B[39m | \u001B[39m0.6624   \u001B[39m | \u001B[39m0.02684  \u001B[39m | \u001B[39m9.063    \u001B[39m | \u001B[39m320.5    \u001B[39m | \u001B[39m0.8832   \u001B[39m |\n"
     ]
    },
    {
     "name": "stderr",
     "output_type": "stream",
     "text": [
      "/home/unsi/anaconda3/envs/forpytorch/lib/python3.9/site-packages/xgboost/core.py:158: UserWarning: [23:20:19] WARNING: /workspace/src/learner.cc:740: \n",
      "Parameters: { \"use_label_encoder\" } are not used.\n",
      "\n",
      "  warnings.warn(smsg, UserWarning)\n"
     ]
    },
    {
     "name": "stdout",
     "output_type": "stream",
     "text": [
      "| \u001B[35m3        \u001B[39m | \u001B[35m0.4208   \u001B[39m | \u001B[35m0.6082   \u001B[39m | \u001B[35m0.2913   \u001B[39m | \u001B[35m8.827    \u001B[39m | \u001B[35m145.6    \u001B[39m | \u001B[35m0.6727   \u001B[39m |\n"
     ]
    },
    {
     "name": "stderr",
     "output_type": "stream",
     "text": [
      "/home/unsi/anaconda3/envs/forpytorch/lib/python3.9/site-packages/xgboost/core.py:158: UserWarning: [23:20:23] WARNING: /workspace/src/learner.cc:740: \n",
      "Parameters: { \"use_label_encoder\" } are not used.\n",
      "\n",
      "  warnings.warn(smsg, UserWarning)\n"
     ]
    },
    {
     "name": "stdout",
     "output_type": "stream",
     "text": [
      "| \u001B[39m4        \u001B[39m | \u001B[39m0.4156   \u001B[39m | \u001B[39m0.6734   \u001B[39m | \u001B[39m0.09823  \u001B[39m | \u001B[39m6.673    \u001B[39m | \u001B[39m244.4    \u001B[39m | \u001B[39m0.7165   \u001B[39m |\n"
     ]
    },
    {
     "name": "stderr",
     "output_type": "stream",
     "text": [
      "/home/unsi/anaconda3/envs/forpytorch/lib/python3.9/site-packages/xgboost/core.py:158: UserWarning: [23:20:28] WARNING: /workspace/src/learner.cc:740: \n",
      "Parameters: { \"use_label_encoder\" } are not used.\n",
      "\n",
      "  warnings.warn(smsg, UserWarning)\n"
     ]
    },
    {
     "name": "stdout",
     "output_type": "stream",
     "text": [
      "| \u001B[39m5        \u001B[39m | \u001B[39m0.3814   \u001B[39m | \u001B[39m0.8447   \u001B[39m | \u001B[39m0.05045  \u001B[39m | \u001B[39m5.045    \u001B[39m | \u001B[39m214.9    \u001B[39m | \u001B[39m0.7824   \u001B[39m |\n"
     ]
    },
    {
     "name": "stderr",
     "output_type": "stream",
     "text": [
      "/home/unsi/anaconda3/envs/forpytorch/lib/python3.9/site-packages/xgboost/core.py:158: UserWarning: [23:20:32] WARNING: /workspace/src/learner.cc:740: \n",
      "Parameters: { \"use_label_encoder\" } are not used.\n",
      "\n",
      "  warnings.warn(smsg, UserWarning)\n"
     ]
    },
    {
     "name": "stdout",
     "output_type": "stream",
     "text": [
      "| \u001B[39m6        \u001B[39m | \u001B[39m0.4061   \u001B[39m | \u001B[39m0.884    \u001B[39m | \u001B[39m0.3      \u001B[39m | \u001B[39m6.768    \u001B[39m | \u001B[39m317.7    \u001B[39m | \u001B[39m0.6      \u001B[39m |\n"
     ]
    },
    {
     "name": "stderr",
     "output_type": "stream",
     "text": [
      "/home/unsi/anaconda3/envs/forpytorch/lib/python3.9/site-packages/xgboost/core.py:158: UserWarning: [23:20:37] WARNING: /workspace/src/learner.cc:740: \n",
      "Parameters: { \"use_label_encoder\" } are not used.\n",
      "\n",
      "  warnings.warn(smsg, UserWarning)\n"
     ]
    },
    {
     "name": "stdout",
     "output_type": "stream",
     "text": [
      "| \u001B[39m7        \u001B[39m | \u001B[39m0.3917   \u001B[39m | \u001B[39m0.8082   \u001B[39m | \u001B[39m0.0685   \u001B[39m | \u001B[39m5.919    \u001B[39m | \u001B[39m329.8    \u001B[39m | \u001B[39m0.9527   \u001B[39m |\n"
     ]
    },
    {
     "name": "stderr",
     "output_type": "stream",
     "text": [
      "/home/unsi/anaconda3/envs/forpytorch/lib/python3.9/site-packages/xgboost/core.py:158: UserWarning: [23:20:41] WARNING: /workspace/src/learner.cc:740: \n",
      "Parameters: { \"use_label_encoder\" } are not used.\n",
      "\n",
      "  warnings.warn(smsg, UserWarning)\n"
     ]
    },
    {
     "name": "stdout",
     "output_type": "stream",
     "text": [
      "| \u001B[39m8        \u001B[39m | \u001B[39m0.412    \u001B[39m | \u001B[39m0.8348   \u001B[39m | \u001B[39m0.1831   \u001B[39m | \u001B[39m8.018    \u001B[39m | \u001B[39m146.9    \u001B[39m | \u001B[39m0.6749   \u001B[39m |\n"
     ]
    },
    {
     "name": "stderr",
     "output_type": "stream",
     "text": [
      "/home/unsi/anaconda3/envs/forpytorch/lib/python3.9/site-packages/xgboost/core.py:158: UserWarning: [23:20:45] WARNING: /workspace/src/learner.cc:740: \n",
      "Parameters: { \"use_label_encoder\" } are not used.\n",
      "\n",
      "  warnings.warn(smsg, UserWarning)\n"
     ]
    },
    {
     "name": "stdout",
     "output_type": "stream",
     "text": [
      "| \u001B[39m9        \u001B[39m | \u001B[39m0.408    \u001B[39m | \u001B[39m0.7195   \u001B[39m | \u001B[39m0.1822   \u001B[39m | \u001B[39m7.793    \u001B[39m | \u001B[39m144.0    \u001B[39m | \u001B[39m0.7224   \u001B[39m |\n"
     ]
    },
    {
     "name": "stderr",
     "output_type": "stream",
     "text": [
      "/home/unsi/anaconda3/envs/forpytorch/lib/python3.9/site-packages/xgboost/core.py:158: UserWarning: [23:20:48] WARNING: /workspace/src/learner.cc:740: \n",
      "Parameters: { \"use_label_encoder\" } are not used.\n",
      "\n",
      "  warnings.warn(smsg, UserWarning)\n"
     ]
    },
    {
     "name": "stdout",
     "output_type": "stream",
     "text": [
      "| \u001B[39m10       \u001B[39m | \u001B[39m0.4156   \u001B[39m | \u001B[39m0.6      \u001B[39m | \u001B[39m0.3      \u001B[39m | \u001B[39m10.0     \u001B[39m | \u001B[39m146.4    \u001B[39m | \u001B[39m0.6      \u001B[39m |\n"
     ]
    },
    {
     "name": "stderr",
     "output_type": "stream",
     "text": [
      "/home/unsi/anaconda3/envs/forpytorch/lib/python3.9/site-packages/xgboost/core.py:158: UserWarning: [23:20:55] WARNING: /workspace/src/learner.cc:740: \n",
      "Parameters: { \"use_label_encoder\" } are not used.\n",
      "\n",
      "  warnings.warn(smsg, UserWarning)\n"
     ]
    },
    {
     "name": "stdout",
     "output_type": "stream",
     "text": [
      "| \u001B[39m11       \u001B[39m | \u001B[39m0.4183   \u001B[39m | \u001B[39m0.6      \u001B[39m | \u001B[39m0.3      \u001B[39m | \u001B[39m10.0     \u001B[39m | \u001B[39m144.4    \u001B[39m | \u001B[39m1.0      \u001B[39m |\n"
     ]
    },
    {
     "name": "stderr",
     "output_type": "stream",
     "text": [
      "/home/unsi/anaconda3/envs/forpytorch/lib/python3.9/site-packages/xgboost/core.py:158: UserWarning: [23:21:00] WARNING: /workspace/src/learner.cc:740: \n",
      "Parameters: { \"use_label_encoder\" } are not used.\n",
      "\n",
      "  warnings.warn(smsg, UserWarning)\n"
     ]
    },
    {
     "name": "stdout",
     "output_type": "stream",
     "text": [
      "| \u001B[39m12       \u001B[39m | \u001B[39m0.4204   \u001B[39m | \u001B[39m0.725    \u001B[39m | \u001B[39m0.3      \u001B[39m | \u001B[39m6.123    \u001B[39m | \u001B[39m320.8    \u001B[39m | \u001B[39m0.6      \u001B[39m |\n"
     ]
    },
    {
     "name": "stderr",
     "output_type": "stream",
     "text": [
      "/home/unsi/anaconda3/envs/forpytorch/lib/python3.9/site-packages/xgboost/core.py:158: UserWarning: [23:21:05] WARNING: /workspace/src/learner.cc:740: \n",
      "Parameters: { \"use_label_encoder\" } are not used.\n",
      "\n",
      "  warnings.warn(smsg, UserWarning)\n"
     ]
    },
    {
     "name": "stdout",
     "output_type": "stream",
     "text": [
      "| \u001B[39m13       \u001B[39m | \u001B[39m0.403    \u001B[39m | \u001B[39m1.0      \u001B[39m | \u001B[39m0.3      \u001B[39m | \u001B[39m3.968    \u001B[39m | \u001B[39m322.1    \u001B[39m | \u001B[39m0.6      \u001B[39m |\n"
     ]
    },
    {
     "name": "stderr",
     "output_type": "stream",
     "text": [
      "/home/unsi/anaconda3/envs/forpytorch/lib/python3.9/site-packages/xgboost/core.py:158: UserWarning: [23:21:07] WARNING: /workspace/src/learner.cc:740: \n",
      "Parameters: { \"use_label_encoder\" } are not used.\n",
      "\n",
      "  warnings.warn(smsg, UserWarning)\n"
     ]
    },
    {
     "name": "stdout",
     "output_type": "stream",
     "text": [
      "| \u001B[39m14       \u001B[39m | \u001B[39m0.4171   \u001B[39m | \u001B[39m0.8874   \u001B[39m | \u001B[39m0.2575   \u001B[39m | \u001B[39m8.916    \u001B[39m | \u001B[39m242.8    \u001B[39m | \u001B[39m0.9224   \u001B[39m |\n"
     ]
    },
    {
     "name": "stderr",
     "output_type": "stream",
     "text": [
      "/home/unsi/anaconda3/envs/forpytorch/lib/python3.9/site-packages/xgboost/core.py:158: UserWarning: [23:21:13] WARNING: /workspace/src/learner.cc:740: \n",
      "Parameters: { \"use_label_encoder\" } are not used.\n",
      "\n",
      "  warnings.warn(smsg, UserWarning)\n"
     ]
    },
    {
     "name": "stdout",
     "output_type": "stream",
     "text": [
      "| \u001B[35m15       \u001B[39m | \u001B[35m0.4226   \u001B[39m | \u001B[35m0.7044   \u001B[39m | \u001B[35m0.2794   \u001B[39m | \u001B[35m9.318    \u001B[39m | \u001B[35m245.3    \u001B[39m | \u001B[35m0.7513   \u001B[39m |\n"
     ]
    },
    {
     "name": "stderr",
     "output_type": "stream",
     "text": [
      "/home/unsi/anaconda3/envs/forpytorch/lib/python3.9/site-packages/xgboost/core.py:158: UserWarning: [23:21:23] WARNING: /workspace/src/learner.cc:740: \n",
      "Parameters: { \"use_label_encoder\" } are not used.\n",
      "\n",
      "  warnings.warn(smsg, UserWarning)\n"
     ]
    },
    {
     "name": "stdout",
     "output_type": "stream",
     "text": [
      "| \u001B[39m16       \u001B[39m | \u001B[39m0.4218   \u001B[39m | \u001B[39m1.0      \u001B[39m | \u001B[39m0.3      \u001B[39m | \u001B[39m8.212    \u001B[39m | \u001B[39m247.1    \u001B[39m | \u001B[39m1.0      \u001B[39m |\n"
     ]
    },
    {
     "name": "stderr",
     "output_type": "stream",
     "text": [
      "/home/unsi/anaconda3/envs/forpytorch/lib/python3.9/site-packages/xgboost/core.py:158: UserWarning: [23:21:28] WARNING: /workspace/src/learner.cc:740: \n",
      "Parameters: { \"use_label_encoder\" } are not used.\n",
      "\n",
      "  warnings.warn(smsg, UserWarning)\n"
     ]
    },
    {
     "name": "stdout",
     "output_type": "stream",
     "text": [
      "| \u001B[39m17       \u001B[39m | \u001B[39m0.3881   \u001B[39m | \u001B[39m0.6      \u001B[39m | \u001B[39m0.01     \u001B[39m | \u001B[39m10.0     \u001B[39m | \u001B[39m247.6    \u001B[39m | \u001B[39m0.6      \u001B[39m |\n"
     ]
    },
    {
     "name": "stderr",
     "output_type": "stream",
     "text": [
      "/home/unsi/anaconda3/envs/forpytorch/lib/python3.9/site-packages/xgboost/core.py:158: UserWarning: [23:21:43] WARNING: /workspace/src/learner.cc:740: \n",
      "Parameters: { \"use_label_encoder\" } are not used.\n",
      "\n",
      "  warnings.warn(smsg, UserWarning)\n"
     ]
    },
    {
     "name": "stdout",
     "output_type": "stream",
     "text": [
      "| \u001B[39m18       \u001B[39m | \u001B[39m0.4219   \u001B[39m | \u001B[39m0.899    \u001B[39m | \u001B[39m0.3      \u001B[39m | \u001B[39m8.474    \u001B[39m | \u001B[39m246.0    \u001B[39m | \u001B[39m0.9248   \u001B[39m |\n"
     ]
    },
    {
     "name": "stderr",
     "output_type": "stream",
     "text": [
      "/home/unsi/anaconda3/envs/forpytorch/lib/python3.9/site-packages/xgboost/core.py:158: UserWarning: [23:21:48] WARNING: /workspace/src/learner.cc:740: \n",
      "Parameters: { \"use_label_encoder\" } are not used.\n",
      "\n",
      "  warnings.warn(smsg, UserWarning)\n"
     ]
    },
    {
     "name": "stdout",
     "output_type": "stream",
     "text": [
      "| \u001B[39m19       \u001B[39m | \u001B[39m0.4163   \u001B[39m | \u001B[39m1.0      \u001B[39m | \u001B[39m0.3      \u001B[39m | \u001B[39m6.75     \u001B[39m | \u001B[39m246.7    \u001B[39m | \u001B[39m1.0      \u001B[39m |\n"
     ]
    },
    {
     "name": "stderr",
     "output_type": "stream",
     "text": [
      "/home/unsi/anaconda3/envs/forpytorch/lib/python3.9/site-packages/xgboost/core.py:158: UserWarning: [23:21:52] WARNING: /workspace/src/learner.cc:740: \n",
      "Parameters: { \"use_label_encoder\" } are not used.\n",
      "\n",
      "  warnings.warn(smsg, UserWarning)\n"
     ]
    },
    {
     "name": "stdout",
     "output_type": "stream",
     "text": [
      "| \u001B[39m20       \u001B[39m | \u001B[39m0.4214   \u001B[39m | \u001B[39m1.0      \u001B[39m | \u001B[39m0.3      \u001B[39m | \u001B[39m8.439    \u001B[39m | \u001B[39m244.4    \u001B[39m | \u001B[39m1.0      \u001B[39m |\n"
     ]
    },
    {
     "name": "stderr",
     "output_type": "stream",
     "text": [
      "/home/unsi/anaconda3/envs/forpytorch/lib/python3.9/site-packages/xgboost/core.py:158: UserWarning: [23:21:57] WARNING: /workspace/src/learner.cc:740: \n",
      "Parameters: { \"use_label_encoder\" } are not used.\n",
      "\n",
      "  warnings.warn(smsg, UserWarning)\n"
     ]
    },
    {
     "name": "stdout",
     "output_type": "stream",
     "text": [
      "| \u001B[39m21       \u001B[39m | \u001B[39m0.416    \u001B[39m | \u001B[39m1.0      \u001B[39m | \u001B[39m0.3      \u001B[39m | \u001B[39m6.777    \u001B[39m | \u001B[39m249.2    \u001B[39m | \u001B[39m1.0      \u001B[39m |\n"
     ]
    },
    {
     "name": "stderr",
     "output_type": "stream",
     "text": [
      "/home/unsi/anaconda3/envs/forpytorch/lib/python3.9/site-packages/xgboost/core.py:158: UserWarning: [23:22:01] WARNING: /workspace/src/learner.cc:740: \n",
      "Parameters: { \"use_label_encoder\" } are not used.\n",
      "\n",
      "  warnings.warn(smsg, UserWarning)\n"
     ]
    },
    {
     "name": "stdout",
     "output_type": "stream",
     "text": [
      "| \u001B[39m22       \u001B[39m | \u001B[39m0.4204   \u001B[39m | \u001B[39m0.6      \u001B[39m | \u001B[39m0.3      \u001B[39m | \u001B[39m10.0     \u001B[39m | \u001B[39m244.0    \u001B[39m | \u001B[39m0.6      \u001B[39m |\n"
     ]
    },
    {
     "name": "stderr",
     "output_type": "stream",
     "text": [
      "/home/unsi/anaconda3/envs/forpytorch/lib/python3.9/site-packages/xgboost/core.py:158: UserWarning: [23:22:15] WARNING: /workspace/src/learner.cc:740: \n",
      "Parameters: { \"use_label_encoder\" } are not used.\n",
      "\n",
      "  warnings.warn(smsg, UserWarning)\n"
     ]
    },
    {
     "name": "stdout",
     "output_type": "stream",
     "text": [
      "| \u001B[39m23       \u001B[39m | \u001B[39m0.4181   \u001B[39m | \u001B[39m0.899    \u001B[39m | \u001B[39m0.2557   \u001B[39m | \u001B[39m5.935    \u001B[39m | \u001B[39m240.8    \u001B[39m | \u001B[39m0.8599   \u001B[39m |\n"
     ]
    },
    {
     "name": "stderr",
     "output_type": "stream",
     "text": [
      "/home/unsi/anaconda3/envs/forpytorch/lib/python3.9/site-packages/xgboost/core.py:158: UserWarning: [23:22:19] WARNING: /workspace/src/learner.cc:740: \n",
      "Parameters: { \"use_label_encoder\" } are not used.\n",
      "\n",
      "  warnings.warn(smsg, UserWarning)\n"
     ]
    },
    {
     "name": "stdout",
     "output_type": "stream",
     "text": [
      "| \u001B[39m24       \u001B[39m | \u001B[39m0.4159   \u001B[39m | \u001B[39m0.7658   \u001B[39m | \u001B[39m0.2215   \u001B[39m | \u001B[39m8.059    \u001B[39m | \u001B[39m239.4    \u001B[39m | \u001B[39m0.728    \u001B[39m |\n"
     ]
    },
    {
     "name": "stderr",
     "output_type": "stream",
     "text": [
      "/home/unsi/anaconda3/envs/forpytorch/lib/python3.9/site-packages/xgboost/core.py:158: UserWarning: [23:22:27] WARNING: /workspace/src/learner.cc:740: \n",
      "Parameters: { \"use_label_encoder\" } are not used.\n",
      "\n",
      "  warnings.warn(smsg, UserWarning)\n"
     ]
    },
    {
     "name": "stdout",
     "output_type": "stream",
     "text": [
      "| \u001B[39m25       \u001B[39m | \u001B[39m0.4119   \u001B[39m | \u001B[39m0.6273   \u001B[39m | \u001B[39m0.2281   \u001B[39m | \u001B[39m5.225    \u001B[39m | \u001B[39m238.4    \u001B[39m | \u001B[39m0.9075   \u001B[39m |\n"
     ]
    },
    {
     "name": "stderr",
     "output_type": "stream",
     "text": [
      "/home/unsi/anaconda3/envs/forpytorch/lib/python3.9/site-packages/xgboost/core.py:158: UserWarning: [23:22:30] WARNING: /workspace/src/learner.cc:740: \n",
      "Parameters: { \"use_label_encoder\" } are not used.\n",
      "\n",
      "  warnings.warn(smsg, UserWarning)\n"
     ]
    },
    {
     "name": "stdout",
     "output_type": "stream",
     "text": [
      "| \u001B[39m26       \u001B[39m | \u001B[39m0.3848   \u001B[39m | \u001B[39m0.6164   \u001B[39m | \u001B[39m0.2492   \u001B[39m | \u001B[39m3.937    \u001B[39m | \u001B[39m242.2    \u001B[39m | \u001B[39m0.968    \u001B[39m |\n"
     ]
    },
    {
     "name": "stderr",
     "output_type": "stream",
     "text": [
      "/home/unsi/anaconda3/envs/forpytorch/lib/python3.9/site-packages/xgboost/core.py:158: UserWarning: [23:22:32] WARNING: /workspace/src/learner.cc:740: \n",
      "Parameters: { \"use_label_encoder\" } are not used.\n",
      "\n",
      "  warnings.warn(smsg, UserWarning)\n"
     ]
    },
    {
     "name": "stdout",
     "output_type": "stream",
     "text": [
      "| \u001B[39m27       \u001B[39m | \u001B[39m0.3564   \u001B[39m | \u001B[39m0.6954   \u001B[39m | \u001B[39m0.02307  \u001B[39m | \u001B[39m4.379    \u001B[39m | \u001B[39m250.9    \u001B[39m | \u001B[39m0.9684   \u001B[39m |\n"
     ]
    },
    {
     "name": "stderr",
     "output_type": "stream",
     "text": [
      "/home/unsi/anaconda3/envs/forpytorch/lib/python3.9/site-packages/xgboost/core.py:158: UserWarning: [23:22:36] WARNING: /workspace/src/learner.cc:740: \n",
      "Parameters: { \"use_label_encoder\" } are not used.\n",
      "\n",
      "  warnings.warn(smsg, UserWarning)\n"
     ]
    },
    {
     "name": "stdout",
     "output_type": "stream",
     "text": [
      "| \u001B[39m28       \u001B[39m | \u001B[39m0.4174   \u001B[39m | \u001B[39m0.8802   \u001B[39m | \u001B[39m0.1717   \u001B[39m | \u001B[39m9.99     \u001B[39m | \u001B[39m235.3    \u001B[39m | \u001B[39m0.6791   \u001B[39m |\n"
     ]
    },
    {
     "name": "stderr",
     "output_type": "stream",
     "text": [
      "/home/unsi/anaconda3/envs/forpytorch/lib/python3.9/site-packages/xgboost/core.py:158: UserWarning: [23:22:45] WARNING: /workspace/src/learner.cc:740: \n",
      "Parameters: { \"use_label_encoder\" } are not used.\n",
      "\n",
      "  warnings.warn(smsg, UserWarning)\n"
     ]
    },
    {
     "name": "stdout",
     "output_type": "stream",
     "text": [
      "| \u001B[39m29       \u001B[39m | \u001B[39m0.4016   \u001B[39m | \u001B[39m0.8117   \u001B[39m | \u001B[39m0.04214  \u001B[39m | \u001B[39m8.385    \u001B[39m | \u001B[39m232.5    \u001B[39m | \u001B[39m0.7671   \u001B[39m |\n"
     ]
    },
    {
     "name": "stderr",
     "output_type": "stream",
     "text": [
      "/home/unsi/anaconda3/envs/forpytorch/lib/python3.9/site-packages/xgboost/core.py:158: UserWarning: [23:22:52] WARNING: /workspace/src/learner.cc:740: \n",
      "Parameters: { \"use_label_encoder\" } are not used.\n",
      "\n",
      "  warnings.warn(smsg, UserWarning)\n"
     ]
    },
    {
     "name": "stdout",
     "output_type": "stream",
     "text": [
      "| \u001B[39m30       \u001B[39m | \u001B[39m0.41     \u001B[39m | \u001B[39m0.603    \u001B[39m | \u001B[39m0.04922  \u001B[39m | \u001B[39m7.806    \u001B[39m | \u001B[39m451.3    \u001B[39m | \u001B[39m0.7005   \u001B[39m |\n",
      "=====================================================================================\n",
      "{'target': np.float64(0.42263175314838874), 'params': {'colsample_bytree': np.float64(0.7043542740509768), 'learning_rate': np.float64(0.279410087140618), 'max_depth': np.float64(9.317696551933597), 'n_estimators': np.float64(245.32993757120178), 'subsample': np.float64(0.7513197507830295)}}\n"
     ]
    }
   ],
   "execution_count": 31
  },
  {
   "metadata": {
    "ExecuteTime": {
     "end_time": "2024-10-26T14:23:42.903653Z",
     "start_time": "2024-10-26T14:23:35.035946Z"
    }
   },
   "cell_type": "code",
   "source": [
    "from sklearn.metrics import classification_report, accuracy_score, precision_score, recall_score, f1_score, balanced_accuracy_score\n",
    "\n",
    "# 최적의 하이퍼파라미터를 사용한 최종 테스트 함수\n",
    "def final_test_with_best_params(optimizer, X_train, y_train, X_test, y_test):\n",
    "    # 베이지안 최적화로 얻은 최적의 하이퍼파라미터 추출\n",
    "    best_params = optimizer.max['params']\n",
    "    \n",
    "    # 최적의 하이퍼파라미터로 XGBoost 모델 학습\n",
    "    model = xgb.XGBClassifier(\n",
    "        learning_rate=best_params['learning_rate'],\n",
    "        n_estimators=int(best_params['n_estimators']),  # 정수로 변환\n",
    "        max_depth=int(best_params['max_depth']),  # 정수로 변환\n",
    "        subsample=best_params['subsample'],\n",
    "        colsample_bytree=best_params['colsample_bytree'],\n",
    "        objective='multi:softmax',\n",
    "        num_class=8,\n",
    "        eval_metric='mlogloss',\n",
    "        use_label_encoder=False,\n",
    "        device='cuda'\n",
    "    )\n",
    "    \n",
    "    # 최적 하이퍼파라미터로 모델 학습\n",
    "    model.fit(X_train, y_train)\n",
    "    \n",
    "    # 테스트 데이터로 예측\n",
    "    y_pred = model.predict(X_test)\n",
    "    \n",
    "    # 성능 지표 계산\n",
    "    accuracy = accuracy_score(y_test, y_pred)\n",
    "    precision = precision_score(y_test, y_pred, average='weighted')\n",
    "    recall = recall_score(y_test, y_pred, average='weighted')\n",
    "    f1 = f1_score(y_test, y_pred, average='weighted')\n",
    "    balanced_acc = balanced_accuracy_score(y_test, y_pred)\n",
    "    \n",
    "    # 결과 출력\n",
    "    print(f\"Final Model Performance:\")\n",
    "    print(f\"Accuracy: {accuracy:.4f}\")\n",
    "    print(f\"Precision: {precision:.4f}\")\n",
    "    print(f\"Recall: {recall:.4f}\")\n",
    "    print(f\"F1 Score: {f1:.4f}\")\n",
    "    print(f\"Balanced Accuracy Score: {balanced_acc:.4f}\")\n",
    "    \n",
    "    # Classification Report 출력\n",
    "    print(\"\\nClassification Report:\\n\", classification_report(y_test, y_pred))\n",
    "\n",
    "# 최종 테스트 실행\n",
    "final_test_with_best_params(optimizer, X_train_aug, y_train_aug, X_test, y_test)\n"
   ],
   "outputs": [
    {
     "name": "stderr",
     "output_type": "stream",
     "text": [
      "/home/unsi/anaconda3/envs/forpytorch/lib/python3.9/site-packages/xgboost/core.py:158: UserWarning: [23:23:35] WARNING: /workspace/src/learner.cc:740: \n",
      "Parameters: { \"use_label_encoder\" } are not used.\n",
      "\n",
      "  warnings.warn(smsg, UserWarning)\n"
     ]
    },
    {
     "name": "stdout",
     "output_type": "stream",
     "text": [
      "Final Model Performance:\n",
      "Accuracy: 0.7769\n",
      "Precision: 0.8064\n",
      "Recall: 0.7769\n",
      "F1 Score: 0.7898\n",
      "Balanced Accuracy Score: 0.4226\n",
      "\n",
      "Classification Report:\n",
      "               precision    recall  f1-score   support\n",
      "\n",
      "           0       0.09      0.12      0.11       719\n",
      "           1       0.24      0.30      0.27      1038\n",
      "           2       0.21      0.39      0.28       859\n",
      "           3       0.83      0.88      0.85      1936\n",
      "           4       0.04      0.02      0.03       238\n",
      "           5       0.42      0.46      0.44       173\n",
      "           6       0.50      0.63      0.56        30\n",
      "           7       0.24      0.15      0.19       111\n",
      "           8       0.90      0.85      0.87     20000\n",
      "\n",
      "    accuracy                           0.78     25104\n",
      "   macro avg       0.39      0.42      0.40     25104\n",
      "weighted avg       0.81      0.78      0.79     25104\n",
      "\n"
     ]
    }
   ],
   "execution_count": 33
  },
  {
   "metadata": {
    "ExecuteTime": {
     "end_time": "2024-10-26T14:15:29.770859466Z",
     "start_time": "2024-10-26T13:23:17.738075Z"
    }
   },
   "cell_type": "code",
   "source": "",
   "outputs": [],
   "execution_count": null
  }
 ]
}
