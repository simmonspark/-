{
 "cells": [
  {
   "cell_type": "code",
   "id": "22ea0b1b02caf0e7",
   "metadata": {
    "collapsed": true,
    "ExecuteTime": {
     "end_time": "2024-10-06T15:46:53.073918Z",
     "start_time": "2024-10-06T15:46:52.430726Z"
    }
   },
   "source": [
    "import numpy as np\n",
    "import pandas as pd\n",
    "import matplotlib.pyplot as plt\n",
    "from scipy.ndimage import median_filter, rotate, shift\n",
    "from sklearn.model_selection import train_test_split\n",
    "from sklearn.ensemble import RandomForestClassifier\n",
    "from sklearn.metrics import accuracy_score, precision_score, recall_score"
   ],
   "outputs": [],
   "execution_count": 1
  },
  {
   "metadata": {
    "ExecuteTime": {
     "end_time": "2024-10-06T15:47:14.081491Z",
     "start_time": "2024-10-06T15:46:53.074782Z"
    }
   },
   "cell_type": "code",
   "source": [
    "df = pd.read_pickle(\"/media/sien/DATA/다운로드/LSWMD.pkl\")#/media/sien/DATA/다운로드/LSWMD.pkl /Users/unsi/Downloads/LSWMD.pkl\n"
   ],
   "id": "3454bfaf00470b55",
   "outputs": [],
   "execution_count": 2
  },
  {
   "metadata": {
    "ExecuteTime": {
     "end_time": "2024-10-06T15:47:14.084414Z",
     "start_time": "2024-10-06T15:47:14.082349Z"
    }
   },
   "cell_type": "code",
   "outputs": [],
   "execution_count": 3,
   "source": [
    "class2idx = {\n",
    "    'Loc': 0,\n",
    "    'Edge-Loc': 1,\n",
    "    'Center': 2,\n",
    "    'Edge-Ring': 3, \n",
    "    'Scratch': 4,\n",
    "    'Random': 5, \n",
    "    'Near-full': 6,\n",
    "    'Donut': 7,\n",
    "    'pass' : 8\n",
    "}"
   ],
   "id": "7f128b7eb8545e1f"
  },
  {
   "metadata": {
    "ExecuteTime": {
     "end_time": "2024-10-06T15:47:14.086975Z",
     "start_time": "2024-10-06T15:47:14.085081Z"
    }
   },
   "cell_type": "code",
   "source": [
    "tmp = df.loc[0]"
   ],
   "id": "f79285fd9ae503ee",
   "outputs": [],
   "execution_count": 4
  },
  {
   "cell_type": "code",
   "outputs": [
    {
     "data": {
      "text/plain": "(45, 48)"
     },
     "execution_count": 5,
     "metadata": {},
     "output_type": "execute_result"
    }
   ],
   "source": [
    "tmp['waferMap'].shape"
   ],
   "metadata": {
    "collapsed": false,
    "ExecuteTime": {
     "end_time": "2024-10-06T15:47:14.091189Z",
     "start_time": "2024-10-06T15:47:14.087995Z"
    }
   },
   "id": "9a649d970cd0b01",
   "execution_count": 5
  },
  {
   "cell_type": "code",
   "outputs": [],
   "source": [
    "df = df[df['waferMap'].apply(lambda x: x.shape == (26, 26))]"
   ],
   "metadata": {
    "collapsed": false,
    "ExecuteTime": {
     "end_time": "2024-10-06T15:47:14.320264Z",
     "start_time": "2024-10-06T15:47:14.091797Z"
    }
   },
   "id": "cfe2763cd792387b",
   "execution_count": 6
  },
  {
   "cell_type": "code",
   "outputs": [
    {
     "data": {
      "text/plain": "                                                 waferMap  dieSize   lotName  \\\n150     [[0, 0, 0, 0, 0, 0, 0, 0, 0, 0, 2, 2, 1, 1, 2,...    533.0      lot7   \n151     [[0, 0, 0, 0, 0, 0, 0, 0, 0, 0, 2, 1, 1, 1, 1,...    533.0      lot7   \n152     [[0, 0, 0, 0, 0, 0, 0, 0, 0, 0, 1, 2, 1, 1, 1,...    533.0      lot7   \n153     [[0, 0, 0, 0, 0, 0, 0, 0, 0, 0, 1, 2, 2, 1, 1,...    533.0      lot7   \n154     [[0, 0, 0, 0, 0, 0, 0, 0, 0, 0, 2, 2, 2, 2, 2,...    533.0      lot7   \n...                                                   ...      ...       ...   \n679275  [[0, 0, 0, 0, 0, 0, 0, 0, 0, 0, 1, 2, 1, 1, 1,...    533.0  lot42180   \n679276  [[0, 0, 0, 0, 0, 0, 0, 0, 0, 0, 1, 2, 1, 2, 2,...    533.0  lot42180   \n679277  [[0, 0, 0, 0, 0, 0, 0, 0, 0, 0, 1, 1, 2, 1, 1,...    533.0  lot42180   \n679278  [[0, 0, 0, 0, 0, 0, 0, 0, 0, 0, 1, 2, 1, 1, 2,...    533.0  lot42180   \n679279  [[0, 0, 0, 0, 0, 0, 0, 0, 0, 0, 2, 2, 1, 2, 1,...    533.0  lot42180   \n\n        waferIndex trianTestLabel failureType  \n150            1.0   [[Training]]    [[none]]  \n151            2.0   [[Training]]    [[none]]  \n152            3.0   [[Training]]    [[none]]  \n153            4.0   [[Training]]    [[none]]  \n154            5.0   [[Training]]    [[none]]  \n...            ...            ...         ...  \n679275        20.0             []          []  \n679276        21.0             []          []  \n679277        22.0             []          []  \n679278        23.0             []          []  \n679279        24.0             []          []  \n\n[30078 rows x 6 columns]",
      "text/html": "<div>\n<style scoped>\n    .dataframe tbody tr th:only-of-type {\n        vertical-align: middle;\n    }\n\n    .dataframe tbody tr th {\n        vertical-align: top;\n    }\n\n    .dataframe thead th {\n        text-align: right;\n    }\n</style>\n<table border=\"1\" class=\"dataframe\">\n  <thead>\n    <tr style=\"text-align: right;\">\n      <th></th>\n      <th>waferMap</th>\n      <th>dieSize</th>\n      <th>lotName</th>\n      <th>waferIndex</th>\n      <th>trianTestLabel</th>\n      <th>failureType</th>\n    </tr>\n  </thead>\n  <tbody>\n    <tr>\n      <th>150</th>\n      <td>[[0, 0, 0, 0, 0, 0, 0, 0, 0, 0, 2, 2, 1, 1, 2,...</td>\n      <td>533.0</td>\n      <td>lot7</td>\n      <td>1.0</td>\n      <td>[[Training]]</td>\n      <td>[[none]]</td>\n    </tr>\n    <tr>\n      <th>151</th>\n      <td>[[0, 0, 0, 0, 0, 0, 0, 0, 0, 0, 2, 1, 1, 1, 1,...</td>\n      <td>533.0</td>\n      <td>lot7</td>\n      <td>2.0</td>\n      <td>[[Training]]</td>\n      <td>[[none]]</td>\n    </tr>\n    <tr>\n      <th>152</th>\n      <td>[[0, 0, 0, 0, 0, 0, 0, 0, 0, 0, 1, 2, 1, 1, 1,...</td>\n      <td>533.0</td>\n      <td>lot7</td>\n      <td>3.0</td>\n      <td>[[Training]]</td>\n      <td>[[none]]</td>\n    </tr>\n    <tr>\n      <th>153</th>\n      <td>[[0, 0, 0, 0, 0, 0, 0, 0, 0, 0, 1, 2, 2, 1, 1,...</td>\n      <td>533.0</td>\n      <td>lot7</td>\n      <td>4.0</td>\n      <td>[[Training]]</td>\n      <td>[[none]]</td>\n    </tr>\n    <tr>\n      <th>154</th>\n      <td>[[0, 0, 0, 0, 0, 0, 0, 0, 0, 0, 2, 2, 2, 2, 2,...</td>\n      <td>533.0</td>\n      <td>lot7</td>\n      <td>5.0</td>\n      <td>[[Training]]</td>\n      <td>[[none]]</td>\n    </tr>\n    <tr>\n      <th>...</th>\n      <td>...</td>\n      <td>...</td>\n      <td>...</td>\n      <td>...</td>\n      <td>...</td>\n      <td>...</td>\n    </tr>\n    <tr>\n      <th>679275</th>\n      <td>[[0, 0, 0, 0, 0, 0, 0, 0, 0, 0, 1, 2, 1, 1, 1,...</td>\n      <td>533.0</td>\n      <td>lot42180</td>\n      <td>20.0</td>\n      <td>[]</td>\n      <td>[]</td>\n    </tr>\n    <tr>\n      <th>679276</th>\n      <td>[[0, 0, 0, 0, 0, 0, 0, 0, 0, 0, 1, 2, 1, 2, 2,...</td>\n      <td>533.0</td>\n      <td>lot42180</td>\n      <td>21.0</td>\n      <td>[]</td>\n      <td>[]</td>\n    </tr>\n    <tr>\n      <th>679277</th>\n      <td>[[0, 0, 0, 0, 0, 0, 0, 0, 0, 0, 1, 1, 2, 1, 1,...</td>\n      <td>533.0</td>\n      <td>lot42180</td>\n      <td>22.0</td>\n      <td>[]</td>\n      <td>[]</td>\n    </tr>\n    <tr>\n      <th>679278</th>\n      <td>[[0, 0, 0, 0, 0, 0, 0, 0, 0, 0, 1, 2, 1, 1, 2,...</td>\n      <td>533.0</td>\n      <td>lot42180</td>\n      <td>23.0</td>\n      <td>[]</td>\n      <td>[]</td>\n    </tr>\n    <tr>\n      <th>679279</th>\n      <td>[[0, 0, 0, 0, 0, 0, 0, 0, 0, 0, 2, 2, 1, 2, 1,...</td>\n      <td>533.0</td>\n      <td>lot42180</td>\n      <td>24.0</td>\n      <td>[]</td>\n      <td>[]</td>\n    </tr>\n  </tbody>\n</table>\n<p>30078 rows × 6 columns</p>\n</div>"
     },
     "execution_count": 7,
     "metadata": {},
     "output_type": "execute_result"
    }
   ],
   "source": [
    "df"
   ],
   "metadata": {
    "collapsed": false,
    "ExecuteTime": {
     "end_time": "2024-10-06T15:47:14.392497Z",
     "start_time": "2024-10-06T15:47:14.350671Z"
    }
   },
   "id": "679452bf93c33f5d",
   "execution_count": 7
  },
  {
   "cell_type": "code",
   "outputs": [],
   "source": [
    "print(df['failureType'])"
   ],
   "metadata": {
    "collapsed": false,
    "is_executing": true
   },
   "id": "bc0a709e67a3b5e6",
   "execution_count": null
  },
  {
   "cell_type": "code",
   "outputs": [
    {
     "name": "stdout",
     "output_type": "stream",
     "text": [
      "150       8\n",
      "151       8\n",
      "152       8\n",
      "153       8\n",
      "154       8\n",
      "         ..\n",
      "679275    8\n",
      "679276    8\n",
      "679277    8\n",
      "679278    8\n",
      "679279    8\n",
      "Name: failureType, Length: 30078, dtype: int64\n"
     ]
    }
   ],
   "source": [
    "import numpy as np\n",
    "\n",
    "# class2idx 딕셔너리 (예시)\n",
    "class2idx = {\n",
    "    'Loc': 0,\n",
    "    'Edge-Loc': 1,\n",
    "    'Center': 2,\n",
    "    'Edge-Ring': 3, \n",
    "    'Scratch': 4,\n",
    "    'Random': 5, \n",
    "    'Near-full': 6,\n",
    "    'Donut': 7\n",
    "}\n",
    "\n",
    "def map_failure_type(x):\n",
    "    # 'none' 문자열 처리\n",
    "    if isinstance(x, str) and x == 'none':\n",
    "        return 8\n",
    "    # None 값 처리\n",
    "    elif x is None:\n",
    "        return 8\n",
    "    # 배열 처리\n",
    "    elif isinstance(x, np.ndarray):\n",
    "        # 배열이 비어있는지 확인\n",
    "        if x.size == 0:\n",
    "            return 8\n",
    "        else:\n",
    "            # 배열의 모든 값이 'none'인 경우 처리\n",
    "            first_element = str(x[0])\n",
    "            return class2idx.get(first_element, 8)\n",
    "    # 리스트 처리\n",
    "    elif isinstance(x, list):\n",
    "        # 리스트가 비어있는지 확인\n",
    "        if len(x) == 0:\n",
    "            return 8\n",
    "        else:\n",
    "            # 리스트의 첫 번째 값 사용\n",
    "            first_element = str(x[0])\n",
    "            return class2idx.get(first_element, 8)\n",
    "    # 그 외 (정상 값 또는 다른 형태의 값 처리)\n",
    "    else:\n",
    "        return class2idx.get(str(x), 8)\n",
    "\n",
    "# apply로 처리\n",
    "df['failureType'] = df['failureType'].apply(map_failure_type)\n",
    "\n",
    "# 결과 확인\n",
    "print(df['failureType'])\n"
   ],
   "metadata": {
    "collapsed": false,
    "ExecuteTime": {
     "end_time": "2024-10-06T15:47:14.514637Z",
     "start_time": "2024-10-06T15:47:14.413358Z"
    }
   },
   "id": "1488daf2b223ee10",
   "execution_count": 9
  },
  {
   "cell_type": "code",
   "outputs": [
    {
     "name": "stdout",
     "output_type": "stream",
     "text": [
      "<class 'pandas.core.frame.DataFrame'>\n",
      "Index: 30078 entries, 150 to 679279\n",
      "Data columns (total 6 columns):\n",
      " #   Column          Non-Null Count  Dtype  \n",
      "---  ------          --------------  -----  \n",
      " 0   waferMap        30078 non-null  object \n",
      " 1   dieSize         30078 non-null  float64\n",
      " 2   lotName         30078 non-null  object \n",
      " 3   waferIndex      30078 non-null  float64\n",
      " 4   trianTestLabel  30078 non-null  object \n",
      " 5   failureType     30078 non-null  int64  \n",
      "dtypes: float64(2), int64(1), object(3)\n",
      "memory usage: 1.6+ MB\n"
     ]
    }
   ],
   "source": [
    "df.info()"
   ],
   "metadata": {
    "collapsed": false,
    "ExecuteTime": {
     "end_time": "2024-10-06T15:47:14.522171Z",
     "start_time": "2024-10-06T15:47:14.515481Z"
    }
   },
   "id": "c0ee1d81f283edba",
   "execution_count": 10
  },
  {
   "cell_type": "code",
   "outputs": [],
   "source": [
    "feature = df['waferMap']\n",
    "target = df['failureType']"
   ],
   "metadata": {
    "collapsed": false,
    "ExecuteTime": {
     "end_time": "2024-10-06T15:47:14.524546Z",
     "start_time": "2024-10-06T15:47:14.522746Z"
    }
   },
   "id": "e35962c85550b90b",
   "execution_count": 11
  },
  {
   "metadata": {
    "ExecuteTime": {
     "end_time": "2024-10-06T15:47:14.529161Z",
     "start_time": "2024-10-06T15:47:14.525064Z"
    }
   },
   "cell_type": "code",
   "outputs": [],
   "execution_count": 12,
   "source": [
    "from scipy.ndimage import rotate\n",
    "\n",
    "# 1. 필터링 - 미디언 필터 적용\n",
    "def apply_median_filter_to_features(features, targets):\n",
    "    filtered_maps = []\n",
    "    corresponding_targets = []\n",
    "    \n",
    "    # feature와 target을 동시에 순회\n",
    "    for wafer_map, failure_type in zip(features, targets):\n",
    "        # 관심 있는 영역(1과 2)에만 필터 적용\n",
    "        filtered_map = np.where(wafer_map == 0, 0, median_filter(wafer_map, size=3))\n",
    "        \n",
    "        # 필터링된 결과와 target을 각각 리스트에 추가\n",
    "        filtered_maps.append(filtered_map)\n",
    "        corresponding_targets.append(failure_type)\n",
    "    \n",
    "    return np.array(filtered_maps), np.array(corresponding_targets)\n",
    "\n",
    "    \n",
    "\n",
    "# 2. 데이터 증강 - 회전 및 뒤집기\n",
    "def augment_data(wafer_maps, targets):\n",
    "    augmented_maps = []\n",
    "    augmented_targets = []\n",
    "    \n",
    "    # feature와 target을 동시에 순회\n",
    "    for wafer_map, target in zip(wafer_maps, targets):\n",
    "        # 원본 데이터는 항상 추가\n",
    "        augmented_maps.append(wafer_map)\n",
    "        augmented_targets.append(target)\n",
    "        \n",
    "        # 결함이 있는 클래스만 증강 (pass class 8 제외)\n",
    "        if target != 8:\n",
    "            # 90도 회전 데이터 추가\n",
    "            augmented_maps.append(rotate(wafer_map, 90))\n",
    "            augmented_targets.append(target)\n",
    "            \n",
    "            # 상하 뒤집기 데이터 추가\n",
    "            augmented_maps.append(np.flip(wafer_map, axis=0))\n",
    "            augmented_targets.append(target)\n",
    "            \n",
    "            # 좌우 뒤집기 데이터 추가\n",
    "            augmented_maps.append(np.flip(wafer_map, axis=1))\n",
    "            augmented_targets.append(target)\n",
    "    \n",
    "    return np.array(augmented_maps), np.array(augmented_targets)\n",
    "\n",
    "# 3. 특징 추출 - 결함 비율 및 결함 분포\n",
    "import numpy as np\n",
    "\n",
    "# 특징 추출 함수\n",
    "def extract_features(wafer_maps):\n",
    "    features = []\n",
    "    for wafer_map in wafer_maps:\n",
    "        # 전체 die의 개수\n",
    "        total_die = np.sum(wafer_map > 0)\n",
    "        \n",
    "        # 결함이 있는 die의 개수\n",
    "        defect_die = np.sum(wafer_map == 2)\n",
    "        \n",
    "        # 결함 비율 계산\n",
    "        defect_ratio = defect_die / total_die if total_die > 0 else 0\n",
    "        \n",
    "        # 결함이 중앙에 집중되었는지, 가장자리에 집중되었는지 확인\n",
    "        center_region = wafer_map[9:17, 9:17]  # (26, 26) 해상도에 맞는 중앙 영역\n",
    "        center_defect_ratio = np.sum(center_region == 2) / defect_die if defect_die > 0 else 0\n",
    "        \n",
    "        # 특징 리스트에 추가 (결함 비율, 중앙 결함 비율)\n",
    "        features.append([defect_ratio, center_defect_ratio])\n",
    "    \n",
    "    return np.array(features)"
   ],
   "id": "552fc4e0f00b94f2"
  },
  {
   "cell_type": "code",
   "outputs": [],
   "source": [
    "filtered_features, filtered_targets = apply_median_filter_to_features(feature, target)"
   ],
   "metadata": {
    "collapsed": false,
    "ExecuteTime": {
     "end_time": "2024-10-06T15:47:15.429292Z",
     "start_time": "2024-10-06T15:47:14.529622Z"
    }
   },
   "id": "50ce9fbad21bb606",
   "execution_count": 13
  },
  {
   "cell_type": "code",
   "outputs": [
    {
     "name": "stdout",
     "output_type": "stream",
     "text": [
      "mean :  0.8029313134961527\n",
      "std :  0.4337232638426162\n",
      "min :  0\n",
      "max :  2\n"
     ]
    }
   ],
   "source": [
    "print('mean : ',filtered_features.mean())\n",
    "print('std : ',filtered_features.std())\n",
    "print('min : ',filtered_features.min())\n",
    "print('max : ',filtered_features.max())"
   ],
   "metadata": {
    "collapsed": false,
    "ExecuteTime": {
     "end_time": "2024-10-06T15:47:15.487481Z",
     "start_time": "2024-10-06T15:47:15.430442Z"
    }
   },
   "id": "3d85997973e4412c",
   "execution_count": 14
  },
  {
   "cell_type": "code",
   "outputs": [
    {
     "data": {
      "text/plain": "array([[0.01313321, 0.        ],\n       [0.00750469, 0.        ],\n       [0.00562852, 0.66666667],\n       ...,\n       [0.00938086, 0.4       ],\n       [0.06003752, 0.03125   ],\n       [0.00562852, 0.        ]])"
     },
     "execution_count": 15,
     "metadata": {},
     "output_type": "execute_result"
    }
   ],
   "source": [
    "extract_features(filtered_features)"
   ],
   "metadata": {
    "collapsed": false,
    "ExecuteTime": {
     "end_time": "2024-10-06T15:47:15.734024Z",
     "start_time": "2024-10-06T15:47:15.488253Z"
    }
   },
   "id": "dc9a8980edc0bd13",
   "execution_count": 15
  },
  {
   "cell_type": "code",
   "outputs": [
    {
     "name": "stdout",
     "output_type": "stream",
     "text": [
      "22558\n",
      "22558\n"
     ]
    }
   ],
   "source": [
    "from sklearn.model_selection import train_test_split\n",
    "\n",
    "X_train,X_test, Y_train, Y_test = train_test_split(filtered_features,filtered_targets,shuffle=True,random_state=123,stratify=filtered_targets)\n",
    "print(X_train.shape[0])\n",
    "X_train, Y_train = augment_data(X_train, Y_train)\n",
    "print(X_train.shape[0])"
   ],
   "metadata": {
    "collapsed": false,
    "ExecuteTime": {
     "end_time": "2024-10-06T15:47:15.751516Z",
     "start_time": "2024-10-06T15:47:15.734648Z"
    }
   },
   "id": "74cbfe59321da336",
   "execution_count": 16
  },
  {
   "cell_type": "code",
   "outputs": [
    {
     "data": {
      "text/plain": "array([], dtype=int64)"
     },
     "execution_count": 17,
     "metadata": {},
     "output_type": "execute_result"
    }
   ],
   "source": [
    "Y_train[Y_train!=8]"
   ],
   "metadata": {
    "collapsed": false,
    "ExecuteTime": {
     "end_time": "2024-10-06T15:47:15.754679Z",
     "start_time": "2024-10-06T15:47:15.752373Z"
    }
   },
   "id": "b64546617471ac4f",
   "execution_count": 17
  },
  {
   "metadata": {
    "ExecuteTime": {
     "end_time": "2024-10-06T15:47:16.026495Z",
     "start_time": "2024-10-06T15:47:15.755197Z"
    }
   },
   "cell_type": "code",
   "outputs": [
    {
     "ename": "NameError",
     "evalue": "name 'generate_sample_data' is not defined",
     "output_type": "error",
     "traceback": [
      "\u001B[0;31m---------------------------------------------------------------------------\u001B[0m",
      "\u001B[0;31mNameError\u001B[0m                                 Traceback (most recent call last)",
      "Cell \u001B[0;32mIn[18], line 2\u001B[0m\n\u001B[1;32m      1\u001B[0m \u001B[38;5;66;03m# 4. 데이터 로드 및 전처리\u001B[39;00m\n\u001B[0;32m----> 2\u001B[0m wafer_maps, labels \u001B[38;5;241m=\u001B[39m \u001B[43mgenerate_sample_data\u001B[49m()\n\u001B[1;32m      3\u001B[0m filtered_wafer_maps \u001B[38;5;241m=\u001B[39m apply_median_filter(wafer_maps)\n\u001B[1;32m      4\u001B[0m augmented_wafer_maps \u001B[38;5;241m=\u001B[39m augment_data(filtered_wafer_maps)\n",
      "\u001B[0;31mNameError\u001B[0m: name 'generate_sample_data' is not defined"
     ]
    }
   ],
   "execution_count": 18,
   "source": [
    "\n",
    "# 4. 데이터 로드 및 전처리\n",
    "wafer_maps, labels = generate_sample_data()\n",
    "filtered_wafer_maps = apply_median_filter(wafer_maps)\n",
    "augmented_wafer_maps = augment_data(filtered_wafer_maps)\n",
    "augmented_labels = np.tile(labels, 4)  # 증강한 데이터에 맞춰 레이블도 확장\n",
    "\n",
    "# 5. 특징 추출\n",
    "features = extract_features(augmented_wafer_maps)\n",
    "\n",
    "# 6. 훈련/테스트 데이터 분리\n",
    "X_train, X_test, y_train, y_test = train_test_split(features, augmented_labels, test_size=0.2, random_state=42)\n",
    "\n",
    "# 7. 머신러닝 모델 - Random Forest\n",
    "model = RandomForestClassifier(n_estimators=100, random_state=42)\n",
    "model.fit(X_train, y_train)\n",
    "\n",
    "# 8. 성능 평가\n",
    "y_pred = model.predict(X_test)\n",
    "accuracy = accuracy_score(y_test, y_pred)\n",
    "precision = precision_score(y_test, y_pred)\n",
    "recall = recall_score(y_test, y_pred)\n",
    "\n",
    "print(f'Accuracy: {accuracy:.4f}')\n",
    "print(f'Precision: {precision:.4f}')\n",
    "print(f'Recall: {recall:.4f}')\n"
   ],
   "id": "initial_id"
  }
 ],
 "metadata": {
  "kernelspec": {
   "display_name": "Python 3",
   "language": "python",
   "name": "python3"
  },
  "language_info": {
   "codemirror_mode": {
    "name": "ipython",
    "version": 2
   },
   "file_extension": ".py",
   "mimetype": "text/x-python",
   "name": "python",
   "nbconvert_exporter": "python",
   "pygments_lexer": "ipython2",
   "version": "2.7.6"
  }
 },
 "nbformat": 4,
 "nbformat_minor": 5
}
