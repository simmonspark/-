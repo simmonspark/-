{
 "cells": [
  {
   "cell_type": "code",
   "id": "22ea0b1b02caf0e7",
   "metadata": {
    "collapsed": true,
    "ExecuteTime": {
     "end_time": "2024-10-06T16:44:10.811252Z",
     "start_time": "2024-10-06T16:44:10.807955Z"
    }
   },
   "source": [
    "import numpy as np\n",
    "import pandas as pd\n",
    "import matplotlib.pyplot as plt\n",
    "from scipy.ndimage import median_filter, rotate, shift\n",
    "from sklearn.model_selection import train_test_split\n",
    "from sklearn.ensemble import RandomForestClassifier\n",
    "from sklearn.metrics import accuracy_score, precision_score, recall_score"
   ],
   "outputs": [],
   "execution_count": 59
  },
  {
   "metadata": {
    "ExecuteTime": {
     "end_time": "2024-10-06T16:44:33.509248Z",
     "start_time": "2024-10-06T16:44:10.846678Z"
    }
   },
   "cell_type": "code",
   "source": "df = pd.read_pickle(\"/Users/unsi/Downloads/LSWMD.pkl\")#/media/sien/DATA/다운로드/LSWMD.pkl /Users/unsi/Downloads/LSWMD.pkl\n",
   "id": "3454bfaf00470b55",
   "outputs": [],
   "execution_count": 60
  },
  {
   "metadata": {
    "ExecuteTime": {
     "end_time": "2024-10-06T16:44:33.514073Z",
     "start_time": "2024-10-06T16:44:33.511230Z"
    }
   },
   "cell_type": "code",
   "source": [
    "class2idx = {\n",
    "    'Loc': 0,\n",
    "    'Edge-Loc': 1,\n",
    "    'Center': 2,\n",
    "    'Edge-Ring': 3, \n",
    "    'Scratch': 4,\n",
    "    'Random': 5, \n",
    "    'Near-full': 6,\n",
    "    'Donut': 7,\n",
    "    'pass' : 8\n",
    "}"
   ],
   "id": "7f128b7eb8545e1f",
   "outputs": [],
   "execution_count": 61
  },
  {
   "metadata": {
    "ExecuteTime": {
     "end_time": "2024-10-06T16:44:33.517349Z",
     "start_time": "2024-10-06T16:44:33.514957Z"
    }
   },
   "cell_type": "code",
   "source": [
    "tmp = df.loc[0]"
   ],
   "id": "f79285fd9ae503ee",
   "outputs": [],
   "execution_count": 62
  },
  {
   "cell_type": "code",
   "source": [
    "tmp['waferMap'].shape"
   ],
   "metadata": {
    "collapsed": false,
    "ExecuteTime": {
     "end_time": "2024-10-06T16:44:33.521781Z",
     "start_time": "2024-10-06T16:44:33.519109Z"
    }
   },
   "id": "9a649d970cd0b01",
   "outputs": [
    {
     "data": {
      "text/plain": [
       "(45, 48)"
      ]
     },
     "execution_count": 63,
     "metadata": {},
     "output_type": "execute_result"
    }
   ],
   "execution_count": 63
  },
  {
   "cell_type": "code",
   "source": [
    "df = df[df['waferMap'].apply(lambda x: x.shape == (26, 26))]"
   ],
   "metadata": {
    "collapsed": false,
    "ExecuteTime": {
     "end_time": "2024-10-06T16:44:34.259296Z",
     "start_time": "2024-10-06T16:44:33.522395Z"
    }
   },
   "id": "cfe2763cd792387b",
   "outputs": [],
   "execution_count": 64
  },
  {
   "cell_type": "code",
   "source": [
    "df"
   ],
   "metadata": {
    "collapsed": false,
    "ExecuteTime": {
     "end_time": "2024-10-06T16:44:34.300176Z",
     "start_time": "2024-10-06T16:44:34.260393Z"
    }
   },
   "id": "679452bf93c33f5d",
   "outputs": [
    {
     "data": {
      "text/plain": [
       "                                                 waferMap  dieSize   lotName  \\\n",
       "150     [[0, 0, 0, 0, 0, 0, 0, 0, 0, 0, 2, 2, 1, 1, 2,...    533.0      lot7   \n",
       "151     [[0, 0, 0, 0, 0, 0, 0, 0, 0, 0, 2, 1, 1, 1, 1,...    533.0      lot7   \n",
       "152     [[0, 0, 0, 0, 0, 0, 0, 0, 0, 0, 1, 2, 1, 1, 1,...    533.0      lot7   \n",
       "153     [[0, 0, 0, 0, 0, 0, 0, 0, 0, 0, 1, 2, 2, 1, 1,...    533.0      lot7   \n",
       "154     [[0, 0, 0, 0, 0, 0, 0, 0, 0, 0, 2, 2, 2, 2, 2,...    533.0      lot7   \n",
       "...                                                   ...      ...       ...   \n",
       "679275  [[0, 0, 0, 0, 0, 0, 0, 0, 0, 0, 1, 2, 1, 1, 1,...    533.0  lot42180   \n",
       "679276  [[0, 0, 0, 0, 0, 0, 0, 0, 0, 0, 1, 2, 1, 2, 2,...    533.0  lot42180   \n",
       "679277  [[0, 0, 0, 0, 0, 0, 0, 0, 0, 0, 1, 1, 2, 1, 1,...    533.0  lot42180   \n",
       "679278  [[0, 0, 0, 0, 0, 0, 0, 0, 0, 0, 1, 2, 1, 1, 2,...    533.0  lot42180   \n",
       "679279  [[0, 0, 0, 0, 0, 0, 0, 0, 0, 0, 2, 2, 1, 2, 1,...    533.0  lot42180   \n",
       "\n",
       "        waferIndex trianTestLabel failureType  \n",
       "150            1.0   [[Training]]    [[none]]  \n",
       "151            2.0   [[Training]]    [[none]]  \n",
       "152            3.0   [[Training]]    [[none]]  \n",
       "153            4.0   [[Training]]    [[none]]  \n",
       "154            5.0   [[Training]]    [[none]]  \n",
       "...            ...            ...         ...  \n",
       "679275        20.0             []          []  \n",
       "679276        21.0             []          []  \n",
       "679277        22.0             []          []  \n",
       "679278        23.0             []          []  \n",
       "679279        24.0             []          []  \n",
       "\n",
       "[30078 rows x 6 columns]"
      ],
      "text/html": [
       "<div>\n",
       "<style scoped>\n",
       "    .dataframe tbody tr th:only-of-type {\n",
       "        vertical-align: middle;\n",
       "    }\n",
       "\n",
       "    .dataframe tbody tr th {\n",
       "        vertical-align: top;\n",
       "    }\n",
       "\n",
       "    .dataframe thead th {\n",
       "        text-align: right;\n",
       "    }\n",
       "</style>\n",
       "<table border=\"1\" class=\"dataframe\">\n",
       "  <thead>\n",
       "    <tr style=\"text-align: right;\">\n",
       "      <th></th>\n",
       "      <th>waferMap</th>\n",
       "      <th>dieSize</th>\n",
       "      <th>lotName</th>\n",
       "      <th>waferIndex</th>\n",
       "      <th>trianTestLabel</th>\n",
       "      <th>failureType</th>\n",
       "    </tr>\n",
       "  </thead>\n",
       "  <tbody>\n",
       "    <tr>\n",
       "      <th>150</th>\n",
       "      <td>[[0, 0, 0, 0, 0, 0, 0, 0, 0, 0, 2, 2, 1, 1, 2,...</td>\n",
       "      <td>533.0</td>\n",
       "      <td>lot7</td>\n",
       "      <td>1.0</td>\n",
       "      <td>[[Training]]</td>\n",
       "      <td>[[none]]</td>\n",
       "    </tr>\n",
       "    <tr>\n",
       "      <th>151</th>\n",
       "      <td>[[0, 0, 0, 0, 0, 0, 0, 0, 0, 0, 2, 1, 1, 1, 1,...</td>\n",
       "      <td>533.0</td>\n",
       "      <td>lot7</td>\n",
       "      <td>2.0</td>\n",
       "      <td>[[Training]]</td>\n",
       "      <td>[[none]]</td>\n",
       "    </tr>\n",
       "    <tr>\n",
       "      <th>152</th>\n",
       "      <td>[[0, 0, 0, 0, 0, 0, 0, 0, 0, 0, 1, 2, 1, 1, 1,...</td>\n",
       "      <td>533.0</td>\n",
       "      <td>lot7</td>\n",
       "      <td>3.0</td>\n",
       "      <td>[[Training]]</td>\n",
       "      <td>[[none]]</td>\n",
       "    </tr>\n",
       "    <tr>\n",
       "      <th>153</th>\n",
       "      <td>[[0, 0, 0, 0, 0, 0, 0, 0, 0, 0, 1, 2, 2, 1, 1,...</td>\n",
       "      <td>533.0</td>\n",
       "      <td>lot7</td>\n",
       "      <td>4.0</td>\n",
       "      <td>[[Training]]</td>\n",
       "      <td>[[none]]</td>\n",
       "    </tr>\n",
       "    <tr>\n",
       "      <th>154</th>\n",
       "      <td>[[0, 0, 0, 0, 0, 0, 0, 0, 0, 0, 2, 2, 2, 2, 2,...</td>\n",
       "      <td>533.0</td>\n",
       "      <td>lot7</td>\n",
       "      <td>5.0</td>\n",
       "      <td>[[Training]]</td>\n",
       "      <td>[[none]]</td>\n",
       "    </tr>\n",
       "    <tr>\n",
       "      <th>...</th>\n",
       "      <td>...</td>\n",
       "      <td>...</td>\n",
       "      <td>...</td>\n",
       "      <td>...</td>\n",
       "      <td>...</td>\n",
       "      <td>...</td>\n",
       "    </tr>\n",
       "    <tr>\n",
       "      <th>679275</th>\n",
       "      <td>[[0, 0, 0, 0, 0, 0, 0, 0, 0, 0, 1, 2, 1, 1, 1,...</td>\n",
       "      <td>533.0</td>\n",
       "      <td>lot42180</td>\n",
       "      <td>20.0</td>\n",
       "      <td>[]</td>\n",
       "      <td>[]</td>\n",
       "    </tr>\n",
       "    <tr>\n",
       "      <th>679276</th>\n",
       "      <td>[[0, 0, 0, 0, 0, 0, 0, 0, 0, 0, 1, 2, 1, 2, 2,...</td>\n",
       "      <td>533.0</td>\n",
       "      <td>lot42180</td>\n",
       "      <td>21.0</td>\n",
       "      <td>[]</td>\n",
       "      <td>[]</td>\n",
       "    </tr>\n",
       "    <tr>\n",
       "      <th>679277</th>\n",
       "      <td>[[0, 0, 0, 0, 0, 0, 0, 0, 0, 0, 1, 1, 2, 1, 1,...</td>\n",
       "      <td>533.0</td>\n",
       "      <td>lot42180</td>\n",
       "      <td>22.0</td>\n",
       "      <td>[]</td>\n",
       "      <td>[]</td>\n",
       "    </tr>\n",
       "    <tr>\n",
       "      <th>679278</th>\n",
       "      <td>[[0, 0, 0, 0, 0, 0, 0, 0, 0, 0, 1, 2, 1, 1, 2,...</td>\n",
       "      <td>533.0</td>\n",
       "      <td>lot42180</td>\n",
       "      <td>23.0</td>\n",
       "      <td>[]</td>\n",
       "      <td>[]</td>\n",
       "    </tr>\n",
       "    <tr>\n",
       "      <th>679279</th>\n",
       "      <td>[[0, 0, 0, 0, 0, 0, 0, 0, 0, 0, 2, 2, 1, 2, 1,...</td>\n",
       "      <td>533.0</td>\n",
       "      <td>lot42180</td>\n",
       "      <td>24.0</td>\n",
       "      <td>[]</td>\n",
       "      <td>[]</td>\n",
       "    </tr>\n",
       "  </tbody>\n",
       "</table>\n",
       "<p>30078 rows × 6 columns</p>\n",
       "</div>"
      ]
     },
     "execution_count": 65,
     "metadata": {},
     "output_type": "execute_result"
    }
   ],
   "execution_count": 65
  },
  {
   "cell_type": "code",
   "source": "",
   "metadata": {
    "collapsed": false,
    "is_executing": true,
    "ExecuteTime": {
     "end_time": "2024-10-06T16:44:34.302122Z",
     "start_time": "2024-10-06T16:44:34.300878Z"
    }
   },
   "id": "bc0a709e67a3b5e6",
   "outputs": [],
   "execution_count": 65
  },
  {
   "cell_type": "code",
   "source": [
    "import numpy as np\n",
    "\n",
    "# class2idx 딕셔너리 (예시)\n",
    "class2idx = {\n",
    "    'Loc': 0,\n",
    "    'Edge-Loc': 1,\n",
    "    'Center': 2,\n",
    "    'Edge-Ring': 3, \n",
    "    'Scratch': 4,\n",
    "    'Random': 5, \n",
    "    'Near-full': 6,\n",
    "    'Donut': 7\n",
    "}\n",
    "\n",
    "'''def map_failure_type(x):\n",
    "    # 'none' 문자열 처리\n",
    "    if isinstance(x, str) and x == 'none':\n",
    "        return 8\n",
    "    # None 값 처리\n",
    "    elif x is None:\n",
    "        return 8\n",
    "    # 배열 처리\n",
    "    elif isinstance(x, np.ndarray):\n",
    "        # 배열이 비어있는지 확인\n",
    "        if x.size == 0:\n",
    "            return 8\n",
    "        else:\n",
    "            # 배열의 모든 값이 'none'인 경우 처리\n",
    "            first_element = str(x[0])\n",
    "            return class2idx.get(first_element, 8)\n",
    "    # 리스트 처리\n",
    "    elif isinstance(x, list):\n",
    "        # 리스트가 비어있는지 확인\n",
    "        if len(x) == 0:\n",
    "            return 8\n",
    "        else:\n",
    "            # 리스트의 첫 번째 값 사용\n",
    "            first_element = str(x[0])\n",
    "            return class2idx.get(first_element, 8)\n",
    "    # 그 외 (정상 값 또는 다른 형태의 값 처리)\n",
    "    else:\n",
    "        return class2idx.get(str(x), 8)'''\n",
    "def map_failure_type(failure_list):\n",
    "    # numpy array를 리스트로 변환\n",
    "    if isinstance(failure_list, np.ndarray):\n",
    "        failure_list = failure_list.tolist()\n",
    "    \n",
    "    # 리스트 안에 리스트가 있는 경우 첫 번째 원소를 가져오기\n",
    "    while isinstance(failure_list, list) and len(failure_list) > 0 and isinstance(failure_list[0], list):\n",
    "        failure_list = failure_list[0]\n",
    "        \n",
    "    if not failure_list or failure_list[0] in ['none', None]:\n",
    "        return 8\n",
    "    return class2idx.get(failure_list[0], 8)\n",
    "\n",
    "# apply로 처리\n",
    "df['failureType'] = df['failureType'].apply(map_failure_type)\n",
    "\n",
    "# 결과 확인\n",
    "print(df['failureType'])\n"
   ],
   "metadata": {
    "collapsed": false,
    "ExecuteTime": {
     "end_time": "2024-10-06T16:44:34.318967Z",
     "start_time": "2024-10-06T16:44:34.302828Z"
    }
   },
   "id": "1488daf2b223ee10",
   "outputs": [
    {
     "name": "stdout",
     "output_type": "stream",
     "text": [
      "150       8\n",
      "151       8\n",
      "152       8\n",
      "153       8\n",
      "154       8\n",
      "         ..\n",
      "679275    8\n",
      "679276    8\n",
      "679277    8\n",
      "679278    8\n",
      "679279    8\n",
      "Name: failureType, Length: 30078, dtype: int64\n"
     ]
    }
   ],
   "execution_count": 66
  },
  {
   "cell_type": "code",
   "source": "df.info()",
   "metadata": {
    "collapsed": false,
    "ExecuteTime": {
     "end_time": "2024-10-06T16:44:34.332691Z",
     "start_time": "2024-10-06T16:44:34.319587Z"
    }
   },
   "id": "c0ee1d81f283edba",
   "outputs": [
    {
     "name": "stdout",
     "output_type": "stream",
     "text": [
      "<class 'pandas.core.frame.DataFrame'>\n",
      "Index: 30078 entries, 150 to 679279\n",
      "Data columns (total 6 columns):\n",
      " #   Column          Non-Null Count  Dtype  \n",
      "---  ------          --------------  -----  \n",
      " 0   waferMap        30078 non-null  object \n",
      " 1   dieSize         30078 non-null  float64\n",
      " 2   lotName         30078 non-null  object \n",
      " 3   waferIndex      30078 non-null  float64\n",
      " 4   trianTestLabel  30078 non-null  object \n",
      " 5   failureType     30078 non-null  int64  \n",
      "dtypes: float64(2), int64(1), object(3)\n",
      "memory usage: 1.6+ MB\n"
     ]
    }
   ],
   "execution_count": 67
  },
  {
   "metadata": {
    "ExecuteTime": {
     "end_time": "2024-10-06T16:44:34.374790Z",
     "start_time": "2024-10-06T16:44:34.334688Z"
    }
   },
   "cell_type": "code",
   "source": "df[df['failureType'] != 8]",
   "id": "d27ab134f1b17f6b",
   "outputs": [
    {
     "data": {
      "text/plain": [
       "                                                 waferMap  dieSize   lotName  \\\n",
       "186     [[0, 0, 0, 0, 0, 0, 0, 0, 0, 0, 2, 2, 2, 1, 1,...    533.0      lot8   \n",
       "264     [[0, 0, 0, 0, 0, 0, 0, 0, 0, 0, 1, 2, 1, 2, 1,...    533.0     lot11   \n",
       "377     [[0, 0, 0, 0, 0, 0, 0, 0, 0, 0, 2, 1, 1, 2, 2,...    533.0     lot16   \n",
       "381     [[0, 0, 0, 0, 0, 0, 0, 0, 0, 0, 2, 2, 2, 2, 2,...    533.0     lot16   \n",
       "397     [[0, 0, 0, 0, 0, 0, 0, 0, 0, 0, 2, 1, 1, 2, 2,...    533.0     lot16   \n",
       "...                                                   ...      ...       ...   \n",
       "679154  [[0, 0, 0, 0, 0, 0, 0, 0, 0, 0, 2, 2, 1, 1, 1,...    533.0  lot42175   \n",
       "679165  [[0, 0, 0, 0, 0, 0, 0, 0, 0, 0, 2, 2, 1, 1, 1,...    533.0  lot42176   \n",
       "679167  [[0, 0, 0, 0, 0, 0, 0, 0, 0, 0, 2, 2, 2, 1, 2,...    533.0  lot42176   \n",
       "679176  [[0, 0, 0, 0, 0, 0, 0, 0, 0, 0, 2, 2, 1, 1, 1,...    533.0  lot42176   \n",
       "679219  [[0, 0, 0, 0, 0, 0, 0, 0, 0, 0, 1, 2, 1, 1, 1,...    533.0  lot42178   \n",
       "\n",
       "        waferIndex trianTestLabel  failureType  \n",
       "186           12.0   [[Training]]            3  \n",
       "264           15.0   [[Training]]            1  \n",
       "377            3.0   [[Training]]            1  \n",
       "381            7.0   [[Training]]            1  \n",
       "397           23.0   [[Training]]            1  \n",
       "...            ...            ...          ...  \n",
       "679154        24.0       [[Test]]            0  \n",
       "679165        10.0       [[Test]]            2  \n",
       "679167        12.0       [[Test]]            1  \n",
       "679176        21.0       [[Test]]            1  \n",
       "679219        14.0       [[Test]]            4  \n",
       "\n",
       "[877 rows x 6 columns]"
      ],
      "text/html": [
       "<div>\n",
       "<style scoped>\n",
       "    .dataframe tbody tr th:only-of-type {\n",
       "        vertical-align: middle;\n",
       "    }\n",
       "\n",
       "    .dataframe tbody tr th {\n",
       "        vertical-align: top;\n",
       "    }\n",
       "\n",
       "    .dataframe thead th {\n",
       "        text-align: right;\n",
       "    }\n",
       "</style>\n",
       "<table border=\"1\" class=\"dataframe\">\n",
       "  <thead>\n",
       "    <tr style=\"text-align: right;\">\n",
       "      <th></th>\n",
       "      <th>waferMap</th>\n",
       "      <th>dieSize</th>\n",
       "      <th>lotName</th>\n",
       "      <th>waferIndex</th>\n",
       "      <th>trianTestLabel</th>\n",
       "      <th>failureType</th>\n",
       "    </tr>\n",
       "  </thead>\n",
       "  <tbody>\n",
       "    <tr>\n",
       "      <th>186</th>\n",
       "      <td>[[0, 0, 0, 0, 0, 0, 0, 0, 0, 0, 2, 2, 2, 1, 1,...</td>\n",
       "      <td>533.0</td>\n",
       "      <td>lot8</td>\n",
       "      <td>12.0</td>\n",
       "      <td>[[Training]]</td>\n",
       "      <td>3</td>\n",
       "    </tr>\n",
       "    <tr>\n",
       "      <th>264</th>\n",
       "      <td>[[0, 0, 0, 0, 0, 0, 0, 0, 0, 0, 1, 2, 1, 2, 1,...</td>\n",
       "      <td>533.0</td>\n",
       "      <td>lot11</td>\n",
       "      <td>15.0</td>\n",
       "      <td>[[Training]]</td>\n",
       "      <td>1</td>\n",
       "    </tr>\n",
       "    <tr>\n",
       "      <th>377</th>\n",
       "      <td>[[0, 0, 0, 0, 0, 0, 0, 0, 0, 0, 2, 1, 1, 2, 2,...</td>\n",
       "      <td>533.0</td>\n",
       "      <td>lot16</td>\n",
       "      <td>3.0</td>\n",
       "      <td>[[Training]]</td>\n",
       "      <td>1</td>\n",
       "    </tr>\n",
       "    <tr>\n",
       "      <th>381</th>\n",
       "      <td>[[0, 0, 0, 0, 0, 0, 0, 0, 0, 0, 2, 2, 2, 2, 2,...</td>\n",
       "      <td>533.0</td>\n",
       "      <td>lot16</td>\n",
       "      <td>7.0</td>\n",
       "      <td>[[Training]]</td>\n",
       "      <td>1</td>\n",
       "    </tr>\n",
       "    <tr>\n",
       "      <th>397</th>\n",
       "      <td>[[0, 0, 0, 0, 0, 0, 0, 0, 0, 0, 2, 1, 1, 2, 2,...</td>\n",
       "      <td>533.0</td>\n",
       "      <td>lot16</td>\n",
       "      <td>23.0</td>\n",
       "      <td>[[Training]]</td>\n",
       "      <td>1</td>\n",
       "    </tr>\n",
       "    <tr>\n",
       "      <th>...</th>\n",
       "      <td>...</td>\n",
       "      <td>...</td>\n",
       "      <td>...</td>\n",
       "      <td>...</td>\n",
       "      <td>...</td>\n",
       "      <td>...</td>\n",
       "    </tr>\n",
       "    <tr>\n",
       "      <th>679154</th>\n",
       "      <td>[[0, 0, 0, 0, 0, 0, 0, 0, 0, 0, 2, 2, 1, 1, 1,...</td>\n",
       "      <td>533.0</td>\n",
       "      <td>lot42175</td>\n",
       "      <td>24.0</td>\n",
       "      <td>[[Test]]</td>\n",
       "      <td>0</td>\n",
       "    </tr>\n",
       "    <tr>\n",
       "      <th>679165</th>\n",
       "      <td>[[0, 0, 0, 0, 0, 0, 0, 0, 0, 0, 2, 2, 1, 1, 1,...</td>\n",
       "      <td>533.0</td>\n",
       "      <td>lot42176</td>\n",
       "      <td>10.0</td>\n",
       "      <td>[[Test]]</td>\n",
       "      <td>2</td>\n",
       "    </tr>\n",
       "    <tr>\n",
       "      <th>679167</th>\n",
       "      <td>[[0, 0, 0, 0, 0, 0, 0, 0, 0, 0, 2, 2, 2, 1, 2,...</td>\n",
       "      <td>533.0</td>\n",
       "      <td>lot42176</td>\n",
       "      <td>12.0</td>\n",
       "      <td>[[Test]]</td>\n",
       "      <td>1</td>\n",
       "    </tr>\n",
       "    <tr>\n",
       "      <th>679176</th>\n",
       "      <td>[[0, 0, 0, 0, 0, 0, 0, 0, 0, 0, 2, 2, 1, 1, 1,...</td>\n",
       "      <td>533.0</td>\n",
       "      <td>lot42176</td>\n",
       "      <td>21.0</td>\n",
       "      <td>[[Test]]</td>\n",
       "      <td>1</td>\n",
       "    </tr>\n",
       "    <tr>\n",
       "      <th>679219</th>\n",
       "      <td>[[0, 0, 0, 0, 0, 0, 0, 0, 0, 0, 1, 2, 1, 1, 1,...</td>\n",
       "      <td>533.0</td>\n",
       "      <td>lot42178</td>\n",
       "      <td>14.0</td>\n",
       "      <td>[[Test]]</td>\n",
       "      <td>4</td>\n",
       "    </tr>\n",
       "  </tbody>\n",
       "</table>\n",
       "<p>877 rows × 6 columns</p>\n",
       "</div>"
      ]
     },
     "execution_count": 68,
     "metadata": {},
     "output_type": "execute_result"
    }
   ],
   "execution_count": 68
  },
  {
   "cell_type": "code",
   "source": [
    "feature = df['waferMap']\n",
    "target = df['failureType']"
   ],
   "metadata": {
    "collapsed": false,
    "ExecuteTime": {
     "end_time": "2024-10-06T16:44:34.377548Z",
     "start_time": "2024-10-06T16:44:34.375631Z"
    }
   },
   "id": "e35962c85550b90b",
   "outputs": [],
   "execution_count": 69
  },
  {
   "metadata": {
    "ExecuteTime": {
     "end_time": "2024-10-06T16:44:34.379353Z",
     "start_time": "2024-10-06T16:44:34.378192Z"
    }
   },
   "cell_type": "code",
   "source": "",
   "id": "6f9762295c8702d9",
   "outputs": [],
   "execution_count": 69
  },
  {
   "metadata": {
    "ExecuteTime": {
     "end_time": "2024-10-06T16:44:34.384316Z",
     "start_time": "2024-10-06T16:44:34.380003Z"
    }
   },
   "cell_type": "code",
   "source": [
    "from scipy.ndimage import rotate\n",
    "\n",
    "# 1. 필터링 - 미디언 필터 적용\n",
    "def apply_median_filter_to_features(features, targets):\n",
    "    filtered_maps = []\n",
    "    corresponding_targets = []\n",
    "    \n",
    "    # feature와 target을 동시에 순회\n",
    "    for wafer_map, failure_type in zip(features, targets):\n",
    "        # 관심 있는 영역(1과 2)에만 필터 적용\n",
    "        filtered_map = np.where(wafer_map == 0, 0, median_filter(wafer_map, size=3))\n",
    "        \n",
    "        # 필터링된 결과와 target을 각각 리스트에 추가\n",
    "        filtered_maps.append(filtered_map)\n",
    "        corresponding_targets.append(failure_type)\n",
    "    \n",
    "    return np.array(filtered_maps), np.array(corresponding_targets)\n",
    "\n",
    "    \n",
    "\n",
    "# 2. 데이터 증강 - 회전 및 뒤집기\n",
    "def augment_data(wafer_maps, targets):\n",
    "    augmented_maps = []\n",
    "    augmented_targets = []\n",
    "    \n",
    "    # feature와 target을 동시에 순회\n",
    "    for wafer_map, target in zip(wafer_maps, targets):\n",
    "        # 원본 데이터는 항상 추가\n",
    "        augmented_maps.append(wafer_map)\n",
    "        augmented_targets.append(target)\n",
    "        \n",
    "        # 결함이 있는 클래스만 증강 (pass class 8 제외)\n",
    "        if target != 8:\n",
    "            # 90도 회전 데이터 추가\n",
    "            augmented_maps.append(rotate(wafer_map, 90))\n",
    "            augmented_targets.append(target)\n",
    "            \n",
    "            # 상하 뒤집기 데이터 추가\n",
    "            augmented_maps.append(np.flip(wafer_map, axis=0))\n",
    "            augmented_targets.append(target)\n",
    "            \n",
    "            # 좌우 뒤집기 데이터 추가\n",
    "            augmented_maps.append(np.flip(wafer_map, axis=1))\n",
    "            augmented_targets.append(target)\n",
    "        \n",
    "    \n",
    "    return np.array(augmented_maps), np.array(augmented_targets)\n",
    "\n",
    "# 3. 특징 추출 - 결함 비율 및 결함 분포\n",
    "import numpy as np\n",
    "\n",
    "# 특징 추출 함수\n",
    "def extract_features(wafer_maps):\n",
    "    features = []\n",
    "    for wafer_map in wafer_maps:\n",
    "        # 전체 die의 개수\n",
    "        total_die = np.sum(wafer_map > 0)\n",
    "        \n",
    "        # 결함이 있는 die의 개수\n",
    "        defect_die = np.sum(wafer_map == 2)\n",
    "        \n",
    "        # 결함 비율 계산\n",
    "        defect_ratio = defect_die / total_die if total_die > 0 else 0\n",
    "        \n",
    "        # 결함이 중앙에 집중되었는지, 가장자리에 집중되었는지 확인\n",
    "        center_region = wafer_map[9:17, 9:17]  # (26, 26) 해상도에 맞는 중앙 영역\n",
    "        center_defect_ratio = np.sum(center_region == 2) / defect_die if defect_die > 0 else 0\n",
    "        \n",
    "        # 특징 리스트에 추가 (결함 비율, 중앙 결함 비율)\n",
    "        features.append([defect_ratio, center_defect_ratio])\n",
    "    \n",
    "    return np.array(features)"
   ],
   "id": "552fc4e0f00b94f2",
   "outputs": [],
   "execution_count": 70
  },
  {
   "cell_type": "code",
   "source": [
    "filtered_features, filtered_targets = apply_median_filter_to_features(feature, target)\n",
    "filtered_targets.shape"
   ],
   "metadata": {
    "collapsed": false,
    "ExecuteTime": {
     "end_time": "2024-10-06T16:44:35.333904Z",
     "start_time": "2024-10-06T16:44:34.384935Z"
    }
   },
   "id": "50ce9fbad21bb606",
   "outputs": [
    {
     "data": {
      "text/plain": [
       "(30078,)"
      ]
     },
     "execution_count": 71,
     "metadata": {},
     "output_type": "execute_result"
    }
   ],
   "execution_count": 71
  },
  {
   "metadata": {
    "ExecuteTime": {
     "end_time": "2024-10-06T16:44:35.337786Z",
     "start_time": "2024-10-06T16:44:35.334679Z"
    }
   },
   "cell_type": "code",
   "source": "filtered_targets[filtered_targets != 8]",
   "id": "fbd0beaf9a219976",
   "outputs": [
    {
     "data": {
      "text/plain": [
       "array([3, 1, 1, 1, 1, 1, 1, 1, 4, 5, 2, 0, 1, 0, 2, 4, 1, 1, 0, 1, 2, 6,\n",
       "       1, 5, 1, 0, 1, 5, 1, 0, 1, 1, 1, 1, 5, 0, 4, 0, 5, 0, 1, 0, 0, 1,\n",
       "       1, 1, 5, 0, 0, 6, 5, 5, 1, 1, 1, 4, 1, 1, 2, 1, 0, 0, 1, 1, 4, 1,\n",
       "       1, 0, 4, 1, 4, 1, 1, 1, 6, 1, 1, 1, 0, 0, 0, 1, 1, 4, 1, 1, 1, 5,\n",
       "       3, 1, 1, 0, 1, 6, 0, 0, 0, 5, 5, 1, 1, 0, 2, 5, 5, 5, 4, 6, 0, 1,\n",
       "       5, 4, 1, 5, 1, 0, 1, 5, 5, 1, 6, 0, 2, 4, 0, 1, 3, 4, 0, 0, 4, 4,\n",
       "       5, 1, 1, 3, 1, 2, 0, 0, 1, 1, 3, 4, 1, 4, 1, 1, 1, 0, 2, 1, 0, 3,\n",
       "       6, 1, 1, 0, 0, 1, 0, 1, 0, 4, 2, 2, 1, 1, 3, 3, 1, 1, 1, 6, 0, 0,\n",
       "       1, 0, 2, 1, 3, 4, 5, 1, 4, 1, 0, 3, 4, 3, 1, 2, 1, 0, 1, 1, 1, 1,\n",
       "       1, 1, 1, 4, 3, 3, 3, 3, 3, 3, 3, 3, 1, 2, 2, 5, 5, 5, 1, 0, 0, 1,\n",
       "       1, 5, 5, 5, 1, 1, 1, 1, 1, 1, 1, 1, 1, 1, 1, 1, 1, 1, 1, 2, 2, 1,\n",
       "       1, 1, 1, 1, 1, 1, 1, 1, 1, 1, 1, 1, 1, 1, 1, 1, 1, 0, 0, 0, 0, 5,\n",
       "       5, 0, 0, 2, 2, 2, 2, 0, 0, 2, 2, 2, 2, 2, 2, 2, 0, 0, 0, 5, 5, 5,\n",
       "       1, 1, 1, 1, 1, 1, 0, 0, 0, 2, 0, 0, 1, 1, 0, 0, 0, 0, 1, 1, 0, 0,\n",
       "       2, 2, 1, 0, 5, 0, 1, 2, 0, 1, 1, 4, 1, 0, 4, 1, 0, 1, 2, 0, 0, 5,\n",
       "       4, 2, 3, 0, 4, 1, 0, 2, 0, 0, 1, 1, 5, 0, 0, 2, 1, 0, 1, 0, 0, 0,\n",
       "       5, 1, 1, 0, 1, 0, 0, 1, 1, 4, 1, 0, 0, 0, 4, 2, 2, 0, 1, 5, 1, 2,\n",
       "       1, 0, 2, 6, 1, 1, 0, 0, 0, 2, 2, 2, 1, 1, 0, 0, 1, 0, 0, 0, 4, 6,\n",
       "       1, 1, 2, 5, 6, 0, 0, 0, 0, 1, 0, 0, 1, 0, 2, 0, 1, 1, 1, 2, 1, 1,\n",
       "       4, 2, 0, 0, 0, 1, 0, 0, 2, 5, 0, 0, 4, 1, 0, 4, 1, 1, 1, 1, 3, 1,\n",
       "       1, 0, 0, 5, 5, 1, 1, 2, 1, 1, 1, 2, 0, 2, 4, 0, 1, 0, 1, 4, 1, 0,\n",
       "       1, 1, 1, 1, 0, 0, 4, 0, 0, 4, 1, 0, 0, 0, 1, 0, 2, 1, 0, 0, 1, 0,\n",
       "       4, 0, 2, 4, 0, 0, 0, 5, 1, 1, 0, 0, 3, 0, 1, 1, 1, 0, 0, 0, 0, 1,\n",
       "       1, 5, 4, 3, 1, 1, 2, 1, 1, 0, 1, 0, 0, 0, 1, 3, 1, 0, 4, 0, 1, 1,\n",
       "       0, 0, 0, 0, 0, 0, 3, 4, 0, 1, 1, 1, 6, 1, 1, 1, 4, 0, 0, 0, 0, 1,\n",
       "       2, 0, 0, 6, 1, 4, 4, 6, 0, 2, 0, 1, 0, 0, 4, 0, 1, 0, 0, 4, 1, 0,\n",
       "       0, 1, 0, 0, 5, 1, 0, 0, 1, 5, 0, 0, 1, 0, 1, 1, 1, 4, 0, 3, 0, 7,\n",
       "       1, 0, 0, 1, 4, 0, 1, 1, 1, 1, 1, 2, 1, 0, 5, 1, 1, 1, 4, 5, 1, 5,\n",
       "       0, 5, 0, 1, 0, 5, 5, 5, 0, 1, 1, 0, 3, 2, 1, 0, 1, 5, 1, 5, 1, 1,\n",
       "       5, 5, 1, 5, 0, 1, 0, 0, 6, 0, 1, 3, 0, 1, 5, 1, 1, 2, 5, 0, 1, 1,\n",
       "       6, 0, 0, 5, 5, 5, 3, 1, 0, 0, 3, 5, 0, 1, 0, 0, 1, 4, 1, 1, 2, 1,\n",
       "       4, 1, 4, 1, 2, 0, 1, 1, 0, 2, 5, 1, 0, 1, 1, 0, 2, 1, 2, 2, 0, 4,\n",
       "       5, 0, 2, 4, 2, 0, 0, 0, 4, 4, 1, 0, 0, 0, 0, 0, 0, 0, 4, 1, 0, 0,\n",
       "       4, 0, 4, 0, 4, 2, 0, 1, 0, 0, 0, 4, 0, 2, 0, 2, 0, 5, 0, 0, 2, 2,\n",
       "       0, 0, 4, 3, 0, 0, 2, 2, 4, 0, 5, 5, 0, 5, 0, 0, 0, 0, 2, 0, 1, 0,\n",
       "       1, 0, 4, 0, 0, 0, 0, 1, 0, 2, 2, 0, 0, 0, 1, 2, 0, 0, 4, 1, 1, 0,\n",
       "       4, 5, 2, 1, 0, 1, 1, 0, 1, 1, 0, 0, 1, 0, 0, 4, 0, 0, 5, 0, 5, 1,\n",
       "       2, 2, 2, 2, 2, 1, 1, 0, 0, 0, 1, 0, 5, 5, 2, 2, 1, 0, 0, 0, 0, 0,\n",
       "       0, 4, 0, 0, 0, 0, 5, 0, 0, 2, 1, 0, 2, 4, 4, 0, 2, 4, 4, 0, 0, 0,\n",
       "       0, 0, 1, 0, 0, 0, 0, 2, 0, 1, 1, 0, 0, 0, 0, 2, 1, 1, 4])"
      ]
     },
     "execution_count": 72,
     "metadata": {},
     "output_type": "execute_result"
    }
   ],
   "execution_count": 72
  },
  {
   "cell_type": "code",
   "source": [
    "print('mean : ',filtered_features.mean())\n",
    "print('std : ',filtered_features.std())\n",
    "print('min : ',filtered_features.min())\n",
    "print('max : ',filtered_features.max())"
   ],
   "metadata": {
    "collapsed": false,
    "ExecuteTime": {
     "end_time": "2024-10-06T16:44:35.394200Z",
     "start_time": "2024-10-06T16:44:35.338614Z"
    }
   },
   "id": "3d85997973e4412c",
   "outputs": [
    {
     "name": "stdout",
     "output_type": "stream",
     "text": [
      "mean :  0.8029313134961527\n",
      "std :  0.4337232638426162\n",
      "min :  0\n",
      "max :  2\n"
     ]
    }
   ],
   "execution_count": 73
  },
  {
   "cell_type": "code",
   "source": [
    "extract_features(filtered_features)"
   ],
   "metadata": {
    "collapsed": false,
    "ExecuteTime": {
     "end_time": "2024-10-06T16:44:35.610354Z",
     "start_time": "2024-10-06T16:44:35.394902Z"
    }
   },
   "id": "dc9a8980edc0bd13",
   "outputs": [
    {
     "data": {
      "text/plain": [
       "array([[0.01313321, 0.        ],\n",
       "       [0.00750469, 0.        ],\n",
       "       [0.00562852, 0.66666667],\n",
       "       ...,\n",
       "       [0.00938086, 0.4       ],\n",
       "       [0.06003752, 0.03125   ],\n",
       "       [0.00562852, 0.        ]])"
      ]
     },
     "execution_count": 74,
     "metadata": {},
     "output_type": "execute_result"
    }
   ],
   "execution_count": 74
  },
  {
   "metadata": {
    "ExecuteTime": {
     "end_time": "2024-10-06T16:44:35.613103Z",
     "start_time": "2024-10-06T16:44:35.611112Z"
    }
   },
   "cell_type": "code",
   "source": "filtered_targets.shape\n",
   "id": "cf7e0709d3196ad8",
   "outputs": [
    {
     "data": {
      "text/plain": [
       "(30078,)"
      ]
     },
     "execution_count": 75,
     "metadata": {},
     "output_type": "execute_result"
    }
   ],
   "execution_count": 75
  },
  {
   "metadata": {
    "ExecuteTime": {
     "end_time": "2024-10-06T16:44:35.617951Z",
     "start_time": "2024-10-06T16:44:35.613729Z"
    }
   },
   "cell_type": "code",
   "source": [
    "mask = filtered_targets != 7\n",
    "filtered_features = filtered_features[mask]\n",
    "filtered_targets = filtered_targets[mask]"
   ],
   "id": "118c13cce7e52160",
   "outputs": [],
   "execution_count": 76
  },
  {
   "cell_type": "code",
   "source": [
    "from sklearn.model_selection import train_test_split\n",
    "\n",
    "filtered_targets = np.where(filtered_targets == 8, 7, filtered_targets)\n",
    "X_train,X_test, Y_train, Y_test = train_test_split(filtered_features,filtered_targets,shuffle=True,random_state=123,stratify=filtered_targets)\n",
    "print(X_train.shape[0])"
   ],
   "metadata": {
    "collapsed": false,
    "ExecuteTime": {
     "end_time": "2024-10-06T16:44:35.633105Z",
     "start_time": "2024-10-06T16:44:35.618457Z"
    }
   },
   "id": "2a4c6272592e199c",
   "outputs": [
    {
     "name": "stdout",
     "output_type": "stream",
     "text": [
      "22557\n"
     ]
    }
   ],
   "execution_count": 77
  },
  {
   "metadata": {
    "ExecuteTime": {
     "end_time": "2024-10-06T16:44:37.288121Z",
     "start_time": "2024-10-06T16:44:35.633838Z"
    }
   },
   "cell_type": "code",
   "source": [
    "X_train, Y_train = augment_data(X_train, Y_train)\n",
    "print(X_train.shape[0])"
   ],
   "id": "74cbfe59321da336",
   "outputs": [
    {
     "name": "stdout",
     "output_type": "stream",
     "text": [
      "90228\n"
     ]
    }
   ],
   "execution_count": 78
  },
  {
   "cell_type": "code",
   "source": "print(Y_train[Y_train!=8].shape)",
   "metadata": {
    "collapsed": false,
    "ExecuteTime": {
     "end_time": "2024-10-06T16:44:37.290964Z",
     "start_time": "2024-10-06T16:44:37.289017Z"
    }
   },
   "id": "b64546617471ac4f",
   "outputs": [
    {
     "name": "stdout",
     "output_type": "stream",
     "text": [
      "(90228,)\n"
     ]
    }
   ],
   "execution_count": 79
  },
  {
   "metadata": {
    "ExecuteTime": {
     "end_time": "2024-10-06T16:44:37.293226Z",
     "start_time": "2024-10-06T16:44:37.291603Z"
    }
   },
   "cell_type": "code",
   "source": [
    "X_train = X_train.reshape(-1,26*26)\n",
    "X_test = X_test.reshape(-1,26*26)"
   ],
   "id": "796532e0dc788d33",
   "outputs": [],
   "execution_count": 80
  },
  {
   "metadata": {
    "ExecuteTime": {
     "end_time": "2024-10-06T16:44:42.738140Z",
     "start_time": "2024-10-06T16:44:37.293848Z"
    }
   },
   "cell_type": "code",
   "source": [
    "from sklearn.model_selection import train_test_split\n",
    "from xgboost import XGBClassifier\n",
    "from imblearn.over_sampling import ADASYN\n",
    "from sklearn.metrics import classification_report, accuracy_score\n",
    "adasyn = ADASYN(random_state=123)\n",
    "X_train, Y_train = adasyn.fit_resample(X_train, Y_train)"
   ],
   "id": "8558807302d18ca2",
   "outputs": [],
   "execution_count": 81
  },
  {
   "metadata": {
    "ExecuteTime": {
     "end_time": "2024-10-06T16:48:47.974462Z",
     "start_time": "2024-10-06T16:48:12.179485Z"
    }
   },
   "cell_type": "code",
   "source": [
    "model = XGBClassifier(\n",
    "    objective='multi:softmax',  # 다중 클래스 분류\n",
    "    eval_metric='mlogloss',     # 다중 클래스 로지스틱 손실\n",
    "    random_state=123,\n",
    "    learning_rate=0.1,\n",
    "    max_depth=6,\n",
    "    n_estimators=100\n",
    ")\n",
    "model.fit(X_train, Y_train,verbose=True)\n",
    "\n",
    "# 8. 성능 평가\n",
    "y_pred = model.predict(X_test)\n",
    "accuracy = accuracy_score(Y_test, y_pred)\n",
    "precision = precision_score(Y_test, y_pred)\n",
    "recall = recall_score(Y_test, y_pred)\n",
    "\n",
    "print(f'Accuracy: {accuracy:.4f}')\n",
    "print(f'Precision: {precision:.4f}')\n",
    "print(f'Recall: {recall:.4f}')\n"
   ],
   "id": "initial_id",
   "outputs": [
    {
     "ename": "KeyboardInterrupt",
     "evalue": "",
     "output_type": "error",
     "traceback": [
      "\u001B[0;31m---------------------------------------------------------------------------\u001B[0m",
      "\u001B[0;31mKeyboardInterrupt\u001B[0m                         Traceback (most recent call last)",
      "Cell \u001B[0;32mIn[84], line 9\u001B[0m\n\u001B[1;32m      1\u001B[0m model \u001B[38;5;241m=\u001B[39m XGBClassifier(\n\u001B[1;32m      2\u001B[0m     objective\u001B[38;5;241m=\u001B[39m\u001B[38;5;124m'\u001B[39m\u001B[38;5;124mmulti:softmax\u001B[39m\u001B[38;5;124m'\u001B[39m,  \u001B[38;5;66;03m# 다중 클래스 분류\u001B[39;00m\n\u001B[1;32m      3\u001B[0m     eval_metric\u001B[38;5;241m=\u001B[39m\u001B[38;5;124m'\u001B[39m\u001B[38;5;124mmlogloss\u001B[39m\u001B[38;5;124m'\u001B[39m,     \u001B[38;5;66;03m# 다중 클래스 로지스틱 손실\u001B[39;00m\n\u001B[0;32m   (...)\u001B[0m\n\u001B[1;32m      7\u001B[0m     n_estimators\u001B[38;5;241m=\u001B[39m\u001B[38;5;241m100\u001B[39m\n\u001B[1;32m      8\u001B[0m )\n\u001B[0;32m----> 9\u001B[0m \u001B[43mmodel\u001B[49m\u001B[38;5;241;43m.\u001B[39;49m\u001B[43mfit\u001B[49m\u001B[43m(\u001B[49m\u001B[43mX_train\u001B[49m\u001B[43m,\u001B[49m\u001B[43m \u001B[49m\u001B[43mY_train\u001B[49m\u001B[43m,\u001B[49m\u001B[43mverbose\u001B[49m\u001B[38;5;241;43m=\u001B[39;49m\u001B[38;5;28;43;01mTrue\u001B[39;49;00m\u001B[43m)\u001B[49m\n\u001B[1;32m     11\u001B[0m \u001B[38;5;66;03m# 8. 성능 평가\u001B[39;00m\n\u001B[1;32m     12\u001B[0m y_pred \u001B[38;5;241m=\u001B[39m model\u001B[38;5;241m.\u001B[39mpredict(X_test)\n",
      "File \u001B[0;32m/opt/anaconda3/envs/forml/lib/python3.10/site-packages/xgboost/core.py:726\u001B[0m, in \u001B[0;36mrequire_keyword_args.<locals>.throw_if.<locals>.inner_f\u001B[0;34m(*args, **kwargs)\u001B[0m\n\u001B[1;32m    724\u001B[0m \u001B[38;5;28;01mfor\u001B[39;00m k, arg \u001B[38;5;129;01min\u001B[39;00m \u001B[38;5;28mzip\u001B[39m(sig\u001B[38;5;241m.\u001B[39mparameters, args):\n\u001B[1;32m    725\u001B[0m     kwargs[k] \u001B[38;5;241m=\u001B[39m arg\n\u001B[0;32m--> 726\u001B[0m \u001B[38;5;28;01mreturn\u001B[39;00m \u001B[43mfunc\u001B[49m\u001B[43m(\u001B[49m\u001B[38;5;241;43m*\u001B[39;49m\u001B[38;5;241;43m*\u001B[39;49m\u001B[43mkwargs\u001B[49m\u001B[43m)\u001B[49m\n",
      "File \u001B[0;32m/opt/anaconda3/envs/forml/lib/python3.10/site-packages/xgboost/sklearn.py:1531\u001B[0m, in \u001B[0;36mXGBClassifier.fit\u001B[0;34m(self, X, y, sample_weight, base_margin, eval_set, verbose, xgb_model, sample_weight_eval_set, base_margin_eval_set, feature_weights)\u001B[0m\n\u001B[1;32m   1511\u001B[0m model, metric, params \u001B[38;5;241m=\u001B[39m \u001B[38;5;28mself\u001B[39m\u001B[38;5;241m.\u001B[39m_configure_fit(xgb_model, params)\n\u001B[1;32m   1512\u001B[0m train_dmatrix, evals \u001B[38;5;241m=\u001B[39m _wrap_evaluation_matrices(\n\u001B[1;32m   1513\u001B[0m     missing\u001B[38;5;241m=\u001B[39m\u001B[38;5;28mself\u001B[39m\u001B[38;5;241m.\u001B[39mmissing,\n\u001B[1;32m   1514\u001B[0m     X\u001B[38;5;241m=\u001B[39mX,\n\u001B[0;32m   (...)\u001B[0m\n\u001B[1;32m   1528\u001B[0m     feature_types\u001B[38;5;241m=\u001B[39m\u001B[38;5;28mself\u001B[39m\u001B[38;5;241m.\u001B[39mfeature_types,\n\u001B[1;32m   1529\u001B[0m )\n\u001B[0;32m-> 1531\u001B[0m \u001B[38;5;28mself\u001B[39m\u001B[38;5;241m.\u001B[39m_Booster \u001B[38;5;241m=\u001B[39m \u001B[43mtrain\u001B[49m\u001B[43m(\u001B[49m\n\u001B[1;32m   1532\u001B[0m \u001B[43m    \u001B[49m\u001B[43mparams\u001B[49m\u001B[43m,\u001B[49m\n\u001B[1;32m   1533\u001B[0m \u001B[43m    \u001B[49m\u001B[43mtrain_dmatrix\u001B[49m\u001B[43m,\u001B[49m\n\u001B[1;32m   1534\u001B[0m \u001B[43m    \u001B[49m\u001B[38;5;28;43mself\u001B[39;49m\u001B[38;5;241;43m.\u001B[39;49m\u001B[43mget_num_boosting_rounds\u001B[49m\u001B[43m(\u001B[49m\u001B[43m)\u001B[49m\u001B[43m,\u001B[49m\n\u001B[1;32m   1535\u001B[0m \u001B[43m    \u001B[49m\u001B[43mevals\u001B[49m\u001B[38;5;241;43m=\u001B[39;49m\u001B[43mevals\u001B[49m\u001B[43m,\u001B[49m\n\u001B[1;32m   1536\u001B[0m \u001B[43m    \u001B[49m\u001B[43mearly_stopping_rounds\u001B[49m\u001B[38;5;241;43m=\u001B[39;49m\u001B[38;5;28;43mself\u001B[39;49m\u001B[38;5;241;43m.\u001B[39;49m\u001B[43mearly_stopping_rounds\u001B[49m\u001B[43m,\u001B[49m\n\u001B[1;32m   1537\u001B[0m \u001B[43m    \u001B[49m\u001B[43mevals_result\u001B[49m\u001B[38;5;241;43m=\u001B[39;49m\u001B[43mevals_result\u001B[49m\u001B[43m,\u001B[49m\n\u001B[1;32m   1538\u001B[0m \u001B[43m    \u001B[49m\u001B[43mobj\u001B[49m\u001B[38;5;241;43m=\u001B[39;49m\u001B[43mobj\u001B[49m\u001B[43m,\u001B[49m\n\u001B[1;32m   1539\u001B[0m \u001B[43m    \u001B[49m\u001B[43mcustom_metric\u001B[49m\u001B[38;5;241;43m=\u001B[39;49m\u001B[43mmetric\u001B[49m\u001B[43m,\u001B[49m\n\u001B[1;32m   1540\u001B[0m \u001B[43m    \u001B[49m\u001B[43mverbose_eval\u001B[49m\u001B[38;5;241;43m=\u001B[39;49m\u001B[43mverbose\u001B[49m\u001B[43m,\u001B[49m\n\u001B[1;32m   1541\u001B[0m \u001B[43m    \u001B[49m\u001B[43mxgb_model\u001B[49m\u001B[38;5;241;43m=\u001B[39;49m\u001B[43mmodel\u001B[49m\u001B[43m,\u001B[49m\n\u001B[1;32m   1542\u001B[0m \u001B[43m    \u001B[49m\u001B[43mcallbacks\u001B[49m\u001B[38;5;241;43m=\u001B[39;49m\u001B[38;5;28;43mself\u001B[39;49m\u001B[38;5;241;43m.\u001B[39;49m\u001B[43mcallbacks\u001B[49m\u001B[43m,\u001B[49m\n\u001B[1;32m   1543\u001B[0m \u001B[43m\u001B[49m\u001B[43m)\u001B[49m\n\u001B[1;32m   1545\u001B[0m \u001B[38;5;28;01mif\u001B[39;00m \u001B[38;5;129;01mnot\u001B[39;00m \u001B[38;5;28mcallable\u001B[39m(\u001B[38;5;28mself\u001B[39m\u001B[38;5;241m.\u001B[39mobjective):\n\u001B[1;32m   1546\u001B[0m     \u001B[38;5;28mself\u001B[39m\u001B[38;5;241m.\u001B[39mobjective \u001B[38;5;241m=\u001B[39m params[\u001B[38;5;124m\"\u001B[39m\u001B[38;5;124mobjective\u001B[39m\u001B[38;5;124m\"\u001B[39m]\n",
      "File \u001B[0;32m/opt/anaconda3/envs/forml/lib/python3.10/site-packages/xgboost/core.py:726\u001B[0m, in \u001B[0;36mrequire_keyword_args.<locals>.throw_if.<locals>.inner_f\u001B[0;34m(*args, **kwargs)\u001B[0m\n\u001B[1;32m    724\u001B[0m \u001B[38;5;28;01mfor\u001B[39;00m k, arg \u001B[38;5;129;01min\u001B[39;00m \u001B[38;5;28mzip\u001B[39m(sig\u001B[38;5;241m.\u001B[39mparameters, args):\n\u001B[1;32m    725\u001B[0m     kwargs[k] \u001B[38;5;241m=\u001B[39m arg\n\u001B[0;32m--> 726\u001B[0m \u001B[38;5;28;01mreturn\u001B[39;00m \u001B[43mfunc\u001B[49m\u001B[43m(\u001B[49m\u001B[38;5;241;43m*\u001B[39;49m\u001B[38;5;241;43m*\u001B[39;49m\u001B[43mkwargs\u001B[49m\u001B[43m)\u001B[49m\n",
      "File \u001B[0;32m/opt/anaconda3/envs/forml/lib/python3.10/site-packages/xgboost/training.py:181\u001B[0m, in \u001B[0;36mtrain\u001B[0;34m(params, dtrain, num_boost_round, evals, obj, feval, maximize, early_stopping_rounds, evals_result, verbose_eval, xgb_model, callbacks, custom_metric)\u001B[0m\n\u001B[1;32m    179\u001B[0m \u001B[38;5;28;01mif\u001B[39;00m cb_container\u001B[38;5;241m.\u001B[39mbefore_iteration(bst, i, dtrain, evals):\n\u001B[1;32m    180\u001B[0m     \u001B[38;5;28;01mbreak\u001B[39;00m\n\u001B[0;32m--> 181\u001B[0m \u001B[43mbst\u001B[49m\u001B[38;5;241;43m.\u001B[39;49m\u001B[43mupdate\u001B[49m\u001B[43m(\u001B[49m\u001B[43mdtrain\u001B[49m\u001B[43m,\u001B[49m\u001B[43m \u001B[49m\u001B[43miteration\u001B[49m\u001B[38;5;241;43m=\u001B[39;49m\u001B[43mi\u001B[49m\u001B[43m,\u001B[49m\u001B[43m \u001B[49m\u001B[43mfobj\u001B[49m\u001B[38;5;241;43m=\u001B[39;49m\u001B[43mobj\u001B[49m\u001B[43m)\u001B[49m\n\u001B[1;32m    182\u001B[0m \u001B[38;5;28;01mif\u001B[39;00m cb_container\u001B[38;5;241m.\u001B[39mafter_iteration(bst, i, dtrain, evals):\n\u001B[1;32m    183\u001B[0m     \u001B[38;5;28;01mbreak\u001B[39;00m\n",
      "File \u001B[0;32m/opt/anaconda3/envs/forml/lib/python3.10/site-packages/xgboost/core.py:2101\u001B[0m, in \u001B[0;36mBooster.update\u001B[0;34m(self, dtrain, iteration, fobj)\u001B[0m\n\u001B[1;32m   2097\u001B[0m \u001B[38;5;28mself\u001B[39m\u001B[38;5;241m.\u001B[39m_assign_dmatrix_features(dtrain)\n\u001B[1;32m   2099\u001B[0m \u001B[38;5;28;01mif\u001B[39;00m fobj \u001B[38;5;129;01mis\u001B[39;00m \u001B[38;5;28;01mNone\u001B[39;00m:\n\u001B[1;32m   2100\u001B[0m     _check_call(\n\u001B[0;32m-> 2101\u001B[0m         \u001B[43m_LIB\u001B[49m\u001B[38;5;241;43m.\u001B[39;49m\u001B[43mXGBoosterUpdateOneIter\u001B[49m\u001B[43m(\u001B[49m\n\u001B[1;32m   2102\u001B[0m \u001B[43m            \u001B[49m\u001B[38;5;28;43mself\u001B[39;49m\u001B[38;5;241;43m.\u001B[39;49m\u001B[43mhandle\u001B[49m\u001B[43m,\u001B[49m\u001B[43m \u001B[49m\u001B[43mctypes\u001B[49m\u001B[38;5;241;43m.\u001B[39;49m\u001B[43mc_int\u001B[49m\u001B[43m(\u001B[49m\u001B[43miteration\u001B[49m\u001B[43m)\u001B[49m\u001B[43m,\u001B[49m\u001B[43m \u001B[49m\u001B[43mdtrain\u001B[49m\u001B[38;5;241;43m.\u001B[39;49m\u001B[43mhandle\u001B[49m\n\u001B[1;32m   2103\u001B[0m \u001B[43m        \u001B[49m\u001B[43m)\u001B[49m\n\u001B[1;32m   2104\u001B[0m     )\n\u001B[1;32m   2105\u001B[0m \u001B[38;5;28;01melse\u001B[39;00m:\n\u001B[1;32m   2106\u001B[0m     pred \u001B[38;5;241m=\u001B[39m \u001B[38;5;28mself\u001B[39m\u001B[38;5;241m.\u001B[39mpredict(dtrain, output_margin\u001B[38;5;241m=\u001B[39m\u001B[38;5;28;01mTrue\u001B[39;00m, training\u001B[38;5;241m=\u001B[39m\u001B[38;5;28;01mTrue\u001B[39;00m)\n",
      "\u001B[0;31mKeyboardInterrupt\u001B[0m: "
     ]
    }
   ],
   "execution_count": 84
  },
  {
   "metadata": {
    "ExecuteTime": {
     "end_time": "2024-10-06T16:46:38.230067Z",
     "start_time": "2024-10-06T16:46:38.229777Z"
    }
   },
   "cell_type": "code",
   "source": "np.unique(Y_train)",
   "id": "b520dea1218e5cf5",
   "outputs": [],
   "execution_count": null
  },
  {
   "metadata": {
    "ExecuteTime": {
     "end_time": "2024-10-06T16:47:33.144465Z",
     "start_time": "2024-10-06T16:46:52.417489Z"
    }
   },
   "cell_type": "code",
   "source": [
    "from sklearn.linear_model import LogisticRegression\n",
    "from sklearn.metrics import accuracy_score, precision_score, recall_score\n",
    "\n",
    "# 간단한 모델: Logistic Regression\n",
    "model = LogisticRegression(random_state=123, max_iter=200)\n",
    "model.fit(X_train, Y_train)\n",
    "\n",
    "# 성능 평가\n",
    "y_pred = model.predict(X_test)\n",
    "accuracy = accuracy_score(Y_test, y_pred)\n",
    "precision = precision_score(Y_test, y_pred, average='weighted')  # 다중 클래스일 경우 average 파라미터 필요\n",
    "recall = recall_score(Y_test, y_pred, average='weighted')\n",
    "\n",
    "print(f'Accuracy: {accuracy:.4f}')\n",
    "print(f'Precision: {precision:.4f}')\n",
    "print(f'Recall: {recall:.4f}')\n"
   ],
   "id": "84371ac6b534fc9",
   "outputs": [
    {
     "ename": "KeyboardInterrupt",
     "evalue": "",
     "output_type": "error",
     "traceback": [
      "\u001B[0;31m---------------------------------------------------------------------------\u001B[0m",
      "\u001B[0;31mKeyboardInterrupt\u001B[0m                         Traceback (most recent call last)",
      "Cell \u001B[0;32mIn[83], line 6\u001B[0m\n\u001B[1;32m      4\u001B[0m \u001B[38;5;66;03m# 간단한 모델: Logistic Regression\u001B[39;00m\n\u001B[1;32m      5\u001B[0m model \u001B[38;5;241m=\u001B[39m LogisticRegression(random_state\u001B[38;5;241m=\u001B[39m\u001B[38;5;241m123\u001B[39m, max_iter\u001B[38;5;241m=\u001B[39m\u001B[38;5;241m200\u001B[39m)\n\u001B[0;32m----> 6\u001B[0m \u001B[43mmodel\u001B[49m\u001B[38;5;241;43m.\u001B[39;49m\u001B[43mfit\u001B[49m\u001B[43m(\u001B[49m\u001B[43mX_train\u001B[49m\u001B[43m,\u001B[49m\u001B[43m \u001B[49m\u001B[43mY_train\u001B[49m\u001B[43m)\u001B[49m\n\u001B[1;32m      8\u001B[0m \u001B[38;5;66;03m# 성능 평가\u001B[39;00m\n\u001B[1;32m      9\u001B[0m y_pred \u001B[38;5;241m=\u001B[39m model\u001B[38;5;241m.\u001B[39mpredict(X_test)\n",
      "File \u001B[0;32m/opt/anaconda3/envs/forml/lib/python3.10/site-packages/sklearn/base.py:1473\u001B[0m, in \u001B[0;36m_fit_context.<locals>.decorator.<locals>.wrapper\u001B[0;34m(estimator, *args, **kwargs)\u001B[0m\n\u001B[1;32m   1466\u001B[0m     estimator\u001B[38;5;241m.\u001B[39m_validate_params()\n\u001B[1;32m   1468\u001B[0m \u001B[38;5;28;01mwith\u001B[39;00m config_context(\n\u001B[1;32m   1469\u001B[0m     skip_parameter_validation\u001B[38;5;241m=\u001B[39m(\n\u001B[1;32m   1470\u001B[0m         prefer_skip_nested_validation \u001B[38;5;129;01mor\u001B[39;00m global_skip_validation\n\u001B[1;32m   1471\u001B[0m     )\n\u001B[1;32m   1472\u001B[0m ):\n\u001B[0;32m-> 1473\u001B[0m     \u001B[38;5;28;01mreturn\u001B[39;00m \u001B[43mfit_method\u001B[49m\u001B[43m(\u001B[49m\u001B[43mestimator\u001B[49m\u001B[43m,\u001B[49m\u001B[43m \u001B[49m\u001B[38;5;241;43m*\u001B[39;49m\u001B[43margs\u001B[49m\u001B[43m,\u001B[49m\u001B[43m \u001B[49m\u001B[38;5;241;43m*\u001B[39;49m\u001B[38;5;241;43m*\u001B[39;49m\u001B[43mkwargs\u001B[49m\u001B[43m)\u001B[49m\n",
      "File \u001B[0;32m/opt/anaconda3/envs/forml/lib/python3.10/site-packages/sklearn/linear_model/_logistic.py:1350\u001B[0m, in \u001B[0;36mLogisticRegression.fit\u001B[0;34m(self, X, y, sample_weight)\u001B[0m\n\u001B[1;32m   1347\u001B[0m \u001B[38;5;28;01melse\u001B[39;00m:\n\u001B[1;32m   1348\u001B[0m     n_threads \u001B[38;5;241m=\u001B[39m \u001B[38;5;241m1\u001B[39m\n\u001B[0;32m-> 1350\u001B[0m fold_coefs_ \u001B[38;5;241m=\u001B[39m \u001B[43mParallel\u001B[49m\u001B[43m(\u001B[49m\u001B[43mn_jobs\u001B[49m\u001B[38;5;241;43m=\u001B[39;49m\u001B[38;5;28;43mself\u001B[39;49m\u001B[38;5;241;43m.\u001B[39;49m\u001B[43mn_jobs\u001B[49m\u001B[43m,\u001B[49m\u001B[43m \u001B[49m\u001B[43mverbose\u001B[49m\u001B[38;5;241;43m=\u001B[39;49m\u001B[38;5;28;43mself\u001B[39;49m\u001B[38;5;241;43m.\u001B[39;49m\u001B[43mverbose\u001B[49m\u001B[43m,\u001B[49m\u001B[43m \u001B[49m\u001B[43mprefer\u001B[49m\u001B[38;5;241;43m=\u001B[39;49m\u001B[43mprefer\u001B[49m\u001B[43m)\u001B[49m\u001B[43m(\u001B[49m\n\u001B[1;32m   1351\u001B[0m \u001B[43m    \u001B[49m\u001B[43mpath_func\u001B[49m\u001B[43m(\u001B[49m\n\u001B[1;32m   1352\u001B[0m \u001B[43m        \u001B[49m\u001B[43mX\u001B[49m\u001B[43m,\u001B[49m\n\u001B[1;32m   1353\u001B[0m \u001B[43m        \u001B[49m\u001B[43my\u001B[49m\u001B[43m,\u001B[49m\n\u001B[1;32m   1354\u001B[0m \u001B[43m        \u001B[49m\u001B[43mpos_class\u001B[49m\u001B[38;5;241;43m=\u001B[39;49m\u001B[43mclass_\u001B[49m\u001B[43m,\u001B[49m\n\u001B[1;32m   1355\u001B[0m \u001B[43m        \u001B[49m\u001B[43mCs\u001B[49m\u001B[38;5;241;43m=\u001B[39;49m\u001B[43m[\u001B[49m\u001B[43mC_\u001B[49m\u001B[43m]\u001B[49m\u001B[43m,\u001B[49m\n\u001B[1;32m   1356\u001B[0m \u001B[43m        \u001B[49m\u001B[43ml1_ratio\u001B[49m\u001B[38;5;241;43m=\u001B[39;49m\u001B[38;5;28;43mself\u001B[39;49m\u001B[38;5;241;43m.\u001B[39;49m\u001B[43ml1_ratio\u001B[49m\u001B[43m,\u001B[49m\n\u001B[1;32m   1357\u001B[0m \u001B[43m        \u001B[49m\u001B[43mfit_intercept\u001B[49m\u001B[38;5;241;43m=\u001B[39;49m\u001B[38;5;28;43mself\u001B[39;49m\u001B[38;5;241;43m.\u001B[39;49m\u001B[43mfit_intercept\u001B[49m\u001B[43m,\u001B[49m\n\u001B[1;32m   1358\u001B[0m \u001B[43m        \u001B[49m\u001B[43mtol\u001B[49m\u001B[38;5;241;43m=\u001B[39;49m\u001B[38;5;28;43mself\u001B[39;49m\u001B[38;5;241;43m.\u001B[39;49m\u001B[43mtol\u001B[49m\u001B[43m,\u001B[49m\n\u001B[1;32m   1359\u001B[0m \u001B[43m        \u001B[49m\u001B[43mverbose\u001B[49m\u001B[38;5;241;43m=\u001B[39;49m\u001B[38;5;28;43mself\u001B[39;49m\u001B[38;5;241;43m.\u001B[39;49m\u001B[43mverbose\u001B[49m\u001B[43m,\u001B[49m\n\u001B[1;32m   1360\u001B[0m \u001B[43m        \u001B[49m\u001B[43msolver\u001B[49m\u001B[38;5;241;43m=\u001B[39;49m\u001B[43msolver\u001B[49m\u001B[43m,\u001B[49m\n\u001B[1;32m   1361\u001B[0m \u001B[43m        \u001B[49m\u001B[43mmulti_class\u001B[49m\u001B[38;5;241;43m=\u001B[39;49m\u001B[43mmulti_class\u001B[49m\u001B[43m,\u001B[49m\n\u001B[1;32m   1362\u001B[0m \u001B[43m        \u001B[49m\u001B[43mmax_iter\u001B[49m\u001B[38;5;241;43m=\u001B[39;49m\u001B[38;5;28;43mself\u001B[39;49m\u001B[38;5;241;43m.\u001B[39;49m\u001B[43mmax_iter\u001B[49m\u001B[43m,\u001B[49m\n\u001B[1;32m   1363\u001B[0m \u001B[43m        \u001B[49m\u001B[43mclass_weight\u001B[49m\u001B[38;5;241;43m=\u001B[39;49m\u001B[38;5;28;43mself\u001B[39;49m\u001B[38;5;241;43m.\u001B[39;49m\u001B[43mclass_weight\u001B[49m\u001B[43m,\u001B[49m\n\u001B[1;32m   1364\u001B[0m \u001B[43m        \u001B[49m\u001B[43mcheck_input\u001B[49m\u001B[38;5;241;43m=\u001B[39;49m\u001B[38;5;28;43;01mFalse\u001B[39;49;00m\u001B[43m,\u001B[49m\n\u001B[1;32m   1365\u001B[0m \u001B[43m        \u001B[49m\u001B[43mrandom_state\u001B[49m\u001B[38;5;241;43m=\u001B[39;49m\u001B[38;5;28;43mself\u001B[39;49m\u001B[38;5;241;43m.\u001B[39;49m\u001B[43mrandom_state\u001B[49m\u001B[43m,\u001B[49m\n\u001B[1;32m   1366\u001B[0m \u001B[43m        \u001B[49m\u001B[43mcoef\u001B[49m\u001B[38;5;241;43m=\u001B[39;49m\u001B[43mwarm_start_coef_\u001B[49m\u001B[43m,\u001B[49m\n\u001B[1;32m   1367\u001B[0m \u001B[43m        \u001B[49m\u001B[43mpenalty\u001B[49m\u001B[38;5;241;43m=\u001B[39;49m\u001B[43mpenalty\u001B[49m\u001B[43m,\u001B[49m\n\u001B[1;32m   1368\u001B[0m \u001B[43m        \u001B[49m\u001B[43mmax_squared_sum\u001B[49m\u001B[38;5;241;43m=\u001B[39;49m\u001B[43mmax_squared_sum\u001B[49m\u001B[43m,\u001B[49m\n\u001B[1;32m   1369\u001B[0m \u001B[43m        \u001B[49m\u001B[43msample_weight\u001B[49m\u001B[38;5;241;43m=\u001B[39;49m\u001B[43msample_weight\u001B[49m\u001B[43m,\u001B[49m\n\u001B[1;32m   1370\u001B[0m \u001B[43m        \u001B[49m\u001B[43mn_threads\u001B[49m\u001B[38;5;241;43m=\u001B[39;49m\u001B[43mn_threads\u001B[49m\u001B[43m,\u001B[49m\n\u001B[1;32m   1371\u001B[0m \u001B[43m    \u001B[49m\u001B[43m)\u001B[49m\n\u001B[1;32m   1372\u001B[0m \u001B[43m    \u001B[49m\u001B[38;5;28;43;01mfor\u001B[39;49;00m\u001B[43m \u001B[49m\u001B[43mclass_\u001B[49m\u001B[43m,\u001B[49m\u001B[43m \u001B[49m\u001B[43mwarm_start_coef_\u001B[49m\u001B[43m \u001B[49m\u001B[38;5;129;43;01min\u001B[39;49;00m\u001B[43m \u001B[49m\u001B[38;5;28;43mzip\u001B[39;49m\u001B[43m(\u001B[49m\u001B[43mclasses_\u001B[49m\u001B[43m,\u001B[49m\u001B[43m \u001B[49m\u001B[43mwarm_start_coef\u001B[49m\u001B[43m)\u001B[49m\n\u001B[1;32m   1373\u001B[0m \u001B[43m\u001B[49m\u001B[43m)\u001B[49m\n\u001B[1;32m   1375\u001B[0m fold_coefs_, _, n_iter_ \u001B[38;5;241m=\u001B[39m \u001B[38;5;28mzip\u001B[39m(\u001B[38;5;241m*\u001B[39mfold_coefs_)\n\u001B[1;32m   1376\u001B[0m \u001B[38;5;28mself\u001B[39m\u001B[38;5;241m.\u001B[39mn_iter_ \u001B[38;5;241m=\u001B[39m np\u001B[38;5;241m.\u001B[39masarray(n_iter_, dtype\u001B[38;5;241m=\u001B[39mnp\u001B[38;5;241m.\u001B[39mint32)[:, \u001B[38;5;241m0\u001B[39m]\n",
      "File \u001B[0;32m/opt/anaconda3/envs/forml/lib/python3.10/site-packages/sklearn/utils/parallel.py:74\u001B[0m, in \u001B[0;36mParallel.__call__\u001B[0;34m(self, iterable)\u001B[0m\n\u001B[1;32m     69\u001B[0m config \u001B[38;5;241m=\u001B[39m get_config()\n\u001B[1;32m     70\u001B[0m iterable_with_config \u001B[38;5;241m=\u001B[39m (\n\u001B[1;32m     71\u001B[0m     (_with_config(delayed_func, config), args, kwargs)\n\u001B[1;32m     72\u001B[0m     \u001B[38;5;28;01mfor\u001B[39;00m delayed_func, args, kwargs \u001B[38;5;129;01min\u001B[39;00m iterable\n\u001B[1;32m     73\u001B[0m )\n\u001B[0;32m---> 74\u001B[0m \u001B[38;5;28;01mreturn\u001B[39;00m \u001B[38;5;28;43msuper\u001B[39;49m\u001B[43m(\u001B[49m\u001B[43m)\u001B[49m\u001B[38;5;241;43m.\u001B[39;49m\u001B[38;5;21;43m__call__\u001B[39;49m\u001B[43m(\u001B[49m\u001B[43miterable_with_config\u001B[49m\u001B[43m)\u001B[49m\n",
      "File \u001B[0;32m/opt/anaconda3/envs/forml/lib/python3.10/site-packages/joblib/parallel.py:1918\u001B[0m, in \u001B[0;36mParallel.__call__\u001B[0;34m(self, iterable)\u001B[0m\n\u001B[1;32m   1916\u001B[0m     output \u001B[38;5;241m=\u001B[39m \u001B[38;5;28mself\u001B[39m\u001B[38;5;241m.\u001B[39m_get_sequential_output(iterable)\n\u001B[1;32m   1917\u001B[0m     \u001B[38;5;28mnext\u001B[39m(output)\n\u001B[0;32m-> 1918\u001B[0m     \u001B[38;5;28;01mreturn\u001B[39;00m output \u001B[38;5;28;01mif\u001B[39;00m \u001B[38;5;28mself\u001B[39m\u001B[38;5;241m.\u001B[39mreturn_generator \u001B[38;5;28;01melse\u001B[39;00m \u001B[38;5;28;43mlist\u001B[39;49m\u001B[43m(\u001B[49m\u001B[43moutput\u001B[49m\u001B[43m)\u001B[49m\n\u001B[1;32m   1920\u001B[0m \u001B[38;5;66;03m# Let's create an ID that uniquely identifies the current call. If the\u001B[39;00m\n\u001B[1;32m   1921\u001B[0m \u001B[38;5;66;03m# call is interrupted early and that the same instance is immediately\u001B[39;00m\n\u001B[1;32m   1922\u001B[0m \u001B[38;5;66;03m# re-used, this id will be used to prevent workers that were\u001B[39;00m\n\u001B[1;32m   1923\u001B[0m \u001B[38;5;66;03m# concurrently finalizing a task from the previous call to run the\u001B[39;00m\n\u001B[1;32m   1924\u001B[0m \u001B[38;5;66;03m# callback.\u001B[39;00m\n\u001B[1;32m   1925\u001B[0m \u001B[38;5;28;01mwith\u001B[39;00m \u001B[38;5;28mself\u001B[39m\u001B[38;5;241m.\u001B[39m_lock:\n",
      "File \u001B[0;32m/opt/anaconda3/envs/forml/lib/python3.10/site-packages/joblib/parallel.py:1847\u001B[0m, in \u001B[0;36mParallel._get_sequential_output\u001B[0;34m(self, iterable)\u001B[0m\n\u001B[1;32m   1845\u001B[0m \u001B[38;5;28mself\u001B[39m\u001B[38;5;241m.\u001B[39mn_dispatched_batches \u001B[38;5;241m+\u001B[39m\u001B[38;5;241m=\u001B[39m \u001B[38;5;241m1\u001B[39m\n\u001B[1;32m   1846\u001B[0m \u001B[38;5;28mself\u001B[39m\u001B[38;5;241m.\u001B[39mn_dispatched_tasks \u001B[38;5;241m+\u001B[39m\u001B[38;5;241m=\u001B[39m \u001B[38;5;241m1\u001B[39m\n\u001B[0;32m-> 1847\u001B[0m res \u001B[38;5;241m=\u001B[39m \u001B[43mfunc\u001B[49m\u001B[43m(\u001B[49m\u001B[38;5;241;43m*\u001B[39;49m\u001B[43margs\u001B[49m\u001B[43m,\u001B[49m\u001B[43m \u001B[49m\u001B[38;5;241;43m*\u001B[39;49m\u001B[38;5;241;43m*\u001B[39;49m\u001B[43mkwargs\u001B[49m\u001B[43m)\u001B[49m\n\u001B[1;32m   1848\u001B[0m \u001B[38;5;28mself\u001B[39m\u001B[38;5;241m.\u001B[39mn_completed_tasks \u001B[38;5;241m+\u001B[39m\u001B[38;5;241m=\u001B[39m \u001B[38;5;241m1\u001B[39m\n\u001B[1;32m   1849\u001B[0m \u001B[38;5;28mself\u001B[39m\u001B[38;5;241m.\u001B[39mprint_progress()\n",
      "File \u001B[0;32m/opt/anaconda3/envs/forml/lib/python3.10/site-packages/sklearn/utils/parallel.py:136\u001B[0m, in \u001B[0;36m_FuncWrapper.__call__\u001B[0;34m(self, *args, **kwargs)\u001B[0m\n\u001B[1;32m    134\u001B[0m     config \u001B[38;5;241m=\u001B[39m {}\n\u001B[1;32m    135\u001B[0m \u001B[38;5;28;01mwith\u001B[39;00m config_context(\u001B[38;5;241m*\u001B[39m\u001B[38;5;241m*\u001B[39mconfig):\n\u001B[0;32m--> 136\u001B[0m     \u001B[38;5;28;01mreturn\u001B[39;00m \u001B[38;5;28;43mself\u001B[39;49m\u001B[38;5;241;43m.\u001B[39;49m\u001B[43mfunction\u001B[49m\u001B[43m(\u001B[49m\u001B[38;5;241;43m*\u001B[39;49m\u001B[43margs\u001B[49m\u001B[43m,\u001B[49m\u001B[43m \u001B[49m\u001B[38;5;241;43m*\u001B[39;49m\u001B[38;5;241;43m*\u001B[39;49m\u001B[43mkwargs\u001B[49m\u001B[43m)\u001B[49m\n",
      "File \u001B[0;32m/opt/anaconda3/envs/forml/lib/python3.10/site-packages/sklearn/linear_model/_logistic.py:455\u001B[0m, in \u001B[0;36m_logistic_regression_path\u001B[0;34m(X, y, pos_class, Cs, fit_intercept, max_iter, tol, verbose, solver, coef, class_weight, dual, penalty, intercept_scaling, multi_class, random_state, check_input, max_squared_sum, sample_weight, l1_ratio, n_threads)\u001B[0m\n\u001B[1;32m    451\u001B[0m l2_reg_strength \u001B[38;5;241m=\u001B[39m \u001B[38;5;241m1.0\u001B[39m \u001B[38;5;241m/\u001B[39m (C \u001B[38;5;241m*\u001B[39m sw_sum)\n\u001B[1;32m    452\u001B[0m iprint \u001B[38;5;241m=\u001B[39m [\u001B[38;5;241m-\u001B[39m\u001B[38;5;241m1\u001B[39m, \u001B[38;5;241m50\u001B[39m, \u001B[38;5;241m1\u001B[39m, \u001B[38;5;241m100\u001B[39m, \u001B[38;5;241m101\u001B[39m][\n\u001B[1;32m    453\u001B[0m     np\u001B[38;5;241m.\u001B[39msearchsorted(np\u001B[38;5;241m.\u001B[39marray([\u001B[38;5;241m0\u001B[39m, \u001B[38;5;241m1\u001B[39m, \u001B[38;5;241m2\u001B[39m, \u001B[38;5;241m3\u001B[39m]), verbose)\n\u001B[1;32m    454\u001B[0m ]\n\u001B[0;32m--> 455\u001B[0m opt_res \u001B[38;5;241m=\u001B[39m \u001B[43moptimize\u001B[49m\u001B[38;5;241;43m.\u001B[39;49m\u001B[43mminimize\u001B[49m\u001B[43m(\u001B[49m\n\u001B[1;32m    456\u001B[0m \u001B[43m    \u001B[49m\u001B[43mfunc\u001B[49m\u001B[43m,\u001B[49m\n\u001B[1;32m    457\u001B[0m \u001B[43m    \u001B[49m\u001B[43mw0\u001B[49m\u001B[43m,\u001B[49m\n\u001B[1;32m    458\u001B[0m \u001B[43m    \u001B[49m\u001B[43mmethod\u001B[49m\u001B[38;5;241;43m=\u001B[39;49m\u001B[38;5;124;43m\"\u001B[39;49m\u001B[38;5;124;43mL-BFGS-B\u001B[39;49m\u001B[38;5;124;43m\"\u001B[39;49m\u001B[43m,\u001B[49m\n\u001B[1;32m    459\u001B[0m \u001B[43m    \u001B[49m\u001B[43mjac\u001B[49m\u001B[38;5;241;43m=\u001B[39;49m\u001B[38;5;28;43;01mTrue\u001B[39;49;00m\u001B[43m,\u001B[49m\n\u001B[1;32m    460\u001B[0m \u001B[43m    \u001B[49m\u001B[43margs\u001B[49m\u001B[38;5;241;43m=\u001B[39;49m\u001B[43m(\u001B[49m\u001B[43mX\u001B[49m\u001B[43m,\u001B[49m\u001B[43m \u001B[49m\u001B[43mtarget\u001B[49m\u001B[43m,\u001B[49m\u001B[43m \u001B[49m\u001B[43msample_weight\u001B[49m\u001B[43m,\u001B[49m\u001B[43m \u001B[49m\u001B[43ml2_reg_strength\u001B[49m\u001B[43m,\u001B[49m\u001B[43m \u001B[49m\u001B[43mn_threads\u001B[49m\u001B[43m)\u001B[49m\u001B[43m,\u001B[49m\n\u001B[1;32m    461\u001B[0m \u001B[43m    \u001B[49m\u001B[43moptions\u001B[49m\u001B[38;5;241;43m=\u001B[39;49m\u001B[43m{\u001B[49m\n\u001B[1;32m    462\u001B[0m \u001B[43m        \u001B[49m\u001B[38;5;124;43m\"\u001B[39;49m\u001B[38;5;124;43mmaxiter\u001B[39;49m\u001B[38;5;124;43m\"\u001B[39;49m\u001B[43m:\u001B[49m\u001B[43m \u001B[49m\u001B[43mmax_iter\u001B[49m\u001B[43m,\u001B[49m\n\u001B[1;32m    463\u001B[0m \u001B[43m        \u001B[49m\u001B[38;5;124;43m\"\u001B[39;49m\u001B[38;5;124;43mmaxls\u001B[39;49m\u001B[38;5;124;43m\"\u001B[39;49m\u001B[43m:\u001B[49m\u001B[43m \u001B[49m\u001B[38;5;241;43m50\u001B[39;49m\u001B[43m,\u001B[49m\u001B[43m  \u001B[49m\u001B[38;5;66;43;03m# default is 20\u001B[39;49;00m\n\u001B[1;32m    464\u001B[0m \u001B[43m        \u001B[49m\u001B[38;5;124;43m\"\u001B[39;49m\u001B[38;5;124;43miprint\u001B[39;49m\u001B[38;5;124;43m\"\u001B[39;49m\u001B[43m:\u001B[49m\u001B[43m \u001B[49m\u001B[43miprint\u001B[49m\u001B[43m,\u001B[49m\n\u001B[1;32m    465\u001B[0m \u001B[43m        \u001B[49m\u001B[38;5;124;43m\"\u001B[39;49m\u001B[38;5;124;43mgtol\u001B[39;49m\u001B[38;5;124;43m\"\u001B[39;49m\u001B[43m:\u001B[49m\u001B[43m \u001B[49m\u001B[43mtol\u001B[49m\u001B[43m,\u001B[49m\n\u001B[1;32m    466\u001B[0m \u001B[43m        \u001B[49m\u001B[38;5;124;43m\"\u001B[39;49m\u001B[38;5;124;43mftol\u001B[39;49m\u001B[38;5;124;43m\"\u001B[39;49m\u001B[43m:\u001B[49m\u001B[43m \u001B[49m\u001B[38;5;241;43m64\u001B[39;49m\u001B[43m \u001B[49m\u001B[38;5;241;43m*\u001B[39;49m\u001B[43m \u001B[49m\u001B[43mnp\u001B[49m\u001B[38;5;241;43m.\u001B[39;49m\u001B[43mfinfo\u001B[49m\u001B[43m(\u001B[49m\u001B[38;5;28;43mfloat\u001B[39;49m\u001B[43m)\u001B[49m\u001B[38;5;241;43m.\u001B[39;49m\u001B[43meps\u001B[49m\u001B[43m,\u001B[49m\n\u001B[1;32m    467\u001B[0m \u001B[43m    \u001B[49m\u001B[43m}\u001B[49m\u001B[43m,\u001B[49m\n\u001B[1;32m    468\u001B[0m \u001B[43m\u001B[49m\u001B[43m)\u001B[49m\n\u001B[1;32m    469\u001B[0m n_iter_i \u001B[38;5;241m=\u001B[39m _check_optimize_result(\n\u001B[1;32m    470\u001B[0m     solver,\n\u001B[1;32m    471\u001B[0m     opt_res,\n\u001B[1;32m    472\u001B[0m     max_iter,\n\u001B[1;32m    473\u001B[0m     extra_warning_msg\u001B[38;5;241m=\u001B[39m_LOGISTIC_SOLVER_CONVERGENCE_MSG,\n\u001B[1;32m    474\u001B[0m )\n\u001B[1;32m    475\u001B[0m w0, loss \u001B[38;5;241m=\u001B[39m opt_res\u001B[38;5;241m.\u001B[39mx, opt_res\u001B[38;5;241m.\u001B[39mfun\n",
      "File \u001B[0;32m/opt/anaconda3/envs/forml/lib/python3.10/site-packages/scipy/optimize/_minimize.py:731\u001B[0m, in \u001B[0;36mminimize\u001B[0;34m(fun, x0, args, method, jac, hess, hessp, bounds, constraints, tol, callback, options)\u001B[0m\n\u001B[1;32m    728\u001B[0m     res \u001B[38;5;241m=\u001B[39m _minimize_newtoncg(fun, x0, args, jac, hess, hessp, callback,\n\u001B[1;32m    729\u001B[0m                              \u001B[38;5;241m*\u001B[39m\u001B[38;5;241m*\u001B[39moptions)\n\u001B[1;32m    730\u001B[0m \u001B[38;5;28;01melif\u001B[39;00m meth \u001B[38;5;241m==\u001B[39m \u001B[38;5;124m'\u001B[39m\u001B[38;5;124ml-bfgs-b\u001B[39m\u001B[38;5;124m'\u001B[39m:\n\u001B[0;32m--> 731\u001B[0m     res \u001B[38;5;241m=\u001B[39m \u001B[43m_minimize_lbfgsb\u001B[49m\u001B[43m(\u001B[49m\u001B[43mfun\u001B[49m\u001B[43m,\u001B[49m\u001B[43m \u001B[49m\u001B[43mx0\u001B[49m\u001B[43m,\u001B[49m\u001B[43m \u001B[49m\u001B[43margs\u001B[49m\u001B[43m,\u001B[49m\u001B[43m \u001B[49m\u001B[43mjac\u001B[49m\u001B[43m,\u001B[49m\u001B[43m \u001B[49m\u001B[43mbounds\u001B[49m\u001B[43m,\u001B[49m\n\u001B[1;32m    732\u001B[0m \u001B[43m                           \u001B[49m\u001B[43mcallback\u001B[49m\u001B[38;5;241;43m=\u001B[39;49m\u001B[43mcallback\u001B[49m\u001B[43m,\u001B[49m\u001B[43m \u001B[49m\u001B[38;5;241;43m*\u001B[39;49m\u001B[38;5;241;43m*\u001B[39;49m\u001B[43moptions\u001B[49m\u001B[43m)\u001B[49m\n\u001B[1;32m    733\u001B[0m \u001B[38;5;28;01melif\u001B[39;00m meth \u001B[38;5;241m==\u001B[39m \u001B[38;5;124m'\u001B[39m\u001B[38;5;124mtnc\u001B[39m\u001B[38;5;124m'\u001B[39m:\n\u001B[1;32m    734\u001B[0m     res \u001B[38;5;241m=\u001B[39m _minimize_tnc(fun, x0, args, jac, bounds, callback\u001B[38;5;241m=\u001B[39mcallback,\n\u001B[1;32m    735\u001B[0m                         \u001B[38;5;241m*\u001B[39m\u001B[38;5;241m*\u001B[39moptions)\n",
      "File \u001B[0;32m/opt/anaconda3/envs/forml/lib/python3.10/site-packages/scipy/optimize/_lbfgsb_py.py:347\u001B[0m, in \u001B[0;36m_minimize_lbfgsb\u001B[0;34m(fun, x0, args, jac, bounds, disp, maxcor, ftol, gtol, eps, maxfun, maxiter, iprint, callback, maxls, finite_diff_rel_step, **unknown_options)\u001B[0m\n\u001B[1;32m    344\u001B[0m         iprint \u001B[38;5;241m=\u001B[39m disp\n\u001B[1;32m    346\u001B[0m \u001B[38;5;66;03m# _prepare_scalar_function can use bounds=None to represent no bounds\u001B[39;00m\n\u001B[0;32m--> 347\u001B[0m sf \u001B[38;5;241m=\u001B[39m \u001B[43m_prepare_scalar_function\u001B[49m\u001B[43m(\u001B[49m\u001B[43mfun\u001B[49m\u001B[43m,\u001B[49m\u001B[43m \u001B[49m\u001B[43mx0\u001B[49m\u001B[43m,\u001B[49m\u001B[43m \u001B[49m\u001B[43mjac\u001B[49m\u001B[38;5;241;43m=\u001B[39;49m\u001B[43mjac\u001B[49m\u001B[43m,\u001B[49m\u001B[43m \u001B[49m\u001B[43margs\u001B[49m\u001B[38;5;241;43m=\u001B[39;49m\u001B[43margs\u001B[49m\u001B[43m,\u001B[49m\u001B[43m \u001B[49m\u001B[43mepsilon\u001B[49m\u001B[38;5;241;43m=\u001B[39;49m\u001B[43meps\u001B[49m\u001B[43m,\u001B[49m\n\u001B[1;32m    348\u001B[0m \u001B[43m                              \u001B[49m\u001B[43mbounds\u001B[49m\u001B[38;5;241;43m=\u001B[39;49m\u001B[43mbounds\u001B[49m\u001B[43m,\u001B[49m\n\u001B[1;32m    349\u001B[0m \u001B[43m                              \u001B[49m\u001B[43mfinite_diff_rel_step\u001B[49m\u001B[38;5;241;43m=\u001B[39;49m\u001B[43mfinite_diff_rel_step\u001B[49m\u001B[43m)\u001B[49m\n\u001B[1;32m    351\u001B[0m func_and_grad \u001B[38;5;241m=\u001B[39m sf\u001B[38;5;241m.\u001B[39mfun_and_grad\n\u001B[1;32m    353\u001B[0m fortran_int \u001B[38;5;241m=\u001B[39m _lbfgsb\u001B[38;5;241m.\u001B[39mtypes\u001B[38;5;241m.\u001B[39mintvar\u001B[38;5;241m.\u001B[39mdtype\n",
      "File \u001B[0;32m/opt/anaconda3/envs/forml/lib/python3.10/site-packages/scipy/optimize/_optimize.py:288\u001B[0m, in \u001B[0;36m_prepare_scalar_function\u001B[0;34m(fun, x0, jac, args, bounds, epsilon, finite_diff_rel_step, hess)\u001B[0m\n\u001B[1;32m    284\u001B[0m     bounds \u001B[38;5;241m=\u001B[39m (\u001B[38;5;241m-\u001B[39mnp\u001B[38;5;241m.\u001B[39minf, np\u001B[38;5;241m.\u001B[39minf)\n\u001B[1;32m    286\u001B[0m \u001B[38;5;66;03m# ScalarFunction caches. Reuse of fun(x) during grad\u001B[39;00m\n\u001B[1;32m    287\u001B[0m \u001B[38;5;66;03m# calculation reduces overall function evaluations.\u001B[39;00m\n\u001B[0;32m--> 288\u001B[0m sf \u001B[38;5;241m=\u001B[39m \u001B[43mScalarFunction\u001B[49m\u001B[43m(\u001B[49m\u001B[43mfun\u001B[49m\u001B[43m,\u001B[49m\u001B[43m \u001B[49m\u001B[43mx0\u001B[49m\u001B[43m,\u001B[49m\u001B[43m \u001B[49m\u001B[43margs\u001B[49m\u001B[43m,\u001B[49m\u001B[43m \u001B[49m\u001B[43mgrad\u001B[49m\u001B[43m,\u001B[49m\u001B[43m \u001B[49m\u001B[43mhess\u001B[49m\u001B[43m,\u001B[49m\n\u001B[1;32m    289\u001B[0m \u001B[43m                    \u001B[49m\u001B[43mfinite_diff_rel_step\u001B[49m\u001B[43m,\u001B[49m\u001B[43m \u001B[49m\u001B[43mbounds\u001B[49m\u001B[43m,\u001B[49m\u001B[43m \u001B[49m\u001B[43mepsilon\u001B[49m\u001B[38;5;241;43m=\u001B[39;49m\u001B[43mepsilon\u001B[49m\u001B[43m)\u001B[49m\n\u001B[1;32m    291\u001B[0m \u001B[38;5;28;01mreturn\u001B[39;00m sf\n",
      "File \u001B[0;32m/opt/anaconda3/envs/forml/lib/python3.10/site-packages/scipy/optimize/_differentiable_functions.py:222\u001B[0m, in \u001B[0;36mScalarFunction.__init__\u001B[0;34m(self, fun, x0, args, grad, hess, finite_diff_rel_step, finite_diff_bounds, epsilon)\u001B[0m\n\u001B[1;32m    219\u001B[0m     finite_diff_options[\u001B[38;5;124m\"\u001B[39m\u001B[38;5;124mas_linear_operator\u001B[39m\u001B[38;5;124m\"\u001B[39m] \u001B[38;5;241m=\u001B[39m \u001B[38;5;28;01mTrue\u001B[39;00m\n\u001B[1;32m    221\u001B[0m \u001B[38;5;66;03m# Initial function evaluation\u001B[39;00m\n\u001B[0;32m--> 222\u001B[0m \u001B[38;5;28;43mself\u001B[39;49m\u001B[38;5;241;43m.\u001B[39;49m\u001B[43m_update_fun\u001B[49m\u001B[43m(\u001B[49m\u001B[43m)\u001B[49m\n\u001B[1;32m    224\u001B[0m \u001B[38;5;66;03m# Initial gradient evaluation\u001B[39;00m\n\u001B[1;32m    225\u001B[0m \u001B[38;5;28mself\u001B[39m\u001B[38;5;241m.\u001B[39m_wrapped_grad, \u001B[38;5;28mself\u001B[39m\u001B[38;5;241m.\u001B[39m_ngev \u001B[38;5;241m=\u001B[39m _wrapper_grad(\n\u001B[1;32m    226\u001B[0m     grad,\n\u001B[1;32m    227\u001B[0m     fun\u001B[38;5;241m=\u001B[39m\u001B[38;5;28mself\u001B[39m\u001B[38;5;241m.\u001B[39m_wrapped_fun,\n\u001B[1;32m    228\u001B[0m     args\u001B[38;5;241m=\u001B[39margs,\n\u001B[1;32m    229\u001B[0m     finite_diff_options\u001B[38;5;241m=\u001B[39mfinite_diff_options\n\u001B[1;32m    230\u001B[0m )\n",
      "File \u001B[0;32m/opt/anaconda3/envs/forml/lib/python3.10/site-packages/scipy/optimize/_differentiable_functions.py:294\u001B[0m, in \u001B[0;36mScalarFunction._update_fun\u001B[0;34m(self)\u001B[0m\n\u001B[1;32m    292\u001B[0m \u001B[38;5;28;01mdef\u001B[39;00m \u001B[38;5;21m_update_fun\u001B[39m(\u001B[38;5;28mself\u001B[39m):\n\u001B[1;32m    293\u001B[0m     \u001B[38;5;28;01mif\u001B[39;00m \u001B[38;5;129;01mnot\u001B[39;00m \u001B[38;5;28mself\u001B[39m\u001B[38;5;241m.\u001B[39mf_updated:\n\u001B[0;32m--> 294\u001B[0m         fx \u001B[38;5;241m=\u001B[39m \u001B[38;5;28;43mself\u001B[39;49m\u001B[38;5;241;43m.\u001B[39;49m\u001B[43m_wrapped_fun\u001B[49m\u001B[43m(\u001B[49m\u001B[38;5;28;43mself\u001B[39;49m\u001B[38;5;241;43m.\u001B[39;49m\u001B[43mx\u001B[49m\u001B[43m)\u001B[49m\n\u001B[1;32m    295\u001B[0m         \u001B[38;5;28;01mif\u001B[39;00m fx \u001B[38;5;241m<\u001B[39m \u001B[38;5;28mself\u001B[39m\u001B[38;5;241m.\u001B[39m_lowest_f:\n\u001B[1;32m    296\u001B[0m             \u001B[38;5;28mself\u001B[39m\u001B[38;5;241m.\u001B[39m_lowest_x \u001B[38;5;241m=\u001B[39m \u001B[38;5;28mself\u001B[39m\u001B[38;5;241m.\u001B[39mx\n",
      "File \u001B[0;32m/opt/anaconda3/envs/forml/lib/python3.10/site-packages/scipy/optimize/_differentiable_functions.py:20\u001B[0m, in \u001B[0;36m_wrapper_fun.<locals>.wrapped\u001B[0;34m(x)\u001B[0m\n\u001B[1;32m     16\u001B[0m ncalls[\u001B[38;5;241m0\u001B[39m] \u001B[38;5;241m+\u001B[39m\u001B[38;5;241m=\u001B[39m \u001B[38;5;241m1\u001B[39m\n\u001B[1;32m     17\u001B[0m \u001B[38;5;66;03m# Send a copy because the user may overwrite it.\u001B[39;00m\n\u001B[1;32m     18\u001B[0m \u001B[38;5;66;03m# Overwriting results in undefined behaviour because\u001B[39;00m\n\u001B[1;32m     19\u001B[0m \u001B[38;5;66;03m# fun(self.x) will change self.x, with the two no longer linked.\u001B[39;00m\n\u001B[0;32m---> 20\u001B[0m fx \u001B[38;5;241m=\u001B[39m \u001B[43mfun\u001B[49m\u001B[43m(\u001B[49m\u001B[43mnp\u001B[49m\u001B[38;5;241;43m.\u001B[39;49m\u001B[43mcopy\u001B[49m\u001B[43m(\u001B[49m\u001B[43mx\u001B[49m\u001B[43m)\u001B[49m\u001B[43m,\u001B[49m\u001B[43m \u001B[49m\u001B[38;5;241;43m*\u001B[39;49m\u001B[43margs\u001B[49m\u001B[43m)\u001B[49m\n\u001B[1;32m     21\u001B[0m \u001B[38;5;66;03m# Make sure the function returns a true scalar\u001B[39;00m\n\u001B[1;32m     22\u001B[0m \u001B[38;5;28;01mif\u001B[39;00m \u001B[38;5;129;01mnot\u001B[39;00m np\u001B[38;5;241m.\u001B[39misscalar(fx):\n",
      "File \u001B[0;32m/opt/anaconda3/envs/forml/lib/python3.10/site-packages/scipy/optimize/_optimize.py:79\u001B[0m, in \u001B[0;36mMemoizeJac.__call__\u001B[0;34m(self, x, *args)\u001B[0m\n\u001B[1;32m     77\u001B[0m \u001B[38;5;28;01mdef\u001B[39;00m \u001B[38;5;21m__call__\u001B[39m(\u001B[38;5;28mself\u001B[39m, x, \u001B[38;5;241m*\u001B[39margs):\n\u001B[1;32m     78\u001B[0m \u001B[38;5;250m    \u001B[39m\u001B[38;5;124;03m\"\"\" returns the function value \"\"\"\u001B[39;00m\n\u001B[0;32m---> 79\u001B[0m     \u001B[38;5;28;43mself\u001B[39;49m\u001B[38;5;241;43m.\u001B[39;49m\u001B[43m_compute_if_needed\u001B[49m\u001B[43m(\u001B[49m\u001B[43mx\u001B[49m\u001B[43m,\u001B[49m\u001B[43m \u001B[49m\u001B[38;5;241;43m*\u001B[39;49m\u001B[43margs\u001B[49m\u001B[43m)\u001B[49m\n\u001B[1;32m     80\u001B[0m     \u001B[38;5;28;01mreturn\u001B[39;00m \u001B[38;5;28mself\u001B[39m\u001B[38;5;241m.\u001B[39m_value\n",
      "File \u001B[0;32m/opt/anaconda3/envs/forml/lib/python3.10/site-packages/scipy/optimize/_optimize.py:73\u001B[0m, in \u001B[0;36mMemoizeJac._compute_if_needed\u001B[0;34m(self, x, *args)\u001B[0m\n\u001B[1;32m     71\u001B[0m \u001B[38;5;28;01mif\u001B[39;00m \u001B[38;5;129;01mnot\u001B[39;00m np\u001B[38;5;241m.\u001B[39mall(x \u001B[38;5;241m==\u001B[39m \u001B[38;5;28mself\u001B[39m\u001B[38;5;241m.\u001B[39mx) \u001B[38;5;129;01mor\u001B[39;00m \u001B[38;5;28mself\u001B[39m\u001B[38;5;241m.\u001B[39m_value \u001B[38;5;129;01mis\u001B[39;00m \u001B[38;5;28;01mNone\u001B[39;00m \u001B[38;5;129;01mor\u001B[39;00m \u001B[38;5;28mself\u001B[39m\u001B[38;5;241m.\u001B[39mjac \u001B[38;5;129;01mis\u001B[39;00m \u001B[38;5;28;01mNone\u001B[39;00m:\n\u001B[1;32m     72\u001B[0m     \u001B[38;5;28mself\u001B[39m\u001B[38;5;241m.\u001B[39mx \u001B[38;5;241m=\u001B[39m np\u001B[38;5;241m.\u001B[39masarray(x)\u001B[38;5;241m.\u001B[39mcopy()\n\u001B[0;32m---> 73\u001B[0m     fg \u001B[38;5;241m=\u001B[39m \u001B[38;5;28;43mself\u001B[39;49m\u001B[38;5;241;43m.\u001B[39;49m\u001B[43mfun\u001B[49m\u001B[43m(\u001B[49m\u001B[43mx\u001B[49m\u001B[43m,\u001B[49m\u001B[43m \u001B[49m\u001B[38;5;241;43m*\u001B[39;49m\u001B[43margs\u001B[49m\u001B[43m)\u001B[49m\n\u001B[1;32m     74\u001B[0m     \u001B[38;5;28mself\u001B[39m\u001B[38;5;241m.\u001B[39mjac \u001B[38;5;241m=\u001B[39m fg[\u001B[38;5;241m1\u001B[39m]\n\u001B[1;32m     75\u001B[0m     \u001B[38;5;28mself\u001B[39m\u001B[38;5;241m.\u001B[39m_value \u001B[38;5;241m=\u001B[39m fg[\u001B[38;5;241m0\u001B[39m]\n",
      "File \u001B[0;32m/opt/anaconda3/envs/forml/lib/python3.10/site-packages/sklearn/linear_model/_linear_loss.py:303\u001B[0m, in \u001B[0;36mLinearModelLoss.loss_gradient\u001B[0;34m(self, coef, X, y, sample_weight, l2_reg_strength, n_threads, raw_prediction)\u001B[0m\n\u001B[1;32m    301\u001B[0m grad[:, :n_features] \u001B[38;5;241m=\u001B[39m grad_pointwise\u001B[38;5;241m.\u001B[39mT \u001B[38;5;241m@\u001B[39m X \u001B[38;5;241m+\u001B[39m l2_reg_strength \u001B[38;5;241m*\u001B[39m weights\n\u001B[1;32m    302\u001B[0m \u001B[38;5;28;01mif\u001B[39;00m \u001B[38;5;28mself\u001B[39m\u001B[38;5;241m.\u001B[39mfit_intercept:\n\u001B[0;32m--> 303\u001B[0m     grad[:, \u001B[38;5;241m-\u001B[39m\u001B[38;5;241m1\u001B[39m] \u001B[38;5;241m=\u001B[39m \u001B[43mgrad_pointwise\u001B[49m\u001B[38;5;241;43m.\u001B[39;49m\u001B[43msum\u001B[49m\u001B[43m(\u001B[49m\u001B[43maxis\u001B[49m\u001B[38;5;241;43m=\u001B[39;49m\u001B[38;5;241;43m0\u001B[39;49m\u001B[43m)\u001B[49m\n\u001B[1;32m    304\u001B[0m \u001B[38;5;28;01mif\u001B[39;00m coef\u001B[38;5;241m.\u001B[39mndim \u001B[38;5;241m==\u001B[39m \u001B[38;5;241m1\u001B[39m:\n\u001B[1;32m    305\u001B[0m     grad \u001B[38;5;241m=\u001B[39m grad\u001B[38;5;241m.\u001B[39mravel(order\u001B[38;5;241m=\u001B[39m\u001B[38;5;124m\"\u001B[39m\u001B[38;5;124mF\u001B[39m\u001B[38;5;124m\"\u001B[39m)\n",
      "File \u001B[0;32m/opt/anaconda3/envs/forml/lib/python3.10/site-packages/numpy/_core/_methods.py:51\u001B[0m, in \u001B[0;36m_sum\u001B[0;34m(a, axis, dtype, out, keepdims, initial, where)\u001B[0m\n\u001B[1;32m     47\u001B[0m \u001B[38;5;28;01mdef\u001B[39;00m \u001B[38;5;21m_amin\u001B[39m(a, axis\u001B[38;5;241m=\u001B[39m\u001B[38;5;28;01mNone\u001B[39;00m, out\u001B[38;5;241m=\u001B[39m\u001B[38;5;28;01mNone\u001B[39;00m, keepdims\u001B[38;5;241m=\u001B[39m\u001B[38;5;28;01mFalse\u001B[39;00m,\n\u001B[1;32m     48\u001B[0m           initial\u001B[38;5;241m=\u001B[39m_NoValue, where\u001B[38;5;241m=\u001B[39m\u001B[38;5;28;01mTrue\u001B[39;00m):\n\u001B[1;32m     49\u001B[0m     \u001B[38;5;28;01mreturn\u001B[39;00m umr_minimum(a, axis, \u001B[38;5;28;01mNone\u001B[39;00m, out, keepdims, initial, where)\n\u001B[0;32m---> 51\u001B[0m \u001B[38;5;28;01mdef\u001B[39;00m \u001B[38;5;21m_sum\u001B[39m(a, axis\u001B[38;5;241m=\u001B[39m\u001B[38;5;28;01mNone\u001B[39;00m, dtype\u001B[38;5;241m=\u001B[39m\u001B[38;5;28;01mNone\u001B[39;00m, out\u001B[38;5;241m=\u001B[39m\u001B[38;5;28;01mNone\u001B[39;00m, keepdims\u001B[38;5;241m=\u001B[39m\u001B[38;5;28;01mFalse\u001B[39;00m,\n\u001B[1;32m     52\u001B[0m          initial\u001B[38;5;241m=\u001B[39m_NoValue, where\u001B[38;5;241m=\u001B[39m\u001B[38;5;28;01mTrue\u001B[39;00m):\n\u001B[1;32m     53\u001B[0m     \u001B[38;5;28;01mreturn\u001B[39;00m umr_sum(a, axis, dtype, out, keepdims, initial, where)\n\u001B[1;32m     55\u001B[0m \u001B[38;5;28;01mdef\u001B[39;00m \u001B[38;5;21m_prod\u001B[39m(a, axis\u001B[38;5;241m=\u001B[39m\u001B[38;5;28;01mNone\u001B[39;00m, dtype\u001B[38;5;241m=\u001B[39m\u001B[38;5;28;01mNone\u001B[39;00m, out\u001B[38;5;241m=\u001B[39m\u001B[38;5;28;01mNone\u001B[39;00m, keepdims\u001B[38;5;241m=\u001B[39m\u001B[38;5;28;01mFalse\u001B[39;00m,\n\u001B[1;32m     56\u001B[0m           initial\u001B[38;5;241m=\u001B[39m_NoValue, where\u001B[38;5;241m=\u001B[39m\u001B[38;5;28;01mTrue\u001B[39;00m):\n",
      "\u001B[0;31mKeyboardInterrupt\u001B[0m: "
     ]
    }
   ],
   "execution_count": 83
  },
  {
   "metadata": {},
   "cell_type": "code",
   "outputs": [],
   "execution_count": null,
   "source": "",
   "id": "b5e89dacd3930ee5"
  }
 ],
 "metadata": {
  "kernelspec": {
   "display_name": "Python 3",
   "language": "python",
   "name": "python3"
  },
  "language_info": {
   "codemirror_mode": {
    "name": "ipython",
    "version": 2
   },
   "file_extension": ".py",
   "mimetype": "text/x-python",
   "name": "python",
   "nbconvert_exporter": "python",
   "pygments_lexer": "ipython2",
   "version": "2.7.6"
  }
 },
 "nbformat": 4,
 "nbformat_minor": 5
}
