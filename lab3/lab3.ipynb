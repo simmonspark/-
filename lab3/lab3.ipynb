{
 "cells": [
  {
   "cell_type": "code",
   "id": "22ea0b1b02caf0e7",
   "metadata": {
    "collapsed": true,
    "ExecuteTime": {
     "end_time": "2024-10-06T17:17:15.052018Z",
     "start_time": "2024-10-06T17:17:14.444970Z"
    }
   },
   "source": [
    "import numpy as np\n",
    "import pandas as pd\n",
    "import matplotlib.pyplot as plt\n",
    "from scipy.ndimage import median_filter, rotate, shift\n",
    "from sklearn.model_selection import train_test_split\n",
    "from sklearn.ensemble import RandomForestClassifier\n",
    "from sklearn.metrics import accuracy_score, precision_score, recall_score"
   ],
   "outputs": [],
   "execution_count": 1
  },
  {
   "metadata": {
    "ExecuteTime": {
     "end_time": "2024-10-06T17:17:35.111673Z",
     "start_time": "2024-10-06T17:17:15.053047Z"
    }
   },
   "cell_type": "code",
   "source": [
    "df = pd.read_pickle(\"/media/sien/DATA/다운로드/LSWMD.pkl\")  #/media/sien/DATA/다운로드/LSWMD.pkl /Users/unsi/Downloads/LSWMD.pkl\n"
   ],
   "id": "3454bfaf00470b55",
   "outputs": [],
   "execution_count": 2
  },
  {
   "metadata": {
    "ExecuteTime": {
     "end_time": "2024-10-06T17:17:35.114242Z",
     "start_time": "2024-10-06T17:17:35.112372Z"
    }
   },
   "cell_type": "code",
   "source": [
    "class2idx = {\n",
    "    'Loc': 0,\n",
    "    'Edge-Loc': 1,\n",
    "    'Center': 2,\n",
    "    'Edge-Ring': 3,\n",
    "    'Scratch': 4,\n",
    "    'Random': 5,\n",
    "    'Near-full': 6,\n",
    "    'Donut': 7,\n",
    "    'pass': 8\n",
    "}"
   ],
   "id": "7f128b7eb8545e1f",
   "outputs": [],
   "execution_count": 3
  },
  {
   "metadata": {
    "ExecuteTime": {
     "end_time": "2024-10-06T17:17:35.116670Z",
     "start_time": "2024-10-06T17:17:35.115056Z"
    }
   },
   "cell_type": "code",
   "source": [
    "tmp = df.loc[0]"
   ],
   "id": "f79285fd9ae503ee",
   "outputs": [],
   "execution_count": 4
  },
  {
   "cell_type": "code",
   "source": [
    "tmp['waferMap'].shape"
   ],
   "metadata": {
    "collapsed": false,
    "ExecuteTime": {
     "end_time": "2024-10-06T17:17:35.120143Z",
     "start_time": "2024-10-06T17:17:35.117138Z"
    }
   },
   "id": "9a649d970cd0b01",
   "outputs": [
    {
     "data": {
      "text/plain": "(45, 48)"
     },
     "execution_count": 5,
     "metadata": {},
     "output_type": "execute_result"
    }
   ],
   "execution_count": 5
  },
  {
   "cell_type": "code",
   "source": [
    "df = df[df['waferMap'].apply(lambda x: x.shape == (26, 26))]"
   ],
   "metadata": {
    "collapsed": false,
    "ExecuteTime": {
     "end_time": "2024-10-06T17:17:35.340550Z",
     "start_time": "2024-10-06T17:17:35.120756Z"
    }
   },
   "id": "cfe2763cd792387b",
   "outputs": [],
   "execution_count": 6
  },
  {
   "cell_type": "code",
   "source": [
    "df"
   ],
   "metadata": {
    "collapsed": false,
    "ExecuteTime": {
     "end_time": "2024-10-06T17:17:35.410036Z",
     "start_time": "2024-10-06T17:17:35.369396Z"
    }
   },
   "id": "679452bf93c33f5d",
   "outputs": [
    {
     "data": {
      "text/plain": "                                                 waferMap  dieSize   lotName  \\\n150     [[0, 0, 0, 0, 0, 0, 0, 0, 0, 0, 2, 2, 1, 1, 2,...    533.0      lot7   \n151     [[0, 0, 0, 0, 0, 0, 0, 0, 0, 0, 2, 1, 1, 1, 1,...    533.0      lot7   \n152     [[0, 0, 0, 0, 0, 0, 0, 0, 0, 0, 1, 2, 1, 1, 1,...    533.0      lot7   \n153     [[0, 0, 0, 0, 0, 0, 0, 0, 0, 0, 1, 2, 2, 1, 1,...    533.0      lot7   \n154     [[0, 0, 0, 0, 0, 0, 0, 0, 0, 0, 2, 2, 2, 2, 2,...    533.0      lot7   \n...                                                   ...      ...       ...   \n679275  [[0, 0, 0, 0, 0, 0, 0, 0, 0, 0, 1, 2, 1, 1, 1,...    533.0  lot42180   \n679276  [[0, 0, 0, 0, 0, 0, 0, 0, 0, 0, 1, 2, 1, 2, 2,...    533.0  lot42180   \n679277  [[0, 0, 0, 0, 0, 0, 0, 0, 0, 0, 1, 1, 2, 1, 1,...    533.0  lot42180   \n679278  [[0, 0, 0, 0, 0, 0, 0, 0, 0, 0, 1, 2, 1, 1, 2,...    533.0  lot42180   \n679279  [[0, 0, 0, 0, 0, 0, 0, 0, 0, 0, 2, 2, 1, 2, 1,...    533.0  lot42180   \n\n        waferIndex trianTestLabel failureType  \n150            1.0   [[Training]]    [[none]]  \n151            2.0   [[Training]]    [[none]]  \n152            3.0   [[Training]]    [[none]]  \n153            4.0   [[Training]]    [[none]]  \n154            5.0   [[Training]]    [[none]]  \n...            ...            ...         ...  \n679275        20.0             []          []  \n679276        21.0             []          []  \n679277        22.0             []          []  \n679278        23.0             []          []  \n679279        24.0             []          []  \n\n[30078 rows x 6 columns]",
      "text/html": "<div>\n<style scoped>\n    .dataframe tbody tr th:only-of-type {\n        vertical-align: middle;\n    }\n\n    .dataframe tbody tr th {\n        vertical-align: top;\n    }\n\n    .dataframe thead th {\n        text-align: right;\n    }\n</style>\n<table border=\"1\" class=\"dataframe\">\n  <thead>\n    <tr style=\"text-align: right;\">\n      <th></th>\n      <th>waferMap</th>\n      <th>dieSize</th>\n      <th>lotName</th>\n      <th>waferIndex</th>\n      <th>trianTestLabel</th>\n      <th>failureType</th>\n    </tr>\n  </thead>\n  <tbody>\n    <tr>\n      <th>150</th>\n      <td>[[0, 0, 0, 0, 0, 0, 0, 0, 0, 0, 2, 2, 1, 1, 2,...</td>\n      <td>533.0</td>\n      <td>lot7</td>\n      <td>1.0</td>\n      <td>[[Training]]</td>\n      <td>[[none]]</td>\n    </tr>\n    <tr>\n      <th>151</th>\n      <td>[[0, 0, 0, 0, 0, 0, 0, 0, 0, 0, 2, 1, 1, 1, 1,...</td>\n      <td>533.0</td>\n      <td>lot7</td>\n      <td>2.0</td>\n      <td>[[Training]]</td>\n      <td>[[none]]</td>\n    </tr>\n    <tr>\n      <th>152</th>\n      <td>[[0, 0, 0, 0, 0, 0, 0, 0, 0, 0, 1, 2, 1, 1, 1,...</td>\n      <td>533.0</td>\n      <td>lot7</td>\n      <td>3.0</td>\n      <td>[[Training]]</td>\n      <td>[[none]]</td>\n    </tr>\n    <tr>\n      <th>153</th>\n      <td>[[0, 0, 0, 0, 0, 0, 0, 0, 0, 0, 1, 2, 2, 1, 1,...</td>\n      <td>533.0</td>\n      <td>lot7</td>\n      <td>4.0</td>\n      <td>[[Training]]</td>\n      <td>[[none]]</td>\n    </tr>\n    <tr>\n      <th>154</th>\n      <td>[[0, 0, 0, 0, 0, 0, 0, 0, 0, 0, 2, 2, 2, 2, 2,...</td>\n      <td>533.0</td>\n      <td>lot7</td>\n      <td>5.0</td>\n      <td>[[Training]]</td>\n      <td>[[none]]</td>\n    </tr>\n    <tr>\n      <th>...</th>\n      <td>...</td>\n      <td>...</td>\n      <td>...</td>\n      <td>...</td>\n      <td>...</td>\n      <td>...</td>\n    </tr>\n    <tr>\n      <th>679275</th>\n      <td>[[0, 0, 0, 0, 0, 0, 0, 0, 0, 0, 1, 2, 1, 1, 1,...</td>\n      <td>533.0</td>\n      <td>lot42180</td>\n      <td>20.0</td>\n      <td>[]</td>\n      <td>[]</td>\n    </tr>\n    <tr>\n      <th>679276</th>\n      <td>[[0, 0, 0, 0, 0, 0, 0, 0, 0, 0, 1, 2, 1, 2, 2,...</td>\n      <td>533.0</td>\n      <td>lot42180</td>\n      <td>21.0</td>\n      <td>[]</td>\n      <td>[]</td>\n    </tr>\n    <tr>\n      <th>679277</th>\n      <td>[[0, 0, 0, 0, 0, 0, 0, 0, 0, 0, 1, 1, 2, 1, 1,...</td>\n      <td>533.0</td>\n      <td>lot42180</td>\n      <td>22.0</td>\n      <td>[]</td>\n      <td>[]</td>\n    </tr>\n    <tr>\n      <th>679278</th>\n      <td>[[0, 0, 0, 0, 0, 0, 0, 0, 0, 0, 1, 2, 1, 1, 2,...</td>\n      <td>533.0</td>\n      <td>lot42180</td>\n      <td>23.0</td>\n      <td>[]</td>\n      <td>[]</td>\n    </tr>\n    <tr>\n      <th>679279</th>\n      <td>[[0, 0, 0, 0, 0, 0, 0, 0, 0, 0, 2, 2, 1, 2, 1,...</td>\n      <td>533.0</td>\n      <td>lot42180</td>\n      <td>24.0</td>\n      <td>[]</td>\n      <td>[]</td>\n    </tr>\n  </tbody>\n</table>\n<p>30078 rows × 6 columns</p>\n</div>"
     },
     "execution_count": 7,
     "metadata": {},
     "output_type": "execute_result"
    }
   ],
   "execution_count": 7
  },
  {
   "cell_type": "code",
   "source": [],
   "metadata": {
    "collapsed": false,
    "ExecuteTime": {
     "end_time": "2024-10-06T17:17:35.411861Z",
     "start_time": "2024-10-06T17:17:35.410597Z"
    }
   },
   "id": "bc0a709e67a3b5e6",
   "outputs": [],
   "execution_count": 7
  },
  {
   "cell_type": "code",
   "source": [
    "import numpy as np\n",
    "\n",
    "# class2idx 딕셔너리 (예시)\n",
    "class2idx = {\n",
    "    'Loc': 0,\n",
    "    'Edge-Loc': 1,\n",
    "    'Center': 2,\n",
    "    'Edge-Ring': 3,\n",
    "    'Scratch': 4,\n",
    "    'Random': 5,\n",
    "    'Near-full': 6,\n",
    "    'Donut': 7\n",
    "}\n",
    "\n",
    "'''def map_failure_type(x):\n",
    "    # 'none' 문자열 처리\n",
    "    if isinstance(x, str) and x == 'none':\n",
    "        return 8\n",
    "    # None 값 처리\n",
    "    elif x is None:\n",
    "        return 8\n",
    "    # 배열 처리\n",
    "    elif isinstance(x, np.ndarray):\n",
    "        # 배열이 비어있는지 확인\n",
    "        if x.size == 0:\n",
    "            return 8\n",
    "        else:\n",
    "            # 배열의 모든 값이 'none'인 경우 처리\n",
    "            first_element = str(x[0])\n",
    "            return class2idx.get(first_element, 8)\n",
    "    # 리스트 처리\n",
    "    elif isinstance(x, list):\n",
    "        # 리스트가 비어있는지 확인\n",
    "        if len(x) == 0:\n",
    "            return 8\n",
    "        else:\n",
    "            # 리스트의 첫 번째 값 사용\n",
    "            first_element = str(x[0])\n",
    "            return class2idx.get(first_element, 8)\n",
    "    # 그 외 (정상 값 또는 다른 형태의 값 처리)\n",
    "    else:\n",
    "        return class2idx.get(str(x), 8)'''\n",
    "\n",
    "\n",
    "def map_failure_type(failure_list):\n",
    "    # numpy array를 리스트로 변환\n",
    "    if isinstance(failure_list, np.ndarray):\n",
    "        failure_list = failure_list.tolist()\n",
    "\n",
    "    # 리스트 안에 리스트가 있는 경우 첫 번째 원소를 가져오기\n",
    "    while isinstance(failure_list, list) and len(failure_list) > 0 and isinstance(failure_list[0], list):\n",
    "        failure_list = failure_list[0]\n",
    "\n",
    "    if not failure_list or failure_list[0] in ['none', None]:\n",
    "        return 8\n",
    "    return class2idx.get(failure_list[0], 8)\n",
    "\n",
    "\n",
    "# apply로 처리\n",
    "df['failureType'] = df['failureType'].apply(map_failure_type)\n",
    "\n",
    "# 결과 확인\n",
    "print(df['failureType'])\n"
   ],
   "metadata": {
    "collapsed": false,
    "ExecuteTime": {
     "end_time": "2024-10-06T17:17:35.425012Z",
     "start_time": "2024-10-06T17:17:35.412369Z"
    }
   },
   "id": "1488daf2b223ee10",
   "outputs": [
    {
     "name": "stdout",
     "output_type": "stream",
     "text": [
      "150       8\n",
      "151       8\n",
      "152       8\n",
      "153       8\n",
      "154       8\n",
      "         ..\n",
      "679275    8\n",
      "679276    8\n",
      "679277    8\n",
      "679278    8\n",
      "679279    8\n",
      "Name: failureType, Length: 30078, dtype: int64\n"
     ]
    }
   ],
   "execution_count": 8
  },
  {
   "cell_type": "code",
   "source": [
    "df.info()"
   ],
   "metadata": {
    "collapsed": false,
    "ExecuteTime": {
     "end_time": "2024-10-06T17:17:35.432387Z",
     "start_time": "2024-10-06T17:17:35.426159Z"
    }
   },
   "id": "c0ee1d81f283edba",
   "outputs": [
    {
     "name": "stdout",
     "output_type": "stream",
     "text": [
      "<class 'pandas.core.frame.DataFrame'>\n",
      "Index: 30078 entries, 150 to 679279\n",
      "Data columns (total 6 columns):\n",
      " #   Column          Non-Null Count  Dtype  \n",
      "---  ------          --------------  -----  \n",
      " 0   waferMap        30078 non-null  object \n",
      " 1   dieSize         30078 non-null  float64\n",
      " 2   lotName         30078 non-null  object \n",
      " 3   waferIndex      30078 non-null  float64\n",
      " 4   trianTestLabel  30078 non-null  object \n",
      " 5   failureType     30078 non-null  int64  \n",
      "dtypes: float64(2), int64(1), object(3)\n",
      "memory usage: 1.6+ MB\n"
     ]
    }
   ],
   "execution_count": 9
  },
  {
   "metadata": {
    "ExecuteTime": {
     "end_time": "2024-10-06T17:17:35.472408Z",
     "start_time": "2024-10-06T17:17:35.432876Z"
    }
   },
   "cell_type": "code",
   "source": [
    "df[df['failureType'] != 8]"
   ],
   "id": "d27ab134f1b17f6b",
   "outputs": [
    {
     "data": {
      "text/plain": "                                                 waferMap  dieSize   lotName  \\\n186     [[0, 0, 0, 0, 0, 0, 0, 0, 0, 0, 2, 2, 2, 1, 1,...    533.0      lot8   \n264     [[0, 0, 0, 0, 0, 0, 0, 0, 0, 0, 1, 2, 1, 2, 1,...    533.0     lot11   \n377     [[0, 0, 0, 0, 0, 0, 0, 0, 0, 0, 2, 1, 1, 2, 2,...    533.0     lot16   \n381     [[0, 0, 0, 0, 0, 0, 0, 0, 0, 0, 2, 2, 2, 2, 2,...    533.0     lot16   \n397     [[0, 0, 0, 0, 0, 0, 0, 0, 0, 0, 2, 1, 1, 2, 2,...    533.0     lot16   \n...                                                   ...      ...       ...   \n679154  [[0, 0, 0, 0, 0, 0, 0, 0, 0, 0, 2, 2, 1, 1, 1,...    533.0  lot42175   \n679165  [[0, 0, 0, 0, 0, 0, 0, 0, 0, 0, 2, 2, 1, 1, 1,...    533.0  lot42176   \n679167  [[0, 0, 0, 0, 0, 0, 0, 0, 0, 0, 2, 2, 2, 1, 2,...    533.0  lot42176   \n679176  [[0, 0, 0, 0, 0, 0, 0, 0, 0, 0, 2, 2, 1, 1, 1,...    533.0  lot42176   \n679219  [[0, 0, 0, 0, 0, 0, 0, 0, 0, 0, 1, 2, 1, 1, 1,...    533.0  lot42178   \n\n        waferIndex trianTestLabel  failureType  \n186           12.0   [[Training]]            3  \n264           15.0   [[Training]]            1  \n377            3.0   [[Training]]            1  \n381            7.0   [[Training]]            1  \n397           23.0   [[Training]]            1  \n...            ...            ...          ...  \n679154        24.0       [[Test]]            0  \n679165        10.0       [[Test]]            2  \n679167        12.0       [[Test]]            1  \n679176        21.0       [[Test]]            1  \n679219        14.0       [[Test]]            4  \n\n[877 rows x 6 columns]",
      "text/html": "<div>\n<style scoped>\n    .dataframe tbody tr th:only-of-type {\n        vertical-align: middle;\n    }\n\n    .dataframe tbody tr th {\n        vertical-align: top;\n    }\n\n    .dataframe thead th {\n        text-align: right;\n    }\n</style>\n<table border=\"1\" class=\"dataframe\">\n  <thead>\n    <tr style=\"text-align: right;\">\n      <th></th>\n      <th>waferMap</th>\n      <th>dieSize</th>\n      <th>lotName</th>\n      <th>waferIndex</th>\n      <th>trianTestLabel</th>\n      <th>failureType</th>\n    </tr>\n  </thead>\n  <tbody>\n    <tr>\n      <th>186</th>\n      <td>[[0, 0, 0, 0, 0, 0, 0, 0, 0, 0, 2, 2, 2, 1, 1,...</td>\n      <td>533.0</td>\n      <td>lot8</td>\n      <td>12.0</td>\n      <td>[[Training]]</td>\n      <td>3</td>\n    </tr>\n    <tr>\n      <th>264</th>\n      <td>[[0, 0, 0, 0, 0, 0, 0, 0, 0, 0, 1, 2, 1, 2, 1,...</td>\n      <td>533.0</td>\n      <td>lot11</td>\n      <td>15.0</td>\n      <td>[[Training]]</td>\n      <td>1</td>\n    </tr>\n    <tr>\n      <th>377</th>\n      <td>[[0, 0, 0, 0, 0, 0, 0, 0, 0, 0, 2, 1, 1, 2, 2,...</td>\n      <td>533.0</td>\n      <td>lot16</td>\n      <td>3.0</td>\n      <td>[[Training]]</td>\n      <td>1</td>\n    </tr>\n    <tr>\n      <th>381</th>\n      <td>[[0, 0, 0, 0, 0, 0, 0, 0, 0, 0, 2, 2, 2, 2, 2,...</td>\n      <td>533.0</td>\n      <td>lot16</td>\n      <td>7.0</td>\n      <td>[[Training]]</td>\n      <td>1</td>\n    </tr>\n    <tr>\n      <th>397</th>\n      <td>[[0, 0, 0, 0, 0, 0, 0, 0, 0, 0, 2, 1, 1, 2, 2,...</td>\n      <td>533.0</td>\n      <td>lot16</td>\n      <td>23.0</td>\n      <td>[[Training]]</td>\n      <td>1</td>\n    </tr>\n    <tr>\n      <th>...</th>\n      <td>...</td>\n      <td>...</td>\n      <td>...</td>\n      <td>...</td>\n      <td>...</td>\n      <td>...</td>\n    </tr>\n    <tr>\n      <th>679154</th>\n      <td>[[0, 0, 0, 0, 0, 0, 0, 0, 0, 0, 2, 2, 1, 1, 1,...</td>\n      <td>533.0</td>\n      <td>lot42175</td>\n      <td>24.0</td>\n      <td>[[Test]]</td>\n      <td>0</td>\n    </tr>\n    <tr>\n      <th>679165</th>\n      <td>[[0, 0, 0, 0, 0, 0, 0, 0, 0, 0, 2, 2, 1, 1, 1,...</td>\n      <td>533.0</td>\n      <td>lot42176</td>\n      <td>10.0</td>\n      <td>[[Test]]</td>\n      <td>2</td>\n    </tr>\n    <tr>\n      <th>679167</th>\n      <td>[[0, 0, 0, 0, 0, 0, 0, 0, 0, 0, 2, 2, 2, 1, 2,...</td>\n      <td>533.0</td>\n      <td>lot42176</td>\n      <td>12.0</td>\n      <td>[[Test]]</td>\n      <td>1</td>\n    </tr>\n    <tr>\n      <th>679176</th>\n      <td>[[0, 0, 0, 0, 0, 0, 0, 0, 0, 0, 2, 2, 1, 1, 1,...</td>\n      <td>533.0</td>\n      <td>lot42176</td>\n      <td>21.0</td>\n      <td>[[Test]]</td>\n      <td>1</td>\n    </tr>\n    <tr>\n      <th>679219</th>\n      <td>[[0, 0, 0, 0, 0, 0, 0, 0, 0, 0, 1, 2, 1, 1, 1,...</td>\n      <td>533.0</td>\n      <td>lot42178</td>\n      <td>14.0</td>\n      <td>[[Test]]</td>\n      <td>4</td>\n    </tr>\n  </tbody>\n</table>\n<p>877 rows × 6 columns</p>\n</div>"
     },
     "execution_count": 10,
     "metadata": {},
     "output_type": "execute_result"
    }
   ],
   "execution_count": 10
  },
  {
   "cell_type": "code",
   "source": [
    "feature = df['waferMap']\n",
    "target = df['failureType']"
   ],
   "metadata": {
    "collapsed": false,
    "ExecuteTime": {
     "end_time": "2024-10-06T17:17:35.474535Z",
     "start_time": "2024-10-06T17:17:35.472971Z"
    }
   },
   "id": "e35962c85550b90b",
   "outputs": [],
   "execution_count": 11
  },
  {
   "metadata": {
    "ExecuteTime": {
     "end_time": "2024-10-06T17:17:35.476168Z",
     "start_time": "2024-10-06T17:17:35.475006Z"
    }
   },
   "cell_type": "code",
   "source": [],
   "id": "6f9762295c8702d9",
   "outputs": [],
   "execution_count": 11
  },
  {
   "metadata": {
    "ExecuteTime": {
     "end_time": "2024-10-06T17:17:35.481248Z",
     "start_time": "2024-10-06T17:17:35.476918Z"
    }
   },
   "cell_type": "code",
   "source": [
    "from scipy.ndimage import rotate\n",
    "\n",
    "\n",
    "# 1. 필터링 - 미디언 필터 적용\n",
    "def apply_median_filter_to_features(features, targets):\n",
    "    filtered_maps = []\n",
    "    corresponding_targets = []\n",
    "\n",
    "    # feature와 target을 동시에 순회\n",
    "    for wafer_map, failure_type in zip(features, targets):\n",
    "        # 관심 있는 영역(1과 2)에만 필터 적용\n",
    "        filtered_map = np.where(wafer_map == 0, 0, median_filter(wafer_map, size=3))\n",
    "\n",
    "        # 필터링된 결과와 target을 각각 리스트에 추가\n",
    "        filtered_maps.append(filtered_map)\n",
    "        corresponding_targets.append(failure_type)\n",
    "\n",
    "    return np.array(filtered_maps), np.array(corresponding_targets)\n",
    "\n",
    "\n",
    "# 2. 데이터 증강 - 회전 및 뒤집기\n",
    "def augment_data(wafer_maps, targets):\n",
    "    augmented_maps = []\n",
    "    augmented_targets = []\n",
    "\n",
    "    # feature와 target을 동시에 순회\n",
    "    for wafer_map, target in zip(wafer_maps, targets):\n",
    "        # 원본 데이터는 항상 추가\n",
    "        augmented_maps.append(wafer_map)\n",
    "        augmented_targets.append(target)\n",
    "\n",
    "        # 결함이 있는 클래스만 증강 (pass class 8 제외)\n",
    "        if target != 8:\n",
    "            # 90도 회전 데이터 추가\n",
    "            augmented_maps.append(rotate(wafer_map, 90))\n",
    "            augmented_targets.append(target)\n",
    "\n",
    "            # 상하 뒤집기 데이터 추가\n",
    "            augmented_maps.append(np.flip(wafer_map, axis=0))\n",
    "            augmented_targets.append(target)\n",
    "\n",
    "            # 좌우 뒤집기 데이터 추가\n",
    "            augmented_maps.append(np.flip(wafer_map, axis=1))\n",
    "            augmented_targets.append(target)\n",
    "\n",
    "    return np.array(augmented_maps), np.array(augmented_targets)\n",
    "\n",
    "\n",
    "\n",
    "# 3. 특징 추출 - 결함 비율 및 결함 분포\n",
    "import numpy as np\n",
    "\n",
    "\n",
    "# 특징 추출 함수\n",
    "def extract_features(wafer_maps):\n",
    "    features = []\n",
    "    for wafer_map in wafer_maps:\n",
    "        # 전체 die의 개수\n",
    "        total_die = np.sum(wafer_map > 0)\n",
    "\n",
    "        # 결함이 있는 die의 개수\n",
    "        defect_die = np.sum(wafer_map == 2)\n",
    "\n",
    "        # 결함 비율 계산\n",
    "        defect_ratio = defect_die / total_die if total_die > 0 else 0\n",
    "\n",
    "        # 결함이 중앙에 집중되었는지, 가장자리에 집중되었는지 확인\n",
    "        center_region = wafer_map[9:17, 9:17]  # (26, 26) 해상도에 맞는 중앙 영역\n",
    "        center_defect_ratio = np.sum(center_region == 2) / defect_die if defect_die > 0 else 0\n",
    "\n",
    "        # 특징 리스트에 추가 (결함 비율, 중앙 결함 비율)\n",
    "        features.append([defect_ratio, center_defect_ratio])\n",
    "\n",
    "    return np.array(features)"
   ],
   "id": "552fc4e0f00b94f2",
   "outputs": [],
   "execution_count": 12
  },
  {
   "cell_type": "code",
   "source": [
    "filtered_features, filtered_targets = apply_median_filter_to_features(feature, target)\n",
    "filtered_targets.shape"
   ],
   "metadata": {
    "collapsed": false,
    "ExecuteTime": {
     "end_time": "2024-10-06T17:17:36.403655Z",
     "start_time": "2024-10-06T17:17:35.481881Z"
    }
   },
   "id": "50ce9fbad21bb606",
   "outputs": [
    {
     "data": {
      "text/plain": "(30078,)"
     },
     "execution_count": 13,
     "metadata": {},
     "output_type": "execute_result"
    }
   ],
   "execution_count": 13
  },
  {
   "metadata": {
    "ExecuteTime": {
     "end_time": "2024-10-06T17:17:36.407771Z",
     "start_time": "2024-10-06T17:17:36.404619Z"
    }
   },
   "cell_type": "code",
   "source": [
    "filtered_targets[filtered_targets != 8]"
   ],
   "id": "fbd0beaf9a219976",
   "outputs": [
    {
     "data": {
      "text/plain": "array([3, 1, 1, 1, 1, 1, 1, 1, 4, 5, 2, 0, 1, 0, 2, 4, 1, 1, 0, 1, 2, 6,\n       1, 5, 1, 0, 1, 5, 1, 0, 1, 1, 1, 1, 5, 0, 4, 0, 5, 0, 1, 0, 0, 1,\n       1, 1, 5, 0, 0, 6, 5, 5, 1, 1, 1, 4, 1, 1, 2, 1, 0, 0, 1, 1, 4, 1,\n       1, 0, 4, 1, 4, 1, 1, 1, 6, 1, 1, 1, 0, 0, 0, 1, 1, 4, 1, 1, 1, 5,\n       3, 1, 1, 0, 1, 6, 0, 0, 0, 5, 5, 1, 1, 0, 2, 5, 5, 5, 4, 6, 0, 1,\n       5, 4, 1, 5, 1, 0, 1, 5, 5, 1, 6, 0, 2, 4, 0, 1, 3, 4, 0, 0, 4, 4,\n       5, 1, 1, 3, 1, 2, 0, 0, 1, 1, 3, 4, 1, 4, 1, 1, 1, 0, 2, 1, 0, 3,\n       6, 1, 1, 0, 0, 1, 0, 1, 0, 4, 2, 2, 1, 1, 3, 3, 1, 1, 1, 6, 0, 0,\n       1, 0, 2, 1, 3, 4, 5, 1, 4, 1, 0, 3, 4, 3, 1, 2, 1, 0, 1, 1, 1, 1,\n       1, 1, 1, 4, 3, 3, 3, 3, 3, 3, 3, 3, 1, 2, 2, 5, 5, 5, 1, 0, 0, 1,\n       1, 5, 5, 5, 1, 1, 1, 1, 1, 1, 1, 1, 1, 1, 1, 1, 1, 1, 1, 2, 2, 1,\n       1, 1, 1, 1, 1, 1, 1, 1, 1, 1, 1, 1, 1, 1, 1, 1, 1, 0, 0, 0, 0, 5,\n       5, 0, 0, 2, 2, 2, 2, 0, 0, 2, 2, 2, 2, 2, 2, 2, 0, 0, 0, 5, 5, 5,\n       1, 1, 1, 1, 1, 1, 0, 0, 0, 2, 0, 0, 1, 1, 0, 0, 0, 0, 1, 1, 0, 0,\n       2, 2, 1, 0, 5, 0, 1, 2, 0, 1, 1, 4, 1, 0, 4, 1, 0, 1, 2, 0, 0, 5,\n       4, 2, 3, 0, 4, 1, 0, 2, 0, 0, 1, 1, 5, 0, 0, 2, 1, 0, 1, 0, 0, 0,\n       5, 1, 1, 0, 1, 0, 0, 1, 1, 4, 1, 0, 0, 0, 4, 2, 2, 0, 1, 5, 1, 2,\n       1, 0, 2, 6, 1, 1, 0, 0, 0, 2, 2, 2, 1, 1, 0, 0, 1, 0, 0, 0, 4, 6,\n       1, 1, 2, 5, 6, 0, 0, 0, 0, 1, 0, 0, 1, 0, 2, 0, 1, 1, 1, 2, 1, 1,\n       4, 2, 0, 0, 0, 1, 0, 0, 2, 5, 0, 0, 4, 1, 0, 4, 1, 1, 1, 1, 3, 1,\n       1, 0, 0, 5, 5, 1, 1, 2, 1, 1, 1, 2, 0, 2, 4, 0, 1, 0, 1, 4, 1, 0,\n       1, 1, 1, 1, 0, 0, 4, 0, 0, 4, 1, 0, 0, 0, 1, 0, 2, 1, 0, 0, 1, 0,\n       4, 0, 2, 4, 0, 0, 0, 5, 1, 1, 0, 0, 3, 0, 1, 1, 1, 0, 0, 0, 0, 1,\n       1, 5, 4, 3, 1, 1, 2, 1, 1, 0, 1, 0, 0, 0, 1, 3, 1, 0, 4, 0, 1, 1,\n       0, 0, 0, 0, 0, 0, 3, 4, 0, 1, 1, 1, 6, 1, 1, 1, 4, 0, 0, 0, 0, 1,\n       2, 0, 0, 6, 1, 4, 4, 6, 0, 2, 0, 1, 0, 0, 4, 0, 1, 0, 0, 4, 1, 0,\n       0, 1, 0, 0, 5, 1, 0, 0, 1, 5, 0, 0, 1, 0, 1, 1, 1, 4, 0, 3, 0, 7,\n       1, 0, 0, 1, 4, 0, 1, 1, 1, 1, 1, 2, 1, 0, 5, 1, 1, 1, 4, 5, 1, 5,\n       0, 5, 0, 1, 0, 5, 5, 5, 0, 1, 1, 0, 3, 2, 1, 0, 1, 5, 1, 5, 1, 1,\n       5, 5, 1, 5, 0, 1, 0, 0, 6, 0, 1, 3, 0, 1, 5, 1, 1, 2, 5, 0, 1, 1,\n       6, 0, 0, 5, 5, 5, 3, 1, 0, 0, 3, 5, 0, 1, 0, 0, 1, 4, 1, 1, 2, 1,\n       4, 1, 4, 1, 2, 0, 1, 1, 0, 2, 5, 1, 0, 1, 1, 0, 2, 1, 2, 2, 0, 4,\n       5, 0, 2, 4, 2, 0, 0, 0, 4, 4, 1, 0, 0, 0, 0, 0, 0, 0, 4, 1, 0, 0,\n       4, 0, 4, 0, 4, 2, 0, 1, 0, 0, 0, 4, 0, 2, 0, 2, 0, 5, 0, 0, 2, 2,\n       0, 0, 4, 3, 0, 0, 2, 2, 4, 0, 5, 5, 0, 5, 0, 0, 0, 0, 2, 0, 1, 0,\n       1, 0, 4, 0, 0, 0, 0, 1, 0, 2, 2, 0, 0, 0, 1, 2, 0, 0, 4, 1, 1, 0,\n       4, 5, 2, 1, 0, 1, 1, 0, 1, 1, 0, 0, 1, 0, 0, 4, 0, 0, 5, 0, 5, 1,\n       2, 2, 2, 2, 2, 1, 1, 0, 0, 0, 1, 0, 5, 5, 2, 2, 1, 0, 0, 0, 0, 0,\n       0, 4, 0, 0, 0, 0, 5, 0, 0, 2, 1, 0, 2, 4, 4, 0, 2, 4, 4, 0, 0, 0,\n       0, 0, 1, 0, 0, 0, 0, 2, 0, 1, 1, 0, 0, 0, 0, 2, 1, 1, 4])"
     },
     "execution_count": 14,
     "metadata": {},
     "output_type": "execute_result"
    }
   ],
   "execution_count": 14
  },
  {
   "cell_type": "code",
   "source": [
    "print('mean : ', filtered_features.mean())\n",
    "print('std : ', filtered_features.std())\n",
    "print('min : ', filtered_features.min())\n",
    "print('max : ', filtered_features.max())"
   ],
   "metadata": {
    "collapsed": false,
    "ExecuteTime": {
     "end_time": "2024-10-06T17:17:36.469576Z",
     "start_time": "2024-10-06T17:17:36.408433Z"
    }
   },
   "id": "3d85997973e4412c",
   "outputs": [
    {
     "name": "stdout",
     "output_type": "stream",
     "text": [
      "mean :  0.8029313134961527\n",
      "std :  0.4337232638426162\n",
      "min :  0\n",
      "max :  2\n"
     ]
    }
   ],
   "execution_count": 15
  },
  {
   "cell_type": "code",
   "source": [
    "extract_features(filtered_features)"
   ],
   "metadata": {
    "collapsed": false,
    "ExecuteTime": {
     "end_time": "2024-10-06T17:17:36.717188Z",
     "start_time": "2024-10-06T17:17:36.470369Z"
    }
   },
   "id": "dc9a8980edc0bd13",
   "outputs": [
    {
     "data": {
      "text/plain": "array([[0.01313321, 0.        ],\n       [0.00750469, 0.        ],\n       [0.00562852, 0.66666667],\n       ...,\n       [0.00938086, 0.4       ],\n       [0.06003752, 0.03125   ],\n       [0.00562852, 0.        ]])"
     },
     "execution_count": 16,
     "metadata": {},
     "output_type": "execute_result"
    }
   ],
   "execution_count": 16
  },
  {
   "metadata": {
    "ExecuteTime": {
     "end_time": "2024-10-06T17:17:36.720148Z",
     "start_time": "2024-10-06T17:17:36.717877Z"
    }
   },
   "cell_type": "code",
   "source": [
    "filtered_targets.shape\n"
   ],
   "id": "cf7e0709d3196ad8",
   "outputs": [
    {
     "data": {
      "text/plain": "(30078,)"
     },
     "execution_count": 17,
     "metadata": {},
     "output_type": "execute_result"
    }
   ],
   "execution_count": 17
  },
  {
   "metadata": {
    "ExecuteTime": {
     "end_time": "2024-10-06T17:17:36.727766Z",
     "start_time": "2024-10-06T17:17:36.720755Z"
    }
   },
   "cell_type": "code",
   "source": [
    "mask = filtered_targets != 7\n",
    "filtered_features = filtered_features[mask]\n",
    "filtered_targets = filtered_targets[mask]"
   ],
   "id": "118c13cce7e52160",
   "outputs": [],
   "execution_count": 18
  },
  {
   "cell_type": "code",
   "source": [
    "from sklearn.model_selection import train_test_split\n",
    "\n",
    "filtered_targets = np.where(filtered_targets == 8, 7, filtered_targets)\n",
    "X_train, X_test, Y_train, Y_test = train_test_split(filtered_features, filtered_targets, shuffle=True, random_state=123,\n",
    "                                                    stratify=filtered_targets)\n",
    "print(X_train.shape[0])"
   ],
   "metadata": {
    "collapsed": false,
    "ExecuteTime": {
     "end_time": "2024-10-06T17:17:36.737425Z",
     "start_time": "2024-10-06T17:17:36.728355Z"
    }
   },
   "id": "2a4c6272592e199c",
   "outputs": [
    {
     "name": "stdout",
     "output_type": "stream",
     "text": [
      "22557\n"
     ]
    }
   ],
   "execution_count": 19
  },
  {
   "metadata": {
    "ExecuteTime": {
     "end_time": "2024-10-06T17:17:38.490267Z",
     "start_time": "2024-10-06T17:17:36.737994Z"
    }
   },
   "cell_type": "code",
   "source": [
    "X_train, Y_train = augment_data(X_train, Y_train)\n",
    "print(X_train.shape[0])"
   ],
   "id": "74cbfe59321da336",
   "outputs": [
    {
     "name": "stdout",
     "output_type": "stream",
     "text": [
      "90228\n"
     ]
    }
   ],
   "execution_count": 20
  },
  {
   "cell_type": "code",
   "source": [
    "print(Y_train[Y_train != 8].shape)"
   ],
   "metadata": {
    "collapsed": false,
    "ExecuteTime": {
     "end_time": "2024-10-06T17:17:38.494147Z",
     "start_time": "2024-10-06T17:17:38.491202Z"
    }
   },
   "id": "b64546617471ac4f",
   "outputs": [
    {
     "name": "stdout",
     "output_type": "stream",
     "text": [
      "(90228,)\n"
     ]
    }
   ],
   "execution_count": 21
  },
  {
   "metadata": {
    "ExecuteTime": {
     "end_time": "2024-10-06T17:17:38.497166Z",
     "start_time": "2024-10-06T17:17:38.495177Z"
    }
   },
   "cell_type": "code",
   "source": [
    "X_train = X_train.reshape(-1, 26 * 26)\n",
    "X_test = X_test.reshape(-1, 26 * 26)"
   ],
   "id": "796532e0dc788d33",
   "outputs": [],
   "execution_count": 22
  },
  {
   "metadata": {
    "ExecuteTime": {
     "end_time": "2024-10-06T17:17:45.216414Z",
     "start_time": "2024-10-06T17:17:38.497770Z"
    }
   },
   "cell_type": "code",
   "source": [
    "from sklearn.model_selection import train_test_split\n",
    "from xgboost import XGBClassifier\n",
    "from imblearn.over_sampling import ADASYN\n",
    "from sklearn.metrics import classification_report, accuracy_score\n",
    "\n",
    "adasyn = ADASYN(random_state=123)\n",
    "X_train, Y_train = adasyn.fit_resample(X_train, Y_train)"
   ],
   "id": "8558807302d18ca2",
   "outputs": [],
   "execution_count": 23
  },
  {
   "metadata": {
    "collapsed": false,
    "ExecuteTime": {
     "end_time": "2024-10-06T17:20:40.382790Z",
     "start_time": "2024-10-06T17:17:45.217233Z"
    }
   },
   "cell_type": "code",
   "source": [
    "model = XGBClassifier(\n",
    "    objective='multi:softmax',  # 다중 클래스 분류\n",
    "    eval_metric='mlogloss',  # 다중 클래스 로지스틱 손실\n",
    "    random_state=123,\n",
    "    learning_rate=0.1,\n",
    "    max_depth=6,\n",
    "    n_estimators=100\n",
    ")\n",
    "model.fit(X_train, Y_train, verbose=True)"
   ],
   "id": "2ef29914a883507b",
   "outputs": [
    {
     "data": {
      "text/plain": "XGBClassifier(base_score=None, booster=None, callbacks=None,\n              colsample_bylevel=None, colsample_bynode=None,\n              colsample_bytree=None, device=None, early_stopping_rounds=None,\n              enable_categorical=False, eval_metric='mlogloss',\n              feature_types=None, gamma=None, grow_policy=None,\n              importance_type=None, interaction_constraints=None,\n              learning_rate=0.1, max_bin=None, max_cat_threshold=None,\n              max_cat_to_onehot=None, max_delta_step=None, max_depth=6,\n              max_leaves=None, min_child_weight=None, missing=nan,\n              monotone_constraints=None, multi_strategy=None, n_estimators=100,\n              n_jobs=None, num_parallel_tree=None, objective='multi:softmax', ...)",
      "text/html": "<style>#sk-container-id-1 {\n  /* Definition of color scheme common for light and dark mode */\n  --sklearn-color-text: black;\n  --sklearn-color-line: gray;\n  /* Definition of color scheme for unfitted estimators */\n  --sklearn-color-unfitted-level-0: #fff5e6;\n  --sklearn-color-unfitted-level-1: #f6e4d2;\n  --sklearn-color-unfitted-level-2: #ffe0b3;\n  --sklearn-color-unfitted-level-3: chocolate;\n  /* Definition of color scheme for fitted estimators */\n  --sklearn-color-fitted-level-0: #f0f8ff;\n  --sklearn-color-fitted-level-1: #d4ebff;\n  --sklearn-color-fitted-level-2: #b3dbfd;\n  --sklearn-color-fitted-level-3: cornflowerblue;\n\n  /* Specific color for light theme */\n  --sklearn-color-text-on-default-background: var(--sg-text-color, var(--theme-code-foreground, var(--jp-content-font-color1, black)));\n  --sklearn-color-background: var(--sg-background-color, var(--theme-background, var(--jp-layout-color0, white)));\n  --sklearn-color-border-box: var(--sg-text-color, var(--theme-code-foreground, var(--jp-content-font-color1, black)));\n  --sklearn-color-icon: #696969;\n\n  @media (prefers-color-scheme: dark) {\n    /* Redefinition of color scheme for dark theme */\n    --sklearn-color-text-on-default-background: var(--sg-text-color, var(--theme-code-foreground, var(--jp-content-font-color1, white)));\n    --sklearn-color-background: var(--sg-background-color, var(--theme-background, var(--jp-layout-color0, #111)));\n    --sklearn-color-border-box: var(--sg-text-color, var(--theme-code-foreground, var(--jp-content-font-color1, white)));\n    --sklearn-color-icon: #878787;\n  }\n}\n\n#sk-container-id-1 {\n  color: var(--sklearn-color-text);\n}\n\n#sk-container-id-1 pre {\n  padding: 0;\n}\n\n#sk-container-id-1 input.sk-hidden--visually {\n  border: 0;\n  clip: rect(1px 1px 1px 1px);\n  clip: rect(1px, 1px, 1px, 1px);\n  height: 1px;\n  margin: -1px;\n  overflow: hidden;\n  padding: 0;\n  position: absolute;\n  width: 1px;\n}\n\n#sk-container-id-1 div.sk-dashed-wrapped {\n  border: 1px dashed var(--sklearn-color-line);\n  margin: 0 0.4em 0.5em 0.4em;\n  box-sizing: border-box;\n  padding-bottom: 0.4em;\n  background-color: var(--sklearn-color-background);\n}\n\n#sk-container-id-1 div.sk-container {\n  /* jupyter's `normalize.less` sets `[hidden] { display: none; }`\n     but bootstrap.min.css set `[hidden] { display: none !important; }`\n     so we also need the `!important` here to be able to override the\n     default hidden behavior on the sphinx rendered scikit-learn.org.\n     See: https://github.com/scikit-learn/scikit-learn/issues/21755 */\n  display: inline-block !important;\n  position: relative;\n}\n\n#sk-container-id-1 div.sk-text-repr-fallback {\n  display: none;\n}\n\ndiv.sk-parallel-item,\ndiv.sk-serial,\ndiv.sk-item {\n  /* draw centered vertical line to link estimators */\n  background-image: linear-gradient(var(--sklearn-color-text-on-default-background), var(--sklearn-color-text-on-default-background));\n  background-size: 2px 100%;\n  background-repeat: no-repeat;\n  background-position: center center;\n}\n\n/* Parallel-specific style estimator block */\n\n#sk-container-id-1 div.sk-parallel-item::after {\n  content: \"\";\n  width: 100%;\n  border-bottom: 2px solid var(--sklearn-color-text-on-default-background);\n  flex-grow: 1;\n}\n\n#sk-container-id-1 div.sk-parallel {\n  display: flex;\n  align-items: stretch;\n  justify-content: center;\n  background-color: var(--sklearn-color-background);\n  position: relative;\n}\n\n#sk-container-id-1 div.sk-parallel-item {\n  display: flex;\n  flex-direction: column;\n}\n\n#sk-container-id-1 div.sk-parallel-item:first-child::after {\n  align-self: flex-end;\n  width: 50%;\n}\n\n#sk-container-id-1 div.sk-parallel-item:last-child::after {\n  align-self: flex-start;\n  width: 50%;\n}\n\n#sk-container-id-1 div.sk-parallel-item:only-child::after {\n  width: 0;\n}\n\n/* Serial-specific style estimator block */\n\n#sk-container-id-1 div.sk-serial {\n  display: flex;\n  flex-direction: column;\n  align-items: center;\n  background-color: var(--sklearn-color-background);\n  padding-right: 1em;\n  padding-left: 1em;\n}\n\n\n/* Toggleable style: style used for estimator/Pipeline/ColumnTransformer box that is\nclickable and can be expanded/collapsed.\n- Pipeline and ColumnTransformer use this feature and define the default style\n- Estimators will overwrite some part of the style using the `sk-estimator` class\n*/\n\n/* Pipeline and ColumnTransformer style (default) */\n\n#sk-container-id-1 div.sk-toggleable {\n  /* Default theme specific background. It is overwritten whether we have a\n  specific estimator or a Pipeline/ColumnTransformer */\n  background-color: var(--sklearn-color-background);\n}\n\n/* Toggleable label */\n#sk-container-id-1 label.sk-toggleable__label {\n  cursor: pointer;\n  display: block;\n  width: 100%;\n  margin-bottom: 0;\n  padding: 0.5em;\n  box-sizing: border-box;\n  text-align: center;\n}\n\n#sk-container-id-1 label.sk-toggleable__label-arrow:before {\n  /* Arrow on the left of the label */\n  content: \"▸\";\n  float: left;\n  margin-right: 0.25em;\n  color: var(--sklearn-color-icon);\n}\n\n#sk-container-id-1 label.sk-toggleable__label-arrow:hover:before {\n  color: var(--sklearn-color-text);\n}\n\n/* Toggleable content - dropdown */\n\n#sk-container-id-1 div.sk-toggleable__content {\n  max-height: 0;\n  max-width: 0;\n  overflow: hidden;\n  text-align: left;\n  /* unfitted */\n  background-color: var(--sklearn-color-unfitted-level-0);\n}\n\n#sk-container-id-1 div.sk-toggleable__content.fitted {\n  /* fitted */\n  background-color: var(--sklearn-color-fitted-level-0);\n}\n\n#sk-container-id-1 div.sk-toggleable__content pre {\n  margin: 0.2em;\n  border-radius: 0.25em;\n  color: var(--sklearn-color-text);\n  /* unfitted */\n  background-color: var(--sklearn-color-unfitted-level-0);\n}\n\n#sk-container-id-1 div.sk-toggleable__content.fitted pre {\n  /* unfitted */\n  background-color: var(--sklearn-color-fitted-level-0);\n}\n\n#sk-container-id-1 input.sk-toggleable__control:checked~div.sk-toggleable__content {\n  /* Expand drop-down */\n  max-height: 200px;\n  max-width: 100%;\n  overflow: auto;\n}\n\n#sk-container-id-1 input.sk-toggleable__control:checked~label.sk-toggleable__label-arrow:before {\n  content: \"▾\";\n}\n\n/* Pipeline/ColumnTransformer-specific style */\n\n#sk-container-id-1 div.sk-label input.sk-toggleable__control:checked~label.sk-toggleable__label {\n  color: var(--sklearn-color-text);\n  background-color: var(--sklearn-color-unfitted-level-2);\n}\n\n#sk-container-id-1 div.sk-label.fitted input.sk-toggleable__control:checked~label.sk-toggleable__label {\n  background-color: var(--sklearn-color-fitted-level-2);\n}\n\n/* Estimator-specific style */\n\n/* Colorize estimator box */\n#sk-container-id-1 div.sk-estimator input.sk-toggleable__control:checked~label.sk-toggleable__label {\n  /* unfitted */\n  background-color: var(--sklearn-color-unfitted-level-2);\n}\n\n#sk-container-id-1 div.sk-estimator.fitted input.sk-toggleable__control:checked~label.sk-toggleable__label {\n  /* fitted */\n  background-color: var(--sklearn-color-fitted-level-2);\n}\n\n#sk-container-id-1 div.sk-label label.sk-toggleable__label,\n#sk-container-id-1 div.sk-label label {\n  /* The background is the default theme color */\n  color: var(--sklearn-color-text-on-default-background);\n}\n\n/* On hover, darken the color of the background */\n#sk-container-id-1 div.sk-label:hover label.sk-toggleable__label {\n  color: var(--sklearn-color-text);\n  background-color: var(--sklearn-color-unfitted-level-2);\n}\n\n/* Label box, darken color on hover, fitted */\n#sk-container-id-1 div.sk-label.fitted:hover label.sk-toggleable__label.fitted {\n  color: var(--sklearn-color-text);\n  background-color: var(--sklearn-color-fitted-level-2);\n}\n\n/* Estimator label */\n\n#sk-container-id-1 div.sk-label label {\n  font-family: monospace;\n  font-weight: bold;\n  display: inline-block;\n  line-height: 1.2em;\n}\n\n#sk-container-id-1 div.sk-label-container {\n  text-align: center;\n}\n\n/* Estimator-specific */\n#sk-container-id-1 div.sk-estimator {\n  font-family: monospace;\n  border: 1px dotted var(--sklearn-color-border-box);\n  border-radius: 0.25em;\n  box-sizing: border-box;\n  margin-bottom: 0.5em;\n  /* unfitted */\n  background-color: var(--sklearn-color-unfitted-level-0);\n}\n\n#sk-container-id-1 div.sk-estimator.fitted {\n  /* fitted */\n  background-color: var(--sklearn-color-fitted-level-0);\n}\n\n/* on hover */\n#sk-container-id-1 div.sk-estimator:hover {\n  /* unfitted */\n  background-color: var(--sklearn-color-unfitted-level-2);\n}\n\n#sk-container-id-1 div.sk-estimator.fitted:hover {\n  /* fitted */\n  background-color: var(--sklearn-color-fitted-level-2);\n}\n\n/* Specification for estimator info (e.g. \"i\" and \"?\") */\n\n/* Common style for \"i\" and \"?\" */\n\n.sk-estimator-doc-link,\na:link.sk-estimator-doc-link,\na:visited.sk-estimator-doc-link {\n  float: right;\n  font-size: smaller;\n  line-height: 1em;\n  font-family: monospace;\n  background-color: var(--sklearn-color-background);\n  border-radius: 1em;\n  height: 1em;\n  width: 1em;\n  text-decoration: none !important;\n  margin-left: 1ex;\n  /* unfitted */\n  border: var(--sklearn-color-unfitted-level-1) 1pt solid;\n  color: var(--sklearn-color-unfitted-level-1);\n}\n\n.sk-estimator-doc-link.fitted,\na:link.sk-estimator-doc-link.fitted,\na:visited.sk-estimator-doc-link.fitted {\n  /* fitted */\n  border: var(--sklearn-color-fitted-level-1) 1pt solid;\n  color: var(--sklearn-color-fitted-level-1);\n}\n\n/* On hover */\ndiv.sk-estimator:hover .sk-estimator-doc-link:hover,\n.sk-estimator-doc-link:hover,\ndiv.sk-label-container:hover .sk-estimator-doc-link:hover,\n.sk-estimator-doc-link:hover {\n  /* unfitted */\n  background-color: var(--sklearn-color-unfitted-level-3);\n  color: var(--sklearn-color-background);\n  text-decoration: none;\n}\n\ndiv.sk-estimator.fitted:hover .sk-estimator-doc-link.fitted:hover,\n.sk-estimator-doc-link.fitted:hover,\ndiv.sk-label-container:hover .sk-estimator-doc-link.fitted:hover,\n.sk-estimator-doc-link.fitted:hover {\n  /* fitted */\n  background-color: var(--sklearn-color-fitted-level-3);\n  color: var(--sklearn-color-background);\n  text-decoration: none;\n}\n\n/* Span, style for the box shown on hovering the info icon */\n.sk-estimator-doc-link span {\n  display: none;\n  z-index: 9999;\n  position: relative;\n  font-weight: normal;\n  right: .2ex;\n  padding: .5ex;\n  margin: .5ex;\n  width: min-content;\n  min-width: 20ex;\n  max-width: 50ex;\n  color: var(--sklearn-color-text);\n  box-shadow: 2pt 2pt 4pt #999;\n  /* unfitted */\n  background: var(--sklearn-color-unfitted-level-0);\n  border: .5pt solid var(--sklearn-color-unfitted-level-3);\n}\n\n.sk-estimator-doc-link.fitted span {\n  /* fitted */\n  background: var(--sklearn-color-fitted-level-0);\n  border: var(--sklearn-color-fitted-level-3);\n}\n\n.sk-estimator-doc-link:hover span {\n  display: block;\n}\n\n/* \"?\"-specific style due to the `<a>` HTML tag */\n\n#sk-container-id-1 a.estimator_doc_link {\n  float: right;\n  font-size: 1rem;\n  line-height: 1em;\n  font-family: monospace;\n  background-color: var(--sklearn-color-background);\n  border-radius: 1rem;\n  height: 1rem;\n  width: 1rem;\n  text-decoration: none;\n  /* unfitted */\n  color: var(--sklearn-color-unfitted-level-1);\n  border: var(--sklearn-color-unfitted-level-1) 1pt solid;\n}\n\n#sk-container-id-1 a.estimator_doc_link.fitted {\n  /* fitted */\n  border: var(--sklearn-color-fitted-level-1) 1pt solid;\n  color: var(--sklearn-color-fitted-level-1);\n}\n\n/* On hover */\n#sk-container-id-1 a.estimator_doc_link:hover {\n  /* unfitted */\n  background-color: var(--sklearn-color-unfitted-level-3);\n  color: var(--sklearn-color-background);\n  text-decoration: none;\n}\n\n#sk-container-id-1 a.estimator_doc_link.fitted:hover {\n  /* fitted */\n  background-color: var(--sklearn-color-fitted-level-3);\n}\n</style><div id=\"sk-container-id-1\" class=\"sk-top-container\"><div class=\"sk-text-repr-fallback\"><pre>XGBClassifier(base_score=None, booster=None, callbacks=None,\n              colsample_bylevel=None, colsample_bynode=None,\n              colsample_bytree=None, device=None, early_stopping_rounds=None,\n              enable_categorical=False, eval_metric=&#x27;mlogloss&#x27;,\n              feature_types=None, gamma=None, grow_policy=None,\n              importance_type=None, interaction_constraints=None,\n              learning_rate=0.1, max_bin=None, max_cat_threshold=None,\n              max_cat_to_onehot=None, max_delta_step=None, max_depth=6,\n              max_leaves=None, min_child_weight=None, missing=nan,\n              monotone_constraints=None, multi_strategy=None, n_estimators=100,\n              n_jobs=None, num_parallel_tree=None, objective=&#x27;multi:softmax&#x27;, ...)</pre><b>In a Jupyter environment, please rerun this cell to show the HTML representation or trust the notebook. <br />On GitHub, the HTML representation is unable to render, please try loading this page with nbviewer.org.</b></div><div class=\"sk-container\" hidden><div class=\"sk-item\"><div class=\"sk-estimator fitted sk-toggleable\"><input class=\"sk-toggleable__control sk-hidden--visually\" id=\"sk-estimator-id-1\" type=\"checkbox\" checked><label for=\"sk-estimator-id-1\" class=\"sk-toggleable__label fitted sk-toggleable__label-arrow fitted\">&nbsp;XGBClassifier<span class=\"sk-estimator-doc-link fitted\">i<span>Fitted</span></span></label><div class=\"sk-toggleable__content fitted\"><pre>XGBClassifier(base_score=None, booster=None, callbacks=None,\n              colsample_bylevel=None, colsample_bynode=None,\n              colsample_bytree=None, device=None, early_stopping_rounds=None,\n              enable_categorical=False, eval_metric=&#x27;mlogloss&#x27;,\n              feature_types=None, gamma=None, grow_policy=None,\n              importance_type=None, interaction_constraints=None,\n              learning_rate=0.1, max_bin=None, max_cat_threshold=None,\n              max_cat_to_onehot=None, max_delta_step=None, max_depth=6,\n              max_leaves=None, min_child_weight=None, missing=nan,\n              monotone_constraints=None, multi_strategy=None, n_estimators=100,\n              n_jobs=None, num_parallel_tree=None, objective=&#x27;multi:softmax&#x27;, ...)</pre></div> </div></div></div></div>"
     },
     "execution_count": 24,
     "metadata": {},
     "output_type": "execute_result"
    }
   ],
   "execution_count": 24
  },
  {
   "cell_type": "code",
   "outputs": [
    {
     "name": "stdout",
     "output_type": "stream",
     "text": [
      "Accuracy: 0.9597\n",
      "Precision: 0.9742\n",
      "Recall: 0.9597\n",
      "F1 Score: 0.9643\n"
     ]
    }
   ],
   "source": [
    "from sklearn.metrics import precision_score, recall_score, f1_score\n",
    "\n",
    "# 모델 예측\n",
    "y_pred = model.predict(X_test)\n",
    "\n",
    "# 정확도 계산\n",
    "accuracy = accuracy_score(Y_test, y_pred)\n",
    "\n",
    "# precision_score에서 zero_division 매개변수 사용\n",
    "precision = precision_score(Y_test, y_pred, average='weighted', zero_division=1)\n",
    "recall = recall_score(Y_test, y_pred, average='weighted')\n",
    "f1 = f1_score(Y_test, y_pred, average='weighted')\n",
    "\n",
    "# 결과 출력\n",
    "print(f'Accuracy: {accuracy:.4f}')\n",
    "print(f'Precision: {precision:.4f}')\n",
    "print(f'Recall: {recall:.4f}')\n",
    "print(f'F1 Score: {f1:.4f}')"
   ],
   "metadata": {
    "ExecuteTime": {
     "end_time": "2024-10-06T17:20:40.412868Z",
     "start_time": "2024-10-06T17:20:40.383349Z"
    }
   },
   "id": "initial_id",
   "execution_count": 25
  },
  {
   "cell_type": "code",
   "outputs": [
    {
     "name": "stdout",
     "output_type": "stream",
     "text": [
      "Accuracy: 0.9597\n",
      "Precision: 0.5725\n",
      "Recall: 0.6589\n",
      "F1 Score: 0.5005\n"
     ]
    }
   ],
   "source": [
    "accuracy = accuracy_score(Y_test, y_pred)\n",
    "\n",
    "# precision_score에서 zero_division 매개변수 사용\n",
    "precision = precision_score(Y_test, y_pred, average='macro', zero_division=1)\n",
    "recall = recall_score(Y_test, y_pred, average='macro')\n",
    "f1 = f1_score(Y_test, y_pred, average='macro')\n",
    "\n",
    "# 결과 출력\n",
    "print(f'Accuracy: {accuracy:.4f}')\n",
    "print(f'Precision: {precision:.4f}')\n",
    "print(f'Recall: {recall:.4f}')\n",
    "print(f'F1 Score: {f1:.4f}')"
   ],
   "metadata": {
    "collapsed": false,
    "ExecuteTime": {
     "end_time": "2024-10-06T17:20:40.424010Z",
     "start_time": "2024-10-06T17:20:40.415675Z"
    }
   },
   "id": "a3e4b0a2c6964459",
   "execution_count": 26
  },
  {
   "metadata": {
    "ExecuteTime": {
     "end_time": "2024-10-06T17:20:40.431844Z",
     "start_time": "2024-10-06T17:20:40.424568Z"
    }
   },
   "cell_type": "code",
   "source": [
    "np.unique(Y_train)"
   ],
   "id": "b520dea1218e5cf5",
   "outputs": [
    {
     "data": {
      "text/plain": "array([0, 1, 2, 3, 4, 5, 6, 7])"
     },
     "execution_count": 27,
     "metadata": {},
     "output_type": "execute_result"
    }
   ],
   "execution_count": 27
  },
  {
   "metadata": {
    "ExecuteTime": {
     "end_time": "2024-10-06T17:25:21.265469Z",
     "start_time": "2024-10-06T17:20:40.432407Z"
    }
   },
   "cell_type": "code",
   "source": [
    "from sklearn.linear_model import LogisticRegression\n",
    "from sklearn.metrics import accuracy_score, precision_score, recall_score\n",
    "\n",
    "model = LogisticRegression(random_state=123, max_iter=500)\n",
    "model.fit(X_train, Y_train)\n",
    "y_pred = model.predict(X_test)"
   ],
   "id": "84371ac6b534fc9",
   "outputs": [
    {
     "name": "stderr",
     "output_type": "stream",
     "text": [
      "/home/sien/anaconda3/envs/forpytorch/lib/python3.9/site-packages/sklearn/linear_model/_logistic.py:469: ConvergenceWarning: lbfgs failed to converge (status=1):\n",
      "STOP: TOTAL NO. of ITERATIONS REACHED LIMIT.\n",
      "\n",
      "Increase the number of iterations (max_iter) or scale the data as shown in:\n",
      "    https://scikit-learn.org/stable/modules/preprocessing.html\n",
      "Please also refer to the documentation for alternative solver options:\n",
      "    https://scikit-learn.org/stable/modules/linear_model.html#logistic-regression\n",
      "  n_iter_i = _check_optimize_result(\n"
     ]
    }
   ],
   "execution_count": 28
  },
  {
   "metadata": {
    "ExecuteTime": {
     "end_time": "2024-10-06T17:25:21.282108Z",
     "start_time": "2024-10-06T17:25:21.267157Z"
    }
   },
   "cell_type": "code",
   "outputs": [
    {
     "name": "stdout",
     "output_type": "stream",
     "text": [
      "Accuracy: 0.9672\n",
      "Precision: 0.9754\n",
      "Recall: 0.9672\n",
      "F1 Score: 0.9568\n"
     ]
    }
   ],
   "execution_count": 29,
   "source": [
    "from sklearn.metrics import precision_score, recall_score, f1_score\n",
    "\n",
    "accuracy = accuracy_score(Y_test, y_pred)\n",
    "precision = precision_score(Y_test, y_pred, average='weighted', zero_division=1)\n",
    "recall = recall_score(Y_test, y_pred, average='weighted')\n",
    "f1 = f1_score(Y_test, y_pred, average='weighted')#macro, weighted\n",
    "\n",
    "# 결과 출력\n",
    "print(f'Accuracy: {accuracy:.4f}')\n",
    "print(f'Precision: {precision:.4f}')\n",
    "print(f'Recall: {recall:.4f}')\n",
    "print(f'F1 Score: {f1:.4f}')"
   ],
   "id": "b5e89dacd3930ee5"
  },
  {
   "cell_type": "code",
   "outputs": [
    {
     "name": "stdout",
     "output_type": "stream",
     "text": [
      "Accuracy: 0.9672\n",
      "Precision: 0.8795\n",
      "Recall: 0.2651\n",
      "F1 Score: 0.1652\n"
     ]
    }
   ],
   "source": [
    "accuracy = accuracy_score(Y_test, y_pred)\n",
    "precision = precision_score(Y_test, y_pred, average='macro', zero_division=1)\n",
    "recall = recall_score(Y_test, y_pred, average='macro')\n",
    "f1 = f1_score(Y_test, y_pred, average='macro')#macro, weighted\n",
    "\n",
    "# 결과 출력\n",
    "print(f'Accuracy: {accuracy:.4f}')\n",
    "print(f'Precision: {precision:.4f}')\n",
    "print(f'Recall: {recall:.4f}')\n",
    "print(f'F1 Score: {f1:.4f}')"
   ],
   "metadata": {
    "collapsed": false,
    "ExecuteTime": {
     "end_time": "2024-10-06T17:25:21.297201Z",
     "start_time": "2024-10-06T17:25:21.282830Z"
    }
   },
   "id": "3f8f54dc209cf331",
   "execution_count": 30
  },
  {
   "cell_type": "code",
   "outputs": [],
   "source": [],
   "metadata": {
    "collapsed": false,
    "ExecuteTime": {
     "end_time": "2024-10-06T17:25:21.299221Z",
     "start_time": "2024-10-06T17:25:21.297834Z"
    }
   },
   "id": "9b82cb54cd878225",
   "execution_count": 30
  }
 ],
 "metadata": {
  "kernelspec": {
   "display_name": "Python 3",
   "language": "python",
   "name": "python3"
  },
  "language_info": {
   "codemirror_mode": {
    "name": "ipython",
    "version": 2
   },
   "file_extension": ".py",
   "mimetype": "text/x-python",
   "name": "python",
   "nbconvert_exporter": "python",
   "pygments_lexer": "ipython2",
   "version": "2.7.6"
  }
 },
 "nbformat": 4,
 "nbformat_minor": 5
}
