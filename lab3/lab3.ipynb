{
 "cells": [
  {
   "cell_type": "code",
   "id": "22ea0b1b02caf0e7",
   "metadata": {
    "collapsed": true,
    "ExecuteTime": {
     "end_time": "2024-10-06T14:29:41.366023Z",
     "start_time": "2024-10-06T14:29:41.211900Z"
    }
   },
   "source": [
    "import numpy as np\n",
    "import pandas as pd\n",
    "import matplotlib.pyplot as plt\n",
    "from scipy.ndimage import median_filter, rotate, shift\n",
    "from sklearn.model_selection import train_test_split\n",
    "from sklearn.ensemble import RandomForestClassifier\n",
    "from sklearn.metrics import accuracy_score, precision_score, recall_score"
   ],
   "outputs": [],
   "execution_count": 1
  },
  {
   "metadata": {
    "ExecuteTime": {
     "end_time": "2024-10-06T14:30:05.818345Z",
     "start_time": "2024-10-06T14:29:43.487240Z"
    }
   },
   "cell_type": "code",
   "source": "df = pd.read_pickle(\"/Users/unsi/Downloads/LSWMD.pkl\")\n",
   "id": "3454bfaf00470b55",
   "outputs": [],
   "execution_count": 2
  },
  {
   "metadata": {},
   "cell_type": "code",
   "outputs": [],
   "execution_count": null,
   "source": [
    "class2idx = {\n",
    "    'Loc': 0,\n",
    "    'Edge-Loc': 1,\n",
    "    'Center': 2,\n",
    "    'Edge-Ring': 3, \n",
    "    'Scratch': 4,\n",
    "    'Random': 5, \n",
    "    'Near-full': 6,\n",
    "    'Donut': 7\n",
    "}"
   ],
   "id": "7f128b7eb8545e1f"
  },
  {
   "metadata": {
    "ExecuteTime": {
     "end_time": "2024-10-06T14:31:50.930474Z",
     "start_time": "2024-10-06T14:31:50.923318Z"
    }
   },
   "cell_type": "code",
   "source": "df[\"failureType\"]",
   "id": "f79285fd9ae503ee",
   "outputs": [
    {
     "data": {
      "text/plain": [
       "0              [[none]]\n",
       "1              [[none]]\n",
       "2              [[none]]\n",
       "3              [[none]]\n",
       "4              [[none]]\n",
       "              ...      \n",
       "811452    [[Edge-Ring]]\n",
       "811453     [[Edge-Loc]]\n",
       "811454    [[Edge-Ring]]\n",
       "811455               []\n",
       "811456               []\n",
       "Name: failureType, Length: 811457, dtype: object"
      ]
     },
     "execution_count": 5,
     "metadata": {},
     "output_type": "execute_result"
    }
   ],
   "execution_count": 5
  },
  {
   "metadata": {},
   "cell_type": "code",
   "outputs": [],
   "execution_count": null,
   "source": [
    "\n",
    "# 샘플 데이터 생성\n",
    "def generate_sample_data(n_samples=1000, size=(26, 26)):\n",
    "    data = []\n",
    "    labels = []\n",
    "    for _ in range(n_samples):\n",
    "        wafer_map = np.random.choice([0, 1, 2], size=size, p=[0.7, 0.2, 0.1])  # 70%는 0, 20%는 정상, 10%는 결함\n",
    "        label = 0 if np.sum(wafer_map == 2) == 0 else 1  # 결함이 있으면 1, 없으면 0\n",
    "        data.append(wafer_map)\n",
    "        labels.append(label)\n",
    "    return np.array(data), np.array(labels)\n",
    "\n",
    "# 1. 필터링 - 미디언 필터 적용\n",
    "def apply_median_filter(wafer_maps):\n",
    "    filtered_maps = []\n",
    "    for wafer_map in wafer_maps:\n",
    "        # 관심 있는 영역(1과 2)에만 필터 적용\n",
    "        filtered_map = np.where(wafer_map == 0, 0, median_filter(wafer_map, size=3))\n",
    "        filtered_maps.append(filtered_map)\n",
    "    return np.array(filtered_maps)\n",
    "\n",
    "# 2. 데이터 증강 - 회전 및 뒤집기\n",
    "def augment_data(wafer_maps):\n",
    "    augmented_maps = []\n",
    "    for wafer_map in wafer_maps:\n",
    "        augmented_maps.append(wafer_map)  # 원본 추가\n",
    "        augmented_maps.append(rotate(wafer_map, 90))  # 90도 회전\n",
    "        augmented_maps.append(np.flip(wafer_map, axis=0))  # 상하 뒤집기\n",
    "        augmented_maps.append(np.flip(wafer_map, axis=1))  # 좌우 뒤집기\n",
    "    return np.array(augmented_maps)\n",
    "\n",
    "# 3. 특징 추출 - 결함 비율 및 결함 분포\n",
    "def extract_features(wafer_maps):\n",
    "    features = []\n",
    "    for wafer_map in wafer_maps:\n",
    "        total_die = np.sum(wafer_map > 0)\n",
    "        defect_die = np.sum(wafer_map == 2)\n",
    "        defect_ratio = defect_die / total_die if total_die > 0 else 0\n",
    "        \n",
    "        # 결함이 중앙에 집중되었는지, 가장자리에 집중되었는지\n",
    "        center_region = wafer_map[8:18, 8:18]  # 중앙 영역 (대략적인 범위)\n",
    "        center_defect_ratio = np.sum(center_region == 2) / defect_die if defect_die > 0 else 0\n",
    "        \n",
    "        features.append([defect_ratio, center_defect_ratio])\n",
    "    return np.array(features)"
   ],
   "id": "552fc4e0f00b94f2"
  },
  {
   "metadata": {},
   "cell_type": "code",
   "outputs": [],
   "execution_count": null,
   "source": [
    "\n",
    "# 4. 데이터 로드 및 전처리\n",
    "wafer_maps, labels = generate_sample_data()\n",
    "filtered_wafer_maps = apply_median_filter(wafer_maps)\n",
    "augmented_wafer_maps = augment_data(filtered_wafer_maps)\n",
    "augmented_labels = np.tile(labels, 4)  # 증강한 데이터에 맞춰 레이블도 확장\n",
    "\n",
    "# 5. 특징 추출\n",
    "features = extract_features(augmented_wafer_maps)\n",
    "\n",
    "# 6. 훈련/테스트 데이터 분리\n",
    "X_train, X_test, y_train, y_test = train_test_split(features, augmented_labels, test_size=0.2, random_state=42)\n",
    "\n",
    "# 7. 머신러닝 모델 - Random Forest\n",
    "model = RandomForestClassifier(n_estimators=100, random_state=42)\n",
    "model.fit(X_train, y_train)\n",
    "\n",
    "# 8. 성능 평가\n",
    "y_pred = model.predict(X_test)\n",
    "accuracy = accuracy_score(y_test, y_pred)\n",
    "precision = precision_score(y_test, y_pred)\n",
    "recall = recall_score(y_test, y_pred)\n",
    "\n",
    "print(f'Accuracy: {accuracy:.4f}')\n",
    "print(f'Precision: {precision:.4f}')\n",
    "print(f'Recall: {recall:.4f}')\n"
   ],
   "id": "initial_id"
  }
 ],
 "metadata": {
  "kernelspec": {
   "display_name": "Python 3",
   "language": "python",
   "name": "python3"
  },
  "language_info": {
   "codemirror_mode": {
    "name": "ipython",
    "version": 2
   },
   "file_extension": ".py",
   "mimetype": "text/x-python",
   "name": "python",
   "nbconvert_exporter": "python",
   "pygments_lexer": "ipython2",
   "version": "2.7.6"
  }
 },
 "nbformat": 4,
 "nbformat_minor": 5
}
